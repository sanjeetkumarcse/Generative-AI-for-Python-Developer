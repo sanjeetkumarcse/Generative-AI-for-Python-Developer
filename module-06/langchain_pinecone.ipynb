{
  "nbformat": 4,
  "nbformat_minor": 0,
  "metadata": {
    "colab": {
      "provenance": []
    },
    "kernelspec": {
      "name": "python3",
      "display_name": "Python 3"
    },
    "language_info": {
      "name": "python"
    }
  },
  "cells": [
    {
      "cell_type": "markdown",
      "source": [],
      "metadata": {
        "id": "09iJ8pDWvzaH"
      }
    },
    {
      "cell_type": "code",
      "execution_count": 1,
      "metadata": {
        "colab": {
          "base_uri": "https://localhost:8080/",
          "height": 1000
        },
        "id": "4EDTBAL-g7ug",
        "outputId": "e158a4c4-cac6-4d58-9177-042d7700b315"
      },
      "outputs": [
        {
          "output_type": "stream",
          "name": "stdout",
          "text": [
            "Requirement already satisfied: langchain in /usr/local/lib/python3.12/dist-packages (0.3.27)\n",
            "Collecting langchain_community\n",
            "  Downloading langchain_community-0.4.1-py3-none-any.whl.metadata (3.0 kB)\n",
            "Collecting pinecone\n",
            "  Downloading pinecone-7.3.0-py3-none-any.whl.metadata (9.5 kB)\n",
            "Collecting langchain_pinecone\n",
            "  Downloading langchain_pinecone-0.2.12-py3-none-any.whl.metadata (8.6 kB)\n",
            "Requirement already satisfied: openai in /usr/local/lib/python3.12/dist-packages (1.109.1)\n",
            "Collecting langchain-openai\n",
            "  Downloading langchain_openai-1.0.1-py3-none-any.whl.metadata (1.8 kB)\n",
            "Collecting langchain-classic\n",
            "  Downloading langchain_classic-1.0.0-py3-none-any.whl.metadata (3.9 kB)\n",
            "Requirement already satisfied: langchain-core<1.0.0,>=0.3.72 in /usr/local/lib/python3.12/dist-packages (from langchain) (0.3.79)\n",
            "Requirement already satisfied: langchain-text-splitters<1.0.0,>=0.3.9 in /usr/local/lib/python3.12/dist-packages (from langchain) (0.3.11)\n",
            "Requirement already satisfied: langsmith>=0.1.17 in /usr/local/lib/python3.12/dist-packages (from langchain) (0.4.38)\n",
            "Requirement already satisfied: pydantic<3.0.0,>=2.7.4 in /usr/local/lib/python3.12/dist-packages (from langchain) (2.11.10)\n",
            "Requirement already satisfied: SQLAlchemy<3,>=1.4 in /usr/local/lib/python3.12/dist-packages (from langchain) (2.0.44)\n",
            "Requirement already satisfied: requests<3,>=2 in /usr/local/lib/python3.12/dist-packages (from langchain) (2.32.4)\n",
            "Requirement already satisfied: PyYAML>=5.3 in /usr/local/lib/python3.12/dist-packages (from langchain) (6.0.3)\n",
            "INFO: pip is looking at multiple versions of langchain-community to determine which version is compatible with other requirements. This could take a while.\n",
            "Collecting langchain_community\n",
            "  Downloading langchain_community-0.4-py3-none-any.whl.metadata (3.0 kB)\n",
            "  Downloading langchain_community-0.3.31-py3-none-any.whl.metadata (3.0 kB)\n",
            "Collecting requests<3,>=2 (from langchain)\n",
            "  Downloading requests-2.32.5-py3-none-any.whl.metadata (4.9 kB)\n",
            "Requirement already satisfied: aiohttp<4.0.0,>=3.8.3 in /usr/local/lib/python3.12/dist-packages (from langchain_community) (3.13.1)\n",
            "Requirement already satisfied: tenacity!=8.4.0,<10.0.0,>=8.1.0 in /usr/local/lib/python3.12/dist-packages (from langchain_community) (8.5.0)\n",
            "Collecting dataclasses-json<0.7.0,>=0.6.7 (from langchain_community)\n",
            "  Downloading dataclasses_json-0.6.7-py3-none-any.whl.metadata (25 kB)\n",
            "Requirement already satisfied: pydantic-settings<3.0.0,>=2.10.1 in /usr/local/lib/python3.12/dist-packages (from langchain_community) (2.11.0)\n",
            "Requirement already satisfied: httpx-sse<1.0.0,>=0.4.0 in /usr/local/lib/python3.12/dist-packages (from langchain_community) (0.4.3)\n",
            "Requirement already satisfied: numpy>=1.26.2 in /usr/local/lib/python3.12/dist-packages (from langchain_community) (2.0.2)\n",
            "Requirement already satisfied: certifi>=2019.11.17 in /usr/local/lib/python3.12/dist-packages (from pinecone) (2025.10.5)\n",
            "Collecting pinecone-plugin-assistant<2.0.0,>=1.6.0 (from pinecone)\n",
            "  Downloading pinecone_plugin_assistant-1.8.0-py3-none-any.whl.metadata (30 kB)\n",
            "Collecting pinecone-plugin-interface<0.0.8,>=0.0.7 (from pinecone)\n",
            "  Downloading pinecone_plugin_interface-0.0.7-py3-none-any.whl.metadata (1.2 kB)\n",
            "Requirement already satisfied: python-dateutil>=2.5.3 in /usr/local/lib/python3.12/dist-packages (from pinecone) (2.9.0.post0)\n",
            "Requirement already satisfied: typing-extensions>=3.7.4 in /usr/local/lib/python3.12/dist-packages (from pinecone) (4.15.0)\n",
            "Requirement already satisfied: urllib3>=1.26.5 in /usr/local/lib/python3.12/dist-packages (from pinecone) (2.5.0)\n",
            "Requirement already satisfied: httpx>=0.28.0 in /usr/local/lib/python3.12/dist-packages (from langchain_pinecone) (0.28.1)\n",
            "Requirement already satisfied: simsimd>=5.9.11 in /usr/local/lib/python3.12/dist-packages (from langchain_pinecone) (6.5.3)\n",
            "Requirement already satisfied: anyio<5,>=3.5.0 in /usr/local/lib/python3.12/dist-packages (from openai) (4.11.0)\n",
            "Requirement already satisfied: distro<2,>=1.7.0 in /usr/local/lib/python3.12/dist-packages (from openai) (1.9.0)\n",
            "Requirement already satisfied: jiter<1,>=0.4.0 in /usr/local/lib/python3.12/dist-packages (from openai) (0.11.1)\n",
            "Requirement already satisfied: sniffio in /usr/local/lib/python3.12/dist-packages (from openai) (1.3.1)\n",
            "Requirement already satisfied: tqdm>4 in /usr/local/lib/python3.12/dist-packages (from openai) (4.67.1)\n",
            "INFO: pip is looking at multiple versions of langchain-openai to determine which version is compatible with other requirements. This could take a while.\n",
            "Collecting langchain-openai\n",
            "  Downloading langchain_openai-1.0.0-py3-none-any.whl.metadata (1.8 kB)\n",
            "  Downloading langchain_openai-0.3.35-py3-none-any.whl.metadata (2.4 kB)\n",
            "Requirement already satisfied: tiktoken<1.0.0,>=0.7.0 in /usr/local/lib/python3.12/dist-packages (from langchain-openai) (0.12.0)\n",
            "INFO: pip is looking at multiple versions of langchain-classic to determine which version is compatible with other requirements. This could take a while.\n",
            "  Downloading langchain_openai-0.3.34-py3-none-any.whl.metadata (2.4 kB)\n",
            "  Downloading langchain_openai-0.3.33-py3-none-any.whl.metadata (2.4 kB)\n",
            "INFO: pip is still looking at multiple versions of langchain-openai to determine which version is compatible with other requirements. This could take a while.\n",
            "  Downloading langchain_openai-0.3.32-py3-none-any.whl.metadata (2.4 kB)\n",
            "  Downloading langchain_openai-0.3.31-py3-none-any.whl.metadata (2.4 kB)\n",
            "  Downloading langchain_openai-0.3.30-py3-none-any.whl.metadata (2.4 kB)\n",
            "INFO: This is taking longer than usual. You might need to provide the dependency resolver with stricter constraints to reduce runtime. See https://pip.pypa.io/warnings/backtracking for guidance. If you want to abort this run, press Ctrl + C.\n",
            "  Downloading langchain_openai-0.3.29-py3-none-any.whl.metadata (2.4 kB)\n",
            "  Downloading langchain_openai-0.3.28-py3-none-any.whl.metadata (2.3 kB)\n",
            "INFO: pip is still looking at multiple versions of langchain-classic to determine which version is compatible with other requirements. This could take a while.\n",
            "  Downloading langchain_openai-0.3.27-py3-none-any.whl.metadata (2.3 kB)\n",
            "  Downloading langchain_openai-0.3.26-py3-none-any.whl.metadata (2.3 kB)\n",
            "  Downloading langchain_openai-0.3.25-py3-none-any.whl.metadata (2.3 kB)\n",
            "  Downloading langchain_openai-0.3.24-py3-none-any.whl.metadata (2.3 kB)\n",
            "  Downloading langchain_openai-0.3.23-py3-none-any.whl.metadata (2.3 kB)\n",
            "INFO: This is taking longer than usual. You might need to provide the dependency resolver with stricter constraints to reduce runtime. See https://pip.pypa.io/warnings/backtracking for guidance. If you want to abort this run, press Ctrl + C.\n",
            "  Downloading langchain_openai-0.3.22-py3-none-any.whl.metadata (2.3 kB)\n",
            "  Downloading langchain_openai-0.3.21-py3-none-any.whl.metadata (2.3 kB)\n",
            "  Downloading langchain_openai-0.3.20-py3-none-any.whl.metadata (2.3 kB)\n",
            "  Downloading langchain_openai-0.3.19-py3-none-any.whl.metadata (2.3 kB)\n",
            "  Downloading langchain_openai-0.3.18-py3-none-any.whl.metadata (2.3 kB)\n",
            "  Downloading langchain_openai-0.3.17-py3-none-any.whl.metadata (2.3 kB)\n",
            "  Downloading langchain_openai-0.3.16-py3-none-any.whl.metadata (2.3 kB)\n",
            "  Downloading langchain_openai-0.3.15-py3-none-any.whl.metadata (2.3 kB)\n",
            "  Downloading langchain_openai-0.3.14-py3-none-any.whl.metadata (2.3 kB)\n",
            "  Downloading langchain_openai-0.3.13-py3-none-any.whl.metadata (2.3 kB)\n",
            "  Downloading langchain_openai-0.3.12-py3-none-any.whl.metadata (2.3 kB)\n",
            "  Downloading langchain_openai-0.3.11-py3-none-any.whl.metadata (2.3 kB)\n",
            "Collecting langchain_pinecone\n",
            "  Downloading langchain_pinecone-0.2.11-py3-none-any.whl.metadata (6.1 kB)\n",
            "Collecting langchain-tests<1.0.0,>=0.3.7 (from langchain_pinecone)\n",
            "  Downloading langchain_tests-0.3.22-py3-none-any.whl.metadata (3.3 kB)\n",
            "Requirement already satisfied: jsonpatch<2.0.0,>=1.33.0 in /usr/local/lib/python3.12/dist-packages (from langchain-core<1.0.0,>=0.3.72->langchain) (1.33)\n",
            "Requirement already satisfied: packaging<26.0.0,>=23.2.0 in /usr/local/lib/python3.12/dist-packages (from langchain-core<1.0.0,>=0.3.72->langchain) (25.0)\n",
            "Collecting langchain_pinecone\n",
            "  Downloading langchain_pinecone-0.2.10-py3-none-any.whl.metadata (5.3 kB)\n",
            "  Downloading langchain_pinecone-0.2.9-py3-none-any.whl.metadata (5.3 kB)\n",
            "  Downloading langchain_pinecone-0.2.8-py3-none-any.whl.metadata (5.3 kB)\n",
            "  Downloading langchain_pinecone-0.2.7-py3-none-any.whl.metadata (5.3 kB)\n",
            "  Downloading langchain_pinecone-0.2.6-py3-none-any.whl.metadata (5.3 kB)\n",
            "Collecting pinecone\n",
            "  Downloading pinecone-6.0.2-py3-none-any.whl.metadata (9.0 kB)\n",
            "Collecting aiohttp<4.0.0,>=3.8.3 (from langchain_community)\n",
            "  Downloading aiohttp-3.10.11-cp312-cp312-manylinux_2_17_x86_64.manylinux2014_x86_64.whl.metadata (7.7 kB)\n",
            "Collecting langchain-openai\n",
            "  Downloading langchain_openai-0.3.10-py3-none-any.whl.metadata (2.3 kB)\n",
            "  Downloading langchain_openai-0.3.9-py3-none-any.whl.metadata (2.3 kB)\n",
            "  Downloading langchain_openai-0.3.8-py3-none-any.whl.metadata (2.3 kB)\n",
            "  Downloading langchain_openai-0.3.7-py3-none-any.whl.metadata (2.3 kB)\n",
            "  Downloading langchain_openai-0.3.6-py3-none-any.whl.metadata (2.3 kB)\n",
            "  Downloading langchain_openai-0.3.5-py3-none-any.whl.metadata (2.3 kB)\n",
            "  Downloading langchain_openai-0.3.4-py3-none-any.whl.metadata (2.3 kB)\n",
            "  Downloading langchain_openai-0.3.3-py3-none-any.whl.metadata (2.7 kB)\n",
            "  Downloading langchain_openai-0.3.2-py3-none-any.whl.metadata (2.7 kB)\n",
            "  Downloading langchain_openai-0.3.1-py3-none-any.whl.metadata (2.7 kB)\n",
            "  Downloading langchain_openai-0.3.0-py3-none-any.whl.metadata (2.7 kB)\n",
            "  Downloading langchain_openai-0.2.14-py3-none-any.whl.metadata (2.7 kB)\n",
            "  Downloading langchain_openai-0.2.13-py3-none-any.whl.metadata (2.7 kB)\n",
            "  Downloading langchain_openai-0.2.12-py3-none-any.whl.metadata (2.7 kB)\n",
            "  Downloading langchain_openai-0.2.11-py3-none-any.whl.metadata (2.7 kB)\n",
            "  Downloading langchain_openai-0.2.10-py3-none-any.whl.metadata (2.6 kB)\n",
            "  Downloading langchain_openai-0.2.9-py3-none-any.whl.metadata (2.6 kB)\n",
            "  Downloading langchain_openai-0.2.8-py3-none-any.whl.metadata (2.6 kB)\n",
            "  Downloading langchain_openai-0.2.7-py3-none-any.whl.metadata (2.6 kB)\n",
            "  Downloading langchain_openai-0.2.6-py3-none-any.whl.metadata (2.6 kB)\n",
            "  Downloading langchain_openai-0.2.5-py3-none-any.whl.metadata (2.6 kB)\n",
            "  Downloading langchain_openai-0.2.4-py3-none-any.whl.metadata (2.6 kB)\n",
            "  Downloading langchain_openai-0.2.3-py3-none-any.whl.metadata (2.6 kB)\n",
            "  Downloading langchain_openai-0.2.2-py3-none-any.whl.metadata (2.6 kB)\n",
            "  Downloading langchain_openai-0.2.1-py3-none-any.whl.metadata (2.6 kB)\n",
            "  Downloading langchain_openai-0.2.0-py3-none-any.whl.metadata (2.6 kB)\n",
            "  Downloading langchain_openai-0.1.25-py3-none-any.whl.metadata (2.6 kB)\n",
            "  Downloading langchain_openai-0.1.24-py3-none-any.whl.metadata (2.6 kB)\n",
            "  Downloading langchain_openai-0.1.23-py3-none-any.whl.metadata (2.6 kB)\n",
            "  Downloading langchain_openai-0.1.22-py3-none-any.whl.metadata (2.6 kB)\n",
            "  Downloading langchain_openai-0.1.20-py3-none-any.whl.metadata (2.6 kB)\n",
            "  Downloading langchain_openai-0.1.19-py3-none-any.whl.metadata (2.6 kB)\n",
            "  Downloading langchain_openai-0.1.17-py3-none-any.whl.metadata (2.5 kB)\n",
            "  Downloading langchain_openai-0.1.16-py3-none-any.whl.metadata (2.5 kB)\n",
            "  Downloading langchain_openai-0.1.15-py3-none-any.whl.metadata (2.5 kB)\n",
            "  Downloading langchain_openai-0.1.14-py3-none-any.whl.metadata (2.5 kB)\n",
            "  Downloading langchain_openai-0.1.13-py3-none-any.whl.metadata (2.5 kB)\n",
            "  Downloading langchain_openai-0.1.12-py3-none-any.whl.metadata (2.5 kB)\n",
            "  Downloading langchain_openai-0.1.11-py3-none-any.whl.metadata (2.5 kB)\n",
            "  Downloading langchain_openai-0.1.10-py3-none-any.whl.metadata (2.5 kB)\n",
            "  Downloading langchain_openai-0.1.9-py3-none-any.whl.metadata (2.5 kB)\n",
            "  Downloading langchain_openai-0.1.8-py3-none-any.whl.metadata (2.5 kB)\n",
            "  Downloading langchain_openai-0.1.7-py3-none-any.whl.metadata (2.5 kB)\n",
            "  Downloading langchain_openai-0.1.6-py3-none-any.whl.metadata (2.5 kB)\n",
            "  Downloading langchain_openai-0.1.5-py3-none-any.whl.metadata (2.5 kB)\n",
            "  Downloading langchain_openai-0.1.4-py3-none-any.whl.metadata (2.5 kB)\n",
            "  Downloading langchain_openai-0.1.3-py3-none-any.whl.metadata (2.5 kB)\n",
            "  Downloading langchain_openai-0.1.2-py3-none-any.whl.metadata (2.5 kB)\n",
            "  Downloading langchain_openai-0.1.1-py3-none-any.whl.metadata (2.5 kB)\n",
            "  Downloading langchain_openai-0.0.8-py3-none-any.whl.metadata (2.5 kB)\n",
            "  Downloading langchain_openai-0.0.7-py3-none-any.whl.metadata (2.5 kB)\n",
            "  Downloading langchain_openai-0.0.6-py3-none-any.whl.metadata (2.5 kB)\n",
            "  Downloading langchain_openai-0.0.5-py3-none-any.whl.metadata (2.5 kB)\n",
            "  Downloading langchain_openai-0.0.4-py3-none-any.whl.metadata (2.5 kB)\n",
            "  Downloading langchain_openai-0.0.3-py3-none-any.whl.metadata (2.5 kB)\n",
            "  Downloading langchain_openai-0.0.2.post1-py3-none-any.whl.metadata (2.4 kB)\n",
            "  Downloading langchain_openai-0.0.2-py3-none-any.whl.metadata (570 bytes)\n",
            "Collecting langchain_pinecone\n",
            "  Downloading langchain_pinecone-0.2.5-py3-none-any.whl.metadata (1.3 kB)\n",
            "  Downloading langchain_pinecone-0.2.4-py3-none-any.whl.metadata (1.3 kB)\n",
            "  Downloading langchain_pinecone-0.2.3-py3-none-any.whl.metadata (1.3 kB)\n",
            "Collecting pinecone\n",
            "  Downloading pinecone-5.4.2-py3-none-any.whl.metadata (19 kB)\n",
            "Collecting numpy>=1.26.2 (from langchain_community)\n",
            "  Downloading numpy-1.26.4-cp312-cp312-manylinux_2_17_x86_64.manylinux2014_x86_64.whl.metadata (61 kB)\n",
            "\u001b[2K     \u001b[90m━━━━━━━━━━━━━━━━━━━━━━━━━━━━━━━━━━━━━━━━\u001b[0m \u001b[32m61.0/61.0 kB\u001b[0m \u001b[31m5.0 MB/s\u001b[0m eta \u001b[36m0:00:00\u001b[0m\n",
            "\u001b[?25hCollecting pinecone-plugin-inference<4.0.0,>=2.0.0 (from pinecone)\n",
            "  Downloading pinecone_plugin_inference-3.1.0-py3-none-any.whl.metadata (2.2 kB)\n",
            "Collecting langchain_pinecone\n",
            "  Downloading langchain_pinecone-0.2.2-py3-none-any.whl.metadata (1.6 kB)\n",
            "  Downloading langchain_pinecone-0.2.1-py3-none-any.whl.metadata (1.6 kB)\n",
            "Collecting aiohttp<4.0.0,>=3.8.3 (from langchain_community)\n",
            "  Downloading aiohttp-3.9.5-cp312-cp312-manylinux_2_17_x86_64.manylinux2014_x86_64.whl.metadata (7.5 kB)\n",
            "Collecting langchain_pinecone\n",
            "  Downloading langchain_pinecone-0.2.0-py3-none-any.whl.metadata (1.7 kB)\n",
            "Collecting pinecone-client<6.0.0,>=5.0.0 (from langchain_pinecone)\n",
            "  Downloading pinecone_client-5.0.1-py3-none-any.whl.metadata (19 kB)\n",
            "Collecting langchain_pinecone\n",
            "  Downloading langchain_pinecone-0.1.3-py3-none-any.whl.metadata (1.7 kB)\n",
            "INFO: pip is looking at multiple versions of langchain-pinecone to determine which version is compatible with other requirements. This could take a while.\n",
            "  Downloading langchain_pinecone-0.1.2-py3-none-any.whl.metadata (1.5 kB)\n",
            "  Downloading langchain_pinecone-0.1.1-py3-none-any.whl.metadata (1.4 kB)\n",
            "  Downloading langchain_pinecone-0.1.0-py3-none-any.whl.metadata (1.4 kB)\n",
            "  Downloading langchain_pinecone-0.0.3-py3-none-any.whl.metadata (1.4 kB)\n",
            "  Downloading langchain_pinecone-0.0.2-py3-none-any.whl.metadata (1.4 kB)\n",
            "  Downloading langchain_pinecone-0.0.1-py3-none-any.whl.metadata (1.5 kB)\n",
            "Collecting pinecone-client<4,>=3 (from langchain_pinecone)\n",
            "  Downloading pinecone_client-3.2.2-py3-none-any.whl.metadata (16 kB)\n",
            "Collecting simsimd<4.0.0,>=3.6.3 (from langchain_pinecone)\n",
            "  Downloading simsimd-3.9.0-cp312-cp312-manylinux_2_28_x86_64.whl.metadata (14 kB)\n",
            "INFO: pip is still looking at multiple versions of langchain-pinecone to determine which version is compatible with other requirements. This could take a while.\n",
            "Collecting langchain_community\n",
            "  Downloading langchain_community-0.3.30-py3-none-any.whl.metadata (3.0 kB)\n",
            "INFO: This is taking longer than usual. You might need to provide the dependency resolver with stricter constraints to reduce runtime. See https://pip.pypa.io/warnings/backtracking for guidance. If you want to abort this run, press Ctrl + C.\n",
            "  Downloading langchain_community-0.3.29-py3-none-any.whl.metadata (2.9 kB)\n",
            "INFO: pip is still looking at multiple versions of langchain-community to determine which version is compatible with other requirements. This could take a while.\n",
            "  Downloading langchain_community-0.3.28-py3-none-any.whl.metadata (2.9 kB)\n",
            "  Downloading langchain_community-0.3.27-py3-none-any.whl.metadata (2.9 kB)\n",
            "  Downloading langchain_community-0.3.26-py3-none-any.whl.metadata (2.9 kB)\n",
            "INFO: This is taking longer than usual. You might need to provide the dependency resolver with stricter constraints to reduce runtime. See https://pip.pypa.io/warnings/backtracking for guidance. If you want to abort this run, press Ctrl + C.\n",
            "  Downloading langchain_community-0.3.25-py3-none-any.whl.metadata (2.9 kB)\n",
            "Collecting langsmith>=0.1.17 (from langchain)\n",
            "  Downloading langsmith-0.3.45-py3-none-any.whl.metadata (15 kB)\n",
            "Collecting langchain_community\n",
            "  Downloading langchain_community-0.3.24-py3-none-any.whl.metadata (2.5 kB)\n",
            "  Downloading langchain_community-0.3.23-py3-none-any.whl.metadata (2.5 kB)\n",
            "  Downloading langchain_community-0.3.22-py3-none-any.whl.metadata (2.4 kB)\n",
            "  Downloading langchain_community-0.3.21-py3-none-any.whl.metadata (2.4 kB)\n",
            "  Downloading langchain_community-0.3.20-py3-none-any.whl.metadata (2.4 kB)\n",
            "  Downloading langchain_community-0.3.19-py3-none-any.whl.metadata (2.4 kB)\n",
            "  Downloading langchain_community-0.3.18-py3-none-any.whl.metadata (2.4 kB)\n",
            "  Downloading langchain_community-0.3.17-py3-none-any.whl.metadata (2.4 kB)\n",
            "  Downloading langchain_community-0.3.16-py3-none-any.whl.metadata (2.9 kB)\n",
            "  Downloading langchain_community-0.3.15-py3-none-any.whl.metadata (2.9 kB)\n",
            "  Downloading langchain_community-0.3.14-py3-none-any.whl.metadata (2.9 kB)\n",
            "Collecting langsmith>=0.1.17 (from langchain)\n",
            "  Downloading langsmith-0.2.11-py3-none-any.whl.metadata (14 kB)\n",
            "INFO: pip is looking at multiple versions of langchain-core to determine which version is compatible with other requirements. This could take a while.\n",
            "Collecting langchain-core<1.0.0,>=0.3.72 (from langchain)\n",
            "  Downloading langchain_core-0.3.78-py3-none-any.whl.metadata (3.2 kB)\n",
            "  Downloading langchain_core-0.3.77-py3-none-any.whl.metadata (3.2 kB)\n",
            "  Downloading langchain_core-0.3.76-py3-none-any.whl.metadata (3.7 kB)\n",
            "  Downloading langchain_core-0.3.75-py3-none-any.whl.metadata (5.7 kB)\n",
            "  Downloading langchain_core-0.3.74-py3-none-any.whl.metadata (5.8 kB)\n",
            "  Downloading langchain_core-0.3.73-py3-none-any.whl.metadata (5.8 kB)\n",
            "  Downloading langchain_core-0.3.72-py3-none-any.whl.metadata (5.8 kB)\n",
            "INFO: pip is still looking at multiple versions of langchain-core to determine which version is compatible with other requirements. This could take a while.\n",
            "INFO: This is taking longer than usual. You might need to provide the dependency resolver with stricter constraints to reduce runtime. See https://pip.pypa.io/warnings/backtracking for guidance. If you want to abort this run, press Ctrl + C.\n",
            "Collecting langchain_community\n",
            "  Downloading langchain_community-0.3.13-py3-none-any.whl.metadata (2.9 kB)\n",
            "  Downloading langchain_community-0.3.12-py3-none-any.whl.metadata (2.9 kB)\n",
            "  Downloading langchain_community-0.3.11-py3-none-any.whl.metadata (2.9 kB)\n",
            "  Downloading langchain_community-0.3.10-py3-none-any.whl.metadata (2.9 kB)\n",
            "Collecting langsmith>=0.1.17 (from langchain)\n",
            "  Downloading langsmith-0.1.147-py3-none-any.whl.metadata (14 kB)\n",
            "Collecting langchain_community\n",
            "  Downloading langchain_community-0.3.9-py3-none-any.whl.metadata (2.9 kB)\n",
            "  Downloading langchain_community-0.3.8-py3-none-any.whl.metadata (2.9 kB)\n",
            "Collecting SQLAlchemy<3,>=1.4 (from langchain)\n",
            "  Downloading SQLAlchemy-2.0.35-cp312-cp312-manylinux_2_17_x86_64.manylinux2014_x86_64.whl.metadata (9.6 kB)\n",
            "Collecting langchain_community\n",
            "  Downloading langchain_community-0.3.7-py3-none-any.whl.metadata (2.9 kB)\n",
            "  Downloading langchain_community-0.3.6-py3-none-any.whl.metadata (2.9 kB)\n",
            "  Downloading langchain_community-0.3.5-py3-none-any.whl.metadata (2.9 kB)\n",
            "  Downloading langchain_community-0.3.4-py3-none-any.whl.metadata (2.9 kB)\n",
            "  Downloading langchain_community-0.3.3-py3-none-any.whl.metadata (2.8 kB)\n",
            "  Downloading langchain_community-0.3.2-py3-none-any.whl.metadata (2.8 kB)\n",
            "  Downloading langchain_community-0.3.1-py3-none-any.whl.metadata (2.8 kB)\n",
            "  Downloading langchain_community-0.3.0-py3-none-any.whl.metadata (2.8 kB)\n",
            "  Downloading langchain_community-0.2.19-py3-none-any.whl.metadata (2.7 kB)\n",
            "Collecting langchain\n",
            "  Downloading langchain-0.2.17-py3-none-any.whl.metadata (7.1 kB)\n",
            "Collecting langchain_community\n",
            "  Downloading langchain_community-0.2.18-py3-none-any.whl.metadata (2.7 kB)\n",
            "  Downloading langchain_community-0.2.17-py3-none-any.whl.metadata (2.7 kB)\n",
            "  Downloading langchain_community-0.2.16-py3-none-any.whl.metadata (2.7 kB)\n",
            "  Downloading langchain_community-0.2.15-py3-none-any.whl.metadata (2.7 kB)\n",
            "  Downloading langchain_community-0.2.13-py3-none-any.whl.metadata (2.7 kB)\n",
            "  Downloading langchain_community-0.2.12-py3-none-any.whl.metadata (2.7 kB)\n",
            "  Downloading langchain_community-0.2.11-py3-none-any.whl.metadata (2.7 kB)\n",
            "  Downloading langchain_community-0.2.10-py3-none-any.whl.metadata (2.7 kB)\n",
            "  Downloading langchain_community-0.2.9-py3-none-any.whl.metadata (2.5 kB)\n",
            "  Downloading langchain_community-0.2.7-py3-none-any.whl.metadata (2.5 kB)\n",
            "  Downloading langchain_community-0.2.6-py3-none-any.whl.metadata (2.5 kB)\n",
            "  Downloading langchain_community-0.2.5-py3-none-any.whl.metadata (2.5 kB)\n",
            "  Downloading langchain_community-0.2.4-py3-none-any.whl.metadata (2.4 kB)\n",
            "  Downloading langchain_community-0.2.3-py3-none-any.whl.metadata (9.0 kB)\n",
            "  Downloading langchain_community-0.2.2-py3-none-any.whl.metadata (8.9 kB)\n",
            "  Downloading langchain_community-0.2.1-py3-none-any.whl.metadata (8.9 kB)\n",
            "  Downloading langchain_community-0.2.0-py3-none-any.whl.metadata (8.8 kB)\n",
            "  Downloading langchain_community-0.0.38-py3-none-any.whl.metadata (8.7 kB)\n",
            "  Downloading langchain_community-0.0.37-py3-none-any.whl.metadata (8.7 kB)\n",
            "  Downloading langchain_community-0.0.36-py3-none-any.whl.metadata (8.7 kB)\n",
            "  Downloading langchain_community-0.0.35-py3-none-any.whl.metadata (8.7 kB)\n",
            "  Downloading langchain_community-0.0.34-py3-none-any.whl.metadata (8.5 kB)\n",
            "  Downloading langchain_community-0.0.33-py3-none-any.whl.metadata (8.5 kB)\n",
            "  Downloading langchain_community-0.0.32-py3-none-any.whl.metadata (8.5 kB)\n",
            "  Downloading langchain_community-0.0.31-py3-none-any.whl.metadata (8.4 kB)\n",
            "  Downloading langchain_community-0.0.30-py3-none-any.whl.metadata (8.4 kB)\n",
            "  Downloading langchain_community-0.0.29-py3-none-any.whl.metadata (8.3 kB)\n",
            "  Downloading langchain_community-0.0.28-py3-none-any.whl.metadata (8.3 kB)\n",
            "  Downloading langchain_community-0.0.27-py3-none-any.whl.metadata (8.2 kB)\n",
            "  Downloading langchain_community-0.0.26-py3-none-any.whl.metadata (8.2 kB)\n",
            "  Downloading langchain_community-0.0.25-py3-none-any.whl.metadata (8.1 kB)\n",
            "  Downloading langchain_community-0.0.24-py3-none-any.whl.metadata (8.1 kB)\n",
            "  Downloading langchain_community-0.0.23-py3-none-any.whl.metadata (8.1 kB)\n",
            "  Downloading langchain_community-0.0.22-py3-none-any.whl.metadata (8.1 kB)\n",
            "  Downloading langchain_community-0.0.21-py3-none-any.whl.metadata (8.1 kB)\n",
            "  Downloading langchain_community-0.0.20-py3-none-any.whl.metadata (8.1 kB)\n",
            "  Downloading langchain_community-0.0.19-py3-none-any.whl.metadata (7.9 kB)\n",
            "  Downloading langchain_community-0.0.18-py3-none-any.whl.metadata (7.9 kB)\n",
            "  Downloading langchain_community-0.0.17-py3-none-any.whl.metadata (7.9 kB)\n",
            "  Downloading langchain_community-0.0.16-py3-none-any.whl.metadata (7.8 kB)\n",
            "  Downloading langchain_community-0.0.15-py3-none-any.whl.metadata (7.6 kB)\n",
            "  Downloading langchain_community-0.0.14-py3-none-any.whl.metadata (7.5 kB)\n",
            "  Downloading langchain_community-0.0.13-py3-none-any.whl.metadata (7.5 kB)\n",
            "  Downloading langchain_community-0.0.12-py3-none-any.whl.metadata (7.5 kB)\n",
            "  Downloading langchain_community-0.0.11-py3-none-any.whl.metadata (7.3 kB)\n",
            "  Downloading langchain_community-0.0.10-py3-none-any.whl.metadata (7.3 kB)\n",
            "  Downloading langchain_community-0.0.8-py3-none-any.whl.metadata (7.3 kB)\n",
            "  Downloading langchain_community-0.0.7-py3-none-any.whl.metadata (7.3 kB)\n",
            "  Downloading langchain_community-0.0.6-py3-none-any.whl.metadata (7.2 kB)\n",
            "  Downloading langchain_community-0.0.5-py3-none-any.whl.metadata (7.1 kB)\n",
            "  Downloading langchain_community-0.0.4-py3-none-any.whl.metadata (7.0 kB)\n",
            "  Downloading langchain_community-0.0.3-py3-none-any.whl.metadata (7.0 kB)\n",
            "  Downloading langchain_community-0.0.2-py3-none-any.whl.metadata (5.8 kB)\n",
            "  Downloading langchain_community-0.0.1-py3-none-any.whl.metadata (5.8 kB)\n",
            "Collecting langchain\n",
            "  Downloading langchain-1.0.2-py3-none-any.whl.metadata (4.7 kB)\n",
            "Collecting langchain-core<2.0.0,>=1.0.0 (from langchain)\n",
            "  Downloading langchain_core-1.0.1-py3-none-any.whl.metadata (3.5 kB)\n",
            "Collecting langgraph<1.1.0,>=1.0.0 (from langchain)\n",
            "  Downloading langgraph-1.0.1-py3-none-any.whl.metadata (7.4 kB)\n",
            "Collecting langchain-text-splitters<2.0.0,>=1.0.0 (from langchain-classic)\n",
            "  Downloading langchain_text_splitters-1.0.0-py3-none-any.whl.metadata (2.6 kB)\n",
            "Requirement already satisfied: aiohappyeyeballs>=2.5.0 in /usr/local/lib/python3.12/dist-packages (from aiohttp<4.0.0,>=3.8.3->langchain_community) (2.6.1)\n",
            "Requirement already satisfied: aiosignal>=1.4.0 in /usr/local/lib/python3.12/dist-packages (from aiohttp<4.0.0,>=3.8.3->langchain_community) (1.4.0)\n",
            "Requirement already satisfied: attrs>=17.3.0 in /usr/local/lib/python3.12/dist-packages (from aiohttp<4.0.0,>=3.8.3->langchain_community) (25.4.0)\n",
            "Requirement already satisfied: frozenlist>=1.1.1 in /usr/local/lib/python3.12/dist-packages (from aiohttp<4.0.0,>=3.8.3->langchain_community) (1.8.0)\n",
            "Requirement already satisfied: multidict<7.0,>=4.5 in /usr/local/lib/python3.12/dist-packages (from aiohttp<4.0.0,>=3.8.3->langchain_community) (6.7.0)\n",
            "Requirement already satisfied: propcache>=0.2.0 in /usr/local/lib/python3.12/dist-packages (from aiohttp<4.0.0,>=3.8.3->langchain_community) (0.4.1)\n",
            "Requirement already satisfied: yarl<2.0,>=1.17.0 in /usr/local/lib/python3.12/dist-packages (from aiohttp<4.0.0,>=3.8.3->langchain_community) (1.22.0)\n",
            "Requirement already satisfied: idna>=2.8 in /usr/local/lib/python3.12/dist-packages (from anyio<5,>=3.5.0->openai) (3.11)\n",
            "Collecting marshmallow<4.0.0,>=3.18.0 (from dataclasses-json<0.7.0,>=0.6.7->langchain_community)\n",
            "  Downloading marshmallow-3.26.1-py3-none-any.whl.metadata (7.3 kB)\n",
            "Collecting typing-inspect<1,>=0.4.0 (from dataclasses-json<0.7.0,>=0.6.7->langchain_community)\n",
            "  Downloading typing_inspect-0.9.0-py3-none-any.whl.metadata (1.5 kB)\n",
            "Requirement already satisfied: httpcore==1.* in /usr/local/lib/python3.12/dist-packages (from httpx>=0.28.0->langchain_pinecone) (1.0.9)\n",
            "Requirement already satisfied: h11>=0.16 in /usr/local/lib/python3.12/dist-packages (from httpcore==1.*->httpx>=0.28.0->langchain_pinecone) (0.16.0)\n",
            "Collecting langgraph-checkpoint<4.0.0,>=2.1.0 (from langgraph<1.1.0,>=1.0.0->langchain)\n",
            "  Downloading langgraph_checkpoint-3.0.0-py3-none-any.whl.metadata (4.2 kB)\n",
            "Collecting langgraph-prebuilt<1.1.0,>=1.0.0 (from langgraph<1.1.0,>=1.0.0->langchain)\n",
            "  Downloading langgraph_prebuilt-1.0.1-py3-none-any.whl.metadata (5.0 kB)\n",
            "Collecting langgraph-sdk<0.3.0,>=0.2.2 (from langgraph<1.1.0,>=1.0.0->langchain)\n",
            "  Downloading langgraph_sdk-0.2.9-py3-none-any.whl.metadata (1.5 kB)\n",
            "Requirement already satisfied: xxhash>=3.5.0 in /usr/local/lib/python3.12/dist-packages (from langgraph<1.1.0,>=1.0.0->langchain) (3.6.0)\n",
            "Requirement already satisfied: orjson>=3.9.14 in /usr/local/lib/python3.12/dist-packages (from langsmith>=0.1.17->langchain) (3.11.4)\n",
            "Requirement already satisfied: requests-toolbelt>=1.0.0 in /usr/local/lib/python3.12/dist-packages (from langsmith>=0.1.17->langchain) (1.0.0)\n",
            "Requirement already satisfied: zstandard>=0.23.0 in /usr/local/lib/python3.12/dist-packages (from langsmith>=0.1.17->langchain) (0.25.0)\n",
            "Collecting packaging<26.0.0,>=23.2.0 (from langchain-core<2.0.0,>=1.0.0->langchain)\n",
            "  Downloading packaging-24.2-py3-none-any.whl.metadata (3.2 kB)\n",
            "Requirement already satisfied: annotated-types>=0.6.0 in /usr/local/lib/python3.12/dist-packages (from pydantic<3.0.0,>=2.7.4->langchain) (0.7.0)\n",
            "Requirement already satisfied: pydantic-core==2.33.2 in /usr/local/lib/python3.12/dist-packages (from pydantic<3.0.0,>=2.7.4->langchain) (2.33.2)\n",
            "Requirement already satisfied: typing-inspection>=0.4.0 in /usr/local/lib/python3.12/dist-packages (from pydantic<3.0.0,>=2.7.4->langchain) (0.4.2)\n",
            "Requirement already satisfied: python-dotenv>=0.21.0 in /usr/local/lib/python3.12/dist-packages (from pydantic-settings<3.0.0,>=2.10.1->langchain_community) (1.1.1)\n",
            "Requirement already satisfied: six>=1.5 in /usr/local/lib/python3.12/dist-packages (from python-dateutil>=2.5.3->pinecone) (1.17.0)\n",
            "Requirement already satisfied: charset_normalizer<4,>=2 in /usr/local/lib/python3.12/dist-packages (from requests<3,>=2->langchain) (3.4.4)\n",
            "Requirement already satisfied: greenlet>=1 in /usr/local/lib/python3.12/dist-packages (from SQLAlchemy<3,>=1.4->langchain) (3.2.4)\n",
            "Requirement already satisfied: regex>=2022.1.18 in /usr/local/lib/python3.12/dist-packages (from tiktoken<1.0.0,>=0.7.0->langchain-openai) (2024.11.6)\n",
            "Requirement already satisfied: jsonpointer>=1.9 in /usr/local/lib/python3.12/dist-packages (from jsonpatch<2.0.0,>=1.33.0->langchain-core<1.0.0,>=0.3.72->langchain) (3.0.0)\n",
            "Collecting ormsgpack>=1.10.0 (from langgraph-checkpoint<4.0.0,>=2.1.0->langgraph<1.1.0,>=1.0.0->langchain)\n",
            "  Downloading ormsgpack-1.11.0-cp312-cp312-manylinux_2_17_x86_64.manylinux2014_x86_64.whl.metadata (1.2 kB)\n",
            "Collecting mypy-extensions>=0.3.0 (from typing-inspect<1,>=0.4.0->dataclasses-json<0.7.0,>=0.6.7->langchain_community)\n",
            "  Downloading mypy_extensions-1.1.0-py3-none-any.whl.metadata (1.1 kB)\n",
            "Downloading langchain-1.0.2-py3-none-any.whl (107 kB)\n",
            "\u001b[2K   \u001b[90m━━━━━━━━━━━━━━━━━━━━━━━━━━━━━━━━━━━━━━━━\u001b[0m \u001b[32m107.8/107.8 kB\u001b[0m \u001b[31m8.9 MB/s\u001b[0m eta \u001b[36m0:00:00\u001b[0m\n",
            "\u001b[?25hDownloading langchain_community-0.4.1-py3-none-any.whl (2.5 MB)\n",
            "\u001b[2K   \u001b[90m━━━━━━━━━━━━━━━━━━━━━━━━━━━━━━━━━━━━━━━━\u001b[0m \u001b[32m2.5/2.5 MB\u001b[0m \u001b[31m56.8 MB/s\u001b[0m eta \u001b[36m0:00:00\u001b[0m\n",
            "\u001b[?25hDownloading langchain_core-1.0.1-py3-none-any.whl (467 kB)\n",
            "\u001b[2K   \u001b[90m━━━━━━━━━━━━━━━━━━━━━━━━━━━━━━━━━━━━━━━━\u001b[0m \u001b[32m467.1/467.1 kB\u001b[0m \u001b[31m35.5 MB/s\u001b[0m eta \u001b[36m0:00:00\u001b[0m\n",
            "\u001b[?25hDownloading pinecone-7.3.0-py3-none-any.whl (587 kB)\n",
            "\u001b[2K   \u001b[90m━━━━━━━━━━━━━━━━━━━━━━━━━━━━━━━━━━━━━━━━\u001b[0m \u001b[32m587.6/587.6 kB\u001b[0m \u001b[31m41.3 MB/s\u001b[0m eta \u001b[36m0:00:00\u001b[0m\n",
            "\u001b[?25hDownloading langchain_pinecone-0.0.1-py3-none-any.whl (8.1 kB)\n",
            "Downloading langchain_openai-1.0.1-py3-none-any.whl (81 kB)\n",
            "\u001b[2K   \u001b[90m━━━━━━━━━━━━━━━━━━━━━━━━━━━━━━━━━━━━━━━━\u001b[0m \u001b[32m81.9/81.9 kB\u001b[0m \u001b[31m6.6 MB/s\u001b[0m eta \u001b[36m0:00:00\u001b[0m\n",
            "\u001b[?25hDownloading langchain_classic-1.0.0-py3-none-any.whl (1.0 MB)\n",
            "\u001b[2K   \u001b[90m━━━━━━━━━━━━━━━━━━━━━━━━━━━━━━━━━━━━━━━━\u001b[0m \u001b[32m1.0/1.0 MB\u001b[0m \u001b[31m54.6 MB/s\u001b[0m eta \u001b[36m0:00:00\u001b[0m\n",
            "\u001b[?25hDownloading dataclasses_json-0.6.7-py3-none-any.whl (28 kB)\n",
            "Downloading langchain_text_splitters-1.0.0-py3-none-any.whl (33 kB)\n",
            "Downloading langgraph-1.0.1-py3-none-any.whl (155 kB)\n",
            "\u001b[2K   \u001b[90m━━━━━━━━━━━━━━━━━━━━━━━━━━━━━━━━━━━━━━━━\u001b[0m \u001b[32m155.4/155.4 kB\u001b[0m \u001b[31m12.4 MB/s\u001b[0m eta \u001b[36m0:00:00\u001b[0m\n",
            "\u001b[?25hDownloading numpy-1.26.4-cp312-cp312-manylinux_2_17_x86_64.manylinux2014_x86_64.whl (18.0 MB)\n",
            "\u001b[2K   \u001b[90m━━━━━━━━━━━━━━━━━━━━━━━━━━━━━━━━━━━━━━━━\u001b[0m \u001b[32m18.0/18.0 MB\u001b[0m \u001b[31m93.6 MB/s\u001b[0m eta \u001b[36m0:00:00\u001b[0m\n",
            "\u001b[?25hDownloading pinecone_client-3.2.2-py3-none-any.whl (215 kB)\n",
            "\u001b[2K   \u001b[90m━━━━━━━━━━━━━━━━━━━━━━━━━━━━━━━━━━━━━━━━\u001b[0m \u001b[32m215.9/215.9 kB\u001b[0m \u001b[31m16.8 MB/s\u001b[0m eta \u001b[36m0:00:00\u001b[0m\n",
            "\u001b[?25hDownloading pinecone_plugin_assistant-1.8.0-py3-none-any.whl (259 kB)\n",
            "\u001b[2K   \u001b[90m━━━━━━━━━━━━━━━━━━━━━━━━━━━━━━━━━━━━━━━━\u001b[0m \u001b[32m259.3/259.3 kB\u001b[0m \u001b[31m22.3 MB/s\u001b[0m eta \u001b[36m0:00:00\u001b[0m\n",
            "\u001b[?25hDownloading pinecone_plugin_interface-0.0.7-py3-none-any.whl (6.2 kB)\n",
            "Downloading requests-2.32.5-py3-none-any.whl (64 kB)\n",
            "\u001b[2K   \u001b[90m━━━━━━━━━━━━━━━━━━━━━━━━━━━━━━━━━━━━━━━━\u001b[0m \u001b[32m64.7/64.7 kB\u001b[0m \u001b[31m5.1 MB/s\u001b[0m eta \u001b[36m0:00:00\u001b[0m\n",
            "\u001b[?25hDownloading simsimd-3.9.0-cp312-cp312-manylinux_2_28_x86_64.whl (342 kB)\n",
            "\u001b[2K   \u001b[90m━━━━━━━━━━━━━━━━━━━━━━━━━━━━━━━━━━━━━━━━\u001b[0m \u001b[32m342.2/342.2 kB\u001b[0m \u001b[31m24.9 MB/s\u001b[0m eta \u001b[36m0:00:00\u001b[0m\n",
            "\u001b[?25hDownloading langgraph_checkpoint-3.0.0-py3-none-any.whl (46 kB)\n",
            "\u001b[2K   \u001b[90m━━━━━━━━━━━━━━━━━━━━━━━━━━━━━━━━━━━━━━━━\u001b[0m \u001b[32m46.1/46.1 kB\u001b[0m \u001b[31m3.9 MB/s\u001b[0m eta \u001b[36m0:00:00\u001b[0m\n",
            "\u001b[?25hDownloading langgraph_prebuilt-1.0.1-py3-none-any.whl (28 kB)\n",
            "Downloading langgraph_sdk-0.2.9-py3-none-any.whl (56 kB)\n",
            "\u001b[2K   \u001b[90m━━━━━━━━━━━━━━━━━━━━━━━━━━━━━━━━━━━━━━━━\u001b[0m \u001b[32m56.8/56.8 kB\u001b[0m \u001b[31m4.6 MB/s\u001b[0m eta \u001b[36m0:00:00\u001b[0m\n",
            "\u001b[?25hDownloading marshmallow-3.26.1-py3-none-any.whl (50 kB)\n",
            "\u001b[2K   \u001b[90m━━━━━━━━━━━━━━━━━━━━━━━━━━━━━━━━━━━━━━━━\u001b[0m \u001b[32m50.9/50.9 kB\u001b[0m \u001b[31m4.2 MB/s\u001b[0m eta \u001b[36m0:00:00\u001b[0m\n",
            "\u001b[?25hDownloading packaging-24.2-py3-none-any.whl (65 kB)\n",
            "\u001b[2K   \u001b[90m━━━━━━━━━━━━━━━━━━━━━━━━━━━━━━━━━━━━━━━━\u001b[0m \u001b[32m65.5/65.5 kB\u001b[0m \u001b[31m5.5 MB/s\u001b[0m eta \u001b[36m0:00:00\u001b[0m\n",
            "\u001b[?25hDownloading typing_inspect-0.9.0-py3-none-any.whl (8.8 kB)\n",
            "Downloading mypy_extensions-1.1.0-py3-none-any.whl (5.0 kB)\n",
            "Downloading ormsgpack-1.11.0-cp312-cp312-manylinux_2_17_x86_64.manylinux2014_x86_64.whl (207 kB)\n",
            "\u001b[2K   \u001b[90m━━━━━━━━━━━━━━━━━━━━━━━━━━━━━━━━━━━━━━━━\u001b[0m \u001b[32m207.6/207.6 kB\u001b[0m \u001b[31m16.3 MB/s\u001b[0m eta \u001b[36m0:00:00\u001b[0m\n",
            "\u001b[?25hInstalling collected packages: simsimd, requests, pinecone-plugin-interface, pinecone-client, packaging, ormsgpack, numpy, mypy-extensions, typing-inspect, pinecone-plugin-assistant, marshmallow, pinecone, langgraph-sdk, dataclasses-json, langchain-core, langgraph-checkpoint, langchain-text-splitters, langchain_pinecone, langchain-openai, langgraph-prebuilt, langchain-classic, langgraph, langchain_community, langchain\n",
            "  Attempting uninstall: simsimd\n",
            "    Found existing installation: simsimd 6.5.3\n",
            "    Uninstalling simsimd-6.5.3:\n",
            "      Successfully uninstalled simsimd-6.5.3\n",
            "  Attempting uninstall: requests\n",
            "    Found existing installation: requests 2.32.4\n",
            "    Uninstalling requests-2.32.4:\n",
            "      Successfully uninstalled requests-2.32.4\n",
            "  Attempting uninstall: packaging\n",
            "    Found existing installation: packaging 25.0\n",
            "    Uninstalling packaging-25.0:\n",
            "      Successfully uninstalled packaging-25.0\n",
            "  Attempting uninstall: numpy\n",
            "    Found existing installation: numpy 2.0.2\n",
            "    Uninstalling numpy-2.0.2:\n",
            "      Successfully uninstalled numpy-2.0.2\n",
            "  Attempting uninstall: langchain-core\n",
            "    Found existing installation: langchain-core 0.3.79\n",
            "    Uninstalling langchain-core-0.3.79:\n",
            "      Successfully uninstalled langchain-core-0.3.79\n",
            "  Attempting uninstall: langchain-text-splitters\n",
            "    Found existing installation: langchain-text-splitters 0.3.11\n",
            "    Uninstalling langchain-text-splitters-0.3.11:\n",
            "      Successfully uninstalled langchain-text-splitters-0.3.11\n",
            "  Attempting uninstall: langchain\n",
            "    Found existing installation: langchain 0.3.27\n",
            "    Uninstalling langchain-0.3.27:\n",
            "      Successfully uninstalled langchain-0.3.27\n",
            "\u001b[31mERROR: pip's dependency resolver does not currently take into account all the packages that are installed. This behaviour is the source of the following dependency conflicts.\n",
            "google-colab 1.0.0 requires requests==2.32.4, but you have requests 2.32.5 which is incompatible.\n",
            "opencv-contrib-python 4.12.0.88 requires numpy<2.3.0,>=2; python_version >= \"3.9\", but you have numpy 1.26.4 which is incompatible.\n",
            "pytensor 2.35.1 requires numpy>=2.0, but you have numpy 1.26.4 which is incompatible.\n",
            "jax 0.7.2 requires numpy>=2.0, but you have numpy 1.26.4 which is incompatible.\n",
            "thinc 8.3.6 requires numpy<3.0.0,>=2.0.0, but you have numpy 1.26.4 which is incompatible.\n",
            "opencv-python-headless 4.12.0.88 requires numpy<2.3.0,>=2; python_version >= \"3.9\", but you have numpy 1.26.4 which is incompatible.\n",
            "jaxlib 0.7.2 requires numpy>=2.0, but you have numpy 1.26.4 which is incompatible.\n",
            "albucore 0.0.24 requires simsimd>=5.9.2, but you have simsimd 3.9.0 which is incompatible.\n",
            "opencv-python 4.12.0.88 requires numpy<2.3.0,>=2; python_version >= \"3.9\", but you have numpy 1.26.4 which is incompatible.\u001b[0m\u001b[31m\n",
            "\u001b[0mSuccessfully installed dataclasses-json-0.6.7 langchain-1.0.2 langchain-classic-1.0.0 langchain-core-1.0.1 langchain-openai-1.0.1 langchain-text-splitters-1.0.0 langchain_community-0.4.1 langchain_pinecone-0.0.1 langgraph-1.0.1 langgraph-checkpoint-3.0.0 langgraph-prebuilt-1.0.1 langgraph-sdk-0.2.9 marshmallow-3.26.1 mypy-extensions-1.1.0 numpy-1.26.4 ormsgpack-1.11.0 packaging-24.2 pinecone-7.3.0 pinecone-client-3.2.2 pinecone-plugin-assistant-1.8.0 pinecone-plugin-interface-0.0.7 requests-2.32.5 simsimd-3.9.0 typing-inspect-0.9.0\n"
          ]
        },
        {
          "output_type": "display_data",
          "data": {
            "application/vnd.colab-display-data+json": {
              "pip_warning": {
                "packages": [
                  "numpy",
                  "packaging"
                ]
              },
              "id": "588a57c7ea2d4c938b61c38626ff0b62"
            }
          },
          "metadata": {}
        }
      ],
      "source": [
        "!pip install langchain langchain_community  pinecone langchain_pinecone openai langchain-openai langchain-classic"
      ]
    },
    {
      "cell_type": "code",
      "source": [
        "from google.colab import userdata\n",
        "\n",
        "PINECONE_API_KEY = userdata.get('PINECONE_API_KEY')\n",
        "AZURE_OPENAI_ENDPOINT = userdata.get('AZURE_OPENAI_ENDPOINT')\n",
        "AZURE_OPENAI_KEY = userdata.get('AZURE_OPENAI_KEY')\n",
        "DEPLOYMENT_NAME = userdata.get('DEPLOYMENT_NAME')"
      ],
      "metadata": {
        "id": "xsp8rnE9hWzA"
      },
      "execution_count": 5,
      "outputs": []
    },
    {
      "cell_type": "code",
      "source": [
        "from google.colab import files\n",
        "\n",
        "uploaded = files.upload()\n",
        "\n",
        "filename = list(uploaded.keys())[0]\n",
        "\n",
        "with open(filename, 'r') as f:\n",
        "    text = f.read()\n",
        "\n",
        "from langchain_classic.text_splitter import RecursiveCharacterTextSplitter\n",
        "\n",
        "text_splitter = RecursiveCharacterTextSplitter(chunk_size=1000, chunk_overlap=20)\n",
        "texts = text_splitter.split_text(text)\n",
        "\n",
        "print(len(texts))\n"
      ],
      "metadata": {
        "colab": {
          "base_uri": "https://localhost:8080/",
          "height": 90
        },
        "id": "Lf7h68LpiBWd",
        "outputId": "fcfd133b-11a3-4f0f-b2cb-d6096cca690a"
      },
      "execution_count": 2,
      "outputs": [
        {
          "output_type": "display_data",
          "data": {
            "text/plain": [
              "<IPython.core.display.HTML object>"
            ],
            "text/html": [
              "\n",
              "     <input type=\"file\" id=\"files-e2f5b472-6a7b-4499-867b-b1087c773ec0\" name=\"files[]\" multiple disabled\n",
              "        style=\"border:none\" />\n",
              "     <output id=\"result-e2f5b472-6a7b-4499-867b-b1087c773ec0\">\n",
              "      Upload widget is only available when the cell has been executed in the\n",
              "      current browser session. Please rerun this cell to enable.\n",
              "      </output>\n",
              "      <script>// Copyright 2017 Google LLC\n",
              "//\n",
              "// Licensed under the Apache License, Version 2.0 (the \"License\");\n",
              "// you may not use this file except in compliance with the License.\n",
              "// You may obtain a copy of the License at\n",
              "//\n",
              "//      http://www.apache.org/licenses/LICENSE-2.0\n",
              "//\n",
              "// Unless required by applicable law or agreed to in writing, software\n",
              "// distributed under the License is distributed on an \"AS IS\" BASIS,\n",
              "// WITHOUT WARRANTIES OR CONDITIONS OF ANY KIND, either express or implied.\n",
              "// See the License for the specific language governing permissions and\n",
              "// limitations under the License.\n",
              "\n",
              "/**\n",
              " * @fileoverview Helpers for google.colab Python module.\n",
              " */\n",
              "(function(scope) {\n",
              "function span(text, styleAttributes = {}) {\n",
              "  const element = document.createElement('span');\n",
              "  element.textContent = text;\n",
              "  for (const key of Object.keys(styleAttributes)) {\n",
              "    element.style[key] = styleAttributes[key];\n",
              "  }\n",
              "  return element;\n",
              "}\n",
              "\n",
              "// Max number of bytes which will be uploaded at a time.\n",
              "const MAX_PAYLOAD_SIZE = 100 * 1024;\n",
              "\n",
              "function _uploadFiles(inputId, outputId) {\n",
              "  const steps = uploadFilesStep(inputId, outputId);\n",
              "  const outputElement = document.getElementById(outputId);\n",
              "  // Cache steps on the outputElement to make it available for the next call\n",
              "  // to uploadFilesContinue from Python.\n",
              "  outputElement.steps = steps;\n",
              "\n",
              "  return _uploadFilesContinue(outputId);\n",
              "}\n",
              "\n",
              "// This is roughly an async generator (not supported in the browser yet),\n",
              "// where there are multiple asynchronous steps and the Python side is going\n",
              "// to poll for completion of each step.\n",
              "// This uses a Promise to block the python side on completion of each step,\n",
              "// then passes the result of the previous step as the input to the next step.\n",
              "function _uploadFilesContinue(outputId) {\n",
              "  const outputElement = document.getElementById(outputId);\n",
              "  const steps = outputElement.steps;\n",
              "\n",
              "  const next = steps.next(outputElement.lastPromiseValue);\n",
              "  return Promise.resolve(next.value.promise).then((value) => {\n",
              "    // Cache the last promise value to make it available to the next\n",
              "    // step of the generator.\n",
              "    outputElement.lastPromiseValue = value;\n",
              "    return next.value.response;\n",
              "  });\n",
              "}\n",
              "\n",
              "/**\n",
              " * Generator function which is called between each async step of the upload\n",
              " * process.\n",
              " * @param {string} inputId Element ID of the input file picker element.\n",
              " * @param {string} outputId Element ID of the output display.\n",
              " * @return {!Iterable<!Object>} Iterable of next steps.\n",
              " */\n",
              "function* uploadFilesStep(inputId, outputId) {\n",
              "  const inputElement = document.getElementById(inputId);\n",
              "  inputElement.disabled = false;\n",
              "\n",
              "  const outputElement = document.getElementById(outputId);\n",
              "  outputElement.innerHTML = '';\n",
              "\n",
              "  const pickedPromise = new Promise((resolve) => {\n",
              "    inputElement.addEventListener('change', (e) => {\n",
              "      resolve(e.target.files);\n",
              "    });\n",
              "  });\n",
              "\n",
              "  const cancel = document.createElement('button');\n",
              "  inputElement.parentElement.appendChild(cancel);\n",
              "  cancel.textContent = 'Cancel upload';\n",
              "  const cancelPromise = new Promise((resolve) => {\n",
              "    cancel.onclick = () => {\n",
              "      resolve(null);\n",
              "    };\n",
              "  });\n",
              "\n",
              "  // Wait for the user to pick the files.\n",
              "  const files = yield {\n",
              "    promise: Promise.race([pickedPromise, cancelPromise]),\n",
              "    response: {\n",
              "      action: 'starting',\n",
              "    }\n",
              "  };\n",
              "\n",
              "  cancel.remove();\n",
              "\n",
              "  // Disable the input element since further picks are not allowed.\n",
              "  inputElement.disabled = true;\n",
              "\n",
              "  if (!files) {\n",
              "    return {\n",
              "      response: {\n",
              "        action: 'complete',\n",
              "      }\n",
              "    };\n",
              "  }\n",
              "\n",
              "  for (const file of files) {\n",
              "    const li = document.createElement('li');\n",
              "    li.append(span(file.name, {fontWeight: 'bold'}));\n",
              "    li.append(span(\n",
              "        `(${file.type || 'n/a'}) - ${file.size} bytes, ` +\n",
              "        `last modified: ${\n",
              "            file.lastModifiedDate ? file.lastModifiedDate.toLocaleDateString() :\n",
              "                                    'n/a'} - `));\n",
              "    const percent = span('0% done');\n",
              "    li.appendChild(percent);\n",
              "\n",
              "    outputElement.appendChild(li);\n",
              "\n",
              "    const fileDataPromise = new Promise((resolve) => {\n",
              "      const reader = new FileReader();\n",
              "      reader.onload = (e) => {\n",
              "        resolve(e.target.result);\n",
              "      };\n",
              "      reader.readAsArrayBuffer(file);\n",
              "    });\n",
              "    // Wait for the data to be ready.\n",
              "    let fileData = yield {\n",
              "      promise: fileDataPromise,\n",
              "      response: {\n",
              "        action: 'continue',\n",
              "      }\n",
              "    };\n",
              "\n",
              "    // Use a chunked sending to avoid message size limits. See b/62115660.\n",
              "    let position = 0;\n",
              "    do {\n",
              "      const length = Math.min(fileData.byteLength - position, MAX_PAYLOAD_SIZE);\n",
              "      const chunk = new Uint8Array(fileData, position, length);\n",
              "      position += length;\n",
              "\n",
              "      const base64 = btoa(String.fromCharCode.apply(null, chunk));\n",
              "      yield {\n",
              "        response: {\n",
              "          action: 'append',\n",
              "          file: file.name,\n",
              "          data: base64,\n",
              "        },\n",
              "      };\n",
              "\n",
              "      let percentDone = fileData.byteLength === 0 ?\n",
              "          100 :\n",
              "          Math.round((position / fileData.byteLength) * 100);\n",
              "      percent.textContent = `${percentDone}% done`;\n",
              "\n",
              "    } while (position < fileData.byteLength);\n",
              "  }\n",
              "\n",
              "  // All done.\n",
              "  yield {\n",
              "    response: {\n",
              "      action: 'complete',\n",
              "    }\n",
              "  };\n",
              "}\n",
              "\n",
              "scope.google = scope.google || {};\n",
              "scope.google.colab = scope.google.colab || {};\n",
              "scope.google.colab._files = {\n",
              "  _uploadFiles,\n",
              "  _uploadFilesContinue,\n",
              "};\n",
              "})(self);\n",
              "</script> "
            ]
          },
          "metadata": {}
        },
        {
          "output_type": "stream",
          "name": "stdout",
          "text": [
            "Saving churchill_speech.txt to churchill_speech (1).txt\n",
            "23\n"
          ]
        }
      ]
    },
    {
      "cell_type": "code",
      "source": [
        "!pip install langchain_openai"
      ],
      "metadata": {
        "colab": {
          "base_uri": "https://localhost:8080/"
        },
        "id": "ZfPA_aipj9__",
        "outputId": "29bb7e51-ece2-410e-9126-6bd958d33e10"
      },
      "execution_count": 3,
      "outputs": [
        {
          "output_type": "stream",
          "name": "stdout",
          "text": [
            "Requirement already satisfied: langchain_openai in /usr/local/lib/python3.12/dist-packages (1.0.1)\n",
            "Requirement already satisfied: langchain-core<2.0.0,>=1.0.0 in /usr/local/lib/python3.12/dist-packages (from langchain_openai) (1.0.1)\n",
            "Requirement already satisfied: openai<3.0.0,>=1.109.1 in /usr/local/lib/python3.12/dist-packages (from langchain_openai) (1.109.1)\n",
            "Requirement already satisfied: tiktoken<1.0.0,>=0.7.0 in /usr/local/lib/python3.12/dist-packages (from langchain_openai) (0.12.0)\n",
            "Requirement already satisfied: jsonpatch<2.0.0,>=1.33.0 in /usr/local/lib/python3.12/dist-packages (from langchain-core<2.0.0,>=1.0.0->langchain_openai) (1.33)\n",
            "Requirement already satisfied: langsmith<1.0.0,>=0.3.45 in /usr/local/lib/python3.12/dist-packages (from langchain-core<2.0.0,>=1.0.0->langchain_openai) (0.4.38)\n",
            "Requirement already satisfied: packaging<26.0.0,>=23.2.0 in /usr/local/lib/python3.12/dist-packages (from langchain-core<2.0.0,>=1.0.0->langchain_openai) (24.2)\n",
            "Requirement already satisfied: pydantic<3.0.0,>=2.7.4 in /usr/local/lib/python3.12/dist-packages (from langchain-core<2.0.0,>=1.0.0->langchain_openai) (2.11.10)\n",
            "Requirement already satisfied: pyyaml<7.0.0,>=5.3.0 in /usr/local/lib/python3.12/dist-packages (from langchain-core<2.0.0,>=1.0.0->langchain_openai) (6.0.3)\n",
            "Requirement already satisfied: tenacity!=8.4.0,<10.0.0,>=8.1.0 in /usr/local/lib/python3.12/dist-packages (from langchain-core<2.0.0,>=1.0.0->langchain_openai) (8.5.0)\n",
            "Requirement already satisfied: typing-extensions<5.0.0,>=4.7.0 in /usr/local/lib/python3.12/dist-packages (from langchain-core<2.0.0,>=1.0.0->langchain_openai) (4.15.0)\n",
            "Requirement already satisfied: anyio<5,>=3.5.0 in /usr/local/lib/python3.12/dist-packages (from openai<3.0.0,>=1.109.1->langchain_openai) (4.11.0)\n",
            "Requirement already satisfied: distro<2,>=1.7.0 in /usr/local/lib/python3.12/dist-packages (from openai<3.0.0,>=1.109.1->langchain_openai) (1.9.0)\n",
            "Requirement already satisfied: httpx<1,>=0.23.0 in /usr/local/lib/python3.12/dist-packages (from openai<3.0.0,>=1.109.1->langchain_openai) (0.28.1)\n",
            "Requirement already satisfied: jiter<1,>=0.4.0 in /usr/local/lib/python3.12/dist-packages (from openai<3.0.0,>=1.109.1->langchain_openai) (0.11.1)\n",
            "Requirement already satisfied: sniffio in /usr/local/lib/python3.12/dist-packages (from openai<3.0.0,>=1.109.1->langchain_openai) (1.3.1)\n",
            "Requirement already satisfied: tqdm>4 in /usr/local/lib/python3.12/dist-packages (from openai<3.0.0,>=1.109.1->langchain_openai) (4.67.1)\n",
            "Requirement already satisfied: regex>=2022.1.18 in /usr/local/lib/python3.12/dist-packages (from tiktoken<1.0.0,>=0.7.0->langchain_openai) (2024.11.6)\n",
            "Requirement already satisfied: requests>=2.26.0 in /usr/local/lib/python3.12/dist-packages (from tiktoken<1.0.0,>=0.7.0->langchain_openai) (2.32.5)\n",
            "Requirement already satisfied: idna>=2.8 in /usr/local/lib/python3.12/dist-packages (from anyio<5,>=3.5.0->openai<3.0.0,>=1.109.1->langchain_openai) (3.11)\n",
            "Requirement already satisfied: certifi in /usr/local/lib/python3.12/dist-packages (from httpx<1,>=0.23.0->openai<3.0.0,>=1.109.1->langchain_openai) (2025.10.5)\n",
            "Requirement already satisfied: httpcore==1.* in /usr/local/lib/python3.12/dist-packages (from httpx<1,>=0.23.0->openai<3.0.0,>=1.109.1->langchain_openai) (1.0.9)\n",
            "Requirement already satisfied: h11>=0.16 in /usr/local/lib/python3.12/dist-packages (from httpcore==1.*->httpx<1,>=0.23.0->openai<3.0.0,>=1.109.1->langchain_openai) (0.16.0)\n",
            "Requirement already satisfied: jsonpointer>=1.9 in /usr/local/lib/python3.12/dist-packages (from jsonpatch<2.0.0,>=1.33.0->langchain-core<2.0.0,>=1.0.0->langchain_openai) (3.0.0)\n",
            "Requirement already satisfied: orjson>=3.9.14 in /usr/local/lib/python3.12/dist-packages (from langsmith<1.0.0,>=0.3.45->langchain-core<2.0.0,>=1.0.0->langchain_openai) (3.11.4)\n",
            "Requirement already satisfied: requests-toolbelt>=1.0.0 in /usr/local/lib/python3.12/dist-packages (from langsmith<1.0.0,>=0.3.45->langchain-core<2.0.0,>=1.0.0->langchain_openai) (1.0.0)\n",
            "Requirement already satisfied: zstandard>=0.23.0 in /usr/local/lib/python3.12/dist-packages (from langsmith<1.0.0,>=0.3.45->langchain-core<2.0.0,>=1.0.0->langchain_openai) (0.25.0)\n",
            "Requirement already satisfied: annotated-types>=0.6.0 in /usr/local/lib/python3.12/dist-packages (from pydantic<3.0.0,>=2.7.4->langchain-core<2.0.0,>=1.0.0->langchain_openai) (0.7.0)\n",
            "Requirement already satisfied: pydantic-core==2.33.2 in /usr/local/lib/python3.12/dist-packages (from pydantic<3.0.0,>=2.7.4->langchain-core<2.0.0,>=1.0.0->langchain_openai) (2.33.2)\n",
            "Requirement already satisfied: typing-inspection>=0.4.0 in /usr/local/lib/python3.12/dist-packages (from pydantic<3.0.0,>=2.7.4->langchain-core<2.0.0,>=1.0.0->langchain_openai) (0.4.2)\n",
            "Requirement already satisfied: charset_normalizer<4,>=2 in /usr/local/lib/python3.12/dist-packages (from requests>=2.26.0->tiktoken<1.0.0,>=0.7.0->langchain_openai) (3.4.4)\n",
            "Requirement already satisfied: urllib3<3,>=1.21.1 in /usr/local/lib/python3.12/dist-packages (from requests>=2.26.0->tiktoken<1.0.0,>=0.7.0->langchain_openai) (2.5.0)\n"
          ]
        }
      ]
    },
    {
      "cell_type": "code",
      "source": [
        "from langchain_openai import AzureOpenAIEmbeddings\n",
        "\n",
        "embeddings = AzureOpenAIEmbeddings(\n",
        "    deployment=\"text-embedding-3-small\",\n",
        "    model=\"text-embedding-3-small\",\n",
        "    openai_api_type=\"azure\",\n",
        "    openai_api_key=AZURE_OPENAI_KEY,\n",
        "    azure_endpoint=AZURE_OPENAI_ENDPOINT,\n",
        "    openai_api_version=\"2023-05-15\",\n",
        "    chunk_size=2048\n",
        ")\n"
      ],
      "metadata": {
        "id": "XXybvlUJjcf0"
      },
      "execution_count": 6,
      "outputs": []
    },
    {
      "cell_type": "code",
      "source": [
        "vector = embeddings.embed_query(texts[0])\n",
        "print(len(vector))\n",
        "print(vector)"
      ],
      "metadata": {
        "colab": {
          "base_uri": "https://localhost:8080/"
        },
        "id": "sNs_LK94k7nH",
        "outputId": "46b4b637-c226-4808-d4c1-1bcd4e5193fc"
      },
      "execution_count": 7,
      "outputs": [
        {
          "output_type": "stream",
          "name": "stdout",
          "text": [
            "1536\n",
            "[0.0414695143699646, 0.04774028807878494, 0.0648132786154747, -0.006053358782082796, -0.02186761610209942, -0.014326663687825203, 0.004025083035230637, 0.003415742190554738, -0.01968199759721756, 0.024282094091176987, 0.03879184648394585, -0.026868216693401337, -0.004439892712980509, -0.025449281558394432, 0.0027763633988797665, 0.036938074976205826, 0.017462052404880524, 0.008485001511871815, 0.01965911313891411, 0.033848460763692856, -0.036640558391809464, 0.015448080375790596, -0.050395071506500244, -0.011202719062566757, -0.03551914170384407, -0.0017093014903366566, -0.004685917869210243, -0.0649048238992691, 0.00784419197589159, 0.00062900863122195, 0.04320885241031647, -0.013067931868135929, -0.02050589583814144, 0.0297976303845644, 0.003902070689946413, -0.05941217020153999, 0.010910921730101109, -0.014589853584766388, -0.03130811080336571, 0.027692114934325218, -0.017462052404880524, -0.03675498813390732, 0.011454465799033642, 0.033322080969810486, 0.029889173805713654, -0.07213681191205978, 0.008845455944538116, -0.02849312499165535, -0.02952299825847149, 0.018663570284843445, 0.021947717294096947, 0.01745060831308365, -0.024808472022414207, 0.04144662618637085, -0.003355666296556592, -0.026593584567308426, -0.036960963159799576, -0.004648727830499411, 0.02538062445819378, 0.00042374941403977573, 0.012472894042730331, -0.008937000297009945, -0.022359665483236313, 0.01890387199819088, -0.04032520949840546, -0.01608888991177082, 0.049891576170921326, -0.016031675040721893, 0.008759633637964725, 0.039753060787916183, -0.001832313952036202, 0.006213561166077852, -0.02670801430940628, -0.04098890721797943, -0.05030352622270584, 0.013857499696314335, 0.02023126371204853, 0.01862923987209797, -0.03130811080336571, -0.024739814922213554, -0.03421463817358017, -0.0015490991063416004, -0.04554322734475136, -0.024922901764512062, -0.030529983341693878, 0.005335309077054262, 0.003186881775036454, 0.06879545003175735, -0.005741536617279053, 0.024808472022414207, -0.01606600359082222, -0.0060247513465583324, -0.08376292139291763, -0.007878520525991917, -0.03334496542811394, 0.04970848932862282, 0.04309442266821861, 0.03055286966264248, -0.020952174440026283, 0.005758700892329216, 0.043689459562301636, -0.0003225501859560609, -0.02510599046945572, 0.04014212265610695, 0.0882485881447792, -0.029820516705513, 0.07108405232429504, -0.017061546444892883, -0.009068595245480537, -0.023000475019216537, -0.09351237863302231, 0.04405563697218895, 0.030163807794451714, 0.03062152862548828, 0.025769686326384544, 0.05291253700852394, -0.008982772938907146, 0.033573828637599945, -0.0162147618830204, 0.033825572580099106, 0.02031136490404606, -0.014418208040297031, 0.007575280964374542, -0.029957832768559456, 0.03565645590424538, -0.010876593180000782, -0.0026733761187642813, -0.015230663120746613, 0.03833412379026413, 0.012392792850732803, -0.0013595741475000978, -0.02178751491010189, -0.04215609282255173, 0.015470965765416622, 0.0046630315482616425, 0.016260534524917603, -0.01634063571691513, 0.051402054727077484, -0.03632015362381935, 0.020036732777953148, -0.04517705366015434, 0.011156946420669556, -0.00372470379807055, -0.03792217746376991, -0.0005528409965336323, 0.04076004400849342, -0.03725847974419594, -0.007878520525991917, -0.002916540252044797, -0.017164533957839012, 0.025311965495347977, -0.0013567133573815227, 0.040531184524297714, 0.009961150586605072, 0.029637428000569344, -0.05007466673851013, 0.08129122853279114, 0.004806069191545248, 0.0006933756521902978, 0.0023615537211298943, -0.039524197578430176, -0.012461450882256031, -0.04943385720252991, -0.021970603615045547, 0.03867741674184799, -0.00629366235807538, 0.016455065459012985, 0.019350150600075722, -0.041103336960077286, 0.0026261736638844013, 0.010796491988003254, 0.02354973927140236, 0.020425794646143913, -0.00984099879860878, -0.00013096896873321384, 0.004502829164266586, 0.011351478286087513, 0.014669954776763916, -0.04874727502465248, -0.04215609282255173, 0.011368642561137676, 0.012015173211693764, 0.005372499115765095, -0.0005918188253417611, -0.04172125831246376, 0.04586363211274147, -0.011935072019696236, 0.021993488073349, -0.004989157896488905, 0.04114910960197449, -0.045772090554237366, -0.0453372560441494, 0.049891576170921326, -0.01774812676012516, 0.010596239008009434, -0.0013302513398230076, 0.03931822627782822, 0.012758970260620117, -0.0037733365315943956, 0.0048575629480183125, -0.024671155959367752, -0.019819315522909164, -0.03648035600781441, -0.021959159523248672, 0.010847984813153744, 0.02771499939262867, 0.00246311048977077, 0.030186692252755165, -0.023126348853111267, 0.02296614646911621, 0.005587055813521147, -0.028699100017547607, 0.0037304253783077, -0.07396769523620605, -0.08142855018377304, -0.013434108346700668, -0.03892916068434715, -0.01594012975692749, 0.005029208492487669, 0.0074379644356667995, -0.028104063123464584, 0.022783057764172554, 0.050944335758686066, -0.030003605410456657, -0.08582266420125961, 0.028721986338496208, 0.0518597774207592, 0.055841948837041855, -0.007100395392626524, 0.0428655631840229, 0.04231629520654678, -0.05854250118136406, -0.01978498511016369, -0.04957117140293121, -0.04581786319613457, -0.013708740472793579, 0.018594911321997643, -0.01829739287495613, -0.025495054200291634, 0.007334977388381958, -0.023961689323186874, 0.031147906556725502, 0.008605152368545532, -0.05625389888882637, -0.021695969626307487, 0.00382483028806746, 0.023778600618243217, -0.029385682195425034, -0.02567814290523529, -0.022405438125133514, 0.021833285689353943, 0.035931091755628586, 0.022199463099241257, -0.0010634858626872301, -0.019819315522909164, 0.032269321382045746, 0.017278963699936867, -0.05153937265276909, -0.020894959568977356, 0.0200825035572052, -0.010527580976486206, -0.0051321955397725105, -0.02168452739715576, -0.03570222854614258, 0.012804741971194744, 0.010298720560967922, -0.005701486021280289, 0.018388936296105385, 0.019258607178926468, -0.037166938185691833, -0.03137676790356636, 0.013594310730695724, 0.027142848819494247, 0.03055286966264248, -0.032292209565639496, -0.025266192853450775, -0.016661040484905243, -0.005003461614251137, 0.018068531528115273, 0.017679469659924507, 0.018217291682958603, -0.05007466673851013, 0.002842160640284419, -0.007209104020148516, 0.0019381619058549404, -0.0012022325536236167, 0.01890387199819088, 0.028355808928608894, 0.019876530393958092, 0.007174775004386902, -0.007392192259430885, -0.002627603942528367, 0.012038059532642365, -0.012415679171681404, -0.06270775943994522, 0.01734762266278267, 0.010201454162597656, -0.0109967440366745, 0.01257588155567646, 0.013422665186226368, 0.027142848819494247, 0.045497458428144455, -0.04531436786055565, 0.021318349987268448, 0.03428329527378082, -0.011271377094089985, -0.0069287498481571674, 0.005398245994001627, 0.043666571378707886, 0.04696216434240341, 0.005921763833612204, 0.05099010840058327, -0.05849672853946686, 0.011717654764652252, 0.013777398504316807, -0.037487342953681946, 0.025563711300492287, 0.041561055928468704, -0.018686454743146896, -0.008673811331391335, -0.001835174742154777, 0.0014117829268798232, 0.002879350446164608, 0.04096601903438568, 0.0595952607691288, 0.029111048206686974, 0.0072434330359101295, 0.002701983554288745, 0.04746565595269203, -0.026593584567308426, -0.030255351215600967, 0.008261862210929394, 0.06440132856369019, -0.016386408358812332, -0.0149102583527565, -0.00031825905898585916, -0.022851714864373207, 0.00010012644634116441, 0.014933143742382526, -0.07799564301967621, -0.011002466082572937, 0.012278363108634949, 0.014681397937238216, 0.00918874703347683, 0.054514557123184204, 0.04087447747588158, 0.034557927399873734, 0.016603825613856316, 0.05941217020153999, 0.013045045547187328, 0.019418809562921524, -0.027325937524437904, -0.0110081871971488, -0.03865452855825424, 0.05391952022910118, -0.07470005005598068, 0.05304985120892525, 0.010790769942104816, 0.06174654886126518, 0.06957357376813889, -0.027852315455675125, 0.01023006159812212, -0.024236321449279785, -0.01654661074280739, -0.023389536887407303, 0.00887406338006258, -0.030964817851781845, 0.008382013998925686, 0.03062152862548828, 0.018835214897990227, -0.011500237509608269, 0.027142848819494247, 0.00017557886894792318, 0.01726752147078514, 0.02464826963841915, 0.030278237536549568, -0.007500901352614164, 0.040004804730415344, 0.05199709162116051, -0.017278963699936867, -0.024922901764512062, -0.020402908325195312, -0.001919567002914846, -0.02166164107620716, -0.016752583906054497, 0.0011378655908629298, 0.005833080504089594, -0.023000475019216537, -0.02744036726653576, -0.024190548807382584, 0.015059017576277256, -0.01785111427307129, 0.002530338242650032, 0.08229821920394897, 0.021192478016018867, 0.007683989591896534, 0.006356598809361458, 0.013388335704803467, -0.006127738393843174, 0.018972530961036682, 0.00986388511955738, 0.010893757455050945, -0.003910652827471495, -0.0337798036634922, 0.04536014050245285, -0.03947842866182327, -0.03723559528589249, -0.03892916068434715, -0.03670921549201012, -0.025769686326384544, -0.035587798804044724, -0.04153817147016525, 0.03735002502799034, -0.02218802087008953, 0.01714164763689041, 0.03055286966264248, 0.03826546669006348, -0.025815458968281746, 0.0440327487885952, 0.012129603885114193, -0.017175976186990738, 0.01023006159812212, -0.013605753891170025, -0.0005721510970033705, 0.004992018453776836, 0.0622042678296566, 0.04751142859458923, -0.04197300598025322, 0.031720057129859924, 0.009486265480518341, -0.012987830676138401, -0.031216565519571304, 0.003704678500071168, 0.06307394057512283, -0.022805944085121155, 0.011637553572654724, -0.010928086005151272, 0.016100332140922546, 0.05213440954685211, -0.012003730051219463, -0.015322206541895866, 0.009858164004981518, -0.018583469092845917, 0.0778125524520874, -0.020002402365207672, 0.021020831540226936, 0.03130811080336571, 0.009898214600980282, -0.017713798210024834, 0.011351478286087513, 0.07117559760808945, -0.07895685732364655, 0.009549202397465706, -0.0015691244043409824, -0.02927125059068203, 0.010893757455050945, 0.057947464287281036, 0.03107924945652485, 0.005618523806333542, 0.03524450957775116, 0.0002774932945612818, -0.012244033627212048, -0.027852315455675125, -0.03753311187028885, -0.019109847024083138, 0.04828955605626106, -0.009903935715556145, -0.002281452529132366, -0.01854913868010044, -0.014658511616289616, -0.01218681875616312, 0.04508550837635994, 0.01804564706981182, 0.005106448661535978, -0.020952174440026283, 0.011065402999520302, 0.00946337915956974, -0.023332322016358376, -0.003544476116076112, -0.010481808334589005, 0.011631832458078861, -0.04048541188240051, 0.006059080362319946, -0.039547085762023926, -0.0595952607691288, -0.021673085168004036, -0.004156677983701229, 0.025266192853450775, -0.008959886617958546, -0.069893978536129, -0.03945554047822952, -0.006940193008631468, -0.020597441121935844, -0.010001201182603836, -0.016260534524917603, -0.016008788719773293, 0.005300980061292648, 0.028676213696599007, 0.041103336960077286, -0.027669228613376617, -0.035908203572034836, 0.019086960703134537, 0.02485424466431141, 0.020402908325195312, 0.07355574518442154, 0.009326063096523285, -0.013239576481282711, -0.005195131991058588, -0.05497227981686592, -0.021306907758116722, -0.03650324046611786, 0.0002501373237464577, 0.01865212619304657, 0.01667248271405697, -0.024579612538218498, 0.013937600888311863, 0.006236447021365166, 0.014452537521719933, -0.02851601131260395, 6.593147645617137e-06, -0.014967473223805428, 0.004860423505306244, 0.010218619368970394, 0.007935736328363419, -0.016008788719773293, 0.04970848932862282, -0.03707539290189743, 0.02412189170718193, 0.017233191058039665, 0.013697297312319279, 0.01667248271405697, -0.03469524532556534, -0.0019066935637965798, 0.013056488707661629, 0.0003434694663155824, -0.015230663120746613, -0.020975060760974884, 0.04357502982020378, -0.03222355246543884, -0.001587719307281077, -0.007523787207901478, 0.008942722342908382, -0.01619187742471695, 0.030209578573703766, -0.030415553599596024, 0.03808237984776497, -0.027142848819494247, 0.01734762266278267, 0.003770475974306464, -0.022130805999040604, 0.007478015031665564, -0.012633096426725388, -0.007815584540367126, -0.0518597774207592, -0.013170918449759483, 0.00044341711327433586, 0.022657183930277824, 0.012781855650246143, -0.004262525588274002, 0.004923360422253609, -0.006396649405360222, 0.024213435128331184, 0.040576957166194916, -0.018789442256093025, -0.01983075775206089, -0.025289079174399376, 0.00745512917637825, 0.04433026909828186, 0.028126949444413185, 0.030507097020745277, -0.01450975239276886, 0.03137676790356636, -0.006139181554317474, -0.021421337500214577, 0.03712116554379463, -0.024236321449279785, 0.019922301173210144, 0.037647541612386703, -0.003458653576672077, 0.034329067915678024, -0.01751926727592945, 0.04103467985987663, 0.002929413691163063, -0.03128522261977196, 0.0058502452448010445, -0.027554797008633614, -0.01373162679374218, -0.056345440447330475, -0.009749455377459526, -0.011048237793147564, 0.01361719612032175, 0.005881713703274727, 0.0016563774552196264, 0.002992350375279784, 0.018194405362010002, -0.01611177623271942, 0.0055613089352846146, 0.0010448909597471356, -0.005744397174566984, 0.0038734630215913057, -0.006745661608874798, 0.003673210274428129, 0.0011893591145053506, -0.013056488707661629, 0.008565101772546768, -0.0002614015538711101, -0.02075764164328575, -0.09204766899347305, -0.0187551137059927, 0.008736747317016125, 0.007386471144855022, 0.010767883621156216, 0.019109847024083138, -0.024030346423387527, 0.017153089866042137, -0.015402307733893394, -0.050166208297014236, -0.0065396870486438274, 0.02289748750627041, 0.022737285122275352, 0.013033602386713028, -0.030255351215600967, -0.019819315522909164, -0.02432786487042904, -0.06788001209497452, -0.0068543702363967896, 0.02025415003299713, -0.0016821243334561586, 0.04838109761476517, -0.009926822036504745, 0.008759633637964725, 0.012816185131669044, -0.022405438125133514, -0.0015719851944595575, 0.022805944085121155, 0.03107924945652485, 0.03137676790356636, -0.004033665172755718, -0.01529932115226984, -0.009228797629475594, 0.02269151248037815, -0.00977806281298399, 0.0031153627205640078, -0.02899661846458912, -0.012530109845101833, -0.0005621384480036795, 0.03599974885582924, 0.016352079808712006, 0.028973732143640518, -0.024556726217269897, -0.025861229747533798, 0.026570698246359825, -0.016729699447751045, 0.012644539587199688, 0.0030123756732791662, 0.010012644343078136, -0.010727833025157452, 0.003533033188432455, 0.002184186829254031, -0.0029108189046382904, 0.0058502452448010445, -0.0148873720318079, 0.011740541085600853, -0.00687725655734539, 0.0149217015132308, 0.00782130565494299, -0.029706085100769997, -0.00765538215637207, 0.057443972676992416, 0.009806670248508453, 0.0029379960615187883, 0.025975661352276802, 0.02876775898039341, 0.019086960703134537, -0.014200790785253048, -0.00191241514403373, 0.02161586843430996, 0.028882188722491264, 0.019521795213222504, 0.012003730051219463, 0.012724640779197216, 0.005821637809276581, -0.0337798036634922, -0.029980719089508057, -0.021627312526106834, -0.010968136601150036, 0.017233191058039665, 0.027875201776623726, 0.015882914885878563, -0.004717385862022638, -0.03602263331413269, 0.008662368170917034, -0.05735242739319801, 0.04037098214030266, -0.0006887268973514438, -0.005355334375053644, 0.015928687527775764, 0.03190314769744873, -0.010916642844676971, -0.07492890954017639, -0.008519330061972141, 0.000535318860784173, -0.001107112388126552, 0.05341602861881256, -0.008250419050455093, -0.0181486327201128, -0.013479880057275295, 0.015699826180934906, 0.017084432765841484, -0.00785563513636589, -0.03627438098192215, -0.011471630074083805, -0.013045045547187328, -0.002584692556411028, -0.033024560660123825, 0.019258607178926468, 0.010407429188489914, 0.04879304766654968, -0.01983075775206089, -0.008507886901497841, -0.026845330372452736, -0.021547211334109306, -0.028607556596398354, 0.0220621470361948, 0.037189822643995285, -0.004886170383542776, -0.004494247026741505, -0.017668025568127632, 0.013937600888311863, 0.01947602443397045, -0.024236321449279785, -0.03155985474586487, 0.03554202616214752, 0.018240178003907204, 0.001832313952036202, 0.017336178570985794, -0.03412309288978577, 0.026502039283514023, 0.018457595258951187, -0.036686331033706665, -0.00863376073539257, -0.04153817147016525, 0.001446111942641437, 0.05263790115714073, -0.01646650955080986, 0.02354973927140236, -0.009646467864513397, 0.0031725780572742224, -0.030781729146838188, -0.009120089001953602, -0.009297455660998821, 0.006751383189111948, -0.0019810732919722795, 0.00879968423396349, 0.014635625295341015, 0.0148873720318079, 0.003507286310195923, 0.020368579775094986, -0.02540350891649723, -0.017404837533831596, 0.020723313093185425, -0.0032498182263225317, 0.014669954776763916, -0.01516200415790081, -0.017187420278787613, -0.003862020093947649, -0.030186692252755165, -0.009434771724045277, 0.018823770806193352, 0.006333712954074144, -0.016134660691022873, -0.004176703281700611, -0.013891829177737236, 0.0012394223595038056, 0.027348823845386505, -0.02140989527106285, -0.023183563724160194, 0.01892675831913948, -0.03284147381782532, -0.057627059519290924, -0.008015837520360947, -0.029385682195425034, 0.030507097020745277, 0.02088351547718048, -0.024533839896321297, -0.014372436329722404, 0.03087327443063259, -0.01361719612032175, 0.03453504294157028, -0.0020654655527323484, -0.02387014403939247, 0.011528844945132732, -0.024167662486433983, -9.360034891869873e-05, 0.01043031457811594, 0.01737050712108612, -0.013216691091656685, -0.06371475011110306, 0.0029351352714002132, 0.006705611012876034, 0.04224763810634613, -0.0621584989130497, -0.014544080942869186, -0.03815103694796562, 0.0075924452394247055, -0.0026790976990014315, 0.02666224166750908, 0.07044324278831482, 0.029706085100769997, 0.008170317858457565, 0.013582867570221424, 0.012415679171681404, 0.024739814922213554, 0.024831358343362808, 0.0033642486669123173, -0.02211936190724373, 0.006190675310790539, -0.013662968762218952, 0.035587798804044724, -0.009892492555081844, 0.02216513454914093, 0.04382677376270294, 0.0067284973338246346, -0.004499968606978655, 0.009732290171086788, 0.025197535753250122, -0.03970728814601898, 0.0006204263772815466, -0.0014268019003793597, -0.029088161885738373, 0.0010119923390448093, -0.01945313811302185, -0.019144175574183464, -0.025815458968281746, -0.009732290171086788, 0.019041189923882484, 0.0034243243280798197, 0.003155413316562772, 0.016912786290049553, -0.007941457442939281, -0.005229461006820202, 0.006757104769349098, -0.02412189170718193, -0.003101059002801776, -0.015379422344267368, 0.022531310096383095, -0.04737411066889763, -0.020174048840999603, 0.021295463666319847, -0.04632135480642319, -0.03009514883160591, 0.018995417281985283, -0.025495054200291634, 0.000872530450578779, -0.04970848932862282, 0.05465187504887581, -0.02618163451552391, 0.004265386611223221, 0.018789442256093025, -0.001459700521081686, -0.001187928719446063, -0.001845187391154468, 0.0024817055091261864, 0.003982171881943941, 0.027531912550330162, -0.009755176492035389, 0.013205247931182384, 0.039730172604322433, 0.0016535167815163732, 0.015848586335778236, -0.0034987041726708412, 0.019189948216080666, -0.03133099526166916, -0.03291013091802597, 0.010716390796005726, 0.012060945853590965, -0.00010182501864619553, -0.021798957139253616, -0.03181160241365433, 0.004402702674269676, -0.011248490773141384, -0.004992018453776836, 0.004851841367781162, -0.007031737361103296, 0.016271978616714478, -0.004914778284728527, 0.017668025568127632, 0.04492530599236488, 0.026593584567308426, -0.003859159303829074, -0.009509151801466942, -0.032818589359521866, 0.01579137146472931, 0.018892429769039154, -0.01842326670885086, 0.012678869068622589, 0.003979310858994722, 0.001114264247007668, 0.0016492255963385105, -0.028584670275449753, -0.024808472022414207, 0.01616899110376835, -0.008931279182434082, 0.016661040484905243, 0.03032400831580162, -0.005300980061292648, -0.030392667278647423, 0.018915316089987755, -0.021203920245170593, 0.018995417281985283, -0.013502766378223896, -0.02487713098526001, 0.02181040123105049, 0.007352141663432121, 0.04648155719041824, -0.007586723659187555, -0.03467235714197159, 0.023229334503412247, -0.03480967506766319, 0.038219694048166275, -0.019636226817965508, 0.03107924945652485, -0.008416342549026012, -0.01837749406695366, -0.018560582771897316, -0.05909176915884018, 0.017210304737091064, -0.010373099707067013, -0.008593710139393806, 0.037487342953681946, 0.011122617870569229, 0.007598166819661856, 0.007683989591896534, -0.04201877862215042, -0.003224071580916643, 0.015219219960272312, -0.012404236011207104, 0.024671155959367752, 0.006768547929823399, -0.010773605667054653, 0.019098404794931412, 0.003950703423470259, -0.015379422344267368, 0.022760171443223953, 0.012427122332155704, -0.012358464300632477, -0.006820041220635176, 0.01080793421715498, 0.004013639874756336, 0.0033041727729141712, 0.011374364607036114, -0.005166524555534124, 0.03680076077580452, -0.0363430380821228, 0.021455666050314903, -0.023252220824360847, -0.0025160345248878, -0.001959617482498288, -0.016386408358812332, -0.007867078296840191, -0.007220547180622816, 0.031239451840519905, 0.007849913090467453, -0.016901344060897827, -0.022153690457344055, 0.01452119555324316, 0.049388084560632706, 0.025540824979543686, -0.01611177623271942, -0.01604311726987362, -0.02048300951719284, 0.012495780363678932, 0.02746325358748436, 0.02798963338136673, -0.020299920812249184, 0.011889300309121609, 0.021604426205158234, -9.520952153252438e-05, -0.010024087503552437, 0.013983373530209064, 0.02796674706041813, -0.018137190490961075, -0.001449687872081995, 0.01671825535595417, 0.0068143196403980255, 0.02512887679040432, 0.004611537791788578, 0.011832085438072681, 0.017427723854780197, -0.0349469892680645, 0.016054559499025345, 0.004677335266023874, -0.04709947854280472, 0.010224340483546257, 0.01414357591420412, -0.01413213275372982, 0.004434171132743359, 0.016397850587964058, 0.011477351188659668, 0.0011636123526841402, 0.012266919948160648, -0.04897613450884819, -0.02929413691163063, -0.040576957166194916, -0.07589012384414673, -0.04902190715074539, -0.005864548962563276, -0.011265655048191547, 0.011969401501119137, -0.019876530393958092, 0.004808930214494467, 0.05822209641337395, 0.037693314254283905, -0.03602263331413269, 0.03860875591635704, -0.011854970827698708, 0.010596239008009434, 0.0065396870486438274, -0.03599974885582924, 0.003298451192677021, 0.0363430380821228, -0.03650324046611786, -0.014555524103343487, -0.008645202964544296, 0.004648727830499411, -0.010664897039532661, -0.00511503079906106, 0.012758970260620117, 0.00745512917637825, -0.013125146739184856, 0.013868942856788635, 0.0068543702363967896, -0.015745598822832108, -0.0027663507498800755, -0.022085033357143402, -0.027669228613376617, 0.052775219082832336, 0.02748613990843296, -0.005807333625853062, 0.06188386306166649, -0.04256804287433624, 0.004582930356264114, 0.024259207770228386, -0.030987704172730446, -0.02615874819457531, 0.0045371581800282, -0.0017565039452165365, -0.00830763392150402, 0.02354973927140236, 0.01177486963570118, 0.0031325274612754583, -0.022027818486094475, 0.0100412517786026, 0.03501565009355545, -0.010115631856024265, -0.013605753891170025, 0.04751142859458923, 0.00849644374102354, -0.01218681875616312, 0.011225604452192783, 0.017553595826029778, -0.011477351188659668, 0.00901138037443161, -0.014566967263817787, 0.004145234823226929, 0.05414838343858719, -0.005054954905062914, -0.03657189756631851, 0.007294926792383194, 0.02432786487042904, -0.0049176388420164585, -0.010035530664026737, 0.003418602980673313, 0.01644362322986126, -0.044490471482276917, -0.021524325013160706, 0.015722712501883507, -0.012072389014065266, -0.035404711961746216, 0.010201454162597656, -0.0066197882406413555, 0.022737285122275352, -0.003747589886188507, -0.05387374758720398, -0.013479880057275295, 0.02035713754594326, -0.009509151801466942, 0.0129763875156641, -0.027920974418520927, -0.008616595529019833, 0.02487713098526001, -0.006602623965591192, -0.04302576556801796, -0.006625509820878506, -0.00589315639808774, -0.05913753807544708, -0.009903935715556145, -0.018068531528115273, 0.020025288686156273, 0.010504694655537605, -0.0015276435296982527, -0.009417607448995113, -0.005280954763293266, 0.009623581543564796, -0.004276829771697521, 0.00256323697976768, -0.0013216690858826041, 0.012289806269109249, 0.037647541612386703, 0.008982772938907146, -0.009829556569457054, -0.008439228869974613, 0.0007209103787317872, 0.021730300039052963, 0.0075523946434259415, 0.007283483631908894, -0.03151408210396767, -0.0027434646617621183, -0.029957832768559456, 0.013994816690683365, 0.024922901764512062, -0.001845187391154468, -0.020791972056031227, 0.0013652956113219261, 0.014727169647812843, -0.0149102583527565, 0.008931279182434082, 0.03258972615003586, -0.005240904167294502, -0.015345092862844467, -0.00324123608879745, 0.01648939587175846, 0.010521858930587769, -0.03808237984776497, 0.01449830923229456, 0.010865150019526482, 0.010390263982117176, -0.01414357591420412, 0.01642073690891266, 0.02666224166750908, 0.02668512798845768, -0.028149835765361786, -0.000932606344576925, 0.004640145692974329, -0.0024516675621271133, -0.015860028564929962, 0.010235783644020557, 0.05986989289522171, 0.0009826695313677192, -0.01596301607787609, 0.026090091094374657, 0.031193679198622704, 0.018858101218938828, -0.018846657127141953, -0.020288478583097458, -0.0021284022368490696, 0.0181715190410614, -0.025495054200291634, -0.028950845822691917, -0.023458195850253105, -0.04437604174017906, 0.027898088097572327, -0.01724463514983654, 0.0258841160684824, -0.013903272338211536, 0.009017101489007473, -0.04709947854280472, -0.018514810130000114, 0.022508425638079643, -0.03030112385749817, -0.013983373530209064, 0.006985965184867382, 0.0008095938246697187, 0.01400625891983509, -0.00782130565494299, 0.014933143742382526, 0.010973858647048473, 0.009120089001953602, 0.0015791370533406734, -0.01810286194086075, 0.025334851816296577, 0.007992951199412346, 0.00802155863493681, 0.002553224330767989, -0.004125209525227547, -0.043414827436208725, 0.024922901764512062, -0.03648035600781441, -0.006837205961346626, -0.02744036726653576, 0.021066604182124138, 0.0068829781375825405, -0.023526854813098907, 0.003438628278672695, 0.019189948216080666, -0.020597441121935844, -0.012266919948160648, 0.023709941655397415, -0.019121291115880013, 0.010584795847535133, -0.0017808203119784594, -0.007695432286709547, -0.018766555935144424, -0.002729160711169243, -0.04018789529800415, -0.0023844398092478514, -0.010750719346106052, -0.003284147474914789, 0.0013195235515013337, -0.013010716065764427, -0.01121988333761692, -0.00940044317394495, -0.005238043610006571, -0.02096361666917801, -0.0014790106797590852, -0.03323053568601608, 0.009800948202610016, 0.00353017239831388, -0.03659478574991226, -0.0026690850500017405, 0.0020611744839698076, 0.008507886901497841, -0.006190675310790539, -0.0028536038007587194, 0.01375451311469078, -0.03215489163994789, -0.01054474525153637, -0.01707298867404461, -0.009772340767085552, 0.032292209565639496, -0.0002365487307542935, 0.011528844945132732, -0.005921763833612204, -0.006694167852401733, 0.015596839599311352, 0.0008210368687286973, 0.02387014403939247, 0.01081937737762928, 0.020528782159090042, 0.004640145692974329, -0.02065465599298477, -0.026868216693401337, 0.009429050609469414, 0.028310038149356842, -0.0017708076629787683, 0.0022456932347267866, -0.0162147618830204, 0.02615874819457531, 0.001023435266688466, -0.032475296407938004, 0.00725487619638443, -0.0007702584262005985, 0.02138700895011425, 0.004960549995303154, 0.00038477161433547735, 0.0035988304298371077, 0.028973732143640518, -0.03286435827612877, 0.004828955512493849, -0.004073715768754482, -0.028355808928608894, 0.01374306995421648, -0.01804564706981182, 0.012141047045588493, 0.017336178570985794, 0.020093947649002075, -0.0020912124309688807, 0.0012973526027053595, 0.01555106695741415, 0.012610211037099361, -0.01191218663007021, -0.009165860712528229, 0.02718862146139145, -0.012347021140158176, 0.035610686987638474, -0.004992018453776836, 0.005080701783299446, 0.014727169647812843, -0.001285194419324398, -0.020196935161948204, 0.048106465488672256, -0.01980787143111229, 0.03492410480976105, 0.00842206459492445, 0.012015173211693764, 0.030118035152554512, -0.013388335704803467, -0.014841600321233273, 0.0025989965070039034, -0.015036131255328655, 0.03991326317191124, -0.00984099879860878, -0.00031289513572119176, 0.011889300309121609, -0.015402307733893394, 0.03986749053001404, 0.006013308186084032, -0.04606960713863373, -0.03464947268366814, 0.021730300039052963, -0.04682484641671181, 0.006350877229124308, -0.03137676790356636, -0.0060762446373701096, -0.009669354185461998, -0.014418208040297031, -0.017107319086790085, 0.0071633318439126015, -0.00824469793587923, -0.025495054200291634, 0.041835688054561615, 0.02773788571357727, 0.05474342033267021, -0.005778726190328598, 0.008994215168058872, -0.01674114167690277, -0.029980719089508057, 0.024922901764512062, -0.01579137146472931, -0.05346180126070976, -0.015150561928749084, 0.022153690457344055, 0.035358939319849014, -0.007792698219418526, -0.023114904761314392, -0.04149239882826805, -0.024991560727357864, -0.01860635355114937, -0.03931822627782822, 0.04112622141838074, 0.007838469929993153, -0.0074379644356667995, 0.007575280964374542, 0.04300287738442421, -0.019441694021224976, 0.01335400715470314, -0.003922095987945795, -0.007129002828150988, -0.0388605035841465, -0.02796674706041813, -0.049342311918735504, -0.003896349109709263, -0.013823171146214008, 0.00036599792656488717, 0.0428197905421257, 0.02929413691163063, -0.019899416714906693, -0.0007960052462294698, 0.011328591965138912, 0.017301850020885468, -0.005289536900818348, -0.004417006392031908, -0.008702418766915798, 0.019441694021224976, 0.009320341981947422, -0.006207839585840702, -0.0034014384727925062, 0.007930014282464981, -0.0021098072174936533, 0.011957958340644836, -0.03085038810968399, 0.00035151533666066825, 0.048106465488672256, 0.020093947649002075, -0.021181033924221992, -0.03009514883160591, 0.029912060126662254, -0.009875328280031681, 0.009755176492035389, 0.0007155464845709503, 0.005172246135771275, -0.009520594961941242, 0.010190011002123356, -0.004691638983786106, -0.012713197618722916, 0.029156820848584175, -0.03165140002965927, -0.024991560727357864, 0.006585459224879742, -0.026318950578570366, -0.00019739213166758418, 0.022348223254084587, 0.004705942701548338, -0.004791765473783016, 0.03837989643216133, 0.0009097202564589679, -0.020414352416992188, -0.017542153596878052, 0.01648939587175846, -0.028401581570506096, 0.039020705968141556, -0.027875201776623726, 0.020093947649002075, -0.013067931868135929, -0.022657183930277824, -0.007861356250941753, 0.018640683963894844, -0.010350213386118412, 0.003352805506438017, -0.007924293167889118, -0.005627106409519911, 0.0012973526027053595, 0.00899993721395731, 0.0246024988591671, 0.0012844792800024152, 0.003693235572427511, 0.020219819620251656, 0.022954702377319336, -0.01802276074886322, -0.01075644139200449, 0.0027534773107618093, -0.01734762266278267, -0.009697961620986462, 0.001480440958403051, -0.01757648214697838, 0.0297747440636158, 0.015470965765416622, -0.019887972623109818, -0.022359665483236313, -0.008479279465973377, -0.02485424466431141, -0.03854009881615639, 0.026524925604462624, 0.009886771440505981, 0.030667299404740334, 0.06142614409327507, 0.022748729214072227, -0.02746325358748436, -0.00666556041687727, 0.019418809562921524, -0.03609129413962364, 0.023458195850253105, 0.01943025179207325, -0.019350150600075722, 0.03185737505555153, 0.024419410154223442, -0.043185967952013016, 0.004205310717225075, -0.037144050002098083, -0.011174111627042294, -0.016661040484905243, 0.013491323217749596, 0.005289536900818348, 0.029889173805713654, 0.02359551191329956, -0.01373162679374218, -0.05932062864303589, -0.01757648214697838, -0.01581425778567791, -0.026776671409606934, 0.024533839896321297, -0.009835277684032917, 0.023332322016358376, 0.019212834537029266, -0.004356930963695049, 0.00803300179541111, -0.014990359544754028, -0.008387735113501549, -0.01041887141764164, -0.002258566441014409, 0.003121084300801158, 0.006717054173350334, -0.010767883621156216, 0.018205849453806877, -0.019338708370923996, 0.004766018595546484, -0.022451208904385567, 0.0018380354158580303, -0.004728829022496939, -0.013857499696314335, -0.024739814922213554, 0.020975060760974884, 0.010058416984975338, -0.03556491434574127, -0.0022056426387280226, -0.009091481566429138, -0.015802813693881035, -0.028836416080594063, -0.02931702323257923, -0.008593710139393806, -0.008158874697983265, 0.033047448843717575, 0.004482803866267204, -0.03480967506766319, -0.0006029042415320873, -0.01654661074280739, -0.01993374526500702, -0.0032355145085603, 0.019899416714906693, 0.024167662486433983, -0.044673558324575424, -0.0009268848225474358, 0.005961814429610968, -0.03737290948629379, 0.037144050002098083, -0.019613340497016907, -0.012324134819209576, 0.01527643483132124, -0.006551130209118128, 0.027074191719293594, -0.0259527750313282, -0.023641284555196762, -0.030644413083791733, 0.035862430930137634, -0.015013244934380054, 0.024716928601264954, 0.035931091755628586, 0.006139181554317474, -0.019750656560063362, -0.005000600591301918, 0.023263664916157722, -0.029820516705513, -0.013079374097287655, -0.025907002389431, 0.029751857742667198, 0.01257588155567646, 0.02031136490404606, -0.002288604388013482, -0.008330520242452621, -0.0014318082248792052, 0.016100332140922546, 0.011603225022554398, 0.009972593747079372, -0.015047574415802956, -0.0018709341529756784, -0.010516137816011906, 0.0311021339148283, 0.012736083939671516, 0.00686581339687109, -0.015207776799798012, -0.020139718428254128, -0.027806544676423073, 0.020402908325195312, 0.005426853429526091, -0.0014718587044626474, -0.018983973190188408]\n"
          ]
        }
      ]
    },
    {
      "cell_type": "code",
      "source": [
        "import pinecone\n",
        "\n",
        "from langchain_pinecone import Pinecone\n",
        "from langchain_classic.vectorstores import Pinecone\n",
        "\n",
        "\n",
        "pc = pinecone.Pinecone(api_key=PINECONE_API_KEY)"
      ],
      "metadata": {
        "id": "UyCg02dyllMU"
      },
      "execution_count": 8,
      "outputs": []
    },
    {
      "cell_type": "code",
      "source": [
        "from  pinecone import ServerlessSpec\n",
        "\n",
        "index_name = \"churchill-speech\"\n",
        "\n",
        "if index_name not in pc.list_indexes().names():\n",
        "  pc.create_index(\n",
        "      name=index_name,\n",
        "      dimension=1536,\n",
        "      metric=\"cosine\",\n",
        "      spec = ServerlessSpec(\n",
        "          cloud = \"aws\",\n",
        "          region = \"us-east-1\"\n",
        "      )\n",
        "  )"
      ],
      "metadata": {
        "id": "35L0rxz9mGbf"
      },
      "execution_count": 9,
      "outputs": []
    },
    {
      "cell_type": "code",
      "source": [
        "import os\n",
        "#from pinecone import Pinecone as PineconeClient\n",
        "from langchain_pinecone import Pinecone\n",
        "from langchain_classic.text_splitter import RecursiveCharacterTextSplitter\n",
        "from langchain_openai import OpenAIEmbeddings\n",
        "\n",
        "os.environ['PINECONE_API_KEY'] = PINECONE_API_KEY\n",
        "\n",
        "\n",
        "chunk =  text_splitter.create_documents([text])\n",
        "\n",
        "\n",
        "vectorstore = Pinecone.from_documents(\n",
        "    documents=chunk,\n",
        "    embedding=embeddings,\n",
        "    index_name=index_name\n",
        ")\n",
        "\n",
        "# ✅ Describe index stats\n",
        "index = pc.Index(index_name)\n",
        "print(index.describe_index_stats())"
      ],
      "metadata": {
        "colab": {
          "base_uri": "https://localhost:8080/"
        },
        "id": "osqY_rzm-9Dx",
        "outputId": "656d2f55-412a-4a34-8247-43b01747fc5e"
      },
      "execution_count": 13,
      "outputs": [
        {
          "output_type": "stream",
          "name": "stdout",
          "text": [
            "{'dimension': 1536,\n",
            " 'index_fullness': 0.0,\n",
            " 'metric': 'cosine',\n",
            " 'namespaces': {'': {'vector_count': 115}},\n",
            " 'total_vector_count': 115,\n",
            " 'vector_type': 'dense'}\n"
          ]
        }
      ]
    },
    {
      "cell_type": "code",
      "source": [
        "query = 'where should we fight ?'\n",
        "result = vectorstore.similarity_search(query)\n",
        "print(result)"
      ],
      "metadata": {
        "colab": {
          "base_uri": "https://localhost:8080/"
        },
        "id": "DYTM2VBKrSgF",
        "outputId": "576d5699-0f1e-4098-ff55-a9140b7b2d03"
      },
      "execution_count": 14,
      "outputs": [
        {
          "output_type": "stream",
          "name": "stdout",
          "text": [
            "[Document(metadata={}, page_content=\"streets, we shall fight in the hills; we shall never surrender, and even if, which I do not for a moment\\nbelieve, this Island or a large part of it were subjugated and starving, then our Empire beyond the\\nseas, armed and guarded by the British Fleet, would carry on the struggle, until, in God's good time,\\nthe New World, with all its power and might, steps forth to the rescue and the liberation of the old.\"), Document(metadata={}, page_content=\"streets, we shall fight in the hills; we shall never surrender, and even if, which I do not for a moment\\nbelieve, this Island or a large part of it were subjugated and starving, then our Empire beyond the\\nseas, armed and guarded by the British Fleet, would carry on the struggle, until, in God's good time,\\nthe New World, with all its power and might, steps forth to the rescue and the liberation of the old.\"), Document(metadata={}, page_content=\"streets, we shall fight in the hills; we shall never surrender, and even if, which I do not for a moment\\nbelieve, this Island or a large part of it were subjugated and starving, then our Empire beyond the\\nseas, armed and guarded by the British Fleet, would carry on the struggle, until, in God's good time,\\nthe New World, with all its power and might, steps forth to the rescue and the liberation of the old.\"), Document(metadata={}, page_content=\"streets, we shall fight in the hills; we shall never surrender, and even if, which I do not for a moment\\nbelieve, this Island or a large part of it were subjugated and starving, then our Empire beyond the\\nseas, armed and guarded by the British Fleet, would carry on the struggle, until, in God's good time,\\nthe New World, with all its power and might, steps forth to the rescue and the liberation of the old.\")]\n"
          ]
        }
      ]
    },
    {
      "cell_type": "code",
      "source": [
        "from langchain_openai import AzureChatOpenAI\n",
        "from google.colab import userdata\n",
        "AZURE_OPENAI_API_KEY= userdata.get('AZURE_OPENAI_KEY')\n",
        "os.environ[\"AZURE_OPENAI_API_KEY\"] = AZURE_OPENAI_API_KEY\n",
        "AZURE_OPENAI_ENDPOINT = userdata.get('AZURE_OPENAI_ENDPOINT')\n",
        "os.environ[\"AZURE_OPENAI_ENDPOINT\"] = AZURE_OPENAI_ENDPOINT\n",
        "\n",
        "from langchain_openai import AzureChatOpenAI\n",
        "\n",
        "llm = AzureChatOpenAI(\n",
        "    azure_deployment=DEPLOYMENT_NAME,\n",
        "    api_version=\"2024-05-01-preview\",\n",
        "    temperature=0,\n",
        "    max_tokens=None,\n",
        "    timeout=None,\n",
        "    max_retries=2,\n",
        "    # organization=\"...\",\n",
        "    # model=\"gpt-35-turbo\",\n",
        "    # model_version=\"0125\",\n",
        "    # other params...\n",
        ")"
      ],
      "metadata": {
        "id": "1Q-I3GptsGaL"
      },
      "execution_count": 15,
      "outputs": []
    },
    {
      "cell_type": "code",
      "source": [
        "from langchain_classic.chains import RetrievalQA\n",
        "\n",
        "retriever = vectorstore.as_retriever(search_type=\"similarity\", search_kwargs={\"k\":5})\n",
        "\n",
        "chain = RetrievalQA.from_chain_type(llm=llm, chain_type=\"stuff\", retriever=retriever)"
      ],
      "metadata": {
        "id": "IHAUu9Jts2eh"
      },
      "execution_count": 16,
      "outputs": []
    },
    {
      "cell_type": "code",
      "source": [
        "query = 'Answer only from the provided input. where shoul we fight ?'\n",
        "answer = chain.invoke(query)\n",
        "print(answer)"
      ],
      "metadata": {
        "colab": {
          "base_uri": "https://localhost:8080/",
          "height": 321
        },
        "id": "H6oZcQzJtRS_",
        "outputId": "b8e0459e-9402-4a02-c3e2-b169ed92ab84"
      },
      "execution_count": 17,
      "outputs": [
        {
          "output_type": "error",
          "ename": "ValueError",
          "evalue": "Azure has not provided the response due to a content filter being triggered",
          "traceback": [
            "\u001b[0;31m---------------------------------------------------------------------------\u001b[0m",
            "\u001b[0;31mValueError\u001b[0m                                Traceback (most recent call last)",
            "\u001b[0;32m/tmp/ipython-input-3917147289.py\u001b[0m in \u001b[0;36m<cell line: 0>\u001b[0;34m()\u001b[0m\n\u001b[1;32m      1\u001b[0m \u001b[0mquery\u001b[0m \u001b[0;34m=\u001b[0m \u001b[0;34m'Answer only from the provided input. where shoul we fight ?'\u001b[0m\u001b[0;34m\u001b[0m\u001b[0;34m\u001b[0m\u001b[0m\n\u001b[0;32m----> 2\u001b[0;31m \u001b[0manswer\u001b[0m \u001b[0;34m=\u001b[0m \u001b[0mchain\u001b[0m\u001b[0;34m.\u001b[0m\u001b[0minvoke\u001b[0m\u001b[0;34m(\u001b[0m\u001b[0mquery\u001b[0m\u001b[0;34m)\u001b[0m\u001b[0;34m\u001b[0m\u001b[0;34m\u001b[0m\u001b[0m\n\u001b[0m\u001b[1;32m      3\u001b[0m \u001b[0mprint\u001b[0m\u001b[0;34m(\u001b[0m\u001b[0manswer\u001b[0m\u001b[0;34m)\u001b[0m\u001b[0;34m\u001b[0m\u001b[0;34m\u001b[0m\u001b[0m\n",
            "\u001b[0;32m/usr/local/lib/python3.12/dist-packages/langchain_classic/chains/base.py\u001b[0m in \u001b[0;36minvoke\u001b[0;34m(self, input, config, **kwargs)\u001b[0m\n\u001b[1;32m    165\u001b[0m             \u001b[0mself\u001b[0m\u001b[0;34m.\u001b[0m\u001b[0m_validate_inputs\u001b[0m\u001b[0;34m(\u001b[0m\u001b[0minputs\u001b[0m\u001b[0;34m)\u001b[0m\u001b[0;34m\u001b[0m\u001b[0;34m\u001b[0m\u001b[0m\n\u001b[1;32m    166\u001b[0m             outputs = (\n\u001b[0;32m--> 167\u001b[0;31m                 \u001b[0mself\u001b[0m\u001b[0;34m.\u001b[0m\u001b[0m_call\u001b[0m\u001b[0;34m(\u001b[0m\u001b[0minputs\u001b[0m\u001b[0;34m,\u001b[0m \u001b[0mrun_manager\u001b[0m\u001b[0;34m=\u001b[0m\u001b[0mrun_manager\u001b[0m\u001b[0;34m)\u001b[0m\u001b[0;34m\u001b[0m\u001b[0;34m\u001b[0m\u001b[0m\n\u001b[0m\u001b[1;32m    168\u001b[0m                 \u001b[0;32mif\u001b[0m \u001b[0mnew_arg_supported\u001b[0m\u001b[0;34m\u001b[0m\u001b[0;34m\u001b[0m\u001b[0m\n\u001b[1;32m    169\u001b[0m                 \u001b[0;32melse\u001b[0m \u001b[0mself\u001b[0m\u001b[0;34m.\u001b[0m\u001b[0m_call\u001b[0m\u001b[0;34m(\u001b[0m\u001b[0minputs\u001b[0m\u001b[0;34m)\u001b[0m\u001b[0;34m\u001b[0m\u001b[0;34m\u001b[0m\u001b[0m\n",
            "\u001b[0;32m/usr/local/lib/python3.12/dist-packages/langchain_classic/chains/retrieval_qa/base.py\u001b[0m in \u001b[0;36m_call\u001b[0;34m(self, inputs, run_manager)\u001b[0m\n\u001b[1;32m    158\u001b[0m         \u001b[0;32melse\u001b[0m\u001b[0;34m:\u001b[0m\u001b[0;34m\u001b[0m\u001b[0;34m\u001b[0m\u001b[0m\n\u001b[1;32m    159\u001b[0m             \u001b[0mdocs\u001b[0m \u001b[0;34m=\u001b[0m \u001b[0mself\u001b[0m\u001b[0;34m.\u001b[0m\u001b[0m_get_docs\u001b[0m\u001b[0;34m(\u001b[0m\u001b[0mquestion\u001b[0m\u001b[0;34m)\u001b[0m  \u001b[0;31m# type: ignore[call-arg]\u001b[0m\u001b[0;34m\u001b[0m\u001b[0;34m\u001b[0m\u001b[0m\n\u001b[0;32m--> 160\u001b[0;31m         answer = self.combine_documents_chain.run(\n\u001b[0m\u001b[1;32m    161\u001b[0m             \u001b[0minput_documents\u001b[0m\u001b[0;34m=\u001b[0m\u001b[0mdocs\u001b[0m\u001b[0;34m,\u001b[0m\u001b[0;34m\u001b[0m\u001b[0;34m\u001b[0m\u001b[0m\n\u001b[1;32m    162\u001b[0m             \u001b[0mquestion\u001b[0m\u001b[0;34m=\u001b[0m\u001b[0mquestion\u001b[0m\u001b[0;34m,\u001b[0m\u001b[0;34m\u001b[0m\u001b[0;34m\u001b[0m\u001b[0m\n",
            "\u001b[0;32m/usr/local/lib/python3.12/dist-packages/langchain_core/_api/deprecation.py\u001b[0m in \u001b[0;36mwarning_emitting_wrapper\u001b[0;34m(*args, **kwargs)\u001b[0m\n\u001b[1;32m    186\u001b[0m                 \u001b[0mwarned\u001b[0m \u001b[0;34m=\u001b[0m \u001b[0;32mTrue\u001b[0m\u001b[0;34m\u001b[0m\u001b[0;34m\u001b[0m\u001b[0m\n\u001b[1;32m    187\u001b[0m                 \u001b[0memit_warning\u001b[0m\u001b[0;34m(\u001b[0m\u001b[0;34m)\u001b[0m\u001b[0;34m\u001b[0m\u001b[0;34m\u001b[0m\u001b[0m\n\u001b[0;32m--> 188\u001b[0;31m             \u001b[0;32mreturn\u001b[0m \u001b[0mwrapped\u001b[0m\u001b[0;34m(\u001b[0m\u001b[0;34m*\u001b[0m\u001b[0margs\u001b[0m\u001b[0;34m,\u001b[0m \u001b[0;34m**\u001b[0m\u001b[0mkwargs\u001b[0m\u001b[0;34m)\u001b[0m\u001b[0;34m\u001b[0m\u001b[0;34m\u001b[0m\u001b[0m\n\u001b[0m\u001b[1;32m    189\u001b[0m \u001b[0;34m\u001b[0m\u001b[0m\n\u001b[1;32m    190\u001b[0m         \u001b[0;32masync\u001b[0m \u001b[0;32mdef\u001b[0m \u001b[0mawarning_emitting_wrapper\u001b[0m\u001b[0;34m(\u001b[0m\u001b[0;34m*\u001b[0m\u001b[0margs\u001b[0m\u001b[0;34m:\u001b[0m \u001b[0mAny\u001b[0m\u001b[0;34m,\u001b[0m \u001b[0;34m**\u001b[0m\u001b[0mkwargs\u001b[0m\u001b[0;34m:\u001b[0m \u001b[0mAny\u001b[0m\u001b[0;34m)\u001b[0m \u001b[0;34m->\u001b[0m \u001b[0mAny\u001b[0m\u001b[0;34m:\u001b[0m\u001b[0;34m\u001b[0m\u001b[0;34m\u001b[0m\u001b[0m\n",
            "\u001b[0;32m/usr/local/lib/python3.12/dist-packages/langchain_classic/chains/base.py\u001b[0m in \u001b[0;36mrun\u001b[0;34m(self, callbacks, tags, metadata, *args, **kwargs)\u001b[0m\n\u001b[1;32m    635\u001b[0m \u001b[0;34m\u001b[0m\u001b[0m\n\u001b[1;32m    636\u001b[0m         \u001b[0;32mif\u001b[0m \u001b[0mkwargs\u001b[0m \u001b[0;32mand\u001b[0m \u001b[0;32mnot\u001b[0m \u001b[0margs\u001b[0m\u001b[0;34m:\u001b[0m\u001b[0;34m\u001b[0m\u001b[0;34m\u001b[0m\u001b[0m\n\u001b[0;32m--> 637\u001b[0;31m             return self(kwargs, callbacks=callbacks, tags=tags, metadata=metadata)[\n\u001b[0m\u001b[1;32m    638\u001b[0m                 \u001b[0m_output_key\u001b[0m\u001b[0;34m\u001b[0m\u001b[0;34m\u001b[0m\u001b[0m\n\u001b[1;32m    639\u001b[0m             ]\n",
            "\u001b[0;32m/usr/local/lib/python3.12/dist-packages/langchain_core/_api/deprecation.py\u001b[0m in \u001b[0;36mwarning_emitting_wrapper\u001b[0;34m(*args, **kwargs)\u001b[0m\n\u001b[1;32m    186\u001b[0m                 \u001b[0mwarned\u001b[0m \u001b[0;34m=\u001b[0m \u001b[0;32mTrue\u001b[0m\u001b[0;34m\u001b[0m\u001b[0;34m\u001b[0m\u001b[0m\n\u001b[1;32m    187\u001b[0m                 \u001b[0memit_warning\u001b[0m\u001b[0;34m(\u001b[0m\u001b[0;34m)\u001b[0m\u001b[0;34m\u001b[0m\u001b[0;34m\u001b[0m\u001b[0m\n\u001b[0;32m--> 188\u001b[0;31m             \u001b[0;32mreturn\u001b[0m \u001b[0mwrapped\u001b[0m\u001b[0;34m(\u001b[0m\u001b[0;34m*\u001b[0m\u001b[0margs\u001b[0m\u001b[0;34m,\u001b[0m \u001b[0;34m**\u001b[0m\u001b[0mkwargs\u001b[0m\u001b[0;34m)\u001b[0m\u001b[0;34m\u001b[0m\u001b[0;34m\u001b[0m\u001b[0m\n\u001b[0m\u001b[1;32m    189\u001b[0m \u001b[0;34m\u001b[0m\u001b[0m\n\u001b[1;32m    190\u001b[0m         \u001b[0;32masync\u001b[0m \u001b[0;32mdef\u001b[0m \u001b[0mawarning_emitting_wrapper\u001b[0m\u001b[0;34m(\u001b[0m\u001b[0;34m*\u001b[0m\u001b[0margs\u001b[0m\u001b[0;34m:\u001b[0m \u001b[0mAny\u001b[0m\u001b[0;34m,\u001b[0m \u001b[0;34m**\u001b[0m\u001b[0mkwargs\u001b[0m\u001b[0;34m:\u001b[0m \u001b[0mAny\u001b[0m\u001b[0;34m)\u001b[0m \u001b[0;34m->\u001b[0m \u001b[0mAny\u001b[0m\u001b[0;34m:\u001b[0m\u001b[0;34m\u001b[0m\u001b[0;34m\u001b[0m\u001b[0m\n",
            "\u001b[0;32m/usr/local/lib/python3.12/dist-packages/langchain_classic/chains/base.py\u001b[0m in \u001b[0;36m__call__\u001b[0;34m(self, inputs, return_only_outputs, callbacks, tags, metadata, run_name, include_run_info)\u001b[0m\n\u001b[1;32m    411\u001b[0m         }\n\u001b[1;32m    412\u001b[0m \u001b[0;34m\u001b[0m\u001b[0m\n\u001b[0;32m--> 413\u001b[0;31m         return self.invoke(\n\u001b[0m\u001b[1;32m    414\u001b[0m             \u001b[0minputs\u001b[0m\u001b[0;34m,\u001b[0m\u001b[0;34m\u001b[0m\u001b[0;34m\u001b[0m\u001b[0m\n\u001b[1;32m    415\u001b[0m             \u001b[0mcast\u001b[0m\u001b[0;34m(\u001b[0m\u001b[0;34m\"RunnableConfig\"\u001b[0m\u001b[0;34m,\u001b[0m \u001b[0;34m{\u001b[0m\u001b[0mk\u001b[0m\u001b[0;34m:\u001b[0m \u001b[0mv\u001b[0m \u001b[0;32mfor\u001b[0m \u001b[0mk\u001b[0m\u001b[0;34m,\u001b[0m \u001b[0mv\u001b[0m \u001b[0;32min\u001b[0m \u001b[0mconfig\u001b[0m\u001b[0;34m.\u001b[0m\u001b[0mitems\u001b[0m\u001b[0;34m(\u001b[0m\u001b[0;34m)\u001b[0m \u001b[0;32mif\u001b[0m \u001b[0mv\u001b[0m \u001b[0;32mis\u001b[0m \u001b[0;32mnot\u001b[0m \u001b[0;32mNone\u001b[0m\u001b[0;34m}\u001b[0m\u001b[0;34m)\u001b[0m\u001b[0;34m,\u001b[0m\u001b[0;34m\u001b[0m\u001b[0;34m\u001b[0m\u001b[0m\n",
            "\u001b[0;32m/usr/local/lib/python3.12/dist-packages/langchain_classic/chains/base.py\u001b[0m in \u001b[0;36minvoke\u001b[0;34m(self, input, config, **kwargs)\u001b[0m\n\u001b[1;32m    165\u001b[0m             \u001b[0mself\u001b[0m\u001b[0;34m.\u001b[0m\u001b[0m_validate_inputs\u001b[0m\u001b[0;34m(\u001b[0m\u001b[0minputs\u001b[0m\u001b[0;34m)\u001b[0m\u001b[0;34m\u001b[0m\u001b[0;34m\u001b[0m\u001b[0m\n\u001b[1;32m    166\u001b[0m             outputs = (\n\u001b[0;32m--> 167\u001b[0;31m                 \u001b[0mself\u001b[0m\u001b[0;34m.\u001b[0m\u001b[0m_call\u001b[0m\u001b[0;34m(\u001b[0m\u001b[0minputs\u001b[0m\u001b[0;34m,\u001b[0m \u001b[0mrun_manager\u001b[0m\u001b[0;34m=\u001b[0m\u001b[0mrun_manager\u001b[0m\u001b[0;34m)\u001b[0m\u001b[0;34m\u001b[0m\u001b[0;34m\u001b[0m\u001b[0m\n\u001b[0m\u001b[1;32m    168\u001b[0m                 \u001b[0;32mif\u001b[0m \u001b[0mnew_arg_supported\u001b[0m\u001b[0;34m\u001b[0m\u001b[0;34m\u001b[0m\u001b[0m\n\u001b[1;32m    169\u001b[0m                 \u001b[0;32melse\u001b[0m \u001b[0mself\u001b[0m\u001b[0;34m.\u001b[0m\u001b[0m_call\u001b[0m\u001b[0;34m(\u001b[0m\u001b[0minputs\u001b[0m\u001b[0;34m)\u001b[0m\u001b[0;34m\u001b[0m\u001b[0;34m\u001b[0m\u001b[0m\n",
            "\u001b[0;32m/usr/local/lib/python3.12/dist-packages/langchain_classic/chains/combine_documents/base.py\u001b[0m in \u001b[0;36m_call\u001b[0;34m(self, inputs, run_manager)\u001b[0m\n\u001b[1;32m    145\u001b[0m         \u001b[0;31m# Other keys are assumed to be needed for LLM prediction\u001b[0m\u001b[0;34m\u001b[0m\u001b[0;34m\u001b[0m\u001b[0m\n\u001b[1;32m    146\u001b[0m         \u001b[0mother_keys\u001b[0m \u001b[0;34m=\u001b[0m \u001b[0;34m{\u001b[0m\u001b[0mk\u001b[0m\u001b[0;34m:\u001b[0m \u001b[0mv\u001b[0m \u001b[0;32mfor\u001b[0m \u001b[0mk\u001b[0m\u001b[0;34m,\u001b[0m \u001b[0mv\u001b[0m \u001b[0;32min\u001b[0m \u001b[0minputs\u001b[0m\u001b[0;34m.\u001b[0m\u001b[0mitems\u001b[0m\u001b[0;34m(\u001b[0m\u001b[0;34m)\u001b[0m \u001b[0;32mif\u001b[0m \u001b[0mk\u001b[0m \u001b[0;34m!=\u001b[0m \u001b[0mself\u001b[0m\u001b[0;34m.\u001b[0m\u001b[0minput_key\u001b[0m\u001b[0;34m}\u001b[0m\u001b[0;34m\u001b[0m\u001b[0;34m\u001b[0m\u001b[0m\n\u001b[0;32m--> 147\u001b[0;31m         output, extra_return_dict = self.combine_docs(\n\u001b[0m\u001b[1;32m    148\u001b[0m             \u001b[0mdocs\u001b[0m\u001b[0;34m,\u001b[0m\u001b[0;34m\u001b[0m\u001b[0;34m\u001b[0m\u001b[0m\n\u001b[1;32m    149\u001b[0m             \u001b[0mcallbacks\u001b[0m\u001b[0;34m=\u001b[0m\u001b[0m_run_manager\u001b[0m\u001b[0;34m.\u001b[0m\u001b[0mget_child\u001b[0m\u001b[0;34m(\u001b[0m\u001b[0;34m)\u001b[0m\u001b[0;34m,\u001b[0m\u001b[0;34m\u001b[0m\u001b[0;34m\u001b[0m\u001b[0m\n",
            "\u001b[0;32m/usr/local/lib/python3.12/dist-packages/langchain_classic/chains/combine_documents/stuff.py\u001b[0m in \u001b[0;36mcombine_docs\u001b[0;34m(self, docs, callbacks, **kwargs)\u001b[0m\n\u001b[1;32m    264\u001b[0m         \u001b[0minputs\u001b[0m \u001b[0;34m=\u001b[0m \u001b[0mself\u001b[0m\u001b[0;34m.\u001b[0m\u001b[0m_get_inputs\u001b[0m\u001b[0;34m(\u001b[0m\u001b[0mdocs\u001b[0m\u001b[0;34m,\u001b[0m \u001b[0;34m**\u001b[0m\u001b[0mkwargs\u001b[0m\u001b[0;34m)\u001b[0m\u001b[0;34m\u001b[0m\u001b[0;34m\u001b[0m\u001b[0m\n\u001b[1;32m    265\u001b[0m         \u001b[0;31m# Call predict on the LLM.\u001b[0m\u001b[0;34m\u001b[0m\u001b[0;34m\u001b[0m\u001b[0m\n\u001b[0;32m--> 266\u001b[0;31m         \u001b[0;32mreturn\u001b[0m \u001b[0mself\u001b[0m\u001b[0;34m.\u001b[0m\u001b[0mllm_chain\u001b[0m\u001b[0;34m.\u001b[0m\u001b[0mpredict\u001b[0m\u001b[0;34m(\u001b[0m\u001b[0mcallbacks\u001b[0m\u001b[0;34m=\u001b[0m\u001b[0mcallbacks\u001b[0m\u001b[0;34m,\u001b[0m \u001b[0;34m**\u001b[0m\u001b[0minputs\u001b[0m\u001b[0;34m)\u001b[0m\u001b[0;34m,\u001b[0m \u001b[0;34m{\u001b[0m\u001b[0;34m}\u001b[0m\u001b[0;34m\u001b[0m\u001b[0;34m\u001b[0m\u001b[0m\n\u001b[0m\u001b[1;32m    267\u001b[0m \u001b[0;34m\u001b[0m\u001b[0m\n\u001b[1;32m    268\u001b[0m     async def acombine_docs(\n",
            "\u001b[0;32m/usr/local/lib/python3.12/dist-packages/langchain_classic/chains/llm.py\u001b[0m in \u001b[0;36mpredict\u001b[0;34m(self, callbacks, **kwargs)\u001b[0m\n\u001b[1;32m    319\u001b[0m             \u001b[0;31m`\u001b[0m\u001b[0;31m`\u001b[0m\u001b[0;31m`\u001b[0m\u001b[0;34m\u001b[0m\u001b[0;34m\u001b[0m\u001b[0m\n\u001b[1;32m    320\u001b[0m         \"\"\"\n\u001b[0;32m--> 321\u001b[0;31m         \u001b[0;32mreturn\u001b[0m \u001b[0mself\u001b[0m\u001b[0;34m(\u001b[0m\u001b[0mkwargs\u001b[0m\u001b[0;34m,\u001b[0m \u001b[0mcallbacks\u001b[0m\u001b[0;34m=\u001b[0m\u001b[0mcallbacks\u001b[0m\u001b[0;34m)\u001b[0m\u001b[0;34m[\u001b[0m\u001b[0mself\u001b[0m\u001b[0;34m.\u001b[0m\u001b[0moutput_key\u001b[0m\u001b[0;34m]\u001b[0m\u001b[0;34m\u001b[0m\u001b[0;34m\u001b[0m\u001b[0m\n\u001b[0m\u001b[1;32m    322\u001b[0m \u001b[0;34m\u001b[0m\u001b[0m\n\u001b[1;32m    323\u001b[0m     \u001b[0;32masync\u001b[0m \u001b[0;32mdef\u001b[0m \u001b[0mapredict\u001b[0m\u001b[0;34m(\u001b[0m\u001b[0mself\u001b[0m\u001b[0;34m,\u001b[0m \u001b[0mcallbacks\u001b[0m\u001b[0;34m:\u001b[0m \u001b[0mCallbacks\u001b[0m \u001b[0;34m=\u001b[0m \u001b[0;32mNone\u001b[0m\u001b[0;34m,\u001b[0m \u001b[0;34m**\u001b[0m\u001b[0mkwargs\u001b[0m\u001b[0;34m:\u001b[0m \u001b[0mAny\u001b[0m\u001b[0;34m)\u001b[0m \u001b[0;34m->\u001b[0m \u001b[0mstr\u001b[0m\u001b[0;34m:\u001b[0m\u001b[0;34m\u001b[0m\u001b[0;34m\u001b[0m\u001b[0m\n",
            "\u001b[0;32m/usr/local/lib/python3.12/dist-packages/langchain_core/_api/deprecation.py\u001b[0m in \u001b[0;36mwarning_emitting_wrapper\u001b[0;34m(*args, **kwargs)\u001b[0m\n\u001b[1;32m    186\u001b[0m                 \u001b[0mwarned\u001b[0m \u001b[0;34m=\u001b[0m \u001b[0;32mTrue\u001b[0m\u001b[0;34m\u001b[0m\u001b[0;34m\u001b[0m\u001b[0m\n\u001b[1;32m    187\u001b[0m                 \u001b[0memit_warning\u001b[0m\u001b[0;34m(\u001b[0m\u001b[0;34m)\u001b[0m\u001b[0;34m\u001b[0m\u001b[0;34m\u001b[0m\u001b[0m\n\u001b[0;32m--> 188\u001b[0;31m             \u001b[0;32mreturn\u001b[0m \u001b[0mwrapped\u001b[0m\u001b[0;34m(\u001b[0m\u001b[0;34m*\u001b[0m\u001b[0margs\u001b[0m\u001b[0;34m,\u001b[0m \u001b[0;34m**\u001b[0m\u001b[0mkwargs\u001b[0m\u001b[0;34m)\u001b[0m\u001b[0;34m\u001b[0m\u001b[0;34m\u001b[0m\u001b[0m\n\u001b[0m\u001b[1;32m    189\u001b[0m \u001b[0;34m\u001b[0m\u001b[0m\n\u001b[1;32m    190\u001b[0m         \u001b[0;32masync\u001b[0m \u001b[0;32mdef\u001b[0m \u001b[0mawarning_emitting_wrapper\u001b[0m\u001b[0;34m(\u001b[0m\u001b[0;34m*\u001b[0m\u001b[0margs\u001b[0m\u001b[0;34m:\u001b[0m \u001b[0mAny\u001b[0m\u001b[0;34m,\u001b[0m \u001b[0;34m**\u001b[0m\u001b[0mkwargs\u001b[0m\u001b[0;34m:\u001b[0m \u001b[0mAny\u001b[0m\u001b[0;34m)\u001b[0m \u001b[0;34m->\u001b[0m \u001b[0mAny\u001b[0m\u001b[0;34m:\u001b[0m\u001b[0;34m\u001b[0m\u001b[0;34m\u001b[0m\u001b[0m\n",
            "\u001b[0;32m/usr/local/lib/python3.12/dist-packages/langchain_classic/chains/base.py\u001b[0m in \u001b[0;36m__call__\u001b[0;34m(self, inputs, return_only_outputs, callbacks, tags, metadata, run_name, include_run_info)\u001b[0m\n\u001b[1;32m    411\u001b[0m         }\n\u001b[1;32m    412\u001b[0m \u001b[0;34m\u001b[0m\u001b[0m\n\u001b[0;32m--> 413\u001b[0;31m         return self.invoke(\n\u001b[0m\u001b[1;32m    414\u001b[0m             \u001b[0minputs\u001b[0m\u001b[0;34m,\u001b[0m\u001b[0;34m\u001b[0m\u001b[0;34m\u001b[0m\u001b[0m\n\u001b[1;32m    415\u001b[0m             \u001b[0mcast\u001b[0m\u001b[0;34m(\u001b[0m\u001b[0;34m\"RunnableConfig\"\u001b[0m\u001b[0;34m,\u001b[0m \u001b[0;34m{\u001b[0m\u001b[0mk\u001b[0m\u001b[0;34m:\u001b[0m \u001b[0mv\u001b[0m \u001b[0;32mfor\u001b[0m \u001b[0mk\u001b[0m\u001b[0;34m,\u001b[0m \u001b[0mv\u001b[0m \u001b[0;32min\u001b[0m \u001b[0mconfig\u001b[0m\u001b[0;34m.\u001b[0m\u001b[0mitems\u001b[0m\u001b[0;34m(\u001b[0m\u001b[0;34m)\u001b[0m \u001b[0;32mif\u001b[0m \u001b[0mv\u001b[0m \u001b[0;32mis\u001b[0m \u001b[0;32mnot\u001b[0m \u001b[0;32mNone\u001b[0m\u001b[0;34m}\u001b[0m\u001b[0;34m)\u001b[0m\u001b[0;34m,\u001b[0m\u001b[0;34m\u001b[0m\u001b[0;34m\u001b[0m\u001b[0m\n",
            "\u001b[0;32m/usr/local/lib/python3.12/dist-packages/langchain_classic/chains/base.py\u001b[0m in \u001b[0;36minvoke\u001b[0;34m(self, input, config, **kwargs)\u001b[0m\n\u001b[1;32m    165\u001b[0m             \u001b[0mself\u001b[0m\u001b[0;34m.\u001b[0m\u001b[0m_validate_inputs\u001b[0m\u001b[0;34m(\u001b[0m\u001b[0minputs\u001b[0m\u001b[0;34m)\u001b[0m\u001b[0;34m\u001b[0m\u001b[0;34m\u001b[0m\u001b[0m\n\u001b[1;32m    166\u001b[0m             outputs = (\n\u001b[0;32m--> 167\u001b[0;31m                 \u001b[0mself\u001b[0m\u001b[0;34m.\u001b[0m\u001b[0m_call\u001b[0m\u001b[0;34m(\u001b[0m\u001b[0minputs\u001b[0m\u001b[0;34m,\u001b[0m \u001b[0mrun_manager\u001b[0m\u001b[0;34m=\u001b[0m\u001b[0mrun_manager\u001b[0m\u001b[0;34m)\u001b[0m\u001b[0;34m\u001b[0m\u001b[0;34m\u001b[0m\u001b[0m\n\u001b[0m\u001b[1;32m    168\u001b[0m                 \u001b[0;32mif\u001b[0m \u001b[0mnew_arg_supported\u001b[0m\u001b[0;34m\u001b[0m\u001b[0;34m\u001b[0m\u001b[0m\n\u001b[1;32m    169\u001b[0m                 \u001b[0;32melse\u001b[0m \u001b[0mself\u001b[0m\u001b[0;34m.\u001b[0m\u001b[0m_call\u001b[0m\u001b[0;34m(\u001b[0m\u001b[0minputs\u001b[0m\u001b[0;34m)\u001b[0m\u001b[0;34m\u001b[0m\u001b[0;34m\u001b[0m\u001b[0m\n",
            "\u001b[0;32m/usr/local/lib/python3.12/dist-packages/langchain_classic/chains/llm.py\u001b[0m in \u001b[0;36m_call\u001b[0;34m(self, inputs, run_manager)\u001b[0m\n\u001b[1;32m    121\u001b[0m         \u001b[0mrun_manager\u001b[0m\u001b[0;34m:\u001b[0m \u001b[0mCallbackManagerForChainRun\u001b[0m \u001b[0;34m|\u001b[0m \u001b[0;32mNone\u001b[0m \u001b[0;34m=\u001b[0m \u001b[0;32mNone\u001b[0m\u001b[0;34m,\u001b[0m\u001b[0;34m\u001b[0m\u001b[0;34m\u001b[0m\u001b[0m\n\u001b[1;32m    122\u001b[0m     ) -> dict[str, str]:\n\u001b[0;32m--> 123\u001b[0;31m         \u001b[0mresponse\u001b[0m \u001b[0;34m=\u001b[0m \u001b[0mself\u001b[0m\u001b[0;34m.\u001b[0m\u001b[0mgenerate\u001b[0m\u001b[0;34m(\u001b[0m\u001b[0;34m[\u001b[0m\u001b[0minputs\u001b[0m\u001b[0;34m]\u001b[0m\u001b[0;34m,\u001b[0m \u001b[0mrun_manager\u001b[0m\u001b[0;34m=\u001b[0m\u001b[0mrun_manager\u001b[0m\u001b[0;34m)\u001b[0m\u001b[0;34m\u001b[0m\u001b[0;34m\u001b[0m\u001b[0m\n\u001b[0m\u001b[1;32m    124\u001b[0m         \u001b[0;32mreturn\u001b[0m \u001b[0mself\u001b[0m\u001b[0;34m.\u001b[0m\u001b[0mcreate_outputs\u001b[0m\u001b[0;34m(\u001b[0m\u001b[0mresponse\u001b[0m\u001b[0;34m)\u001b[0m\u001b[0;34m[\u001b[0m\u001b[0;36m0\u001b[0m\u001b[0;34m]\u001b[0m\u001b[0;34m\u001b[0m\u001b[0;34m\u001b[0m\u001b[0m\n\u001b[1;32m    125\u001b[0m \u001b[0;34m\u001b[0m\u001b[0m\n",
            "\u001b[0;32m/usr/local/lib/python3.12/dist-packages/langchain_classic/chains/llm.py\u001b[0m in \u001b[0;36mgenerate\u001b[0;34m(self, input_list, run_manager)\u001b[0m\n\u001b[1;32m    133\u001b[0m         \u001b[0mcallbacks\u001b[0m \u001b[0;34m=\u001b[0m \u001b[0mrun_manager\u001b[0m\u001b[0;34m.\u001b[0m\u001b[0mget_child\u001b[0m\u001b[0;34m(\u001b[0m\u001b[0;34m)\u001b[0m \u001b[0;32mif\u001b[0m \u001b[0mrun_manager\u001b[0m \u001b[0;32melse\u001b[0m \u001b[0;32mNone\u001b[0m\u001b[0;34m\u001b[0m\u001b[0;34m\u001b[0m\u001b[0m\n\u001b[1;32m    134\u001b[0m         \u001b[0;32mif\u001b[0m \u001b[0misinstance\u001b[0m\u001b[0;34m(\u001b[0m\u001b[0mself\u001b[0m\u001b[0;34m.\u001b[0m\u001b[0mllm\u001b[0m\u001b[0;34m,\u001b[0m \u001b[0mBaseLanguageModel\u001b[0m\u001b[0;34m)\u001b[0m\u001b[0;34m:\u001b[0m\u001b[0;34m\u001b[0m\u001b[0;34m\u001b[0m\u001b[0m\n\u001b[0;32m--> 135\u001b[0;31m             return self.llm.generate_prompt(\n\u001b[0m\u001b[1;32m    136\u001b[0m                 \u001b[0mprompts\u001b[0m\u001b[0;34m,\u001b[0m\u001b[0;34m\u001b[0m\u001b[0;34m\u001b[0m\u001b[0m\n\u001b[1;32m    137\u001b[0m                 \u001b[0mstop\u001b[0m\u001b[0;34m,\u001b[0m\u001b[0;34m\u001b[0m\u001b[0;34m\u001b[0m\u001b[0m\n",
            "\u001b[0;32m/usr/local/lib/python3.12/dist-packages/langchain_core/language_models/chat_models.py\u001b[0m in \u001b[0;36mgenerate_prompt\u001b[0;34m(self, prompts, stop, callbacks, **kwargs)\u001b[0m\n\u001b[1;32m   1086\u001b[0m     ) -> LLMResult:\n\u001b[1;32m   1087\u001b[0m         \u001b[0mprompt_messages\u001b[0m \u001b[0;34m=\u001b[0m \u001b[0;34m[\u001b[0m\u001b[0mp\u001b[0m\u001b[0;34m.\u001b[0m\u001b[0mto_messages\u001b[0m\u001b[0;34m(\u001b[0m\u001b[0;34m)\u001b[0m \u001b[0;32mfor\u001b[0m \u001b[0mp\u001b[0m \u001b[0;32min\u001b[0m \u001b[0mprompts\u001b[0m\u001b[0;34m]\u001b[0m\u001b[0;34m\u001b[0m\u001b[0;34m\u001b[0m\u001b[0m\n\u001b[0;32m-> 1088\u001b[0;31m         \u001b[0;32mreturn\u001b[0m \u001b[0mself\u001b[0m\u001b[0;34m.\u001b[0m\u001b[0mgenerate\u001b[0m\u001b[0;34m(\u001b[0m\u001b[0mprompt_messages\u001b[0m\u001b[0;34m,\u001b[0m \u001b[0mstop\u001b[0m\u001b[0;34m=\u001b[0m\u001b[0mstop\u001b[0m\u001b[0;34m,\u001b[0m \u001b[0mcallbacks\u001b[0m\u001b[0;34m=\u001b[0m\u001b[0mcallbacks\u001b[0m\u001b[0;34m,\u001b[0m \u001b[0;34m**\u001b[0m\u001b[0mkwargs\u001b[0m\u001b[0;34m)\u001b[0m\u001b[0;34m\u001b[0m\u001b[0;34m\u001b[0m\u001b[0m\n\u001b[0m\u001b[1;32m   1089\u001b[0m \u001b[0;34m\u001b[0m\u001b[0m\n\u001b[1;32m   1090\u001b[0m     \u001b[0;34m@\u001b[0m\u001b[0moverride\u001b[0m\u001b[0;34m\u001b[0m\u001b[0;34m\u001b[0m\u001b[0m\n",
            "\u001b[0;32m/usr/local/lib/python3.12/dist-packages/langchain_core/language_models/chat_models.py\u001b[0m in \u001b[0;36mgenerate\u001b[0;34m(self, messages, stop, callbacks, tags, metadata, run_name, run_id, **kwargs)\u001b[0m\n\u001b[1;32m    901\u001b[0m             \u001b[0;32mtry\u001b[0m\u001b[0;34m:\u001b[0m\u001b[0;34m\u001b[0m\u001b[0;34m\u001b[0m\u001b[0m\n\u001b[1;32m    902\u001b[0m                 results.append(\n\u001b[0;32m--> 903\u001b[0;31m                     self._generate_with_cache(\n\u001b[0m\u001b[1;32m    904\u001b[0m                         \u001b[0mm\u001b[0m\u001b[0;34m,\u001b[0m\u001b[0;34m\u001b[0m\u001b[0;34m\u001b[0m\u001b[0m\n\u001b[1;32m    905\u001b[0m                         \u001b[0mstop\u001b[0m\u001b[0;34m=\u001b[0m\u001b[0mstop\u001b[0m\u001b[0;34m,\u001b[0m\u001b[0;34m\u001b[0m\u001b[0;34m\u001b[0m\u001b[0m\n",
            "\u001b[0;32m/usr/local/lib/python3.12/dist-packages/langchain_core/language_models/chat_models.py\u001b[0m in \u001b[0;36m_generate_with_cache\u001b[0;34m(self, messages, stop, run_manager, **kwargs)\u001b[0m\n\u001b[1;32m   1190\u001b[0m             \u001b[0mresult\u001b[0m \u001b[0;34m=\u001b[0m \u001b[0mgenerate_from_stream\u001b[0m\u001b[0;34m(\u001b[0m\u001b[0miter\u001b[0m\u001b[0;34m(\u001b[0m\u001b[0mchunks\u001b[0m\u001b[0;34m)\u001b[0m\u001b[0;34m)\u001b[0m\u001b[0;34m\u001b[0m\u001b[0;34m\u001b[0m\u001b[0m\n\u001b[1;32m   1191\u001b[0m         \u001b[0;32melif\u001b[0m \u001b[0minspect\u001b[0m\u001b[0;34m.\u001b[0m\u001b[0msignature\u001b[0m\u001b[0;34m(\u001b[0m\u001b[0mself\u001b[0m\u001b[0;34m.\u001b[0m\u001b[0m_generate\u001b[0m\u001b[0;34m)\u001b[0m\u001b[0;34m.\u001b[0m\u001b[0mparameters\u001b[0m\u001b[0;34m.\u001b[0m\u001b[0mget\u001b[0m\u001b[0;34m(\u001b[0m\u001b[0;34m\"run_manager\"\u001b[0m\u001b[0;34m)\u001b[0m\u001b[0;34m:\u001b[0m\u001b[0;34m\u001b[0m\u001b[0;34m\u001b[0m\u001b[0m\n\u001b[0;32m-> 1192\u001b[0;31m             result = self._generate(\n\u001b[0m\u001b[1;32m   1193\u001b[0m                 \u001b[0mmessages\u001b[0m\u001b[0;34m,\u001b[0m \u001b[0mstop\u001b[0m\u001b[0;34m=\u001b[0m\u001b[0mstop\u001b[0m\u001b[0;34m,\u001b[0m \u001b[0mrun_manager\u001b[0m\u001b[0;34m=\u001b[0m\u001b[0mrun_manager\u001b[0m\u001b[0;34m,\u001b[0m \u001b[0;34m**\u001b[0m\u001b[0mkwargs\u001b[0m\u001b[0;34m\u001b[0m\u001b[0;34m\u001b[0m\u001b[0m\n\u001b[1;32m   1194\u001b[0m             )\n",
            "\u001b[0;32m/usr/local/lib/python3.12/dist-packages/langchain_openai/chat_models/base.py\u001b[0m in \u001b[0;36m_generate\u001b[0;34m(self, messages, stop, run_manager, **kwargs)\u001b[0m\n\u001b[1;32m   1304\u001b[0m         ):\n\u001b[1;32m   1305\u001b[0m             \u001b[0mgeneration_info\u001b[0m \u001b[0;34m=\u001b[0m \u001b[0;34m{\u001b[0m\u001b[0;34m\"headers\"\u001b[0m\u001b[0;34m:\u001b[0m \u001b[0mdict\u001b[0m\u001b[0;34m(\u001b[0m\u001b[0mraw_response\u001b[0m\u001b[0;34m.\u001b[0m\u001b[0mheaders\u001b[0m\u001b[0;34m)\u001b[0m\u001b[0;34m}\u001b[0m\u001b[0;34m\u001b[0m\u001b[0;34m\u001b[0m\u001b[0m\n\u001b[0;32m-> 1306\u001b[0;31m         \u001b[0;32mreturn\u001b[0m \u001b[0mself\u001b[0m\u001b[0;34m.\u001b[0m\u001b[0m_create_chat_result\u001b[0m\u001b[0;34m(\u001b[0m\u001b[0mresponse\u001b[0m\u001b[0;34m,\u001b[0m \u001b[0mgeneration_info\u001b[0m\u001b[0;34m)\u001b[0m\u001b[0;34m\u001b[0m\u001b[0;34m\u001b[0m\u001b[0m\n\u001b[0m\u001b[1;32m   1307\u001b[0m \u001b[0;34m\u001b[0m\u001b[0m\n\u001b[1;32m   1308\u001b[0m     \u001b[0;32mdef\u001b[0m \u001b[0m_use_responses_api\u001b[0m\u001b[0;34m(\u001b[0m\u001b[0mself\u001b[0m\u001b[0;34m,\u001b[0m \u001b[0mpayload\u001b[0m\u001b[0;34m:\u001b[0m \u001b[0mdict\u001b[0m\u001b[0;34m)\u001b[0m \u001b[0;34m->\u001b[0m \u001b[0mbool\u001b[0m\u001b[0;34m:\u001b[0m\u001b[0;34m\u001b[0m\u001b[0;34m\u001b[0m\u001b[0m\n",
            "\u001b[0;32m/usr/local/lib/python3.12/dist-packages/langchain_openai/chat_models/azure.py\u001b[0m in \u001b[0;36m_create_chat_result\u001b[0;34m(self, response, generation_info)\u001b[0m\n\u001b[1;32m    759\u001b[0m                     \u001b[0;34m\"being triggered\"\u001b[0m\u001b[0;34m\u001b[0m\u001b[0;34m\u001b[0m\u001b[0m\n\u001b[1;32m    760\u001b[0m                 )\n\u001b[0;32m--> 761\u001b[0;31m                 \u001b[0;32mraise\u001b[0m \u001b[0mValueError\u001b[0m\u001b[0;34m(\u001b[0m\u001b[0mmsg\u001b[0m\u001b[0;34m)\u001b[0m\u001b[0;34m\u001b[0m\u001b[0;34m\u001b[0m\u001b[0m\n\u001b[0m\u001b[1;32m    762\u001b[0m \u001b[0;34m\u001b[0m\u001b[0m\n\u001b[1;32m    763\u001b[0m         \u001b[0;32mif\u001b[0m \u001b[0;34m\"model\"\u001b[0m \u001b[0;32min\u001b[0m \u001b[0mresponse\u001b[0m\u001b[0;34m:\u001b[0m\u001b[0;34m\u001b[0m\u001b[0;34m\u001b[0m\u001b[0m\n",
            "\u001b[0;31mValueError\u001b[0m: Azure has not provided the response due to a content filter being triggered"
          ]
        }
      ]
    },
    {
      "cell_type": "code",
      "source": [
        "query = 'who is the king of belgium at that time?'\n",
        "answer = chain.invoke(query)\n",
        "print(answer)"
      ],
      "metadata": {
        "colab": {
          "base_uri": "https://localhost:8080/"
        },
        "id": "4ZqyISuFuu9s",
        "outputId": "53fe69cf-fe82-42fb-bdc6-15766a042a27"
      },
      "execution_count": 18,
      "outputs": [
        {
          "output_type": "stream",
          "name": "stdout",
          "text": [
            "{'query': 'who is the king of belgium at that time?', 'result': 'The King of Belgium at that time was **King Leopold III**.'}\n"
          ]
        }
      ]
    },
    {
      "cell_type": "code",
      "source": [
        "query = 'what about the french armies?'\n",
        "answer = chain.run(query)\n",
        "print(answer)"
      ],
      "metadata": {
        "colab": {
          "base_uri": "https://localhost:8080/"
        },
        "id": "PKLk9ePKu70L",
        "outputId": "0d79c065-e55c-48ae-f3a0-e1e6f420f96e"
      },
      "execution_count": 19,
      "outputs": [
        {
          "output_type": "stream",
          "name": "stderr",
          "text": [
            "/tmp/ipython-input-3011605181.py:2: LangChainDeprecationWarning: The method `Chain.run` was deprecated in langchain-classic 0.1.0 and will be removed in 1.0. Use `invoke` instead.\n",
            "  answer = chain.run(query)\n"
          ]
        },
        {
          "output_type": "stream",
          "name": "stdout",
          "text": [
            "The French armies were intended to advance across the Somme in great strength to support Belgium and counter the German offensive. However, the German forces executed a rapid and overwhelming mechanized attack, cutting off communications between the French armies and the northern forces. This German advance severed supply lines for food and ammunition and isolated the French armies from their allies. The French armies were unable to effectively respond to the swift and coordinated German assault, which swept through key locations like Amiens, Abbeville, Boulogne, Calais, and almost reached Dunkirk.\n"
          ]
        }
      ]
    },
    {
      "cell_type": "code",
      "source": [
        "query = 'who is the prime minister of india at that time?'\n",
        "answer = chain.invoke(query)\n",
        "print(answer)"
      ],
      "metadata": {
        "colab": {
          "base_uri": "https://localhost:8080/"
        },
        "id": "LtspIVRG0l33",
        "outputId": "c8438a2e-2bb8-4163-90f5-24b2cd480d9b"
      },
      "execution_count": 20,
      "outputs": [
        {
          "output_type": "stream",
          "name": "stdout",
          "text": [
            "{'query': 'who is the prime minister of india at that time?', 'result': \"I don't know.\"}\n"
          ]
        }
      ]
    },
    {
      "cell_type": "code",
      "source": [
        "query = 'hello'\n",
        "answer = chain.invoke(query)\n",
        "print(answer)"
      ],
      "metadata": {
        "id": "ywyiJjBo0xpe",
        "outputId": "ddbfff86-07ce-492f-a563-cddab7eee140",
        "colab": {
          "base_uri": "https://localhost:8080/"
        }
      },
      "execution_count": 21,
      "outputs": [
        {
          "output_type": "stream",
          "name": "stdout",
          "text": [
            "{'query': 'hello', 'result': 'Hello! How can I assist you today?'}\n"
          ]
        }
      ]
    },
    {
      "cell_type": "code",
      "source": [
        "query = 'who is the prime minister of india at that time?'\n",
        "\n",
        "result = vectorstore.similarity_search_with_score(query , k=10)\n",
        "\n",
        "filter = [ doc for doc , score in result if score > 0.2]\n",
        "\n",
        "print(len(filter))\n",
        "\n",
        "k = len(filter)\n",
        "\n",
        "retriever = vectorstore.as_retriever(search_type=\"similarity\", search_kwargs={\"k\":max(k , 3)})\n",
        "\n",
        "chain = RetrievalQA.from_chain_type(llm=llm, chain_type=\"stuff\", retriever=retriever)\n",
        "\n",
        "answer = chain.invoke(query)\n",
        "print(answer)"
      ],
      "metadata": {
        "colab": {
          "base_uri": "https://localhost:8080/"
        },
        "id": "i-4DSlw2F2Fr",
        "outputId": "4b931b74-d13d-4b95-c448-0930fae478cf"
      },
      "execution_count": 22,
      "outputs": [
        {
          "output_type": "stream",
          "name": "stdout",
          "text": [
            "10\n",
            "{'query': 'who is the prime minister of india at that time?', 'result': \"I don't know. The context provided does not mention the time period or the Prime Minister of India.\"}\n"
          ]
        }
      ]
    },
    {
      "cell_type": "code",
      "source": [
        "query = 'what about the french armies?'\n",
        "answer = chain.run(query)\n",
        "print(answer)"
      ],
      "metadata": {
        "colab": {
          "base_uri": "https://localhost:8080/"
        },
        "id": "ia7e9511F3-L",
        "outputId": "49d6bfa8-8ce9-4df8-e161-a8636b167bc6"
      },
      "execution_count": 23,
      "outputs": [
        {
          "output_type": "stream",
          "name": "stdout",
          "text": [
            "The context mentions the French armies in relation to the German offensive during World War II. It states that the French had planned to advance across the Somme in great strength to support Belgium, but the German forces launched a rapid and overwhelming attack. This German offensive, involving eight or nine armored divisions, cut off communications between the Allied forces, including the French armies, and disrupted their supply lines for food and ammunition. The German forces advanced through key locations like Amiens, Abbeville, Boulogne, Calais, and almost reached Dunkirk, effectively isolating the French armies from the British forces.\n",
            "\n",
            "Additionally, the context briefly mentions the \"great French Army\" in the context of air defense, but does not provide further details about their specific actions or outcomes during this period.\n"
          ]
        }
      ]
    }
  ]
}