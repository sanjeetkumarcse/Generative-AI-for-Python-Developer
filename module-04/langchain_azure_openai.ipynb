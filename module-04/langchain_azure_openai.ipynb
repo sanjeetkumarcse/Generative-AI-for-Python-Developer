{
  "nbformat": 4,
  "nbformat_minor": 0,
  "metadata": {
    "colab": {
      "provenance": []
    },
    "kernelspec": {
      "name": "python3",
      "display_name": "Python 3"
    },
    "language_info": {
      "name": "python"
    }
  },
  "cells": [
    {
      "cell_type": "code",
      "execution_count": 1,
      "metadata": {
        "id": "LAAdwPoJXpMS"
      },
      "outputs": [],
      "source": [
        "#!pip install langchain openai"
      ]
    },
    {
      "cell_type": "code",
      "source": [
        "# Azure OpenAI\n",
        "AZURE_OPENAI_ENDPOINT = \"https://ai-new-agent-resource.openai.azure.com/\"\n",
        "AZURE_OPENAI_KEY = \"3KZOVIIWVSSadEQyVLMr722pVoXVOl6BvatHtqrAsnmSV06FL1SCJQQJ99BIACHYHv6XJ3w3AAAAACOGGKR1\"\n",
        "DEPLOYMENT_NAME = \"gpt-4o\""
      ],
      "metadata": {
        "id": "iR6Q9WdbYDHS"
      },
      "execution_count": 2,
      "outputs": []
    },
    {
      "cell_type": "code",
      "source": [
        "#!pip install langchain_community"
      ],
      "metadata": {
        "id": "e9PybBzaYhMp"
      },
      "execution_count": 3,
      "outputs": []
    },
    {
      "cell_type": "code",
      "source": [
        "from langchain.chat_models import AzureChatOpenAI"
      ],
      "metadata": {
        "id": "oGEMpFrJYKzs"
      },
      "execution_count": 5,
      "outputs": []
    },
    {
      "cell_type": "code",
      "source": [
        "llm = AzureChatOpenAI(\n",
        "    openai_api_base=AZURE_OPENAI_ENDPOINT,\n",
        "    openai_api_key=AZURE_OPENAI_KEY,\n",
        "    openai_api_version=\"2023-03-15-preview\",\n",
        "    deployment_name=DEPLOYMENT_NAME,\n",
        "    openai_api_type=\"azure\",\n",
        ")"
      ],
      "metadata": {
        "colab": {
          "base_uri": "https://localhost:8080/"
        },
        "id": "njocqqt2YeH9",
        "outputId": "2cde1694-a2fb-49e7-a82c-af4ef6bd0c22"
      },
      "execution_count": 11,
      "outputs": [
        {
          "output_type": "stream",
          "name": "stderr",
          "text": [
            "/usr/local/lib/python3.12/dist-packages/langchain_community/chat_models/azure_openai.py:174: UserWarning: As of openai>=1.0.0, Azure endpoints should be specified via the `azure_endpoint` param not `openai_api_base` (or alias `base_url`). Updating `openai_api_base` from https://ai-new-agent-resource.openai.azure.com/ to https://ai-new-agent-resource.openai.azure.com/openai.\n",
            "  warnings.warn(\n",
            "/usr/local/lib/python3.12/dist-packages/langchain_community/chat_models/azure_openai.py:181: UserWarning: As of openai>=1.0.0, if `deployment_name` (or alias `azure_deployment`) is specified then `openai_api_base` (or alias `base_url`) should not be. Instead use `deployment_name` (or alias `azure_deployment`) and `azure_endpoint`.\n",
            "  warnings.warn(\n",
            "/usr/local/lib/python3.12/dist-packages/langchain_community/chat_models/azure_openai.py:189: UserWarning: As of openai>=1.0.0, if `openai_api_base` (or alias `base_url`) is specified it is expected to be of the form https://example-resource.azure.openai.com/openai/deployments/example-deployment. Updating https://ai-new-agent-resource.openai.azure.com/ to https://ai-new-agent-resource.openai.azure.com/openai.\n",
            "  warnings.warn(\n"
          ]
        }
      ]
    },
    {
      "cell_type": "code",
      "source": [
        "from langchain.prompts import ChatPromptTemplate\n",
        "prompt_template = ChatPromptTemplate.from_template(\" You are a helpful assitant. \\n User: { user_input}\\n Assistant:\")\n",
        "print(prompt_template)"
      ],
      "metadata": {
        "colab": {
          "base_uri": "https://localhost:8080/"
        },
        "id": "X9WQGcgvZc56",
        "outputId": "908b198b-516a-4cd0-9d9c-77c599f7a0e6"
      },
      "execution_count": 12,
      "outputs": [
        {
          "output_type": "stream",
          "name": "stdout",
          "text": [
            "input_variables=[' user_input'] input_types={} partial_variables={} messages=[HumanMessagePromptTemplate(prompt=PromptTemplate(input_variables=[' user_input'], input_types={}, partial_variables={}, template=' You are a helpful assitant. \\n User: { user_input}\\n Assistant:'), additional_kwargs={})]\n"
          ]
        }
      ]
    },
    {
      "cell_type": "code",
      "source": [
        "from langchain.chains import LLMChain\n",
        "chain = LLMChain(llm=llm, prompt=prompt_template)"
      ],
      "metadata": {
        "id": "X0QSCmwAahlC"
      },
      "execution_count": 13,
      "outputs": []
    },
    {
      "cell_type": "code",
      "source": [
        "while True:\n",
        "  user_input = input(\"You: \")\n",
        "  if user_input == \"exit\":\n",
        "    break\n",
        "  response = chain.run(user_input)\n",
        "  print(\"Assistant: \", response)"
      ],
      "metadata": {
        "colab": {
          "base_uri": "https://localhost:8080/"
        },
        "id": "da8jAWaFaz_q",
        "outputId": "689ca9f9-8275-4926-93ac-ac535ad6782f"
      },
      "execution_count": 14,
      "outputs": [
        {
          "name": "stdout",
          "output_type": "stream",
          "text": [
            "You: Hi\n",
            "Assistant:  Hello! 😊 How can I assist you today?\n",
            "You: Tell ,me about delhi\n",
            "Assistant:  Certainly! Delhi is a vibrant and historically rich city that serves as the capital of India. It is one of the oldest cities in the world, with a history that spans thousands of years. Here's an overview of the city:\n",
            "\n",
            "### 1. **Geography and Administrative Setup**\n",
            "   - Delhi is situated in northern India, bordered by Haryana on three sides and Uttar Pradesh to the east.\n",
            "   - It is divided into two main parts:\n",
            "     - **Old Delhi**: Known for its historic landmarks, bustling bazaars, and traditional culture.\n",
            "     - **New Delhi**: Planned by British architect Edwin Lutyens in the early 20th century, it serves as the seat of the Indian government and features wide roads, formal gardens, and colonial-era buildings.\n",
            "   - Administratively, Delhi is a Union Territory with special status and is governed by both the central government and its own legislative assembly.\n",
            "\n",
            "### 2. **Historical Significance**\n",
            "   - Delhi has been the center of several powerful empires, including the Delhi Sultanate, Mughal Empire, and later the British colonial administration.\n",
            "   - It has been destroyed and rebuilt multiple times throughout history, earning it the nickname \"City of Cities.\"\n",
            "   - Famous historical events include the reign of Emperor Shah Jahan, who built the iconic Red Fort and Jama Masjid, and the Revolt of 1857, a major uprising against British rule.\n",
            "\n",
            "### 3. **Culture and Heritage**\n",
            "   - Delhi is a melting pot of cultures, languages, and traditions, reflecting the diversity of India.\n",
            "   - It is famous for its numerous monuments, such as:\n",
            "     - **Qutub Minar**: A UNESCO World Heritage Site and one of the tallest brick minarets in the world.\n",
            "     - **India Gate**: A war memorial dedicated to soldiers who died in World War I.\n",
            "     - **Humayun's Tomb**: A stunning Mughal-era mausoleum that inspired the design of the Taj Mahal.\n",
            "     - **Lotus Temple**: A modern architectural marvel shaped like a lotus flower.\n",
            "   - The city is also home to vibrant festivals like Diwali, Holi, Eid, and Navratri, which are celebrated with great enthusiasm.\n",
            "\n",
            "### 4. **Modern Delhi**\n",
            "   - Delhi is a rapidly growing metropolis and one of the most populous cities in the world.\n",
            "   - It is a hub for politics, commerce, education, and culture.\n",
            "   - The Delhi Metro system is one of the most efficient public transportation networks in India.\n",
            "   - Popular markets include Chandni Chowk, Sarojini Nagar, and Connaught Place, offering everything from traditional handicrafts to modern brands.\n",
            "\n",
            "### 5. **Food**\n",
            "   - Delhi is a paradise for food lovers, offering a mix of street food and fine dining options. Some must-try dishes include:\n",
            "     - Chole Bhature\n",
            "     - Butter Chicken\n",
            "     - Parathas from Paranthe Wali Gali\n",
            "     - Kebabs and biryani\n",
            "     - Golgappa (pani puri) and samosas\n",
            "\n",
            "### 6. **Climate**\n",
            "   - Delhi has an extreme climate:\n",
            "     - Summers (April to June) are hot and dry, with temperatures soaring above 40°C (104°F).\n",
            "     - Winters (December to February) are chilly, with temperatures dropping to around 5°C (41°F).\n",
            "     - Monsoon (July to September) brings moderate rainfall.\n",
            "\n",
            "### 7. **Challenges**\n",
            "   - Delhi faces challenges like air pollution, traffic congestion, and rapid urbanization.\n",
            "   - Despite these issues, its historical charm and vibrant energy continue to attract millions of visitors from around the world.\n",
            "\n",
            "If you'd like to know more about any specific aspect of Delhi, feel free to ask! 😊\n",
            "You: exit\n"
          ]
        }
      ]
    },
    {
      "cell_type": "code",
      "source": [
        "from langchain.schema import SystemMessage, HumanMessage, AIMessage\n",
        "messages = [\n",
        "    SystemMessage(content=\"You are a helpful assistant.\"),\n",
        "    HumanMessage(content=\"What is the capital of France?\")\n",
        "]\n",
        "\n",
        "print(messages)\n",
        "Output = llm.invoke(messages)\n",
        "print(Output)\n",
        "print(Output.content)"
      ],
      "metadata": {
        "colab": {
          "base_uri": "https://localhost:8080/"
        },
        "id": "9aX8K3hVb6XD",
        "outputId": "e8fe2b14-c98e-446f-9d41-aae38e8c8da0"
      },
      "execution_count": 19,
      "outputs": [
        {
          "output_type": "stream",
          "name": "stdout",
          "text": [
            "[SystemMessage(content='You are a helpful assistant.', additional_kwargs={}, response_metadata={}), HumanMessage(content='What is the capital of France?', additional_kwargs={}, response_metadata={})]\n",
            "content='The capital of France is **Paris**.' additional_kwargs={} response_metadata={'token_usage': {'completion_tokens': 10, 'prompt_tokens': 24, 'total_tokens': 34, 'completion_tokens_details': {'accepted_prediction_tokens': 0, 'audio_tokens': 0, 'reasoning_tokens': 0, 'rejected_prediction_tokens': 0}, 'prompt_tokens_details': {'audio_tokens': 0, 'cached_tokens': 0}}, 'model_name': 'gpt-4o-2024-11-20', 'system_fingerprint': 'fp_ee1d74bde0', 'finish_reason': 'stop', 'logprobs': None} id='run--570d48be-f6b8-45ff-a60d-6fc21214c317-0'\n",
            "The capital of France is **Paris**.\n"
          ]
        }
      ]
    },
    {
      "cell_type": "code",
      "source": [
        "%%time\n",
        "prompt = \"Tell me a joke\"\n",
        "response = llm.invoke(prompt)\n",
        "print(response)"
      ],
      "metadata": {
        "colab": {
          "base_uri": "https://localhost:8080/"
        },
        "id": "8xT_lHrpjgB1",
        "outputId": "42ac489a-fa01-4997-e443-0986ec80d35b"
      },
      "execution_count": 20,
      "outputs": [
        {
          "output_type": "stream",
          "name": "stdout",
          "text": [
            "content=\"Sure! Here's one for you:\\n\\nWhy don’t skeletons fight each other?\\n\\nBecause they don’t have the guts!\" additional_kwargs={} response_metadata={'token_usage': {'completion_tokens': 25, 'prompt_tokens': 11, 'total_tokens': 36, 'completion_tokens_details': {'accepted_prediction_tokens': 0, 'audio_tokens': 0, 'reasoning_tokens': 0, 'rejected_prediction_tokens': 0}, 'prompt_tokens_details': {'audio_tokens': 0, 'cached_tokens': 0}}, 'model_name': 'gpt-4o-2024-11-20', 'system_fingerprint': 'fp_ee1d74bde0', 'finish_reason': 'stop', 'logprobs': None} id='run--a6caa1f7-914f-44bf-a2b9-b977500cd5c6-0'\n",
            "CPU times: user 13.3 ms, sys: 1.07 ms, total: 14.4 ms\n",
            "Wall time: 519 ms\n"
          ]
        }
      ]
    },
    {
      "cell_type": "code",
      "source": [
        "from langchain.globals import set_llm_cache\n",
        "from langchain.cache import InMemoryCache\n",
        "set_llm_cache(InMemoryCache())"
      ],
      "metadata": {
        "id": "uYic17EfkQYW"
      },
      "execution_count": 21,
      "outputs": []
    },
    {
      "cell_type": "code",
      "source": [
        "%%time\n",
        "prompt = \"Tell me a joke\"\n",
        "response = llm.invoke(prompt)\n",
        "print(response)"
      ],
      "metadata": {
        "colab": {
          "base_uri": "https://localhost:8080/"
        },
        "id": "7Y121S_WklaK",
        "outputId": "8794ca02-1544-4e62-a188-0e72da2e00c7"
      },
      "execution_count": 22,
      "outputs": [
        {
          "output_type": "stream",
          "name": "stdout",
          "text": [
            "content=\"Sure! Here's a fun one for you:\\n\\nWhy don’t skeletons fight each other?\\n\\nBecause they don’t have the guts! 🦴😄\" additional_kwargs={} response_metadata={'token_usage': {'completion_tokens': 32, 'prompt_tokens': 11, 'total_tokens': 43, 'completion_tokens_details': {'accepted_prediction_tokens': 0, 'audio_tokens': 0, 'reasoning_tokens': 0, 'rejected_prediction_tokens': 0}, 'prompt_tokens_details': {'audio_tokens': 0, 'cached_tokens': 0}}, 'model_name': 'gpt-4o-2024-11-20', 'system_fingerprint': 'fp_ee1d74bde0', 'finish_reason': 'stop', 'logprobs': None} id='run--63b3cd3f-2b4f-494a-a081-c812c878d650-0'\n",
            "CPU times: user 18.5 ms, sys: 0 ns, total: 18.5 ms\n",
            "Wall time: 602 ms\n"
          ]
        }
      ]
    },
    {
      "cell_type": "code",
      "source": [
        "%%time\n",
        "prompt = \"Tell me a joke\"\n",
        "response = llm.invoke(prompt)\n",
        "print(response)"
      ],
      "metadata": {
        "colab": {
          "base_uri": "https://localhost:8080/"
        },
        "id": "cuCAjSjHkrbS",
        "outputId": "f76df88b-448f-4c37-cefb-6af52c7372bd"
      },
      "execution_count": 23,
      "outputs": [
        {
          "output_type": "stream",
          "name": "stdout",
          "text": [
            "content=\"Sure! Here's a fun one for you:\\n\\nWhy don’t skeletons fight each other?\\n\\nBecause they don’t have the guts! 🦴😄\" additional_kwargs={} response_metadata={'token_usage': {'completion_tokens': 32, 'prompt_tokens': 11, 'total_tokens': 43, 'completion_tokens_details': {'accepted_prediction_tokens': 0, 'audio_tokens': 0, 'reasoning_tokens': 0, 'rejected_prediction_tokens': 0}, 'prompt_tokens_details': {'audio_tokens': 0, 'cached_tokens': 0}}, 'model_name': 'gpt-4o-2024-11-20', 'system_fingerprint': 'fp_ee1d74bde0', 'finish_reason': 'stop', 'logprobs': None} id='run--63b3cd3f-2b4f-494a-a081-c812c878d650-0' usage_metadata={'total_cost': 0}\n",
            "CPU times: user 1.7 ms, sys: 0 ns, total: 1.7 ms\n",
            "Wall time: 1.68 ms\n"
          ]
        }
      ]
    },
    {
      "cell_type": "code",
      "source": [
        "from langchain.cache import SQLiteCache\n",
        "set_llm_cache(SQLiteCache(database_path=\".langchain.db\"))"
      ],
      "metadata": {
        "id": "psm5ck6ik12o"
      },
      "execution_count": 24,
      "outputs": []
    },
    {
      "cell_type": "code",
      "source": [
        "%%time\n",
        "prompt = \"Tell me a joke\"\n",
        "response = llm.invoke(prompt)\n",
        "print(response)"
      ],
      "metadata": {
        "colab": {
          "base_uri": "https://localhost:8080/"
        },
        "id": "EtkVCIIZlHr-",
        "outputId": "12bd5f1a-b7a3-444a-b376-1fd3e68eb1f7"
      },
      "execution_count": 25,
      "outputs": [
        {
          "output_type": "stream",
          "name": "stdout",
          "text": [
            "content=\"Sure! Here's one:\\n\\nWhy don’t skeletons fight each other?\\n\\nBecause they don’t have the guts! 😄\" additional_kwargs={} response_metadata={'token_usage': {'completion_tokens': 25, 'prompt_tokens': 11, 'total_tokens': 36, 'completion_tokens_details': {'accepted_prediction_tokens': 0, 'audio_tokens': 0, 'reasoning_tokens': 0, 'rejected_prediction_tokens': 0}, 'prompt_tokens_details': {'audio_tokens': 0, 'cached_tokens': 0}}, 'model_name': 'gpt-4o-2024-11-20', 'system_fingerprint': 'fp_ee1d74bde0', 'finish_reason': 'stop', 'logprobs': None} id='run--cd79b3fd-86d2-4c90-8214-9f9d8f557653-0'\n",
            "CPU times: user 36 ms, sys: 139 µs, total: 36.2 ms\n",
            "Wall time: 566 ms\n"
          ]
        }
      ]
    },
    {
      "cell_type": "code",
      "source": [
        "%%time\n",
        "prompt = \"Tell me a joke\"\n",
        "response = llm.invoke(prompt)\n",
        "print(response)"
      ],
      "metadata": {
        "colab": {
          "base_uri": "https://localhost:8080/"
        },
        "id": "pBpkQLKDlLxH",
        "outputId": "669f9520-edf4-4ef8-b168-63eb947a889b"
      },
      "execution_count": 26,
      "outputs": [
        {
          "output_type": "stream",
          "name": "stdout",
          "text": [
            "content=\"Sure! Here's one:\\n\\nWhy don’t skeletons fight each other?\\n\\nBecause they don’t have the guts! 😄\" additional_kwargs={} response_metadata={'token_usage': {'completion_tokens': 25, 'prompt_tokens': 11, 'total_tokens': 36, 'completion_tokens_details': {'accepted_prediction_tokens': 0, 'audio_tokens': 0, 'reasoning_tokens': 0, 'rejected_prediction_tokens': 0}, 'prompt_tokens_details': {'audio_tokens': 0, 'cached_tokens': 0}}, 'model_name': 'gpt-4o-2024-11-20', 'system_fingerprint': 'fp_ee1d74bde0', 'finish_reason': 'stop', 'logprobs': None} id='run--cd79b3fd-86d2-4c90-8214-9f9d8f557653-0' usage_metadata={'total_cost': 0}\n",
            "CPU times: user 3.66 ms, sys: 0 ns, total: 3.66 ms\n",
            "Wall time: 3.5 ms\n"
          ]
        }
      ]
    },
    {
      "cell_type": "code",
      "source": [
        "%%time\n",
        "prompt = 'write a rock song about moon.'\n",
        "response = llm.invoke(prompt)\n",
        "print(response.content)"
      ],
      "metadata": {
        "colab": {
          "base_uri": "https://localhost:8080/"
        },
        "id": "7cDbCtNJlO0H",
        "outputId": "6661834b-6176-4866-9dfb-14f22917a529"
      },
      "execution_count": 27,
      "outputs": [
        {
          "output_type": "stream",
          "name": "stdout",
          "text": [
            "**\"Lunar Calling\"**\n",
            "\n",
            "*(Verse 1)*  \n",
            "Under the vast black velvet sky,  \n",
            "I see the moon, it’s my alibi.  \n",
            "Silver beams cut through the night,  \n",
            "Pulling me closer with its ancient light.  \n",
            "\n",
            "Oh, its craters hold the secrets untold,  \n",
            "Whispers of stories from ages old.  \n",
            "Gravity's pull, it’s got me hooked,  \n",
            "A cosmic dance, a page unwritten in the book.  \n",
            "\n",
            "*(Chorus)*  \n",
            "Moon, oh moon, you’re calling me home,  \n",
            "A beacon shining where the wild ones roam.  \n",
            "Through the dark, you light my way,  \n",
            "Chasing shadows till the break of day.  \n",
            "\n",
            "Moon, oh moon, in your quiet embrace,  \n",
            "I’m lost in the rhythm of celestial space.  \n",
            "Rising high like a tidal wave,  \n",
            "You’re the rebel that the night can’t tame.  \n",
            "\n",
            "*(Verse 2)*  \n",
            "Born to wander, I’m a soul set free,  \n",
            "But you’ve got a hold on gravity and me.  \n",
            "Ocean tides bow to your command,  \n",
            "You’re the queen of the sky, the ruler of this land.  \n",
            "\n",
            "I feel your pull like a magnet’s force,  \n",
            "Guiding my heart on a lunar course.  \n",
            "A midnight rider with stars in my eyes,  \n",
            "Chasing your glow till the sunrise dies.  \n",
            "\n",
            "*(Chorus)*  \n",
            "Moon, oh moon, you’re calling me home,  \n",
            "A beacon shining where the wild ones roam.  \n",
            "Through the dark, you light my way,  \n",
            "Chasing shadows till the break of day.  \n",
            "\n",
            "Moon, oh moon, in your quiet embrace,  \n",
            "I’m lost in the rhythm of celestial space.  \n",
            "Rising high like a tidal wave,  \n",
            "You’re the rebel that the night can’t tame.  \n",
            "\n",
            "*(Bridge)*  \n",
            "And when the world turns its back on me,  \n",
            "I’ll find my solace in your gravity.  \n",
            "You’re my compass, my northern star,  \n",
            "No matter how distant, no matter how far.  \n",
            "\n",
            "I’ll howl to you like wolves in the night,  \n",
            "A primal call to your glowing light.  \n",
            "In your orbit, I’ll always stay,  \n",
            "A dreamer drifting in lunar sway.  \n",
            "\n",
            "*(Chorus)*  \n",
            "Moon, oh moon, you’re calling me home,  \n",
            "A beacon shining where the wild ones roam.  \n",
            "Through the dark, you light my way,  \n",
            "Chasing shadows till the break of day.  \n",
            "\n",
            "Moon, oh moon, in your quiet embrace,  \n",
            "I’m lost in the rhythm of celestial space.  \n",
            "Rising high like a tidal wave,  \n",
            "You’re the rebel that the night can’t tame.  \n",
            "\n",
            "*(Outro)*  \n",
            "So shine on, moon, with your silver fire,  \n",
            "Fueling my heart with endless desire.  \n",
            "I’ll keep chasing you, through time and space,  \n",
            "Forever drawn to your glowing face.  \n",
            "CPU times: user 29.4 ms, sys: 1.23 ms, total: 30.6 ms\n",
            "Wall time: 6.23 s\n"
          ]
        }
      ]
    },
    {
      "cell_type": "code",
      "source": [
        "%%time\n",
        "prompt = 'write a rock song about moon.'\n",
        "response = llm.invoke(prompt)\n",
        "print(response.content)"
      ],
      "metadata": {
        "colab": {
          "base_uri": "https://localhost:8080/"
        },
        "id": "Z69iB2I-nLcH",
        "outputId": "0d6b84ed-f75a-42ee-d14f-3366c09a7c29"
      },
      "execution_count": 28,
      "outputs": [
        {
          "output_type": "stream",
          "name": "stdout",
          "text": [
            "**\"Lunar Calling\"**\n",
            "\n",
            "*(Verse 1)*  \n",
            "Under the vast black velvet sky,  \n",
            "I see the moon, it’s my alibi.  \n",
            "Silver beams cut through the night,  \n",
            "Pulling me closer with its ancient light.  \n",
            "\n",
            "Oh, its craters hold the secrets untold,  \n",
            "Whispers of stories from ages old.  \n",
            "Gravity's pull, it’s got me hooked,  \n",
            "A cosmic dance, a page unwritten in the book.  \n",
            "\n",
            "*(Chorus)*  \n",
            "Moon, oh moon, you’re calling me home,  \n",
            "A beacon shining where the wild ones roam.  \n",
            "Through the dark, you light my way,  \n",
            "Chasing shadows till the break of day.  \n",
            "\n",
            "Moon, oh moon, in your quiet embrace,  \n",
            "I’m lost in the rhythm of celestial space.  \n",
            "Rising high like a tidal wave,  \n",
            "You’re the rebel that the night can’t tame.  \n",
            "\n",
            "*(Verse 2)*  \n",
            "Born to wander, I’m a soul set free,  \n",
            "But you’ve got a hold on gravity and me.  \n",
            "Ocean tides bow to your command,  \n",
            "You’re the queen of the sky, the ruler of this land.  \n",
            "\n",
            "I feel your pull like a magnet’s force,  \n",
            "Guiding my heart on a lunar course.  \n",
            "A midnight rider with stars in my eyes,  \n",
            "Chasing your glow till the sunrise dies.  \n",
            "\n",
            "*(Chorus)*  \n",
            "Moon, oh moon, you’re calling me home,  \n",
            "A beacon shining where the wild ones roam.  \n",
            "Through the dark, you light my way,  \n",
            "Chasing shadows till the break of day.  \n",
            "\n",
            "Moon, oh moon, in your quiet embrace,  \n",
            "I’m lost in the rhythm of celestial space.  \n",
            "Rising high like a tidal wave,  \n",
            "You’re the rebel that the night can’t tame.  \n",
            "\n",
            "*(Bridge)*  \n",
            "And when the world turns its back on me,  \n",
            "I’ll find my solace in your gravity.  \n",
            "You’re my compass, my northern star,  \n",
            "No matter how distant, no matter how far.  \n",
            "\n",
            "I’ll howl to you like wolves in the night,  \n",
            "A primal call to your glowing light.  \n",
            "In your orbit, I’ll always stay,  \n",
            "A dreamer drifting in lunar sway.  \n",
            "\n",
            "*(Chorus)*  \n",
            "Moon, oh moon, you’re calling me home,  \n",
            "A beacon shining where the wild ones roam.  \n",
            "Through the dark, you light my way,  \n",
            "Chasing shadows till the break of day.  \n",
            "\n",
            "Moon, oh moon, in your quiet embrace,  \n",
            "I’m lost in the rhythm of celestial space.  \n",
            "Rising high like a tidal wave,  \n",
            "You’re the rebel that the night can’t tame.  \n",
            "\n",
            "*(Outro)*  \n",
            "So shine on, moon, with your silver fire,  \n",
            "Fueling my heart with endless desire.  \n",
            "I’ll keep chasing you, through time and space,  \n",
            "Forever drawn to your glowing face.  \n",
            "CPU times: user 3.1 ms, sys: 900 µs, total: 4 ms\n",
            "Wall time: 3.96 ms\n"
          ]
        }
      ]
    },
    {
      "cell_type": "code",
      "source": [
        "%%time\n",
        "prompt = 'write a rock song about moon and sun.'\n",
        "response = llm.invoke(prompt)\n",
        "print(response.content)"
      ],
      "metadata": {
        "colab": {
          "base_uri": "https://localhost:8080/"
        },
        "id": "C-4KKuywnTiW",
        "outputId": "2300946b-d988-4866-d1cd-aa15d2c92857"
      },
      "execution_count": 29,
      "outputs": [
        {
          "output_type": "stream",
          "name": "stdout",
          "text": [
            "**\"Dance of the Moon and Sun\"**  \n",
            "*(Rock Anthem)*  \n",
            "\n",
            "**[Verse 1]**  \n",
            "In the midnight sky, the moon takes its throne,  \n",
            "Casting silver light on the world alone.  \n",
            "She whispers secrets to the restless seas,  \n",
            "Dreams of freedom carried on the breeze.  \n",
            "\n",
            "The sun awakens, burning fierce and bright,  \n",
            "Chasing shadows, banishing the night.  \n",
            "With golden rays, it paints the earth alive,  \n",
            "A blazing beacon where the wild hearts thrive.  \n",
            "\n",
            "**[Pre-Chorus]**  \n",
            "They’re opposites, but they’re bound as one,  \n",
            "Locked in orbit, moon and sun.  \n",
            "A cosmic waltz, a timeless race,  \n",
            "Forever spinning in a fiery embrace.  \n",
            "\n",
            "**[Chorus]**  \n",
            "Oh, the moon and the sun collide,  \n",
            "In the heavens where shadows and flames reside.  \n",
            "They chase each other, round and round,  \n",
            "In the endless sky, no limit, no ground.  \n",
            "Dance of the moon and sun,  \n",
            "Forever chasing, never done.  \n",
            "\n",
            "**[Verse 2]**  \n",
            "The moon’s a poet, quiet and wise,  \n",
            "Her heart’s a mystery, hidden in her guise.  \n",
            "The sun’s a renegade, wild and free,  \n",
            "A roaring fire, the king of destiny.  \n",
            "\n",
            "They long to meet, but the day won’t yield,  \n",
            "Caught between the night and the battlefield.  \n",
            "Yet in the twilight, where their paths align,  \n",
            "They share a moment, a fleeting sign.  \n",
            "\n",
            "**[Pre-Chorus]**  \n",
            "They’re opposites, but they’re bound as one,  \n",
            "Locked in orbit, moon and sun.  \n",
            "A cosmic waltz, a timeless race,  \n",
            "Forever spinning in a fiery embrace.  \n",
            "\n",
            "**[Chorus]**  \n",
            "Oh, the moon and the sun collide,  \n",
            "In the heavens where shadows and flames reside.  \n",
            "They chase each other, round and round,  \n",
            "In the endless sky, no limit, no ground.  \n",
            "Dance of the moon and sun,  \n",
            "Forever chasing, never done.  \n",
            "\n",
            "**[Bridge]**  \n",
            "Someday the stars will fade away,  \n",
            "And the moon and sun will find their way.  \n",
            "No more running, no more divide,  \n",
            "They’ll rise together, side by side.  \n",
            "\n",
            "**[Chorus]**  \n",
            "Oh, the moon and the sun collide,  \n",
            "In the heavens where shadows and flames reside.  \n",
            "They chase each other, round and round,  \n",
            "In the endless sky, no limit, no ground.  \n",
            "Dance of the moon and sun,  \n",
            "Forever chasing, never done.  \n",
            "\n",
            "**[Outro]**  \n",
            "Moonlight and fire, a love untold,  \n",
            "A story written in skies of gold.  \n",
            "Through the ages, their dance will run,  \n",
            "Eternal lovers—the moon and the sun.  \n",
            "CPU times: user 21.8 ms, sys: 920 µs, total: 22.7 ms\n",
            "Wall time: 4.57 s\n"
          ]
        }
      ]
    },
    {
      "cell_type": "code",
      "source": [
        "%%time\n",
        "prompt = 'write a rock new song about moon and sun.'\n",
        "for chunk in llm.stream(prompt):\n",
        "  print(chunk.content, end=\"\", flush=True)"
      ],
      "metadata": {
        "colab": {
          "base_uri": "https://localhost:8080/"
        },
        "id": "IqwNWl6And_8",
        "outputId": "29b9444d-b7b7-4027-ff6e-e137c9e404e7"
      },
      "execution_count": 30,
      "outputs": [
        {
          "output_type": "stream",
          "name": "stdout",
          "text": [
            "**Title: \"Moon and Sun\"**\n",
            "\n",
            "*(Verse 1)*  \n",
            "In the still of the night, the moon takes the throne,  \n",
            "Ruling the shadows, a queen all alone.  \n",
            "Her silver light whispers secrets untold,  \n",
            "A quiet rebel, fierce and bold.  \n",
            "\n",
            "But the sun, oh the sun, he burns through the skies,  \n",
            "Chasing the darkness, igniting our lives.  \n",
            "A fiery king with a heart ablaze,  \n",
            "They’re opposites dancing through endless days.  \n",
            "\n",
            "*(Pre-Chorus)*  \n",
            "They’re caught in a cosmic game,  \n",
            "Forever circling, never the same.  \n",
            "Two lovers who can’t collide,  \n",
            "But still, they light the tide.  \n",
            "\n",
            "*(Chorus)*  \n",
            "Moon and Sun, chasing through the night,  \n",
            "Lost in the pull of each other’s light.  \n",
            "Bound by a force they can’t outrun,  \n",
            "The eternal dance of the Moon and Sun.  \n",
            "\n",
            "*(Verse 2)*  \n",
            "When the moon fades away, the sun takes the stage,  \n",
            "Painting the skies in a golden rage.  \n",
            "But deep down inside, they’re longing to meet,  \n",
            "Two kindred souls, incomplete.  \n",
            "\n",
            "She watches him rise, he sees her descend,  \n",
            "A love so vast it’ll never end.  \n",
            "But fate keeps them apart in the spinning sphere,  \n",
            "Still, their hearts whisper, \"We’re always near.\"  \n",
            "\n",
            "*(Pre-Chorus)*  \n",
            "They’re caught in a cosmic game,  \n",
            "Forever circling, never the same.  \n",
            "Two lovers who can’t collide,  \n",
            "But still, they light the tide.  \n",
            "\n",
            "*(Chorus)*  \n",
            "Moon and Sun, chasing through the night,  \n",
            "Lost in the pull of each other’s light.  \n",
            "Bound by a force they can’t outrun,  \n",
            "The eternal dance of the Moon and Sun.  \n",
            "\n",
            "*(Bridge)*  \n",
            "Oh, the stars, they know the truth,  \n",
            "Of the aching love in eternal youth.  \n",
            "Winds carry their silent cries,  \n",
            "Across the endless, boundless skies.  \n",
            "\n",
            "*(Solo)*  \n",
            "(Guitar wails like the cosmos singing their song, a mix of longing and hope.)  \n",
            "\n",
            "*(Chorus)*  \n",
            "Moon and Sun, chasing through the night,  \n",
            "Lost in the pull of each other’s light.  \n",
            "Bound by a force they can’t outrun,  \n",
            "The eternal dance of the Moon and Sun.  \n",
            "\n",
            "*(Outro)*  \n",
            "Round and round, the story goes,  \n",
            "The moon dreams of the sun’s bright glow.  \n",
            "And though they’ll never touch as one,  \n",
            "Their love will shine, Moon and Sun.CPU times: user 823 ms, sys: 82.5 ms, total: 906 ms\n",
            "Wall time: 4.43 s\n"
          ]
        }
      ]
    }
  ]
}