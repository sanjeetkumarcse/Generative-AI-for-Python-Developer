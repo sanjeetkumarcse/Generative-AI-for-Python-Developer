{
  "nbformat": 4,
  "nbformat_minor": 0,
  "metadata": {
    "colab": {
      "provenance": []
    },
    "kernelspec": {
      "name": "python3",
      "display_name": "Python 3"
    },
    "language_info": {
      "name": "python"
    }
  },
  "cells": [
    {
      "cell_type": "markdown",
      "source": [
        "# LangChain & Azure OpenAI Notebook"
      ],
      "metadata": {
        "id": "fmggxQMOsPW7"
      }
    },
    {
      "cell_type": "markdown",
      "source": [
        "# Table of Contents\n",
        "\n",
        "### Installation & Setup\n",
        "- `%pip install langchain langchain-community openai`  \n",
        "- `%pip install -q pdf2image pdfminer pypdf`  \n",
        "- Google Colab secrets for Azure OpenAI keys\n",
        "\n",
        "### Connect Azure OpenAI LLM\n",
        "- Initialize `AzureChatOpenAI` with endpoint, key, deployment, version, temperature\n",
        "\n",
        "### Prompt Templates\n",
        "- `PromptTemplate` and `ChatPromptTemplate`  \n",
        "- Placeholders `{problem}`, `{language}`, `{text}`  \n",
        "- `format()` and `format_prompt()`\n",
        "\n",
        "### LLMChain\n",
        "- Combine PromptTemplate with LLM  \n",
        "- `verbose=True` for debugging  \n",
        "- `run()` vs `invoke()`  \n",
        "\n",
        "### Pipelines with Output Parsers\n",
        "- `StrOutputParser` to extract plain text  \n",
        "- Use `|` operator to chain prompt → LLM → parser  \n",
        "\n",
        "### Sequential Chains\n",
        "- `SimpleSequentialChain` to chain multiple LLMChains sequentially  \n",
        "\n",
        "### Interactive Chat Loops\n",
        "- Basic input/output loop with `input()`  \n",
        "- Exit conditions: `exit`, `quit`, `bye`  \n",
        "- Conversation history and memory  \n",
        "\n",
        "### Conversation Memory\n",
        "- `ConversationBufferMemory` for multi-turn context  \n",
        "- `FileChatMessageHistory` for persistent memory  \n",
        "\n",
        "### Caching\n",
        "- `InMemoryCache` for temporary caching  \n",
        "- `SQLiteCache` for persistent caching  \n",
        "\n",
        "### Token Management\n",
        "- `llm.get_num_tokens()` for input, output, and total tokens  \n",
        "- Function to display output and token usage  \n",
        "\n",
        "###  Summarization Chains\n",
        "- `load_summarize_chain`  \n",
        "- Chain types: `stuff`, `map_reduce`, `refine`  \n",
        "- Handling large documents with `RecursiveCharacterTextSplitter`  \n",
        "\n",
        "###  Custom Summarization Prompts\n",
        "- `initial_prompt` → first concise summary  \n",
        "- `refine_prompt` → refine summary with introduction, bullet points, conclusion  \n",
        "\n",
        "### PDF Document Handling\n",
        "- `PyPDFLoader` to load PDFs  \n",
        "- Upload PDFs in Colab and automatically detect filenames  \n",
        "- Convert PDF pages into `Document` objects  \n",
        "\n",
        "### Chunking Large Text\n",
        "- `RecursiveCharacterTextSplitter` to split text/PDFs into chunks  \n",
        "- `chunk_size`, `chunk_overlap` for managing large inputs  \n",
        "\n",
        "### Map-Reduce & Refine Summarization\n",
        "- `map_reduce` → summarize each chunk then combine  \n",
        "- `refine` → iteratively improve summary for large inputs  \n",
        "- Display final refined summary\n"
      ],
      "metadata": {
        "id": "t8H_MRUzsMHA"
      }
    },
    {
      "cell_type": "markdown",
      "source": [
        "### Install Required Libraries\n",
        "This section installs and upgrades the essential libraries used in this notebook:\n",
        "\n",
        "- **LangChain** → A framework for building applications powered by large language models (LLMs).  \n",
        "- **LangChain Community** → Provides integrations and community-driven modules for LangChain.  \n",
        "- **OpenAI** → The official client library for accessing OpenAI’s GPT models.\n",
        "\n",
        "> **Note:**\n",
        "> Using `%pip` instead of `!pip` ensures that newly installed packages are **immediately available** in the current Colab kernel without restarting."
      ],
      "metadata": {
        "id": "4aU7bG1vjHYo"
      }
    },
    {
      "cell_type": "code",
      "source": [
        "# Install or upgrade all necessary packages quietly\n",
        "# %pip automatically updates the current Python environment in Google Colab\n",
        "# --upgrade ensures you get the latest versions of each package\n",
        "# -q (quiet mode) hides unnecessary installation logs for a cleaner notebook output\n",
        "\n",
        "%pip install --upgrade -q langchain langchain-community langchain-openai langchain-classic\n",
        "\n",
        "#!pip install --upgrade -q langchain langchain-community openai"
      ],
      "metadata": {
        "id": "3Cpq3mGYjLpy",
        "colab": {
          "base_uri": "https://localhost:8080/"
        },
        "outputId": "2cb8648a-74d1-4688-c3a1-ca31660832a2"
      },
      "execution_count": 9,
      "outputs": [
        {
          "output_type": "stream",
          "name": "stdout",
          "text": [
            "\u001b[?25l   \u001b[90m━━━━━━━━━━━━━━━━━━━━━━━━━━━━━━━━━━━━━━━━\u001b[0m \u001b[32m0.0/81.9 kB\u001b[0m \u001b[31m?\u001b[0m eta \u001b[36m-:--:--\u001b[0m\r\u001b[2K   \u001b[90m━━━━━━━━━━━━━━━━━━━━━━━━━━━━━━━━━━━━━━━━\u001b[0m \u001b[32m81.9/81.9 kB\u001b[0m \u001b[31m2.6 MB/s\u001b[0m eta \u001b[36m0:00:00\u001b[0m\n",
            "\u001b[?25h"
          ]
        }
      ]
    },
    {
      "cell_type": "markdown",
      "source": [
        "### Connect to Azure OpenAI in Google Colab\n",
        "This section retrieves your **Azure OpenAI endpoint** securely from Colab’s `userdata`.  \n",
        "Instead of hard-coding credentials, we use `userdata.get()` to fetch values stored under **Colab → Settings → Secrets**.  \n",
        "\n",
        "> **Note:**  \n",
        "> Always store sensitive data (like API keys or endpoints) in `userdata` for security — never type them directly into the notebook.\n"
      ],
      "metadata": {
        "id": "7aGIz00Njits"
      }
    },
    {
      "cell_type": "code",
      "source": [
        "# Import the userdata module from Google Colab\n",
        "# This allows you to access securely stored secrets (like API keys or endpoints)\n",
        "from google.colab import userdata\n",
        "import os\n",
        "# Retrieve the Azure OpenAI endpoint from Colab's secret storage\n",
        "# Replace 'AZURE_OPENAI_ENDPOINT' with your variable name used when saving the secret\n",
        "AZURE_OPENAI_ENDPOINT = userdata.get('AZURE_OPENAI_ENDPOINT')\n",
        "os.environ[\"AZURE_OPENAI_ENDPOINT\"] = AZURE_OPENAI_ENDPOINT\n",
        "# Print the endpoint to confirm it's loaded (optional)\n",
        "# Avoid printing actual API keys in shared environments\n",
        "print(AZURE_OPENAI_ENDPOINT)\n"
      ],
      "metadata": {
        "id": "iR6Q9WdbYDHS",
        "colab": {
          "base_uri": "https://localhost:8080/"
        },
        "outputId": "b4b2a6bf-9c86-4a0f-9bb2-5ed50e0956d3"
      },
      "execution_count": 20,
      "outputs": [
        {
          "output_type": "stream",
          "name": "stdout",
          "text": [
            "https://ai-new-agent-resource.openai.azure.com/\n"
          ]
        }
      ]
    },
    {
      "cell_type": "markdown",
      "source": [
        "### Access Azure OpenAI API Key Securely\n",
        "This section retrieves your **Azure OpenAI API key** from Google Colab’s `userdata` store.  \n",
        "By using `userdata.get()`, you can safely load keys or tokens saved in **Colab → Settings → Secrets**,  \n",
        "keeping your credentials secure and out of the public notebook.  \n",
        "\n",
        "> **Best Practice:**  \n",
        "> Never hard-code API keys directly into your code. Use `userdata` or environment variables instead.\n"
      ],
      "metadata": {
        "id": "7L6ZA7bbjuaE"
      }
    },
    {
      "cell_type": "code",
      "source": [
        "# Import the userdata module from Google Colab\n",
        "# This lets you securely access any stored secrets like API keys or endpoints\n",
        "from google.colab import userdata\n",
        "\n",
        "# Retrieve the Azure OpenAI API key from Colab’s secret storage\n",
        "# Ensure you've saved it under the name 'AZURE_OPENAI_KEY' in Colab > Settings > Secrets\n",
        "AZURE_OPENAI_API_KEY= userdata.get('AZURE_OPENAI_KEY')\n",
        "os.environ[\"AZURE_OPENAI_API_KEY\"] = AZURE_OPENAI_API_KEY\n",
        "# Print the key to verify it was retrieved successfully\n",
        "# Avoid printing in shared environments — this is for testing only\n",
        "print(AZURE_OPENAI_API_KEY)\n"
      ],
      "metadata": {
        "colab": {
          "base_uri": "https://localhost:8080/"
        },
        "id": "THF9e5RPjvTm",
        "outputId": "f6084a44-11b9-4874-a1fb-5ef777c1c59b"
      },
      "execution_count": 21,
      "outputs": [
        {
          "output_type": "stream",
          "name": "stdout",
          "text": [
            "3KZOVIIWVSSadEQyVLMr722pVoXVOl6BvatHtqrAsnmSV06FL1SCJQQJ99BIACHYHv6XJ3w3AAAAACOGGKR1\n"
          ]
        }
      ]
    },
    {
      "cell_type": "markdown",
      "source": [
        "### Retrieve Azure OpenAI Deployment Name\n",
        "This section loads your **Azure OpenAI deployment name** from Google Colab’s `userdata` secrets.  \n",
        "\n",
        "The deployment name identifies which specific model (e.g., *gpt-4*, *gpt-4o-mini*) you’ve configured inside your Azure OpenAI resource.\n",
        "\n",
        "> **Tip:**  \n",
        "> You can store it securely under **Colab → Settings → Secrets** with the key name `DEPLOYMENT_NAME`.\n",
        "\n"
      ],
      "metadata": {
        "id": "vGFoVgo7j62K"
      }
    },
    {
      "cell_type": "code",
      "source": [
        "# Import the userdata module from Google Colab\n",
        "# This allows secure access to values like deployment names, API keys, and endpoints\n",
        "from google.colab import userdata\n",
        "\n",
        "# Retrieve the Azure OpenAI deployment name\n",
        "# Make sure you've saved it under 'DEPLOYMENT_NAME' in Colab → Settings → Secrets\n",
        "DEPLOYMENT_NAME = userdata.get('DEPLOYMENT_NAME')\n",
        "\n",
        "# Print the deployment name to verify it was loaded successfully\n",
        "# Avoid exposing sensitive details when sharing notebooks\n",
        "print(DEPLOYMENT_NAME)\n"
      ],
      "metadata": {
        "colab": {
          "base_uri": "https://localhost:8080/"
        },
        "id": "bRkU5sX-iWzO",
        "outputId": "57aaa931-2837-4775-d84b-944a5ef4ecbb"
      },
      "execution_count": 18,
      "outputs": [
        {
          "output_type": "stream",
          "name": "stdout",
          "text": [
            "gpt-4o\n"
          ]
        }
      ]
    },
    {
      "cell_type": "markdown",
      "source": [
        "### Integrate LangChain with Azure OpenAI\n",
        "This section configures LangChain to use your **Azure OpenAI deployment** as the language model backend.  \n",
        "LangChain provides a high-level interface for building LLM-powered apps like chatbots, agents, and workflows.  \n",
        "\n",
        "> **Parameters Explanation:**  \n",
        "> - `openai_api_base` → Your Azure OpenAI endpoint URL.  \n",
        "> - `openai_api_key` → Your secret API key for authentication.  \n",
        "> - `openai_api_version` → The version of the Azure OpenAI API you’re using.  \n",
        "> - `deployment_name` → The name of your deployed model (e.g., *gpt-4o*, *gpt-35-turbo*).  \n",
        "> - `openai_api_type=\"azure\"` → Required flag to specify you’re connecting to Azure’s API.\n"
      ],
      "metadata": {
        "id": "oozpdT2DkK0m"
      }
    },
    {
      "cell_type": "markdown",
      "source": [
        "\n",
        "This LLM connection will be used for the **entire project/class demo** for all summarization, chat, and other examples.\n",
        "\n",
        "In a LangChain project, the only part you need to change when switching LLM providers or models is the LLM integration itself. Everything else—chains, prompts, memory, summarization logic, streaming, token counting—remains the same."
      ],
      "metadata": {
        "id": "uAjIkIH5vIlk"
      }
    },
    {
      "cell_type": "code",
      "source": [
        "# Import the AzureChatOpenAI class from LangChain\n",
        "# This class lets you use Azure OpenAI models as LangChain-compatible LLMs\n",
        "from langchain_openai import AzureChatOpenAI\n",
        "#from langchain.chat_models import AzureChatOpenAI\n",
        "\n",
        "\n",
        "\n",
        "from langchain_openai import AzureChatOpenAI\n",
        "\n",
        "llm = AzureChatOpenAI(\n",
        "    azure_deployment=DEPLOYMENT_NAME,\n",
        "    api_version=\"2024-05-01-preview\",\n",
        "    temperature=0,\n",
        "    max_tokens=None,\n",
        "    timeout=None,\n",
        "    max_retries=2,\n",
        "    # organization=\"...\",\n",
        "    # model=\"gpt-35-turbo\",\n",
        "    # model_version=\"0125\",\n",
        "    # other params...\n",
        ")\n",
        "\n",
        "# Verify connection by sending a simple prompt\n",
        "response = llm.invoke(\"Hello from LangChain + Azure OpenAI integration!\")\n",
        "print(response)\n"
      ],
      "metadata": {
        "id": "oGEMpFrJYKzs",
        "colab": {
          "base_uri": "https://localhost:8080/"
        },
        "outputId": "a0549b34-dd0a-46bd-ed01-e878eb294d61"
      },
      "execution_count": 23,
      "outputs": [
        {
          "output_type": "stream",
          "name": "stdout",
          "text": [
            "content=\"Hello! It sounds like you're working with LangChain and Azure OpenAI—an exciting combination for building powerful AI applications. How can I assist you today?\" additional_kwargs={'refusal': None} response_metadata={'token_usage': {'completion_tokens': 32, 'prompt_tokens': 17, 'total_tokens': 49, 'completion_tokens_details': {'accepted_prediction_tokens': 0, 'audio_tokens': 0, 'reasoning_tokens': 0, 'rejected_prediction_tokens': 0}, 'prompt_tokens_details': {'audio_tokens': 0, 'cached_tokens': 0}}, 'model_provider': 'openai', 'model_name': 'gpt-4o-2024-11-20', 'system_fingerprint': 'fp_b54fe76834', 'id': 'chatcmpl-CVBGeRKu6TFJWZB6DtUpCjxMLJcPZ', 'prompt_filter_results': [{'prompt_index': 0, 'content_filter_results': {'hate': {'filtered': False, 'severity': 'safe'}, 'jailbreak': {'filtered': False, 'detected': False}, 'self_harm': {'filtered': False, 'severity': 'safe'}, 'sexual': {'filtered': False, 'severity': 'safe'}, 'violence': {'filtered': False, 'severity': 'safe'}}}], 'finish_reason': 'stop', 'logprobs': None, 'content_filter_results': {'hate': {'filtered': False, 'severity': 'safe'}, 'protected_material_text': {'filtered': False, 'detected': False}, 'self_harm': {'filtered': False, 'severity': 'safe'}, 'sexual': {'filtered': False, 'severity': 'safe'}, 'violence': {'filtered': False, 'severity': 'safe'}}} id='lc_run--8a3e68e6-90ef-400f-8e3f-8768b3dacb0b-0' usage_metadata={'input_tokens': 17, 'output_tokens': 32, 'total_tokens': 49, 'input_token_details': {'audio': 0, 'cache_read': 0}, 'output_token_details': {'audio': 0, 'reasoning': 0}}\n"
          ]
        }
      ]
    },
    {
      "cell_type": "markdown",
      "source": [
        "### Create a Prompt Template and Use LLMChain\n",
        "Now that the `llm` (Azure OpenAI model) is connected,  \n",
        "we can build a **LangChain pipeline** using `PromptTemplate` and `LLMChain`.  \n",
        "\n",
        "- **PromptTemplate:** Defines the structure of your input prompt with placeholders for variables.  \n",
        "- **LLMChain:** Combines the prompt and the model to process inputs and generate responses automatically."
      ],
      "metadata": {
        "id": "pD34HVt5kdey"
      }
    },
    {
      "cell_type": "code",
      "source": [
        "# Import LangChain components for prompt creation and chaining\n",
        "from langchain_classic.prompts import PromptTemplate\n",
        "from langchain_classic.chains import LLMChain\n",
        "\n",
        "# Define a reusable prompt template with a variable placeholder {topic}\n",
        "prompt = PromptTemplate(\n",
        "    input_variables=[\"topic\"],  # Variable to be replaced at runtime\n",
        "    template=\"Explain the concept of {topic} in simple terms.\"  # The prompt text\n",
        ")\n",
        "\n",
        "# Create an LLMChain that combines the template and the connected Azure LLM\n",
        "chain = LLMChain(\n",
        "    llm=llm,             # Azure OpenAI model configured earlier\n",
        "    prompt=prompt,       # Prompt template\n",
        "    verbose=True         # Displays intermediate steps and outputs\n",
        ")\n",
        "\n",
        "# Run the chain by providing a value for the {topic} variable\n",
        "response = chain.run({\"topic\": \"Edge and Fog Computing\"})\n",
        "\n",
        "# Display the model's response\n",
        "print(response)\n"
      ],
      "metadata": {
        "colab": {
          "base_uri": "https://localhost:8080/"
        },
        "id": "WeGDoOTFkfRY",
        "outputId": "9d4b153a-38c2-4d84-ecc1-d60d94a04a17"
      },
      "execution_count": 24,
      "outputs": [
        {
          "output_type": "stream",
          "name": "stderr",
          "text": [
            "/tmp/ipython-input-3176574709.py:12: LangChainDeprecationWarning: The class `LLMChain` was deprecated in LangChain 0.1.17 and will be removed in 1.0. Use `RunnableSequence, e.g., `prompt | llm`` instead.\n",
            "  chain = LLMChain(\n",
            "/tmp/ipython-input-3176574709.py:19: LangChainDeprecationWarning: The method `Chain.run` was deprecated in langchain-classic 0.1.0 and will be removed in 1.0. Use `invoke` instead.\n",
            "  response = chain.run({\"topic\": \"Edge and Fog Computing\"})\n"
          ]
        },
        {
          "output_type": "stream",
          "name": "stdout",
          "text": [
            "\n",
            "\n",
            "\u001b[1m> Entering new LLMChain chain...\u001b[0m\n",
            "Prompt after formatting:\n",
            "\u001b[32;1m\u001b[1;3mExplain the concept of Edge and Fog Computing in simple terms.\u001b[0m\n",
            "\n",
            "\u001b[1m> Finished chain.\u001b[0m\n",
            "Sure! Let's break it down:\n",
            "\n",
            "### **Edge Computing**\n",
            "Imagine you have a smart device, like a security camera, that collects data. Instead of sending all the data to a faraway central server (like the cloud) for processing, **Edge Computing** processes the data right near the device itself—on the \"edge\" of the network. This means faster responses and less reliance on distant servers. For example, the camera can analyze video footage locally to detect motion and only send important alerts to the cloud.\n",
            "\n",
            "### **Fog Computing**\n",
            "Now, think of **Fog Computing** as a middle layer between Edge Computing and the cloud. It’s like a network of smaller, local servers or devices that help process and store data closer to where it’s generated, but not directly on the device itself. Fog Computing helps when the edge devices need extra computing power or when multiple devices need to share data locally before sending it to the cloud. For instance, in a smart city, traffic sensors might send data to nearby fog nodes to analyze traffic patterns before sending summarized data to the cloud.\n",
            "\n",
            "### **Key Difference**\n",
            "- **Edge Computing** happens directly on or near the device.\n",
            "- **Fog Computing** happens in a nearby network of devices or servers, acting as a bridge between the edge and the cloud.\n",
            "\n",
            "Both aim to reduce latency, improve efficiency, and handle data closer to where it’s created, rather than relying solely on distant cloud servers.\n"
          ]
        }
      ]
    },
    {
      "cell_type": "markdown",
      "source": [
        "### Build an Interactive Chat Loop\n",
        "This section creates a basic **chat interface** in the notebook terminal using Python’s `input()` function.  \n",
        "It allows users to type a message, send it to the LangChain `LLMChain`, and get a response back.  \n",
        "\n",
        "> 💡 **Tip:**  \n",
        "> Type `exit` anytime to stop the chat loop.  \n",
        "> This is a simple example for local or Colab testing —  \n",
        "> for web apps, you can later integrate it with **Flask** or **Streamlit**.\n"
      ],
      "metadata": {
        "id": "uE7MUf6-kxEU"
      }
    },
    {
      "cell_type": "code",
      "source": [
        "# Start an infinite loop to keep the conversation going\n",
        "while True:\n",
        "    # Prompt the user for input\n",
        "    user_input = input(\"You: \")\n",
        "\n",
        "    # Exit condition — breaks the loop if user types 'exit'\n",
        "    if user_input.lower() == \"exit\":\n",
        "        print(\"Chat session ended.\")\n",
        "        break\n",
        "\n",
        "    # Pass the user's input to the LangChain pipeline (LLMChain)\n",
        "    response = chain.run(user_input)\n",
        "\n",
        "    # Display the assistant's response\n",
        "    print(\"Assistant:\", response)\n"
      ],
      "metadata": {
        "colab": {
          "base_uri": "https://localhost:8080/"
        },
        "id": "da8jAWaFaz_q",
        "outputId": "7de785e4-01b0-466f-e0f9-ab19d35ed9e8"
      },
      "execution_count": 25,
      "outputs": [
        {
          "output_type": "stream",
          "name": "stdout",
          "text": [
            "You: Hi\n",
            "\n",
            "\n",
            "\u001b[1m> Entering new LLMChain chain...\u001b[0m\n",
            "Prompt after formatting:\n",
            "\u001b[32;1m\u001b[1;3mExplain the concept of Hi in simple terms.\u001b[0m\n",
            "\n",
            "\u001b[1m> Finished chain.\u001b[0m\n",
            "Assistant: It seems like you're asking about the concept of \"Hi.\" If you're referring to the greeting \"Hi,\" it's simply a casual way to say hello or acknowledge someone. It's a friendly and informal way to start a conversation or show that you're aware of someone's presence.\n",
            "\n",
            "If you're referring to something else, like \"Hi\" as an abbreviation or concept (e.g., in science, technology, or another field), could you clarify? I'd be happy to explain!\n",
            "You: exit\n",
            "Chat session ended.\n"
          ]
        }
      ]
    },
    {
      "cell_type": "markdown",
      "source": [
        "### Using Structured Messages with LangChain\n",
        "LangChain supports structured message types — similar to how chat models like ChatGPT work:  \n",
        "- **SystemMessage:** Defines the assistant’s behavior or personality.  \n",
        "- **HumanMessage:** Represents user input.  \n",
        "- **AIMessage:** Represents the AI’s response (optional for initialization).\n",
        "\n",
        "This approach helps when building **multi-turn chat applications**, where messages are passed in a structured list instead of plain text.\n"
      ],
      "metadata": {
        "id": "fbqAfiJbk856"
      }
    },
    {
      "cell_type": "code",
      "source": [
        "# Import message schema classes from LangChain\n",
        "# These are used to structure system, user, and AI messages in a conversation\n",
        "from langchain_classic.schema import SystemMessage, HumanMessage, AIMessage\n",
        "\n",
        "# Create a list of messages to simulate a chat conversation\n",
        "messages = [\n",
        "    SystemMessage(content=\"You are a helpful assistant.\"),      # Defines AI role\n",
        "    HumanMessage(content=\"What is the capital of France?\")       # User query\n",
        "]\n",
        "\n",
        "# Print the list to show its structure\n",
        "print(messages)\n",
        "\n",
        "# Send the structured messages to the Azure LLM (connected earlier)\n",
        "Output = llm.invoke(messages)\n",
        "\n",
        "#  Print the full response object\n",
        "print(Output)\n",
        "\n",
        "# Extract and print only the AI-generated message content\n",
        "print(Output.content)\n"
      ],
      "metadata": {
        "colab": {
          "base_uri": "https://localhost:8080/"
        },
        "id": "9aX8K3hVb6XD",
        "outputId": "03f4e9f6-3a31-4ae5-dd5c-6c27a9741a8d"
      },
      "execution_count": 26,
      "outputs": [
        {
          "output_type": "stream",
          "name": "stdout",
          "text": [
            "[SystemMessage(content='You are a helpful assistant.', additional_kwargs={}, response_metadata={}), HumanMessage(content='What is the capital of France?', additional_kwargs={}, response_metadata={})]\n",
            "content='The capital of France is **Paris**.' additional_kwargs={'refusal': None} response_metadata={'token_usage': {'completion_tokens': 10, 'prompt_tokens': 24, 'total_tokens': 34, 'completion_tokens_details': {'accepted_prediction_tokens': 0, 'audio_tokens': 0, 'reasoning_tokens': 0, 'rejected_prediction_tokens': 0}, 'prompt_tokens_details': {'audio_tokens': 0, 'cached_tokens': 0}}, 'model_provider': 'openai', 'model_name': 'gpt-4o-2024-11-20', 'system_fingerprint': 'fp_b54fe76834', 'id': 'chatcmpl-CVBHtfY5SxwItb7Qe3c4zfLV0aShV', 'prompt_filter_results': [{'prompt_index': 0, 'content_filter_results': {'hate': {'filtered': False, 'severity': 'safe'}, 'jailbreak': {'filtered': False, 'detected': False}, 'self_harm': {'filtered': False, 'severity': 'safe'}, 'sexual': {'filtered': False, 'severity': 'safe'}, 'violence': {'filtered': False, 'severity': 'safe'}}}], 'finish_reason': 'stop', 'logprobs': None, 'content_filter_results': {'hate': {'filtered': False, 'severity': 'safe'}, 'protected_material_code': {'filtered': False, 'detected': False}, 'protected_material_text': {'filtered': False, 'detected': False}, 'self_harm': {'filtered': False, 'severity': 'safe'}, 'sexual': {'filtered': False, 'severity': 'safe'}, 'violence': {'filtered': False, 'severity': 'safe'}}} id='lc_run--241a9da0-17f5-48cf-a4c0-2cc93f4df235-0' usage_metadata={'input_tokens': 24, 'output_tokens': 10, 'total_tokens': 34, 'input_token_details': {'audio': 0, 'cache_read': 0}, 'output_token_details': {'audio': 0, 'reasoning': 0}}\n",
            "The capital of France is **Paris**.\n"
          ]
        }
      ]
    },
    {
      "cell_type": "markdown",
      "source": [
        "### Measure LLM Execution Time (No Cache)\n",
        "This cell sends a prompt to the Azure OpenAI model and measures how long it takes **without any caching**.  \n",
        "Useful for understanding the baseline latency of your model request.\n"
      ],
      "metadata": {
        "id": "p6SZyhatlm95"
      }
    },
    {
      "cell_type": "code",
      "source": [
        "# %%time measures the execution time of the cell\n",
        "%%time\n",
        "\n",
        "#  Define a prompt to send to the LLM\n",
        "prompt = \"Tell me a joke\"\n",
        "\n",
        "# Invoke the LLM and get the response\n",
        "response = llm.invoke(prompt)\n",
        "\n",
        "# Print the response from the model\n",
        "print(response)\n"
      ],
      "metadata": {
        "colab": {
          "base_uri": "https://localhost:8080/"
        },
        "id": "RvcTlzNslnny",
        "outputId": "59b1356c-ce5d-4ef5-839e-a6a4b63e1449"
      },
      "execution_count": 27,
      "outputs": [
        {
          "output_type": "stream",
          "name": "stdout",
          "text": [
            "content=\"Sure! Here's one for you:\\n\\nWhy don’t skeletons fight each other?\\n\\nBecause they don’t have the guts!\" additional_kwargs={'refusal': None} response_metadata={'token_usage': {'completion_tokens': 25, 'prompt_tokens': 11, 'total_tokens': 36, 'completion_tokens_details': {'accepted_prediction_tokens': 0, 'audio_tokens': 0, 'reasoning_tokens': 0, 'rejected_prediction_tokens': 0}, 'prompt_tokens_details': {'audio_tokens': 0, 'cached_tokens': 0}}, 'model_provider': 'openai', 'model_name': 'gpt-4o-2024-11-20', 'system_fingerprint': 'fp_b54fe76834', 'id': 'chatcmpl-CVBHxTZZ3rLiYVCM7gScgzP6xjEed', 'prompt_filter_results': [{'prompt_index': 0, 'content_filter_results': {'hate': {'filtered': False, 'severity': 'safe'}, 'jailbreak': {'filtered': False, 'detected': False}, 'self_harm': {'filtered': False, 'severity': 'safe'}, 'sexual': {'filtered': False, 'severity': 'safe'}, 'violence': {'filtered': False, 'severity': 'safe'}}}], 'finish_reason': 'stop', 'logprobs': None, 'content_filter_results': {'hate': {'filtered': False, 'severity': 'safe'}, 'protected_material_text': {'filtered': False, 'detected': False}, 'self_harm': {'filtered': False, 'severity': 'safe'}, 'sexual': {'filtered': False, 'severity': 'safe'}, 'violence': {'filtered': False, 'severity': 'low'}}} id='lc_run--4a6096b1-197f-4e45-9456-307fe69fe06f-0' usage_metadata={'input_tokens': 11, 'output_tokens': 25, 'total_tokens': 36, 'input_token_details': {'audio': 0, 'cache_read': 0}, 'output_token_details': {'audio': 0, 'reasoning': 0}}\n",
            "CPU times: user 4.87 ms, sys: 0 ns, total: 4.87 ms\n",
            "Wall time: 378 ms\n"
          ]
        }
      ]
    },
    {
      "cell_type": "markdown",
      "source": [
        "### Enable In-Memory Caching for LangChain\n",
        "This cell sets up caching so repeated calls with the same prompt **reuse previous results**.  \n",
        "In-memory caching improves performance and reduces API calls to Azure OpenAI.  \n",
        "We use **LangChain’s InMemoryCache** and `set_llm_cache()` for this purpose.\n"
      ],
      "metadata": {
        "id": "dNZwyp6olrJf"
      }
    },
    {
      "cell_type": "code",
      "source": [
        "# Import caching utilities from LangChain\n",
        "from langchain_classic.globals import set_llm_cache\n",
        "from langchain_classic.cache import InMemoryCache\n",
        "\n",
        "# Set up an in-memory cache for the LLM\n",
        "# This will store responses and reuse them for identical prompts\n",
        "set_llm_cache(InMemoryCache())\n"
      ],
      "metadata": {
        "id": "B7wCWE0nlqxw"
      },
      "execution_count": 29,
      "outputs": []
    },
    {
      "cell_type": "markdown",
      "source": [
        "### ⏱ Measure LLM Execution Time (With Cache)\n",
        "Now we run the **same prompt** again with caching enabled.  \n",
        "The execution time should be much faster because the response is retrieved from memory.\n"
      ],
      "metadata": {
        "id": "su4PhqTzlvRY"
      }
    },
    {
      "cell_type": "code",
      "source": [
        "# %%time measures how long the cell takes to execute\n",
        "%%time\n",
        "\n",
        "# Same prompt as before\n",
        "prompt = \"Tell me a joke\"\n",
        "\n",
        "# Invoke the LLM; cached response will be used if available\n",
        "response = llm.invoke(prompt)\n",
        "\n",
        "# Print the response\n",
        "print(response)\n"
      ],
      "metadata": {
        "colab": {
          "base_uri": "https://localhost:8080/"
        },
        "id": "VVa-Yj4JlvHA",
        "outputId": "02928cfd-5f3f-48b5-f78f-5cc9fec16252"
      },
      "execution_count": 30,
      "outputs": [
        {
          "output_type": "stream",
          "name": "stdout",
          "text": [
            "content=\"Sure! Here's one for you:\\n\\nWhy don’t skeletons fight each other?\\n\\nBecause they don’t have the guts!\" additional_kwargs={'refusal': None} response_metadata={'token_usage': {'completion_tokens': 25, 'prompt_tokens': 11, 'total_tokens': 36, 'completion_tokens_details': {'accepted_prediction_tokens': 0, 'audio_tokens': 0, 'reasoning_tokens': 0, 'rejected_prediction_tokens': 0}, 'prompt_tokens_details': {'audio_tokens': 0, 'cached_tokens': 0}}, 'model_provider': 'openai', 'model_name': 'gpt-4o-2024-11-20', 'system_fingerprint': 'fp_b54fe76834', 'id': 'chatcmpl-CVBILzRwPMTSwGhqtwMWKMdLLLnNh', 'prompt_filter_results': [{'prompt_index': 0, 'content_filter_results': {'hate': {'filtered': False, 'severity': 'safe'}, 'jailbreak': {'filtered': False, 'detected': False}, 'self_harm': {'filtered': False, 'severity': 'safe'}, 'sexual': {'filtered': False, 'severity': 'safe'}, 'violence': {'filtered': False, 'severity': 'safe'}}}], 'finish_reason': 'stop', 'logprobs': None, 'content_filter_results': {'hate': {'filtered': False, 'severity': 'safe'}, 'protected_material_text': {'filtered': False, 'detected': False}, 'self_harm': {'filtered': False, 'severity': 'safe'}, 'sexual': {'filtered': False, 'severity': 'safe'}, 'violence': {'filtered': False, 'severity': 'low'}}} id='lc_run--e12eb0b4-0934-4654-9edb-264f68d03875-0' usage_metadata={'input_tokens': 11, 'output_tokens': 25, 'total_tokens': 36, 'input_token_details': {'audio': 0, 'cache_read': 0}, 'output_token_details': {'audio': 0, 'reasoning': 0}}\n",
            "CPU times: user 7.83 ms, sys: 4.66 ms, total: 12.5 ms\n",
            "Wall time: 535 ms\n"
          ]
        }
      ]
    },
    {
      "cell_type": "markdown",
      "source": [
        "### Measure LLM Execution Time\n",
        "This cell demonstrates how to measure the execution time of a single LLM call using the `%%time` in Colab.  \n",
        "It helps understand how long the Azure OpenAI model takes to process a prompt.\n"
      ],
      "metadata": {
        "id": "nxr__slOl4nU"
      }
    },
    {
      "cell_type": "code",
      "source": [
        "# %%time is a Jupyter/Colab magic command\n",
        "# It measures the total time taken by this cell to run\n",
        "%%time\n",
        "\n",
        "# Define a prompt to send to the LLM\n",
        "prompt = \"Tell me a joke\"\n",
        "\n",
        "# Invoke the LLM and get the response\n",
        "response = llm.invoke(prompt)\n",
        "\n",
        "# Print the response returned by the model\n",
        "print(response)\n"
      ],
      "metadata": {
        "colab": {
          "base_uri": "https://localhost:8080/"
        },
        "id": "7Y121S_WklaK",
        "outputId": "e42b466d-7213-4fad-ee00-5387fbfb3e4c"
      },
      "execution_count": 31,
      "outputs": [
        {
          "output_type": "stream",
          "name": "stdout",
          "text": [
            "content=\"Sure! Here's one for you:\\n\\nWhy don’t skeletons fight each other?\\n\\nBecause they don’t have the guts!\" additional_kwargs={'refusal': None} response_metadata={'token_usage': {'completion_tokens': 25, 'prompt_tokens': 11, 'total_tokens': 36, 'completion_tokens_details': {'accepted_prediction_tokens': 0, 'audio_tokens': 0, 'reasoning_tokens': 0, 'rejected_prediction_tokens': 0}, 'prompt_tokens_details': {'audio_tokens': 0, 'cached_tokens': 0}}, 'model_provider': 'openai', 'model_name': 'gpt-4o-2024-11-20', 'system_fingerprint': 'fp_b54fe76834', 'id': 'chatcmpl-CVBILzRwPMTSwGhqtwMWKMdLLLnNh', 'prompt_filter_results': [{'prompt_index': 0, 'content_filter_results': {'hate': {'filtered': False, 'severity': 'safe'}, 'jailbreak': {'filtered': False, 'detected': False}, 'self_harm': {'filtered': False, 'severity': 'safe'}, 'sexual': {'filtered': False, 'severity': 'safe'}, 'violence': {'filtered': False, 'severity': 'safe'}}}], 'finish_reason': 'stop', 'logprobs': None, 'content_filter_results': {'hate': {'filtered': False, 'severity': 'safe'}, 'protected_material_text': {'filtered': False, 'detected': False}, 'self_harm': {'filtered': False, 'severity': 'safe'}, 'sexual': {'filtered': False, 'severity': 'safe'}, 'violence': {'filtered': False, 'severity': 'low'}}} id='lc_run--e12eb0b4-0934-4654-9edb-264f68d03875-0' usage_metadata={'input_tokens': 11, 'output_tokens': 25, 'total_tokens': 36, 'input_token_details': {'audio': 0, 'cache_read': 0}, 'output_token_details': {'audio': 0, 'reasoning': 0}, 'total_cost': 0}\n",
            "CPU times: user 742 µs, sys: 0 ns, total: 742 µs\n",
            "Wall time: 736 µs\n"
          ]
        }
      ]
    },
    {
      "cell_type": "markdown",
      "source": [
        "### Enable SQLite Caching for LangChain\n",
        "This cell configures **SQLite-based caching** for your LangChain LLM.  \n",
        "Using SQLite cache allows responses to be stored persistently on disk,  \n",
        "so repeated prompts can retrieve results without making extra API calls, even across sessions.\n",
        "\n",
        "> 📝 **Note:**  \n",
        "> The database file `.langchain.db` will be created in the current working directory.\n"
      ],
      "metadata": {
        "id": "3kTMmzeJmQwJ"
      }
    },
    {
      "cell_type": "code",
      "source": [
        "# Import SQLiteCache from LangChain\n",
        "from langchain_classic.cache import SQLiteCache\n",
        "\n",
        "# Set up a persistent SQLite cache for the LLM\n",
        "# database_path specifies the file where cached responses will be stored\n",
        "set_llm_cache(SQLiteCache(database_path=\".langchain.db\"))\n"
      ],
      "metadata": {
        "id": "psm5ck6ik12o"
      },
      "execution_count": 32,
      "outputs": []
    },
    {
      "cell_type": "markdown",
      "source": [
        "### ⏱ Generate Content with LLM (Using SQLite Cache)\n",
        "Now that SQLite caching is enabled, repeated calls with the **same prompt** will be faster.  \n",
        "The response is stored in `.langchain.db`, so the LLM can return cached results without extra API calls.\n",
        "\n",
        "> 💡 **Tip:**  \n",
        "> This is useful for cost and speed optimization when testing or iterating on prompts."
      ],
      "metadata": {
        "id": "-7GcmlnFmakc"
      }
    },
    {
      "cell_type": "code",
      "source": [
        "# %%time measures the execution time of this cell\n",
        "%%time\n",
        "\n",
        "# Define the same creative prompt as before\n",
        "prompt = \"write a rock song about moon.\"\n",
        "\n",
        "# Invoke the LLM; response may come from cache if the prompt was run previously\n",
        "response = llm.invoke(prompt)\n",
        "\n",
        "# Print only the generated content\n",
        "print(response.content)\n"
      ],
      "metadata": {
        "colab": {
          "base_uri": "https://localhost:8080/"
        },
        "id": "7cDbCtNJlO0H",
        "outputId": "16942324-4913-4c51-f6bc-93f25a04345b"
      },
      "execution_count": 33,
      "outputs": [
        {
          "output_type": "stream",
          "name": "stdout",
          "text": [
            "**Title: \"Lunar Calling\"**\n",
            "\n",
            "*(Verse 1)*  \n",
            "Under the velvet sky, where shadows collide,  \n",
            "The moon’s got a secret, it’s pulling the tide.  \n",
            "Silver whispers, lighting up the night,  \n",
            "A beacon of madness, a celestial fight.  \n",
            "\n",
            "*(Pre-Chorus)*  \n",
            "I hear it calling, through the cosmic haze,  \n",
            "A voice so haunting, it sets my soul ablaze.  \n",
            "\n",
            "*(Chorus)*  \n",
            "Oh, moon, you’re my guide, my eternal muse,  \n",
            "Shining down on the broken and bruised.  \n",
            "Through the darkness, you light my way,  \n",
            "Lunar calling, I’m yours to obey.  \n",
            "\n",
            "*(Verse 2)*  \n",
            "Cratered and scarred, yet you never fade,  \n",
            "A rebel in orbit, a renegade.  \n",
            "You’ve seen the wars, the love, the pain,  \n",
            "Still you rise, through the endless chain.  \n",
            "\n",
            "*(Pre-Chorus)*  \n",
            "I feel your power, pulling at my veins,  \n",
            "A tidal force I can’t contain.  \n",
            "\n",
            "*(Chorus)*  \n",
            "Oh, moon, you’re my guide, my eternal muse,  \n",
            "Shining down on the broken and bruised.  \n",
            "Through the darkness, you light my way,  \n",
            "Lunar calling, I’m yours to obey.  \n",
            "\n",
            "*(Bridge)*  \n",
            "Take me higher, to your silver throne,  \n",
            "Where gravity fades, and I’m not alone.  \n",
            "I’ll dance in your glow, I’ll howl at your face,  \n",
            "Lost in your orbit, in your cold embrace.  \n",
            "\n",
            "*(Chorus)*  \n",
            "Oh, moon, you’re my guide, my eternal muse,  \n",
            "Shining down on the broken and bruised.  \n",
            "Through the darkness, you light my way,  \n",
            "Lunar calling, I’m yours to obey.  \n",
            "\n",
            "*(Outro)*  \n",
            "So keep on shining, through the endless night,  \n",
            "A rebel’s anthem, a warrior’s light.  \n",
            "Lunar calling, I’ll follow you home,  \n",
            "Forever bound to your celestial dome.  \n",
            "CPU times: user 22.1 ms, sys: 1.84 ms, total: 23.9 ms\n",
            "Wall time: 3.13 s\n"
          ]
        }
      ]
    },
    {
      "cell_type": "markdown",
      "source": [
        "### Re-run LLM Prompt with SQLite Cache\n",
        "This cell demonstrates running the same prompt again after enabling **SQLite caching**.  \n",
        "Since the prompt was executed previously, the response should be **retrieved from cache**, making it much faster.\n",
        "\n",
        "> 💡 **Note:**  \n",
        "> Using a persistent cache helps reduce API calls and improves response time for repeated prompts.\n"
      ],
      "metadata": {
        "id": "C0-qfLWEmd9z"
      }
    },
    {
      "cell_type": "code",
      "source": [
        "# %%time measures the execution time of this cell\n",
        "%%time\n",
        "\n",
        "# Define the prompt (same as before)\n",
        "prompt = \"write a rock song about moon.\"\n",
        "\n",
        "# Invoke the LLM; cached response will be returned if available\n",
        "response = llm.invoke(prompt)\n",
        "\n",
        "# Print only the generated content from the model\n",
        "print(response.content)\n"
      ],
      "metadata": {
        "colab": {
          "base_uri": "https://localhost:8080/"
        },
        "id": "H0zYF0EFmdzM",
        "outputId": "511f4c0f-4fc5-4872-d19a-9c586db1a782"
      },
      "execution_count": 34,
      "outputs": [
        {
          "output_type": "stream",
          "name": "stdout",
          "text": [
            "**Title: \"Lunar Calling\"**\n",
            "\n",
            "*(Verse 1)*  \n",
            "Under the velvet sky, where shadows collide,  \n",
            "The moon’s got a secret, it’s pulling the tide.  \n",
            "Silver whispers, lighting up the night,  \n",
            "A beacon of madness, a celestial fight.  \n",
            "\n",
            "*(Pre-Chorus)*  \n",
            "I hear it calling, through the cosmic haze,  \n",
            "A voice so haunting, it sets my soul ablaze.  \n",
            "\n",
            "*(Chorus)*  \n",
            "Oh, moon, you’re my guide, my eternal muse,  \n",
            "Shining down on the broken and bruised.  \n",
            "Through the darkness, you light my way,  \n",
            "Lunar calling, I’m yours to obey.  \n",
            "\n",
            "*(Verse 2)*  \n",
            "Cratered and scarred, yet you never fade,  \n",
            "A rebel in orbit, a renegade.  \n",
            "You’ve seen the wars, the love, the pain,  \n",
            "Still you rise, through the endless chain.  \n",
            "\n",
            "*(Pre-Chorus)*  \n",
            "I feel your power, pulling at my veins,  \n",
            "A tidal force I can’t contain.  \n",
            "\n",
            "*(Chorus)*  \n",
            "Oh, moon, you’re my guide, my eternal muse,  \n",
            "Shining down on the broken and bruised.  \n",
            "Through the darkness, you light my way,  \n",
            "Lunar calling, I’m yours to obey.  \n",
            "\n",
            "*(Bridge)*  \n",
            "Take me higher, to your silver throne,  \n",
            "Where gravity fades, and I’m not alone.  \n",
            "I’ll dance in your glow, I’ll howl at your face,  \n",
            "Lost in your orbit, in your cold embrace.  \n",
            "\n",
            "*(Chorus)*  \n",
            "Oh, moon, you’re my guide, my eternal muse,  \n",
            "Shining down on the broken and bruised.  \n",
            "Through the darkness, you light my way,  \n",
            "Lunar calling, I’m yours to obey.  \n",
            "\n",
            "*(Outro)*  \n",
            "So keep on shining, through the endless night,  \n",
            "A rebel’s anthem, a warrior’s light.  \n",
            "Lunar calling, I’ll follow you home,  \n",
            "Forever bound to your celestial dome.  \n",
            "CPU times: user 2.94 ms, sys: 685 µs, total: 3.63 ms\n",
            "Wall time: 8.07 ms\n"
          ]
        }
      ]
    },
    {
      "cell_type": "markdown",
      "source": [
        "### Disable LangChain Cache\n",
        "This cell demonstrates how to **turn off caching** in LangChain.  \n",
        "Disabling cache ensures that every LLM call goes directly to the API, which is useful for testing or when you want fresh responses every time.\n",
        "\n",
        "> 💡 **Note:**  \n",
        "> After disabling cache, repeated prompts will no longer retrieve stored responses.\n"
      ],
      "metadata": {
        "id": "_QgwQ6y4nDl3"
      }
    },
    {
      "cell_type": "code",
      "source": [
        "# Import the set_llm_cache function from LangChain globals\n",
        "from langchain_classic.globals import set_llm_cache\n",
        "\n",
        "# Disable caching by setting it to None\n",
        "set_llm_cache(None)\n",
        "\n",
        "# Confirm that cache is disabled by sending a prompt\n",
        "prompt = \"Write a short poem about the sun.\"\n",
        "response = llm.invoke(prompt)\n",
        "print(response.content)\n"
      ],
      "metadata": {
        "colab": {
          "base_uri": "https://localhost:8080/"
        },
        "id": "El95tH2unFV9",
        "outputId": "0f3fe8c3-a3b7-4ae0-b693-8d2e53a36011"
      },
      "execution_count": 35,
      "outputs": [
        {
          "output_type": "stream",
          "name": "stdout",
          "text": [
            "Golden orb that lights the sky,  \n",
            "A fiery beacon, soaring high.  \n",
            "Its gentle rays, a warm embrace,  \n",
            "Awakening life with tender grace.  \n",
            "\n",
            "It paints the dawn in hues of gold,  \n",
            "A story ancient, yet untold.  \n",
            "Through fleeting clouds, it softly gleams,  \n",
            "A keeper of our waking dreams.  \n",
            "\n",
            "Oh, steadfast sun, eternal guide,  \n",
            "Through day and night, you never hide.  \n",
            "A silent witness to time's flow,  \n",
            "The heart of life, its steady glow.  \n"
          ]
        }
      ]
    },
    {
      "cell_type": "markdown",
      "source": [
        "### Generate a New Rock Song\n",
        "This cell sends a prompt to the Azure OpenAI LLM to generate a **rock song about the Moon**.  \n",
        "We directly print the LLM’s response content.\n"
      ],
      "metadata": {
        "id": "gHVKguyZmstu"
      }
    },
    {
      "cell_type": "code",
      "source": [
        "# %%time measures total execution time for streaming\n",
        "%%time\n",
        "\n",
        "# Define a creative prompt for the LLM\n",
        "prompt = \"Write a rock song about the Moon.\"\n",
        "\n",
        "# Invoke the LLM and print only the content\n",
        "print(llm.invoke(prompt).content)\n"
      ],
      "metadata": {
        "colab": {
          "base_uri": "https://localhost:8080/"
        },
        "id": "_baflKOvmurf",
        "outputId": "70d57b87-5dc0-4cc2-ba23-0dd2e7530bd8"
      },
      "execution_count": 36,
      "outputs": [
        {
          "output_type": "stream",
          "name": "stdout",
          "text": [
            "**Title: \"Lunar Calling\"**\n",
            "\n",
            "*(Verse 1)*  \n",
            "Under the silver glow, I feel the pull,  \n",
            "A cosmic tide, it’s out of control.  \n",
            "The Moon’s a rebel, a wanderer’s dream,  \n",
            "Lighting the night with a ghostly gleam.  \n",
            "\n",
            "I hear her whispers through the midnight air,  \n",
            "A siren’s song, pulling me there.  \n",
            "She’s the queen of shadows, the mistress of tides,  \n",
            "Guiding the lost with her pale disguise.  \n",
            "\n",
            "*(Chorus)*  \n",
            "Oh, Moon, you’re calling me home,  \n",
            "Through the darkness, I’m never alone.  \n",
            "Your gravity’s got me spinning wild,  \n",
            "Lunar love, I’m your restless child.  \n",
            "\n",
            "*(Verse 2)*  \n",
            "Crater scars tell a story untold,  \n",
            "A thousand secrets in your surface cold.  \n",
            "You’ve seen the wars, the rise and the fall,  \n",
            "Silent witness to it all.  \n",
            "\n",
            "I’m chasing your light, I’m chasing your face,  \n",
            "Through the void, through the endless space.  \n",
            "You’re the beacon in my darkest night,  \n",
            "A rebel’s muse, my guiding light.  \n",
            "\n",
            "*(Chorus)*  \n",
            "Oh, Moon, you’re calling me home,  \n",
            "Through the darkness, I’m never alone.  \n",
            "Your gravity’s got me spinning wild,  \n",
            "Lunar love, I’m your restless child.  \n",
            "\n",
            "*(Bridge)*  \n",
            "I’ll build a rocket, I’ll break the chains,  \n",
            "I’ll leave this Earth, I’ll ride the flames.  \n",
            "To touch your surface, to feel your glow,  \n",
            "To find the truth only you know.  \n",
            "\n",
            "*(Solo)*  \n",
            "[Electric guitar wails, echoing the vastness of space, bending notes like lunar waves crashing against the stars.]  \n",
            "\n",
            "*(Chorus)*  \n",
            "Oh, Moon, you’re calling me home,  \n",
            "Through the darkness, I’m never alone.  \n",
            "Your gravity’s got me spinning wild,  \n",
            "Lunar love, I’m your restless child.  \n",
            "\n",
            "*(Outro)*  \n",
            "Under your gaze, I’ll make my stand,  \n",
            "A cosmic dreamer in your silver land.  \n",
            "Oh, Moon, I’ll follow your light,  \n",
            "Forever chasing the endless night.  \n",
            "CPU times: user 5.15 ms, sys: 0 ns, total: 5.15 ms\n",
            "Wall time: 3.68 s\n"
          ]
        }
      ]
    },
    {
      "cell_type": "markdown",
      "source": [
        "### Stream a Long Response from the LLM\n",
        "This cell demonstrates **streaming responses** from the LLM using `llm.stream()`.  \n",
        "Streaming allows partial output to appear as it is generated, useful for **long responses or real-time display**.\n",
        "\n",
        "> 💡 **Tip:**  \n",
        "> `end=\"\"` ensures that the content is printed continuously on the same line,  \n",
        "> and `flush=True` forces immediate display of each chunk.\n"
      ],
      "metadata": {
        "id": "Cf8lyLIOmwli"
      }
    },
    {
      "cell_type": "code",
      "source": [
        "# %%time measures total execution time for streaming\n",
        "%%time\n",
        "\n",
        "# Define a prompt for streaming\n",
        "prompt = \"write a rock new song about moon and sun.\"\n",
        "\n",
        "# Stream the response from the LLM\n",
        "for chunk in llm.stream(prompt):\n",
        "    # Print each chunk as it is generated\n",
        "    print(chunk.content, end=\"\", flush=True)\n"
      ],
      "metadata": {
        "colab": {
          "base_uri": "https://localhost:8080/"
        },
        "id": "I0oYs2wamwbD",
        "outputId": "3ac37865-55a6-4f86-fa04-05adc9b8fe92"
      },
      "execution_count": 37,
      "outputs": [
        {
          "output_type": "stream",
          "name": "stdout",
          "text": [
            "**\"Moon and Sun\"**  \n",
            "*(A Rock Anthem)*  \n",
            "\n",
            "**[Verse 1]**  \n",
            "Underneath the velvet sky, the moon begins to rise,  \n",
            "A silver ghost that haunts the night, it’s burning in my eyes.  \n",
            "The sun is sleeping far away, its fire fades to black,  \n",
            "But I can feel its heartbeat still, it’s waiting to attack.  \n",
            "\n",
            "**[Pre-Chorus]**  \n",
            "Two forces pulling at my soul,  \n",
            "One’s the warmth, the other’s cold.  \n",
            "Caught between the night and day,  \n",
            "I’m torn apart, I’m swept away.  \n",
            "\n",
            "**[Chorus]**  \n",
            "Moon and sun, they’re fighting for me,  \n",
            "A cosmic war, a destiny.  \n",
            "One’s the shadow, one’s the flame,  \n",
            "I’m the spark caught in their game.  \n",
            "Moon and sun, they light my way,  \n",
            "Through the dark and through the blaze.  \n",
            "I’ll rise and fall, I’ll burn and run,  \n",
            "Forever chasing moon and sun.  \n",
            "\n",
            "**[Verse 2]**  \n",
            "The moon whispers secrets, soft and low,  \n",
            "A lullaby of dreams unknown.  \n",
            "The sun screams loud, it blinds my eyes,  \n",
            "A raging fire that never dies.  \n",
            "I’m caught between their endless fight,  \n",
            "A prisoner of day and night.  \n",
            "\n",
            "**[Pre-Chorus]**  \n",
            "Two forces pulling at my soul,  \n",
            "One’s the warmth, the other’s cold.  \n",
            "Caught between the night and day,  \n",
            "I’m torn apart, I’m swept away.  \n",
            "\n",
            "**[Chorus]**  \n",
            "Moon and sun, they’re fighting for me,  \n",
            "A cosmic war, a destiny.  \n",
            "One’s the shadow, one’s the flame,  \n",
            "I’m the spark caught in their game.  \n",
            "Moon and sun, they light my way,  \n",
            "Through the dark and through the blaze.  \n",
            "I’ll rise and fall, I’ll burn and run,  \n",
            "Forever chasing moon and sun.  \n",
            "\n",
            "**[Bridge]**  \n",
            "Oh, I can’t escape their pull,  \n",
            "They’re gravity, they’re beautiful.  \n",
            "The moon’s my calm, the sun’s my rage,  \n",
            "I’m trapped inside their endless cage.  \n",
            "But I’ll keep running, I’ll keep fighting,  \n",
            "Through the dark and through the lightning.  \n",
            "\n",
            "**[Chorus]**  \n",
            "Moon and sun, they’re fighting for me,  \n",
            "A cosmic war, a destiny.  \n",
            "One’s the shadow, one’s the flame,  \n",
            "I’m the spark caught in their game.  \n",
            "Moon and sun, they light my way,  \n",
            "Through the dark and through the blaze.  \n",
            "I’ll rise and fall, I’ll burn and run,  \n",
            "Forever chasing moon and sun.  \n",
            "\n",
            "**[Outro]**  \n",
            "Moon and sun, they’ll never fade,  \n",
            "They’re the fire, they’re the shade.  \n",
            "I’ll keep chasing, I’ll keep dreaming,  \n",
            "Moon and sun, my heart is screaming.  CPU times: user 764 ms, sys: 73.9 ms, total: 838 ms\n",
            "Wall time: 4.43 s\n"
          ]
        }
      ]
    },
    {
      "cell_type": "markdown",
      "source": [
        "### Create a Custom Prompt Template\n",
        "This cell demonstrates how to define a **custom prompt template** in LangChain.  \n",
        "We use placeholders (`{problem}`, `{language}`) to dynamically generate prompts based on user input.\n",
        "\n",
        "> 💡 **Tip:**  \n",
        "> Prompt templates help you standardize and reuse prompts across multiple LLM calls.\n"
      ],
      "metadata": {
        "id": "YStUSMskm77a"
      }
    },
    {
      "cell_type": "code",
      "source": [
        "# Import PromptTemplate from LangChain\n",
        "from langchain_classic.prompts import PromptTemplate\n",
        "\n",
        "# Define a template string with placeholders\n",
        "template = '''You are an experienced machine learning engineer.\n",
        "Choose which type of problem this {problem} is, based on data,\n",
        "and provide the desired result in {language}.'''\n",
        "\n",
        "# Create a PromptTemplate object from the template string\n",
        "prompt_template = PromptTemplate.from_template(template)\n",
        "\n",
        "# Format the template by providing actual values for the placeholders\n",
        "prompt = prompt_template.format(\n",
        "    problem=\"you have to predict how much ice cream will sell in this festival sale\",\n",
        "    language=\"Hindi\"\n",
        ")\n",
        "\n",
        "# Print the final formatted prompt\n",
        "print(prompt)\n"
      ],
      "metadata": {
        "colab": {
          "base_uri": "https://localhost:8080/"
        },
        "id": "eQlG-dMoGqo8",
        "outputId": "3ad77af8-149f-4b76-c823-55a5d2951142"
      },
      "execution_count": 38,
      "outputs": [
        {
          "output_type": "stream",
          "name": "stdout",
          "text": [
            "You are an experienced machine learning engineer.\n",
            "Choose which type of problem this you have to predict how much ice cream will sell in this festival sale is, based on data,\n",
            "and provide the desired result in Hindi.\n"
          ]
        }
      ]
    },
    {
      "cell_type": "markdown",
      "source": [
        "### Invoke the LLM and Print Output\n",
        "This cell demonstrates how to **send a prompt to the LLM** using `llm.invoke()`  \n",
        "and extract the generated text using `output.content`.\n"
      ],
      "metadata": {
        "id": "yWO5FDU4nQur"
      }
    },
    {
      "cell_type": "code",
      "source": [
        "# Invoke the LLM with the previously defined prompt\n",
        "output = llm.invoke(prompt)\n",
        "\n",
        "# Print only the content of the response\n",
        "print(output.content)\n"
      ],
      "metadata": {
        "colab": {
          "base_uri": "https://localhost:8080/"
        },
        "id": "nycp6bUAHebL",
        "outputId": "a16a951a-2b7e-4bd7-abac-50bf1bff572e"
      },
      "execution_count": 39,
      "outputs": [
        {
          "output_type": "stream",
          "name": "stdout",
          "text": [
            "यह समस्या एक **Regression Problem** है।  \n",
            "इसमें आपको एक निरंतर (continuous) मान की भविष्यवाणी करनी है, यानी यह अनुमान लगाना है कि त्योहार की बिक्री के दौरान कितनी आइसक्रीम बिकेगी। Regression समस्याओं में लक्ष्य (target) एक संख्यात्मक मान होता है।\n",
            "\n",
            "### वांछित परिणाम:\n",
            "इस समस्या को हल करने के लिए आप निम्नलिखित कदम उठा सकते हैं:\n",
            "1. **डेटा संग्रह**: त्योहार की बिक्री, मौसम, तापमान, पिछले वर्षों की बिक्री, और अन्य प्रासंगिक कारकों का डेटा इकट्ठा करें।\n",
            "2. **डेटा प्रीप्रोसेसिंग**: डेटा को साफ करें, किसी भी गुम डेटा को संभालें, और फीचर्स को स्केल करें।\n",
            "3. **मॉडल चयन**: Regression मॉडल जैसे Linear Regression, Decision Tree Regression, Random Forest, या Gradient Boosting का उपयोग करें।\n",
            "4. **मॉडल ट्रेनिंग**: मॉडल को ट्रेनिंग डेटा पर प्रशिक्षित करें।\n",
            "5. **मॉडल मूल्यांकन**: मॉडल की सटीकता का मूल्यांकन करने के लिए RMSE, MAE, या R² स्कोर का उपयोग करें।\n",
            "6. **भविष्यवाणी**: प्रशिक्षित मॉडल का उपयोग करके आइसक्रीम बिक्री की भविष्यवाणी करें।\n",
            "\n",
            "### हिंदी में:\n",
            "यह समस्या एक Regression समस्या है जिसमें आपको त्योहार की बिक्री के दौरान आइसक्रीम की बिक्री का अनुमान लगाना है।\n"
          ]
        }
      ]
    },
    {
      "cell_type": "markdown",
      "source": [
        "### Create a Chat Prompt Template\n",
        "This cell demonstrates how to build a **chat prompt template** using structured messages:  \n",
        "- **SystemMessage** → Defines the assistant’s behavior or constraints.  \n",
        "- **HumanMessagePromptTemplate** → Represents user input with placeholders.  \n",
        "\n",
        "We can then format the prompt with actual input and convert it to a list of messages for the LLM.\n"
      ],
      "metadata": {
        "id": "ZoWtNUC7nYe6"
      }
    },
    {
      "cell_type": "code",
      "source": [
        "# Import necessary classes from LangChain\n",
        "from langchain_classic.prompts import HumanMessagePromptTemplate, ChatMessagePromptTemplate, ChatPromptTemplate\n",
        "from langchain_core.messages import SystemMessage\n",
        "\n",
        "# Create a chat template with a system message and a human input placeholder\n",
        "chat_template = ChatPromptTemplate.from_messages(\n",
        "    [\n",
        "        SystemMessage(content=\"You respond only in JSON Format.\"),  # Assistant behavior\n",
        "        HumanMessagePromptTemplate.from_template(\"{user_input}\")   # Placeholder for user input\n",
        "    ]\n",
        ")\n",
        "\n",
        "# Format the template with actual user input\n",
        "chat_prompt = chat_template.format_prompt(\n",
        "    user_input=\"Top 5 countries in world by population.\"\n",
        ").to_messages()  # Convert the formatted prompt to messages\n",
        "\n",
        "# Print the structured chat messages ready to be sent to the LLM\n",
        "print(chat_prompt)\n"
      ],
      "metadata": {
        "colab": {
          "base_uri": "https://localhost:8080/"
        },
        "id": "4WvlD6JtJxwr",
        "outputId": "f7d53711-12ca-4ca4-bac7-8c2793e5ee78"
      },
      "execution_count": 40,
      "outputs": [
        {
          "output_type": "stream",
          "name": "stdout",
          "text": [
            "[SystemMessage(content='You respond only in JSON Format.', additional_kwargs={}, response_metadata={}), HumanMessage(content='Top 5 countries in world by population.', additional_kwargs={}, response_metadata={})]\n"
          ]
        }
      ]
    },
    {
      "cell_type": "code",
      "source": [
        "# Invoke the LLM with the previously defined prompt\n",
        "output = llm.invoke(chat_prompt)\n",
        "\n",
        "# Print only the content of the response\n",
        "print(output.content)"
      ],
      "metadata": {
        "colab": {
          "base_uri": "https://localhost:8080/"
        },
        "id": "w7r7VR1XLcae",
        "outputId": "f2becf40-d483-477c-e83d-9a8169d1e209"
      },
      "execution_count": 41,
      "outputs": [
        {
          "output_type": "stream",
          "name": "stdout",
          "text": [
            "```json\n",
            "{\n",
            "  \"top_countries_by_population\": [\n",
            "    {\n",
            "      \"rank\": 1,\n",
            "      \"country\": \"China\",\n",
            "      \"population\": 1444216107\n",
            "    },\n",
            "    {\n",
            "      \"rank\": 2,\n",
            "      \"country\": \"India\",\n",
            "      \"population\": 1439323776\n",
            "    },\n",
            "    {\n",
            "      \"rank\": 3,\n",
            "      \"country\": \"United States\",\n",
            "      \"population\": 331893745\n",
            "    },\n",
            "    {\n",
            "      \"rank\": 4,\n",
            "      \"country\": \"Indonesia\",\n",
            "      \"population\": 276361783\n",
            "    },\n",
            "    {\n",
            "      \"rank\": 5,\n",
            "      \"country\": \"Pakistan\",\n",
            "      \"population\": 238181034\n",
            "    }\n",
            "  ]\n",
            "}\n",
            "```\n"
          ]
        }
      ]
    },
    {
      "cell_type": "markdown",
      "source": [
        "### Use LLMChain with a Custom Prompt Template\n",
        "This cell demonstrates how to combine a **custom prompt template** with the connected LLM using `LLMChain`.  \n",
        "- **LLMChain** takes a prompt template and an LLM, then handles formatting and invoking automatically.  \n",
        "- The `verbose=True` option prints intermediate steps for teaching purposes.\n"
      ],
      "metadata": {
        "id": "0mJ4PyRXnhhN"
      }
    },
    {
      "cell_type": "code",
      "source": [
        "# Import LLMChain from LangChain\n",
        "from langchain_classic.chains import LLMChain\n",
        "\n",
        "# Define a template string with placeholders\n",
        "template = '''You are an experienced machine learning engineer.\n",
        "Choose which type of problem this {problem} is, based on data,\n",
        "and provide the desired result in {language}.'''\n",
        "\n",
        "# Create a PromptTemplate from the template string\n",
        "prompt_template = PromptTemplate.from_template(template)\n",
        "\n",
        "# Initialize an LLMChain with the Azure LLM and the prompt template\n",
        "chain = LLMChain(\n",
        "    llm=llm,             # Connected Azure OpenAI LLM\n",
        "    prompt=prompt_template,\n",
        "    verbose=True          # Print intermediate steps\n",
        ")\n",
        "\n",
        "# Invoke the chain with specific values for placeholders\n",
        "output = chain.invoke({\n",
        "    \"problem\": \"you have to predict how much ice cream will sell in this festival sale\",\n",
        "    \"language\": \"Hindi\"\n",
        "})\n",
        "\n",
        "# Print the final output from the LLM\n",
        "print(output)\n"
      ],
      "metadata": {
        "colab": {
          "base_uri": "https://localhost:8080/"
        },
        "id": "Z0iQ4v8MM852",
        "outputId": "033644a0-124e-4ee3-db12-0b3641121a40"
      },
      "execution_count": 42,
      "outputs": [
        {
          "output_type": "stream",
          "name": "stdout",
          "text": [
            "\n",
            "\n",
            "\u001b[1m> Entering new LLMChain chain...\u001b[0m\n",
            "Prompt after formatting:\n",
            "\u001b[32;1m\u001b[1;3mYou are an experienced machine learning engineer.\n",
            "Choose which type of problem this you have to predict how much ice cream will sell in this festival sale is, based on data,\n",
            "and provide the desired result in Hindi.\u001b[0m\n",
            "\n",
            "\u001b[1m> Finished chain.\u001b[0m\n",
            "{'problem': 'you have to predict how much ice cream will sell in this festival sale', 'language': 'Hindi', 'text': 'यह समस्या एक **Regression Problem** है।  \\n\\nइसमें आपको एक निरंतर (continuous) मान की भविष्यवाणी करनी है, यानी यह अनुमान लगाना है कि त्योहार की बिक्री के दौरान कितनी आइसक्रीम बिकेगी। Regression समस्याओं में लक्ष्य (target) एक संख्यात्मक मान होता है, जैसे बिक्री की मात्रा, तापमान, या आय।  \\n\\n### हिंदी में परिणाम:\\nयह समस्या एक **Regression समस्या** है।'}\n"
          ]
        }
      ]
    },
    {
      "cell_type": "markdown",
      "source": [
        "### LLM Pipeline with Output Parser\n",
        "This example demonstrates how to **combine a prompt template, LLM, and an output parser** into a single pipeline using LangChain’s `|` operator:  \n",
        "- `StrOutputParser()` ensures the LLM output is returned as a **plain string**.  \n",
        "- This approach helps standardize outputs, especially when building applications that rely on predictable text formats.\n"
      ],
      "metadata": {
        "id": "rbw9pHabnnpl"
      }
    },
    {
      "cell_type": "code",
      "source": [
        "# Import StrOutputParser from LangChain core\n",
        "from langchain_core.output_parsers import StrOutputParser\n",
        "\n",
        "# Create a pipeline combining:\n",
        "# Prompt template -> LLM -> String output parser\n",
        "chain = prompt_template | llm | StrOutputParser()\n",
        "\n",
        "# Invoke the chain with values for placeholders in the prompt\n",
        "output = chain.invoke({\n",
        "    \"problem\": \"you have to predict how much ice cream will sell in this festival sale\",\n",
        "    \"language\": \"Hindi\"\n",
        "})\n",
        "\n",
        "# Print the standardized output from the pipeline\n",
        "print(output)\n"
      ],
      "metadata": {
        "colab": {
          "base_uri": "https://localhost:8080/"
        },
        "id": "ePgqxpy7NbUl",
        "outputId": "93325ead-2419-49f8-de70-5e77755f8a82"
      },
      "execution_count": 43,
      "outputs": [
        {
          "output_type": "stream",
          "name": "stdout",
          "text": [
            "यह समस्या एक **Regression Problem** है।  \n",
            "\n",
            "Regression का उपयोग तब किया जाता है जब हमें किसी निरंतर (continuous) मान की भविष्यवाणी करनी होती है। इस मामले में, हमें यह भविष्यवाणी करनी है कि त्योहार की बिक्री के दौरान कितनी आइसक्रीम बिकेगी।  \n",
            "\n",
            "### वांछित परिणाम:\n",
            "इस समस्या को हल करने के लिए, आप निम्नलिखित कदम उठा सकते हैं:  \n",
            "1. **डेटा संग्रह**: त्योहार की बिक्री, मौसम, तापमान, पिछले वर्षों की बिक्री, और अन्य प्रासंगिक कारकों का डेटा इकट्ठा करें।  \n",
            "2. **डेटा प्रीप्रोसेसिंग**: डेटा को साफ करें, किसी भी missing values को भरें, और इसे मॉडल के लिए तैयार करें।  \n",
            "3. **मॉडल चयन**: Regression मॉडल जैसे Linear Regression, Decision Tree Regression, या Random Forest Regression का उपयोग करें।  \n",
            "4. **मॉडल ट्रेनिंग**: डेटा को ट्रेनिंग और टेस्ट सेट में विभाजित करें और मॉडल को ट्रेन करें।  \n",
            "5. **भविष्यवाणी**: मॉडल का उपयोग करके त्योहार की बिक्री के दौरान आइसक्रीम की अनुमानित मात्रा की भविष्यवाणी करें।  \n",
            "\n",
            "### हिंदी में:\n",
            "यह समस्या एक Regression समस्या है जिसमें हमें निरंतर मान (continuous value) की भविष्यवाणी करनी है।\n"
          ]
        }
      ]
    },
    {
      "cell_type": "markdown",
      "source": [
        "### Sequential LLM Chains with SimpleSequentialChain\n",
        "This example demonstrates how to **chain multiple LLMs or chains sequentially** using LangChain’s `SimpleSequentialChain`.  \n",
        "\n",
        "- **chain_1:** Generates a Python function or explanation for a given concept.  \n",
        "- **chain_2:** Further processes or refines the output, possibly using a second LLM instance.  \n",
        "- `SimpleSequentialChain` executes chains in order, passing the output of one as the input to the next.\n",
        "\n",
        "> 💡 **Tip:**  \n",
        "> You can adjust `temperature` for creativity in the second LLM chain.\n"
      ],
      "metadata": {
        "id": "uDGifs_UnvjK"
      }
    },
    {
      "cell_type": "code",
      "source": [
        "# Import necessary classes from LangChain\n",
        "from langchain_classic.chains import LLMChain, SimpleSequentialChain\n",
        "\n",
        "\n",
        "# Create the first prompt template\n",
        "prompt_template_1 = PromptTemplate.from_template(\n",
        "    template='You are an experienced data scientist and Python programmer. Write a function that implements the concept of {concept}.'\n",
        ")\n",
        "\n",
        "# Create the first LLMChain with the main LLM\n",
        "chain_1 = LLMChain(llm=llm, prompt=prompt_template_1)\n",
        "\n",
        "# Initialize a second AzureChatOpenAI LLM with a different temperature\n",
        "llm_2 = AzureChatOpenAI(\n",
        "    azure_deployment=DEPLOYMENT_NAME,\n",
        "    api_version=\"2024-05-01-preview\",\n",
        "    temperature=0.7,\n",
        "    max_tokens=None,\n",
        "    timeout=None,\n",
        "    max_retries=2,\n",
        "    # organization=\"...\",\n",
        "    # model=\"gpt-35-turbo\",\n",
        "    # model_version=\"0125\",\n",
        "    # other params...\n",
        ")\n",
        "\n",
        "# Create the second prompt template\n",
        "prompt_template_2 = PromptTemplate.from_template(\n",
        "    template='Write a Python function that implements the concept of {concept}.'\n",
        ")\n",
        "\n",
        "# Create the second LLMChain with the second LLM\n",
        "chain_2 = LLMChain(llm=llm_2, prompt=prompt_template_2)\n",
        "\n",
        "# Combine both chains into a SimpleSequentialChain\n",
        "overall = SimpleSequentialChain(chains=[chain_1, chain_2], verbose=True)\n",
        "\n",
        "# Invoke the sequential chain with a concept\n",
        "output = overall.invoke(\"Linear Regression\")\n",
        "\n",
        "# Print the final output from the sequential chain\n",
        "print(output)\n"
      ],
      "metadata": {
        "colab": {
          "base_uri": "https://localhost:8080/"
        },
        "id": "miA_1i7LPR-T",
        "outputId": "486401ea-9185-4e4a-f75c-057e5d666738"
      },
      "execution_count": 46,
      "outputs": [
        {
          "output_type": "stream",
          "name": "stdout",
          "text": [
            "\n",
            "\n",
            "\u001b[1m> Entering new SimpleSequentialChain chain...\u001b[0m\n",
            "\u001b[36;1m\u001b[1;3mCertainly! Below is a Python implementation of Linear Regression using NumPy. This function calculates the coefficients for a simple linear regression model (i.e., one dependent variable and one independent variable).\n",
            "\n",
            "```python\n",
            "import numpy as np\n",
            "\n",
            "def linear_regression(X, y):\n",
            "    \"\"\"\n",
            "    Perform Linear Regression to find the coefficients (slope and intercept).\n",
            "    \n",
            "    Parameters:\n",
            "        X (array-like): Independent variable (features).\n",
            "        y (array-like): Dependent variable (target).\n",
            "    \n",
            "    Returns:\n",
            "        tuple: (slope, intercept) of the linear regression line.\n",
            "    \"\"\"\n",
            "    # Ensure X and y are numpy arrays\n",
            "    X = np.array(X)\n",
            "    y = np.array(y)\n",
            "    \n",
            "    # Calculate the mean of X and y\n",
            "    X_mean = np.mean(X)\n",
            "    y_mean = np.mean(y)\n",
            "    \n",
            "    # Calculate the slope (m)\n",
            "    numerator = np.sum((X - X_mean) * (y - y_mean))\n",
            "    denominator = np.sum((X - X_mean) ** 2)\n",
            "    slope = numerator / denominator\n",
            "    \n",
            "    # Calculate the intercept (b)\n",
            "    intercept = y_mean - slope * X_mean\n",
            "    \n",
            "    return slope, intercept\n",
            "\n",
            "# Example usage:\n",
            "if __name__ == \"__main__\":\n",
            "    # Example data\n",
            "    X = [1, 2, 3, 4, 5]\n",
            "    y = [2, 4, 5, 4, 5]\n",
            "    \n",
            "    slope, intercept = linear_regression(X, y)\n",
            "    print(f\"Slope: {slope}, Intercept: {intercept}\")\n",
            "```\n",
            "\n",
            "### Explanation:\n",
            "1. **Inputs**:\n",
            "   - `X`: Independent variable (features).\n",
            "   - `y`: Dependent variable (target).\n",
            "\n",
            "2. **Steps**:\n",
            "   - Compute the mean of `X` and `y`.\n",
            "   - Calculate the slope (`m`) using the formula:\n",
            "     \\[\n",
            "     m = \\frac{\\sum{(X_i - \\text{mean}(X))(y_i - \\text{mean}(y))}}{\\sum{(X_i - \\text{mean}(X))^2}}\n",
            "     \\]\n",
            "   - Calculate the intercept (`b`) using the formula:\n",
            "     \\[\n",
            "     b = \\text{mean}(y) - m \\cdot \\text{mean}(X)\n",
            "     \\]\n",
            "\n",
            "3. **Output**:\n",
            "   - Returns the slope and intercept of the best-fit line.\n",
            "\n",
            "This implementation assumes a simple linear regression model. For multiple linear regression or more advanced features, libraries like `scikit-learn` can be used. Let me know if you'd like an example using `scikit-learn`!\u001b[0m\n",
            "\u001b[33;1m\u001b[1;3mCertainly! Below is the Python implementation for a basic linear regression function using NumPy. It calculates the slope and intercept of the best-fit line, assuming a simple linear regression model. Here's the code:\n",
            "\n",
            "```python\n",
            "import numpy as np\n",
            "\n",
            "def linear_regression(X, y):\n",
            "    \"\"\"\n",
            "    Perform Linear Regression to find the coefficients (slope and intercept).\n",
            "    \n",
            "    Parameters:\n",
            "        X (array-like): Independent variable (features).\n",
            "        y (array-like): Dependent variable (target).\n",
            "    \n",
            "    Returns:\n",
            "        tuple: (slope, intercept) of the linear regression line.\n",
            "    \"\"\"\n",
            "    # Ensure X and y are numpy arrays\n",
            "    X = np.array(X)\n",
            "    y = np.array(y)\n",
            "    \n",
            "    # Calculate the mean of X and y\n",
            "    X_mean = np.mean(X)\n",
            "    y_mean = np.mean(y)\n",
            "    \n",
            "    # Calculate the slope (m)\n",
            "    numerator = np.sum((X - X_mean) * (y - y_mean))\n",
            "    denominator = np.sum((X - X_mean) ** 2)\n",
            "    slope = numerator / denominator\n",
            "    \n",
            "    # Calculate the intercept (b)\n",
            "    intercept = y_mean - slope * X_mean\n",
            "    \n",
            "    return slope, intercept\n",
            "\n",
            "# Example usage:\n",
            "if __name__ == \"__main__\":\n",
            "    # Example data\n",
            "    X = [1, 2, 3, 4, 5]\n",
            "    y = [2, 4, 5, 4, 5]\n",
            "    \n",
            "    slope, intercept = linear_regression(X, y)\n",
            "    print(f\"Slope: {slope}, Intercept: {intercept}\")\n",
            "```\n",
            "\n",
            "### Key Concepts Explained:\n",
            "1. **Inputs**:\n",
            "   - `X`: Represents the independent variable (e.g., features, predictor variable).\n",
            "   - `y`: Represents the dependent variable (e.g., target, response variable).\n",
            "\n",
            "2. **Steps**:\n",
            "   - First, calculate the mean of `X` and `y`.\n",
            "   - Then, compute the slope (`m`) using the formula:\n",
            "     \\[\n",
            "     m = \\frac{\\sum{(X_i - \\text{mean}(X))(y_i - \\text{mean}(y))}}{\\sum{(X_i - \\text{mean}(X))^2}}\n",
            "     \\]\n",
            "   - Finally, calculate the intercept (`b`) using the formula:\n",
            "     \\[\n",
            "     b = \\text{mean}(y) - m \\cdot \\text{mean}(X)\n",
            "     \\]\n",
            "\n",
            "3. **Output**:\n",
            "   - The function returns the slope and intercept of the best-fit line.\n",
            "\n",
            "### Example:\n",
            "Suppose `X = [1, 2, 3, 4, 5]` and `y = [2, 4, 5, 4, 5]`. \n",
            "\n",
            "Running the above code will output:\n",
            "```\n",
            "Slope: 0.6, Intercept: 2.6\n",
            "```\n",
            "\n",
            "### Notes:\n",
            "- This function is designed for simple linear regression (one independent and one dependent variable). If you're interested in more advanced regression models, or multivariate linear regression, libraries like `scikit-learn` can be very helpful. Let me know if you'd like to see an example using `scikit-learn`.\u001b[0m\n",
            "\n",
            "\u001b[1m> Finished chain.\u001b[0m\n",
            "{'input': 'Linear Regression', 'output': 'Certainly! Below is the Python implementation for a basic linear regression function using NumPy. It calculates the slope and intercept of the best-fit line, assuming a simple linear regression model. Here\\'s the code:\\n\\n```python\\nimport numpy as np\\n\\ndef linear_regression(X, y):\\n    \"\"\"\\n    Perform Linear Regression to find the coefficients (slope and intercept).\\n    \\n    Parameters:\\n        X (array-like): Independent variable (features).\\n        y (array-like): Dependent variable (target).\\n    \\n    Returns:\\n        tuple: (slope, intercept) of the linear regression line.\\n    \"\"\"\\n    # Ensure X and y are numpy arrays\\n    X = np.array(X)\\n    y = np.array(y)\\n    \\n    # Calculate the mean of X and y\\n    X_mean = np.mean(X)\\n    y_mean = np.mean(y)\\n    \\n    # Calculate the slope (m)\\n    numerator = np.sum((X - X_mean) * (y - y_mean))\\n    denominator = np.sum((X - X_mean) ** 2)\\n    slope = numerator / denominator\\n    \\n    # Calculate the intercept (b)\\n    intercept = y_mean - slope * X_mean\\n    \\n    return slope, intercept\\n\\n# Example usage:\\nif __name__ == \"__main__\":\\n    # Example data\\n    X = [1, 2, 3, 4, 5]\\n    y = [2, 4, 5, 4, 5]\\n    \\n    slope, intercept = linear_regression(X, y)\\n    print(f\"Slope: {slope}, Intercept: {intercept}\")\\n```\\n\\n### Key Concepts Explained:\\n1. **Inputs**:\\n   - `X`: Represents the independent variable (e.g., features, predictor variable).\\n   - `y`: Represents the dependent variable (e.g., target, response variable).\\n\\n2. **Steps**:\\n   - First, calculate the mean of `X` and `y`.\\n   - Then, compute the slope (`m`) using the formula:\\n     \\\\[\\n     m = \\\\frac{\\\\sum{(X_i - \\\\text{mean}(X))(y_i - \\\\text{mean}(y))}}{\\\\sum{(X_i - \\\\text{mean}(X))^2}}\\n     \\\\]\\n   - Finally, calculate the intercept (`b`) using the formula:\\n     \\\\[\\n     b = \\\\text{mean}(y) - m \\\\cdot \\\\text{mean}(X)\\n     \\\\]\\n\\n3. **Output**:\\n   - The function returns the slope and intercept of the best-fit line.\\n\\n### Example:\\nSuppose `X = [1, 2, 3, 4, 5]` and `y = [2, 4, 5, 4, 5]`. \\n\\nRunning the above code will output:\\n```\\nSlope: 0.6, Intercept: 2.6\\n```\\n\\n### Notes:\\n- This function is designed for simple linear regression (one independent and one dependent variable). If you\\'re interested in more advanced regression models, or multivariate linear regression, libraries like `scikit-learn` can be very helpful. Let me know if you\\'d like to see an example using `scikit-learn`.'}\n"
          ]
        }
      ]
    },
    {
      "cell_type": "markdown",
      "source": [
        "### Interactive Chatbot in English\n",
        "This example demonstrates how to build a **real-time chatbot** in Google Colab using LangChain:  \n",
        "\n",
        "- **AzureChatOpenAI** → The LLM instance connected to your Azure deployment.  \n",
        "- **ChatPromptTemplate** → Defines the chat structure with a system message (AI behavior) and human input.  \n",
        "- **StrOutputParser** → Ensures the output is returned as a plain string.  \n",
        "- The `while True` loop enables continuous conversation until the user types `\"exit\"`.\n"
      ],
      "metadata": {
        "id": "NAY2sug_n3Xh"
      }
    },
    {
      "cell_type": "code",
      "source": [
        "# Import necessary classes from LangChain\n",
        "\n",
        "from langchain_classic.schema import SystemMessage\n",
        "from langchain_classic.prompts import ChatPromptTemplate, HumanMessagePromptTemplate\n",
        "from langchain_classic.chains import LLMChain\n",
        "from langchain_core.output_parsers import StrOutputParser\n",
        "\n",
        "# Initialize the AzureChatOpenAI LLM\n",
        "llm = AzureChatOpenAI(\n",
        "    azure_deployment=DEPLOYMENT_NAME,\n",
        "    api_version=\"2024-05-01-preview\",\n",
        "    temperature=0.9,\n",
        "    max_tokens=None,\n",
        "    timeout=None,\n",
        "    max_retries=2,\n",
        "    # organization=\"...\",\n",
        "    # model=\"gpt-35-turbo\",\n",
        "    # model_version=\"0125\",\n",
        "    # other params...\n",
        ")\n",
        "\n",
        "# Create a chat prompt template\n",
        "prompt = ChatPromptTemplate.from_messages(\n",
        "    [\n",
        "        SystemMessage(content=\"You respond only in English.\"),  # System behavior\n",
        "        HumanMessagePromptTemplate.from_template(\"{user_input}\")  # Placeholder for user input\n",
        "    ]\n",
        ")\n",
        "\n",
        "# Combine the prompt, LLM, and output parser into a chain\n",
        "chain = prompt | llm | StrOutputParser()\n",
        "\n",
        "# Start an interactive chat loop\n",
        "while True:\n",
        "    user_input = input(\"You: \")  # Take input from the user\n",
        "\n",
        "    # Exit condition\n",
        "    if user_input.lower() == \"exit\":\n",
        "        print(\"Chat ended.\")\n",
        "        break\n",
        "\n",
        "    # Invoke the chain with user input\n",
        "    output = chain.invoke({\"user_input\": user_input})\n",
        "\n",
        "    # Print the assistant's response\n",
        "    print(\"Assistant:\", output)\n",
        "    print(\"_\" * 50)  # Separator for readability\n"
      ],
      "metadata": {
        "colab": {
          "base_uri": "https://localhost:8080/"
        },
        "id": "e4czfWywSvuA",
        "outputId": "be897add-36e7-4e97-9d11-09f3edbcc3cd"
      },
      "execution_count": 48,
      "outputs": [
        {
          "output_type": "stream",
          "name": "stdout",
          "text": [
            "You: hi\n",
            "Assistant: Hello! How can I assist you today?\n",
            "__________________________________________________\n",
            "You: quit\n",
            "Assistant: Understood. If you need anything else, feel free to ask. Take care!\n",
            "__________________________________________________\n",
            "You: exit\n",
            "Chat ended.\n"
          ]
        }
      ]
    },
    {
      "cell_type": "markdown",
      "source": [
        "### Conversation Memory with LangChain\n",
        "This cell demonstrates how to **store and manage chat history** using LangChain’s `ConversationBufferMemory`.  \n",
        "\n",
        "- **ConversationBufferMemory** → Keeps track of all previous messages in the conversation.  \n",
        "- **MessagesPlaceholder** → Allows prompts to automatically include past messages when generating responses.\n",
        "\n",
        "> 💡 **Tip:**  \n",
        "> Memory is useful for multi-turn conversations where context from previous messages improves the assistant’s replies.\n"
      ],
      "metadata": {
        "id": "IH1UACwooOVZ"
      }
    },
    {
      "cell_type": "code",
      "source": [
        "# Import classes for memory and message placeholders\n",
        "from langchain_classic.memory import ConversationBufferMemory\n",
        "from langchain_classic.prompts import MessagesPlaceholder\n",
        "\n",
        "# Initialize a conversation memory buffer\n",
        "memory = ConversationBufferMemory(\n",
        "    memory_key=\"chat_history\",  # Key used to store messages internally\n",
        "    return_messages=True        # Ensures messages are returned as structured objects\n",
        ")\n",
        "\n",
        "# MessagesPlaceholder can be used in prompt templates to include chat history\n",
        "# Example usage in a ChatPromptTemplate: MessagesPlaceholder(variable_name=\"chat_history\")\n"
      ],
      "metadata": {
        "id": "uPNOWs-hUW-e",
        "colab": {
          "base_uri": "https://localhost:8080/"
        },
        "outputId": "7bd6e5b2-20eb-4235-e16f-ce9850b402dd"
      },
      "execution_count": 50,
      "outputs": [
        {
          "output_type": "stream",
          "name": "stderr",
          "text": [
            "/tmp/ipython-input-4144554340.py:6: LangChainDeprecationWarning: Please see the migration guide at: https://python.langchain.com/docs/versions/migrating_memory/\n",
            "  memory = ConversationBufferMemory(\n"
          ]
        }
      ]
    },
    {
      "cell_type": "markdown",
      "source": [
        "### Initialize Conversation Memory\n",
        "This cell sets up a **ConversationBufferMemory** object to store chat history.  \n",
        "\n",
        "- `memory_key=\"chat_history\"` → Internal key for storing messages.  \n",
        "- `return_messages=True` → Ensures that stored messages are returned in structured format (SystemMessage, HumanMessage, AIMessage),  \n",
        "  which can be reused in prompts for multi-turn conversations.\n"
      ],
      "metadata": {
        "id": "7qVgbsYNoSco"
      }
    },
    {
      "cell_type": "code",
      "source": [
        "# Import ConversationBufferMemory if not already imported\n",
        "from langchain_classic.memory import ConversationBufferMemory\n",
        "\n",
        "# Initialize a memory buffer to store chat history\n",
        "memory = ConversationBufferMemory(\n",
        "    memory_key=\"chat_history\",  # Key used internally for storing messages\n",
        "    return_messages=True        # Return messages in structured format\n",
        ")\n",
        "\n",
        "\n"
      ],
      "metadata": {
        "id": "iLpKlhP3UpG-"
      },
      "execution_count": 51,
      "outputs": []
    },
    {
      "cell_type": "markdown",
      "source": [
        "### Add Conversation Memory to LLMChain\n",
        "This cell demonstrates how to attach **ConversationBufferMemory** to an LLMChain.  \n",
        "\n",
        "- `memory=memory` → Enables the chain to **remember previous messages**, allowing multi-turn conversations.  \n",
        "- `verbose=False` → Disables intermediate debug prints; set to `True` for teaching or debugging.\n"
      ],
      "metadata": {
        "id": "HvrVWHCcobyH"
      }
    },
    {
      "cell_type": "code",
      "source": [
        "# Import LLMChain if not already imported\n",
        "from langchain_classic.chains import LLMChain\n",
        "\n",
        "# Create an LLMChain with memory enabled\n",
        "chain = LLMChain(\n",
        "    llm=llm,        # Connected AzureChatOpenAI LLM\n",
        "    prompt=prompt,  # Chat prompt template\n",
        "    memory=memory,  # Conversation memory to store chat history\n",
        "    verbose=False   # Set to True to see intermediate steps\n",
        ")"
      ],
      "metadata": {
        "id": "hRiunWpAU0u7"
      },
      "execution_count": 52,
      "outputs": []
    },
    {
      "cell_type": "markdown",
      "source": [
        "### Interactive Multi-Turn Chat with Memory\n",
        "This cell creates a **chat loop** where the assistant remembers previous messages using `ConversationBufferMemory`.  \n",
        "\n",
        "- Users can type `\"exit\"`, `\"quit\"`, or `\"bye\"` to end the chat.  \n",
        "- Each response is generated in the context of the conversation, allowing for **context-aware replies**.  \n",
        "- `print(\"_\" * 50)` adds a visual separator for readability.\n"
      ],
      "metadata": {
        "id": "6fD5Lprxohnd"
      }
    },
    {
      "cell_type": "code",
      "source": [
        "# Start an infinite chat loop\n",
        "while True:\n",
        "    user_input = input(\"You: \")  # Take user input\n",
        "\n",
        "    # Exit conditions\n",
        "    if user_input.lower() in [\"exit\", \"quit\", \"bye\"]:\n",
        "        print(\"Goodbye\")\n",
        "        break\n",
        "\n",
        "    # Invoke the chain with memory\n",
        "    output = chain.invoke({\"user_input\": user_input})\n",
        "\n",
        "    # Print the assistant's response\n",
        "    print(\"Assistant:\", output)\n",
        "    print(\"_\" * 50)  # Separator for readability\n"
      ],
      "metadata": {
        "colab": {
          "base_uri": "https://localhost:8080/"
        },
        "id": "BF8MHB5nU-Ta",
        "outputId": "7f188524-1684-4108-f0a4-930a8a49e8ee"
      },
      "execution_count": 53,
      "outputs": [
        {
          "output_type": "stream",
          "name": "stdout",
          "text": [
            "You: hi\n",
            "Assistant: {'user_input': 'hi', 'chat_history': [HumanMessage(content='hi', additional_kwargs={}, response_metadata={}), AIMessage(content='Hello! How can I assist you today? 😊', additional_kwargs={}, response_metadata={})], 'text': 'Hello! How can I assist you today? 😊'}\n",
            "__________________________________________________\n",
            "You: quit\n",
            "Goodbye\n"
          ]
        }
      ]
    },
    {
      "cell_type": "markdown",
      "source": [
        "### 🖨 Print Plain Text Instead of JSON\n",
        "This example ensures that only the **text content** from the LLM is displayed\n"
      ],
      "metadata": {
        "id": "Qkyqh36PosLY"
      }
    },
    {
      "cell_type": "code",
      "source": [
        "# Start interactive chat loop\n",
        "while True:\n",
        "    user_input = input(\"You: \")\n",
        "\n",
        "    # Exit condition\n",
        "    if user_input.lower() in [\"exit\", \"quit\", \"bye\"]:\n",
        "        print(\"Goodbye\")\n",
        "        break\n",
        "\n",
        "    # Run the chain and get plain text output\n",
        "    output = chain.run({\"user_input\": user_input})\n",
        "\n",
        "    # Print assistant's response\n",
        "    print(\"Assistant:\", output)\n",
        "    print(\"_\" * 50)\n"
      ],
      "metadata": {
        "id": "Cla51cZ8WlQa",
        "colab": {
          "base_uri": "https://localhost:8080/"
        },
        "outputId": "40b3314e-0c25-4f2a-9944-11e03fd51e49"
      },
      "execution_count": 54,
      "outputs": [
        {
          "output_type": "stream",
          "name": "stdout",
          "text": [
            "You: quit\n",
            "Goodbye\n"
          ]
        }
      ]
    },
    {
      "cell_type": "markdown",
      "source": [
        "### Persistent Chat Memory with File Storage\n",
        "This example demonstrates how to **store conversation history in a JSON file** using `FileChatMessageHistory`.  \n",
        "\n",
        "- `FileChatMessageHistory(\"chat_history.json\")` → Stores all messages in the specified JSON file.  \n",
        "- `ConversationBufferMemory` → Wraps the file history so the LLM can access previous messages for context.  \n",
        "- The chat loop continues until the user types `\"exit\"`, `\"quit\"`, or `\"bye\"`.\n"
      ],
      "metadata": {
        "id": "R4ZoPNsWpBbs"
      }
    },
    {
      "cell_type": "code",
      "source": [
        "# Import FileChatMessageHistory\n",
        "from langchain_classic.memory import FileChatMessageHistory\n",
        "from langchain_classic.chains import LLMChain\n",
        "\n",
        "# Create a persistent file-based chat history\n",
        "history = FileChatMessageHistory(\"chat_history.json\")\n",
        "\n",
        "# Initialize ConversationBufferMemory with the file history\n",
        "memory = ConversationBufferMemory(\n",
        "    memory_key=\"chat_history\",  # Internal key for memory\n",
        "    return_messages=True,       # Return structured messages\n",
        "    chat_memory=history         # Use persistent file storage\n",
        ")\n",
        "\n",
        "# Create the LLMChain with memory enabled\n",
        "chain = LLMChain(\n",
        "    llm=llm,       # Connected AzureChatOpenAI LLM\n",
        "    prompt=prompt, # Chat prompt template\n",
        "    verbose=False, # Disable verbose logs\n",
        "    memory=memory  # Attach persistent memory\n",
        ")\n",
        "\n",
        "# Start interactive chat loop with persistent memory\n",
        "while True:\n",
        "    user_input = input(\"You: \")\n",
        "\n",
        "    # Exit conditions\n",
        "    if user_input.lower() in [\"exit\", \"quit\", \"bye\"]:\n",
        "        print(\"Goodbye\")\n",
        "        break\n",
        "\n",
        "    # Invoke the chain with memory\n",
        "    output = chain.invoke({\"user_input\": user_input})\n",
        "\n",
        "    # Print assistant response\n",
        "    print(\"Assistant:\", output)\n",
        "    print(\"_\" * 50)  # Separator for readability\n"
      ],
      "metadata": {
        "colab": {
          "base_uri": "https://localhost:8080/"
        },
        "id": "lHlemjxJWpSi",
        "outputId": "94138869-19c1-49cf-8ae5-398c27ca789a"
      },
      "execution_count": 55,
      "outputs": [
        {
          "output_type": "stream",
          "name": "stdout",
          "text": [
            "You: quit\n",
            "Goodbye\n"
          ]
        }
      ]
    },
    {
      "cell_type": "markdown",
      "source": [
        "### 📝 Summarize a Document Using LLM\n",
        "This example demonstrates how to summarize a long text using LangChain:  \n",
        "\n",
        "- `SystemMessage` → Sets the assistant’s role and expertise.  \n",
        "- `HumanMessage` → Provides the text to summarize.  \n",
        "- `llm.invoke(messages)` → Sends the structured messages to the LLM and returns the response.  \n",
        "- `output.content` → Extracts the plain text summary.\n"
      ],
      "metadata": {
        "id": "QKS42xNVpkiE"
      }
    },
    {
      "cell_type": "code",
      "source": [
        "# Import SystemMessage and HumanMessage if not already imported\n",
        "from langchain_classic.schema import SystemMessage, HumanMessage\n",
        "\n",
        "# Define the text to summarize\n",
        "text = '''\n",
        "The coronavirus, officially known as COVID-19, is a highly contagious viral infection that emerged in late 2019 in the city of Wuhan, China.\n",
        "Classified as a novel coronavirus, it quickly spread worldwide, leading to a global pandemic declared by the World Health Organization\n",
        "(WHO) in March 2020. The virus primarily spreads through respiratory droplets and close contact, with symptoms ranging from mild, such as\n",
        "fever, cough, and fatigue, to severe, including difficulty breathing and complications like pneumonia. Vulnerable populations, such as\n",
        "the elderly and those with underlying health conditions, faced increased risks of severe outcomes. The pandemic had profound impacts on\n",
        "global health systems, economies, and daily life, prompting widespread lockdowns, travel restrictions, and shifts to remote work and\n",
        "education. In response, scientists and pharmaceutical companies rapidly developed vaccines, which became a crucial tool in combating\n",
        "the virus and reducing its spread. Despite progress in managing the pandemic, the emergence of new variants posed ongoing challenges,\n",
        "underscoring the importance of public health measures, vaccination campaigns, and global cooperation to mitigate the virus's impacts.\n",
        "'''\n",
        "\n",
        "# Create structured messages for the LLM\n",
        "messages = [\n",
        "    SystemMessage(content=\"You are an expert copywriter with expertise in summarizing documents.\"),\n",
        "    HumanMessage(content=f\"Please provide a short and concise summary of the following text:\\n\\nTEXT:\\n{text}\")\n",
        "]\n",
        "\n",
        "# Invoke the LLM to get the summary\n",
        "output = llm.invoke(messages)\n",
        "\n",
        "# Print the summarized content\n",
        "print(output.content)\n"
      ],
      "metadata": {
        "id": "UTt7aZ6bvC54",
        "colab": {
          "base_uri": "https://localhost:8080/"
        },
        "outputId": "be2e084d-732f-4d7a-e861-43f23bd1edc0"
      },
      "execution_count": 56,
      "outputs": [
        {
          "output_type": "stream",
          "name": "stdout",
          "text": [
            "COVID-19, a highly contagious viral infection that originated in Wuhan, China in late 2019, quickly spread worldwide, prompting the WHO to declare a global pandemic in March 2020. Transmitted through respiratory droplets, the virus caused a range of symptoms, from mild to severe, with vulnerable populations most at risk. The pandemic disrupted health systems, economies, and daily life, leading to lockdowns, travel restrictions, and remote work. Vaccines were developed to combat the virus, but new variants continue to challenge efforts, highlighting the need for ongoing public health measures and global cooperation.\n"
          ]
        }
      ]
    },
    {
      "cell_type": "markdown",
      "source": [
        "### Count Tokens for Input and Output\n",
        "This example demonstrates how to compute the **number of tokens** for a given input text, the LLM’s output, and the **total tokens used**.  \n",
        "> Useful for monitoring token usage and estimating costs with Azure OpenAI.\n"
      ],
      "metadata": {
        "id": "lkCcRwuOpvjv"
      }
    },
    {
      "cell_type": "code",
      "source": [
        "# Define the input text\n",
        "text = '''\n",
        "The coronavirus, officially known as COVID-19, is a highly contagious viral infection that emerged in late 2019 in the city of Wuhan, China.\n",
        "Classified as a novel coronavirus, it quickly spread worldwide, leading to a global pandemic declared by the World Health Organization\n",
        "(WHO) in March 2020. The virus primarily spreads through respiratory droplets and close contact, with symptoms ranging from mild, such as\n",
        "fever, cough, and fatigue, to severe, including difficulty breathing and complications like pneumonia. Vulnerable populations, such as\n",
        "the elderly and those with underlying health conditions, faced increased risks of severe outcomes. The pandemic had profound impacts on\n",
        "global health systems, economies, and daily life, prompting widespread lockdowns, travel restrictions, and shifts to remote work and\n",
        "education. In response, scientists and pharmaceutical companies rapidly developed vaccines, which became a crucial tool in combating\n",
        "the virus and reducing its spread. Despite progress in managing the pandemic, the emergence of new variants posed ongoing challenges,\n",
        "underscoring the importance of public health measures, vaccination campaigns, and global cooperation to mitigate the virus's impacts.\n",
        "'''\n",
        "\n",
        "# Create structured messages for LLM\n",
        "messages = [\n",
        "    SystemMessage(content=\"You are an expert copywriter with expertise in summarizing documents.\"),\n",
        "    HumanMessage(content=f\"Please provide a short and concise summary of the following text:\\n\\nTEXT:\\n{text}\")\n",
        "]\n",
        "\n",
        "# Invoke the LLM to get the summary\n",
        "output = llm.invoke(messages)\n",
        "\n",
        "# Count tokens\n",
        "input_tokens = llm.get_num_tokens(text)              # Tokens in input text\n",
        "output_tokens = llm.get_num_tokens(output.content)  # Tokens in LLM output\n",
        "total_tokens = input_tokens + output_tokens         # Total tokens\n",
        "\n",
        "# Print results\n",
        "print(f\"Input Tokens : {input_tokens}\")\n",
        "print(f\"Output Tokens: {output_tokens}\")\n",
        "print(f\"Total Tokens : {total_tokens}\")\n"
      ],
      "metadata": {
        "id": "8HOglbkapvZ2",
        "colab": {
          "base_uri": "https://localhost:8080/",
          "height": 356
        },
        "outputId": "23d2670d-6a87-44d7-c041-12a0cc0386e4"
      },
      "execution_count": 57,
      "outputs": [
        {
          "output_type": "error",
          "ename": "AttributeError",
          "evalue": "'NoneType' object has no attribute 'startswith'",
          "traceback": [
            "\u001b[0;31m---------------------------------------------------------------------------\u001b[0m",
            "\u001b[0;31mAttributeError\u001b[0m                            Traceback (most recent call last)",
            "\u001b[0;32m/tmp/ipython-input-1609048805.py\u001b[0m in \u001b[0;36m<cell line: 0>\u001b[0;34m()\u001b[0m\n\u001b[1;32m     22\u001b[0m \u001b[0;34m\u001b[0m\u001b[0m\n\u001b[1;32m     23\u001b[0m \u001b[0;31m# Count tokens\u001b[0m\u001b[0;34m\u001b[0m\u001b[0;34m\u001b[0m\u001b[0m\n\u001b[0;32m---> 24\u001b[0;31m \u001b[0minput_tokens\u001b[0m \u001b[0;34m=\u001b[0m \u001b[0mllm\u001b[0m\u001b[0;34m.\u001b[0m\u001b[0mget_num_tokens\u001b[0m\u001b[0;34m(\u001b[0m\u001b[0mtext\u001b[0m\u001b[0;34m)\u001b[0m              \u001b[0;31m# Tokens in input text\u001b[0m\u001b[0;34m\u001b[0m\u001b[0;34m\u001b[0m\u001b[0m\n\u001b[0m\u001b[1;32m     25\u001b[0m \u001b[0moutput_tokens\u001b[0m \u001b[0;34m=\u001b[0m \u001b[0mllm\u001b[0m\u001b[0;34m.\u001b[0m\u001b[0mget_num_tokens\u001b[0m\u001b[0;34m(\u001b[0m\u001b[0moutput\u001b[0m\u001b[0;34m.\u001b[0m\u001b[0mcontent\u001b[0m\u001b[0;34m)\u001b[0m  \u001b[0;31m# Tokens in LLM output\u001b[0m\u001b[0;34m\u001b[0m\u001b[0;34m\u001b[0m\u001b[0m\n\u001b[1;32m     26\u001b[0m \u001b[0mtotal_tokens\u001b[0m \u001b[0;34m=\u001b[0m \u001b[0minput_tokens\u001b[0m \u001b[0;34m+\u001b[0m \u001b[0moutput_tokens\u001b[0m         \u001b[0;31m# Total tokens\u001b[0m\u001b[0;34m\u001b[0m\u001b[0;34m\u001b[0m\u001b[0m\n",
            "\u001b[0;32m/usr/local/lib/python3.12/dist-packages/langchain_core/language_models/base.py\u001b[0m in \u001b[0;36mget_num_tokens\u001b[0;34m(self, text)\u001b[0m\n\u001b[1;32m    288\u001b[0m \u001b[0;34m\u001b[0m\u001b[0m\n\u001b[1;32m    289\u001b[0m         \"\"\"\n\u001b[0;32m--> 290\u001b[0;31m         \u001b[0;32mreturn\u001b[0m \u001b[0mlen\u001b[0m\u001b[0;34m(\u001b[0m\u001b[0mself\u001b[0m\u001b[0;34m.\u001b[0m\u001b[0mget_token_ids\u001b[0m\u001b[0;34m(\u001b[0m\u001b[0mtext\u001b[0m\u001b[0;34m)\u001b[0m\u001b[0;34m)\u001b[0m\u001b[0;34m\u001b[0m\u001b[0;34m\u001b[0m\u001b[0m\n\u001b[0m\u001b[1;32m    291\u001b[0m \u001b[0;34m\u001b[0m\u001b[0m\n\u001b[1;32m    292\u001b[0m     def get_num_tokens_from_messages(\n",
            "\u001b[0;32m/usr/local/lib/python3.12/dist-packages/langchain_openai/chat_models/base.py\u001b[0m in \u001b[0;36mget_token_ids\u001b[0;34m(self, text)\u001b[0m\n\u001b[1;32m   1633\u001b[0m         \u001b[0;32mif\u001b[0m \u001b[0msys\u001b[0m\u001b[0;34m.\u001b[0m\u001b[0mversion_info\u001b[0m\u001b[0;34m[\u001b[0m\u001b[0;36m1\u001b[0m\u001b[0;34m]\u001b[0m \u001b[0;34m<=\u001b[0m \u001b[0;36m7\u001b[0m\u001b[0;34m:\u001b[0m\u001b[0;34m\u001b[0m\u001b[0;34m\u001b[0m\u001b[0m\n\u001b[1;32m   1634\u001b[0m             \u001b[0;32mreturn\u001b[0m \u001b[0msuper\u001b[0m\u001b[0;34m(\u001b[0m\u001b[0;34m)\u001b[0m\u001b[0;34m.\u001b[0m\u001b[0mget_token_ids\u001b[0m\u001b[0;34m(\u001b[0m\u001b[0mtext\u001b[0m\u001b[0;34m)\u001b[0m\u001b[0;34m\u001b[0m\u001b[0;34m\u001b[0m\u001b[0m\n\u001b[0;32m-> 1635\u001b[0;31m         \u001b[0m_\u001b[0m\u001b[0;34m,\u001b[0m \u001b[0mencoding_model\u001b[0m \u001b[0;34m=\u001b[0m \u001b[0mself\u001b[0m\u001b[0;34m.\u001b[0m\u001b[0m_get_encoding_model\u001b[0m\u001b[0;34m(\u001b[0m\u001b[0;34m)\u001b[0m\u001b[0;34m\u001b[0m\u001b[0;34m\u001b[0m\u001b[0m\n\u001b[0m\u001b[1;32m   1636\u001b[0m         \u001b[0;32mreturn\u001b[0m \u001b[0mencoding_model\u001b[0m\u001b[0;34m.\u001b[0m\u001b[0mencode\u001b[0m\u001b[0;34m(\u001b[0m\u001b[0mtext\u001b[0m\u001b[0;34m)\u001b[0m\u001b[0;34m\u001b[0m\u001b[0;34m\u001b[0m\u001b[0m\n\u001b[1;32m   1637\u001b[0m \u001b[0;34m\u001b[0m\u001b[0m\n",
            "\u001b[0;32m/usr/local/lib/python3.12/dist-packages/langchain_openai/chat_models/base.py\u001b[0m in \u001b[0;36m_get_encoding_model\u001b[0;34m(self)\u001b[0m\n\u001b[1;32m   1614\u001b[0m             \u001b[0mmodel\u001b[0m \u001b[0;34m=\u001b[0m \u001b[0mself\u001b[0m\u001b[0;34m.\u001b[0m\u001b[0mmodel_name\u001b[0m\u001b[0;34m\u001b[0m\u001b[0;34m\u001b[0m\u001b[0m\n\u001b[1;32m   1615\u001b[0m         \u001b[0;32mtry\u001b[0m\u001b[0;34m:\u001b[0m\u001b[0;34m\u001b[0m\u001b[0;34m\u001b[0m\u001b[0m\n\u001b[0;32m-> 1616\u001b[0;31m             \u001b[0mencoding\u001b[0m \u001b[0;34m=\u001b[0m \u001b[0mtiktoken\u001b[0m\u001b[0;34m.\u001b[0m\u001b[0mencoding_for_model\u001b[0m\u001b[0;34m(\u001b[0m\u001b[0mmodel\u001b[0m\u001b[0;34m)\u001b[0m\u001b[0;34m\u001b[0m\u001b[0;34m\u001b[0m\u001b[0m\n\u001b[0m\u001b[1;32m   1617\u001b[0m         \u001b[0;32mexcept\u001b[0m \u001b[0mKeyError\u001b[0m\u001b[0;34m:\u001b[0m\u001b[0;34m\u001b[0m\u001b[0;34m\u001b[0m\u001b[0m\n\u001b[1;32m   1618\u001b[0m             \u001b[0mencoder\u001b[0m \u001b[0;34m=\u001b[0m \u001b[0;34m\"cl100k_base\"\u001b[0m\u001b[0;34m\u001b[0m\u001b[0;34m\u001b[0m\u001b[0m\n",
            "\u001b[0;32m/usr/local/lib/python3.12/dist-packages/tiktoken/model.py\u001b[0m in \u001b[0;36mencoding_for_model\u001b[0;34m(model_name)\u001b[0m\n\u001b[1;32m    116\u001b[0m     \u001b[0mRaises\u001b[0m \u001b[0ma\u001b[0m \u001b[0mKeyError\u001b[0m \u001b[0;32mif\u001b[0m \u001b[0mthe\u001b[0m \u001b[0mmodel\u001b[0m \u001b[0mname\u001b[0m \u001b[0;32mis\u001b[0m \u001b[0;32mnot\u001b[0m \u001b[0mrecognised\u001b[0m\u001b[0;34m.\u001b[0m\u001b[0;34m\u001b[0m\u001b[0;34m\u001b[0m\u001b[0m\n\u001b[1;32m    117\u001b[0m     \"\"\"\n\u001b[0;32m--> 118\u001b[0;31m     \u001b[0;32mreturn\u001b[0m \u001b[0mget_encoding\u001b[0m\u001b[0;34m(\u001b[0m\u001b[0mencoding_name_for_model\u001b[0m\u001b[0;34m(\u001b[0m\u001b[0mmodel_name\u001b[0m\u001b[0;34m)\u001b[0m\u001b[0;34m)\u001b[0m\u001b[0;34m\u001b[0m\u001b[0;34m\u001b[0m\u001b[0m\n\u001b[0m",
            "\u001b[0;32m/usr/local/lib/python3.12/dist-packages/tiktoken/model.py\u001b[0m in \u001b[0;36mencoding_name_for_model\u001b[0;34m(model_name)\u001b[0m\n\u001b[1;32m     99\u001b[0m         \u001b[0;31m# Note that this can match on non-existent models (e.g., gpt-3.5-turbo-FAKE)\u001b[0m\u001b[0;34m\u001b[0m\u001b[0;34m\u001b[0m\u001b[0m\n\u001b[1;32m    100\u001b[0m         \u001b[0;32mfor\u001b[0m \u001b[0mmodel_prefix\u001b[0m\u001b[0;34m,\u001b[0m \u001b[0mmodel_encoding_name\u001b[0m \u001b[0;32min\u001b[0m \u001b[0mMODEL_PREFIX_TO_ENCODING\u001b[0m\u001b[0;34m.\u001b[0m\u001b[0mitems\u001b[0m\u001b[0;34m(\u001b[0m\u001b[0;34m)\u001b[0m\u001b[0;34m:\u001b[0m\u001b[0;34m\u001b[0m\u001b[0;34m\u001b[0m\u001b[0m\n\u001b[0;32m--> 101\u001b[0;31m             \u001b[0;32mif\u001b[0m \u001b[0mmodel_name\u001b[0m\u001b[0;34m.\u001b[0m\u001b[0mstartswith\u001b[0m\u001b[0;34m(\u001b[0m\u001b[0mmodel_prefix\u001b[0m\u001b[0;34m)\u001b[0m\u001b[0;34m:\u001b[0m\u001b[0;34m\u001b[0m\u001b[0;34m\u001b[0m\u001b[0m\n\u001b[0m\u001b[1;32m    102\u001b[0m                 \u001b[0;32mreturn\u001b[0m \u001b[0mmodel_encoding_name\u001b[0m\u001b[0;34m\u001b[0m\u001b[0;34m\u001b[0m\u001b[0m\n\u001b[1;32m    103\u001b[0m \u001b[0;34m\u001b[0m\u001b[0m\n",
            "\u001b[0;31mAttributeError\u001b[0m: 'NoneType' object has no attribute 'startswith'"
          ]
        }
      ]
    },
    {
      "cell_type": "markdown",
      "source": [
        "### Import Modules for Summarization Chains\n",
        "This cell demonstrates how to import the required classes for building a **document summarization pipeline**:  \n",
        "\n",
        "- `load_summarize_chain` → Utility function to create an LLM chain specialized for summarizing documents.  \n",
        "- `Document` → Class representing a document that can be processed by the chain.  \n"
      ],
      "metadata": {
        "id": "6YA-lwBiqIl0"
      }
    },
    {
      "cell_type": "code",
      "source": [
        "# Import the summarization chain loader\n",
        "from langchain_classic.chains import load_summarize_chain\n",
        "\n",
        "# Import the Document class\n",
        "from langchain_classic.docstore.document import Document\n",
        "\n"
      ],
      "metadata": {
        "id": "BH0hi5EkvxJX"
      },
      "execution_count": 58,
      "outputs": []
    },
    {
      "cell_type": "markdown",
      "source": [
        "### Upload a Text File and Create a Document\n",
        "This cell demonstrates how to:  \n",
        "1. Upload a local text file to Colab.  \n",
        "2. Read the file content.  \n",
        "3. Create a `Document` object for use in LangChain summarization or other chains.  \n",
        "4. Preview the first 500 characters of the text.\n",
        "*italicized text*"
      ],
      "metadata": {
        "id": "abYGElC5qLIj"
      }
    },
    {
      "cell_type": "code",
      "source": [
        "\n",
        "# Import files module from Colab\n",
        "from google.colab import files\n",
        "from langchain_classic.docstore import document\n",
        "\n",
        "# Upload a local file (interactive file chooser will appear)\n",
        "uploaded = files.upload()\n",
        "\n",
        "# Read the uploaded file content\n",
        "with open('sj.txt', encoding='utf-8') as f:\n",
        "    text = f.read()\n",
        "\n",
        "# Create a LangChain Document object\n",
        "docs = [document.Document(page_content=text)]\n",
        "\n",
        "# Preview the first 500 characters of the text\n",
        "print(text[:500])\n"
      ],
      "metadata": {
        "id": "ZWDTl5EEwF0n",
        "colab": {
          "base_uri": "https://localhost:8080/",
          "height": 179
        },
        "outputId": "000f2036-3cdf-4e4d-9e20-8bcc25c5c15c"
      },
      "execution_count": 59,
      "outputs": [
        {
          "output_type": "display_data",
          "data": {
            "text/plain": [
              "<IPython.core.display.HTML object>"
            ],
            "text/html": [
              "\n",
              "     <input type=\"file\" id=\"files-aaf171ff-4fba-49d0-9f83-4c92ef2ef48d\" name=\"files[]\" multiple disabled\n",
              "        style=\"border:none\" />\n",
              "     <output id=\"result-aaf171ff-4fba-49d0-9f83-4c92ef2ef48d\">\n",
              "      Upload widget is only available when the cell has been executed in the\n",
              "      current browser session. Please rerun this cell to enable.\n",
              "      </output>\n",
              "      <script>// Copyright 2017 Google LLC\n",
              "//\n",
              "// Licensed under the Apache License, Version 2.0 (the \"License\");\n",
              "// you may not use this file except in compliance with the License.\n",
              "// You may obtain a copy of the License at\n",
              "//\n",
              "//      http://www.apache.org/licenses/LICENSE-2.0\n",
              "//\n",
              "// Unless required by applicable law or agreed to in writing, software\n",
              "// distributed under the License is distributed on an \"AS IS\" BASIS,\n",
              "// WITHOUT WARRANTIES OR CONDITIONS OF ANY KIND, either express or implied.\n",
              "// See the License for the specific language governing permissions and\n",
              "// limitations under the License.\n",
              "\n",
              "/**\n",
              " * @fileoverview Helpers for google.colab Python module.\n",
              " */\n",
              "(function(scope) {\n",
              "function span(text, styleAttributes = {}) {\n",
              "  const element = document.createElement('span');\n",
              "  element.textContent = text;\n",
              "  for (const key of Object.keys(styleAttributes)) {\n",
              "    element.style[key] = styleAttributes[key];\n",
              "  }\n",
              "  return element;\n",
              "}\n",
              "\n",
              "// Max number of bytes which will be uploaded at a time.\n",
              "const MAX_PAYLOAD_SIZE = 100 * 1024;\n",
              "\n",
              "function _uploadFiles(inputId, outputId) {\n",
              "  const steps = uploadFilesStep(inputId, outputId);\n",
              "  const outputElement = document.getElementById(outputId);\n",
              "  // Cache steps on the outputElement to make it available for the next call\n",
              "  // to uploadFilesContinue from Python.\n",
              "  outputElement.steps = steps;\n",
              "\n",
              "  return _uploadFilesContinue(outputId);\n",
              "}\n",
              "\n",
              "// This is roughly an async generator (not supported in the browser yet),\n",
              "// where there are multiple asynchronous steps and the Python side is going\n",
              "// to poll for completion of each step.\n",
              "// This uses a Promise to block the python side on completion of each step,\n",
              "// then passes the result of the previous step as the input to the next step.\n",
              "function _uploadFilesContinue(outputId) {\n",
              "  const outputElement = document.getElementById(outputId);\n",
              "  const steps = outputElement.steps;\n",
              "\n",
              "  const next = steps.next(outputElement.lastPromiseValue);\n",
              "  return Promise.resolve(next.value.promise).then((value) => {\n",
              "    // Cache the last promise value to make it available to the next\n",
              "    // step of the generator.\n",
              "    outputElement.lastPromiseValue = value;\n",
              "    return next.value.response;\n",
              "  });\n",
              "}\n",
              "\n",
              "/**\n",
              " * Generator function which is called between each async step of the upload\n",
              " * process.\n",
              " * @param {string} inputId Element ID of the input file picker element.\n",
              " * @param {string} outputId Element ID of the output display.\n",
              " * @return {!Iterable<!Object>} Iterable of next steps.\n",
              " */\n",
              "function* uploadFilesStep(inputId, outputId) {\n",
              "  const inputElement = document.getElementById(inputId);\n",
              "  inputElement.disabled = false;\n",
              "\n",
              "  const outputElement = document.getElementById(outputId);\n",
              "  outputElement.innerHTML = '';\n",
              "\n",
              "  const pickedPromise = new Promise((resolve) => {\n",
              "    inputElement.addEventListener('change', (e) => {\n",
              "      resolve(e.target.files);\n",
              "    });\n",
              "  });\n",
              "\n",
              "  const cancel = document.createElement('button');\n",
              "  inputElement.parentElement.appendChild(cancel);\n",
              "  cancel.textContent = 'Cancel upload';\n",
              "  const cancelPromise = new Promise((resolve) => {\n",
              "    cancel.onclick = () => {\n",
              "      resolve(null);\n",
              "    };\n",
              "  });\n",
              "\n",
              "  // Wait for the user to pick the files.\n",
              "  const files = yield {\n",
              "    promise: Promise.race([pickedPromise, cancelPromise]),\n",
              "    response: {\n",
              "      action: 'starting',\n",
              "    }\n",
              "  };\n",
              "\n",
              "  cancel.remove();\n",
              "\n",
              "  // Disable the input element since further picks are not allowed.\n",
              "  inputElement.disabled = true;\n",
              "\n",
              "  if (!files) {\n",
              "    return {\n",
              "      response: {\n",
              "        action: 'complete',\n",
              "      }\n",
              "    };\n",
              "  }\n",
              "\n",
              "  for (const file of files) {\n",
              "    const li = document.createElement('li');\n",
              "    li.append(span(file.name, {fontWeight: 'bold'}));\n",
              "    li.append(span(\n",
              "        `(${file.type || 'n/a'}) - ${file.size} bytes, ` +\n",
              "        `last modified: ${\n",
              "            file.lastModifiedDate ? file.lastModifiedDate.toLocaleDateString() :\n",
              "                                    'n/a'} - `));\n",
              "    const percent = span('0% done');\n",
              "    li.appendChild(percent);\n",
              "\n",
              "    outputElement.appendChild(li);\n",
              "\n",
              "    const fileDataPromise = new Promise((resolve) => {\n",
              "      const reader = new FileReader();\n",
              "      reader.onload = (e) => {\n",
              "        resolve(e.target.result);\n",
              "      };\n",
              "      reader.readAsArrayBuffer(file);\n",
              "    });\n",
              "    // Wait for the data to be ready.\n",
              "    let fileData = yield {\n",
              "      promise: fileDataPromise,\n",
              "      response: {\n",
              "        action: 'continue',\n",
              "      }\n",
              "    };\n",
              "\n",
              "    // Use a chunked sending to avoid message size limits. See b/62115660.\n",
              "    let position = 0;\n",
              "    do {\n",
              "      const length = Math.min(fileData.byteLength - position, MAX_PAYLOAD_SIZE);\n",
              "      const chunk = new Uint8Array(fileData, position, length);\n",
              "      position += length;\n",
              "\n",
              "      const base64 = btoa(String.fromCharCode.apply(null, chunk));\n",
              "      yield {\n",
              "        response: {\n",
              "          action: 'append',\n",
              "          file: file.name,\n",
              "          data: base64,\n",
              "        },\n",
              "      };\n",
              "\n",
              "      let percentDone = fileData.byteLength === 0 ?\n",
              "          100 :\n",
              "          Math.round((position / fileData.byteLength) * 100);\n",
              "      percent.textContent = `${percentDone}% done`;\n",
              "\n",
              "    } while (position < fileData.byteLength);\n",
              "  }\n",
              "\n",
              "  // All done.\n",
              "  yield {\n",
              "    response: {\n",
              "      action: 'complete',\n",
              "    }\n",
              "  };\n",
              "}\n",
              "\n",
              "scope.google = scope.google || {};\n",
              "scope.google.colab = scope.google.colab || {};\n",
              "scope.google.colab._files = {\n",
              "  _uploadFiles,\n",
              "  _uploadFilesContinue,\n",
              "};\n",
              "})(self);\n",
              "</script> "
            ]
          },
          "metadata": {}
        },
        {
          "output_type": "stream",
          "name": "stdout",
          "text": [
            "Saving sj.txt to sj.txt\n",
            "I am honored to be with you today at your commencement from one of the finest universities in the world. I never graduated from college. Truth be told, this is the closest I’ve ever gotten to a college graduation. Today I want to tell you three stories from my life. That’s it. No big deal. Just three stories.\n",
            "\n",
            "The first story is about connecting the dots.\n",
            "\n",
            "I dropped out of Reed College after the first 6 months, but then stayed around as a drop-in for another 18 months or so before I really quit.\n"
          ]
        }
      ]
    },
    {
      "cell_type": "markdown",
      "source": [
        "### Summarize Text Using a Custom Chat Prompt\n",
        "This cell demonstrates how to:  \n",
        "1. Define a concise summary prompt using `ChatPromptTemplate`.  \n",
        "2. Load a summarization chain (`load_summarize_chain`) with the prompt.  \n",
        "3. Run the chain on a `Document` object to get the summary.\n"
      ],
      "metadata": {
        "id": "FPzezkJLqabM"
      }
    },
    {
      "cell_type": "code",
      "source": [
        "# Import ChatPromptTemplate if not already imported\n",
        "from langchain_classic.prompts import ChatPromptTemplate\n",
        "from langchain_classic.chains import load_summarize_chain\n",
        "\n",
        "# Define a custom template for summarization\n",
        "template = '''Write a concise and short summary of the following text.\\nTEXT: {text}'''\n",
        "\n",
        "# Create a ChatPromptTemplate from the template\n",
        "prompt = ChatPromptTemplate.from_template(template)\n",
        "\n",
        "# Load the summarization chain using the LLM and the custom prompt\n",
        "chain = load_summarize_chain(\n",
        "    llm,                  # Your AzureChatOpenAI LLM\n",
        "    chain_type=\"stuff\",   # \"stuff\" chain type combines all docs into one prompt\n",
        "    prompt=prompt         # Use the custom prompt\n",
        ")\n",
        "\n",
        "# Run the summarization chain on the Document object\n",
        "output = chain.run(docs)\n",
        "\n",
        "# Print the summarized content\n",
        "print(output)\n"
      ],
      "metadata": {
        "id": "45ol-8GkwxLE",
        "colab": {
          "base_uri": "https://localhost:8080/"
        },
        "outputId": "9e7c36f2-1f5f-4ef0-d9eb-8ba11c3a8312"
      },
      "execution_count": 60,
      "outputs": [
        {
          "output_type": "stream",
          "name": "stdout",
          "text": [
            "In his commencement speech, Steve Jobs shares three impactful life lessons through personal stories. First, he emphasizes trusting your intuition and connecting the dots in hindsight, recounting how dropping out of college led him to discover calligraphy, which later influenced the design of the Macintosh. Second, he shares his experience of love and loss, detailing how getting fired from Apple led to renewed creativity, founding NeXT and Pixar, and rediscovering his passion. Lastly, he reflects on facing his own mortality during a cancer diagnosis, urging graduates to follow their hearts, stay true to themselves, and embrace life’s impermanence. He closes with the inspirational mantra, \"Stay Hungry. Stay Foolish.\"\n"
          ]
        }
      ]
    },
    {
      "cell_type": "markdown",
      "source": [
        "### Split Large Text into Chunks for Summarization\n",
        "This cell demonstrates how to handle **large documents** that exceed the token limit of your LLM (e.g., 10000 tokens).  \n",
        "\n",
        "- `RecursiveCharacterTextSplitter` → Splits text into manageable chunks.  \n",
        "- `chunk_size` → Maximum size of each chunk (here 10000 characters/tokens).  \n",
        "- `chunk_overlap` → Overlap between chunks to preserve context.  \n",
        "- Useful for **long documents** to avoid exceeding LLM token limits.\n"
      ],
      "metadata": {
        "id": "1cRNRg2Hqfff"
      }
    },
    {
      "cell_type": "code",
      "source": [
        "# Import required classes\n",
        "from langchain_classic.chains.summarize import load_summarize_chain\n",
        "from langchain_classic.text_splitter import RecursiveCharacterTextSplitter\n",
        "\n",
        "# Initialize the text splitter\n",
        "text_splitter = RecursiveCharacterTextSplitter(\n",
        "    separators=[\"\\n\\n\", \"\\n\"],  # Split on paragraphs or lines\n",
        "    chunk_size=10000,           # Max chunk size (characters/tokens)\n",
        "    chunk_overlap=100           # Overlap to maintain context\n",
        ")\n",
        "\n",
        "# Split the text into chunks (each becomes a Document)\n",
        "chunks = text_splitter.create_documents([text])\n",
        "\n",
        "# Check how many chunks were created\n",
        "len(chunks)\n"
      ],
      "metadata": {
        "id": "PE0fB1Wa0EHD",
        "colab": {
          "base_uri": "https://localhost:8080/"
        },
        "outputId": "f54d0e0a-5d81-4e74-f091-a8b3633fb8f0"
      },
      "execution_count": 61,
      "outputs": [
        {
          "output_type": "execute_result",
          "data": {
            "text/plain": [
              "2"
            ]
          },
          "metadata": {},
          "execution_count": 61
        }
      ]
    },
    {
      "cell_type": "markdown",
      "source": [
        "### Summarize Large Documents with Map-Reduce\n",
        "This cell demonstrates how to summarize **large text split into chunks**:  \n",
        "\n",
        "- `chain_type=\"map_reduce\"` → First summarizes each chunk individually (**map step**) and then combines the summaries (**reduce step**) into a final summary.  \n",
        "- Useful for documents exceeding the LLM token limit.  \n",
        "- Input is a list of `Document` objects created by a text splitter.\n"
      ],
      "metadata": {
        "id": "YXYjPn-Wqo-G"
      }
    },
    {
      "cell_type": "code",
      "source": [
        "# Load the map-reduce summarization chain\n",
        "chain = load_summarize_chain(\n",
        "    llm,                # Your AzureChatOpenAI LLM\n",
        "    chain_type=\"map_reduce\"  # Summarize each chunk and then combine\n",
        ")\n",
        "\n",
        "# Run the summarization chain on the chunked documents\n",
        "output = chain.run(chunks)\n",
        "\n",
        "# Print the final summary\n",
        "print(output)\n"
      ],
      "metadata": {
        "id": "zttJ1hwn1Cd4",
        "colab": {
          "base_uri": "https://localhost:8080/",
          "height": 356
        },
        "outputId": "a3e2adec-854b-45f5-b0d2-52c0510373f2"
      },
      "execution_count": 62,
      "outputs": [
        {
          "output_type": "error",
          "ename": "AttributeError",
          "evalue": "'NoneType' object has no attribute 'startswith'",
          "traceback": [
            "\u001b[0;31m---------------------------------------------------------------------------\u001b[0m",
            "\u001b[0;31mAttributeError\u001b[0m                            Traceback (most recent call last)",
            "\u001b[0;32m/tmp/ipython-input-4174189579.py\u001b[0m in \u001b[0;36m<cell line: 0>\u001b[0;34m()\u001b[0m\n\u001b[1;32m      6\u001b[0m \u001b[0;34m\u001b[0m\u001b[0m\n\u001b[1;32m      7\u001b[0m \u001b[0;31m# Run the summarization chain on the chunked documents\u001b[0m\u001b[0;34m\u001b[0m\u001b[0;34m\u001b[0m\u001b[0m\n\u001b[0;32m----> 8\u001b[0;31m \u001b[0moutput\u001b[0m \u001b[0;34m=\u001b[0m \u001b[0mchain\u001b[0m\u001b[0;34m.\u001b[0m\u001b[0mrun\u001b[0m\u001b[0;34m(\u001b[0m\u001b[0mchunks\u001b[0m\u001b[0;34m)\u001b[0m\u001b[0;34m\u001b[0m\u001b[0;34m\u001b[0m\u001b[0m\n\u001b[0m\u001b[1;32m      9\u001b[0m \u001b[0;34m\u001b[0m\u001b[0m\n\u001b[1;32m     10\u001b[0m \u001b[0;31m# Print the final summary\u001b[0m\u001b[0;34m\u001b[0m\u001b[0;34m\u001b[0m\u001b[0m\n",
            "\u001b[0;32m/usr/local/lib/python3.12/dist-packages/langchain_core/_api/deprecation.py\u001b[0m in \u001b[0;36mwarning_emitting_wrapper\u001b[0;34m(*args, **kwargs)\u001b[0m\n\u001b[1;32m    186\u001b[0m                 \u001b[0mwarned\u001b[0m \u001b[0;34m=\u001b[0m \u001b[0;32mTrue\u001b[0m\u001b[0;34m\u001b[0m\u001b[0;34m\u001b[0m\u001b[0m\n\u001b[1;32m    187\u001b[0m                 \u001b[0memit_warning\u001b[0m\u001b[0;34m(\u001b[0m\u001b[0;34m)\u001b[0m\u001b[0;34m\u001b[0m\u001b[0;34m\u001b[0m\u001b[0m\n\u001b[0;32m--> 188\u001b[0;31m             \u001b[0;32mreturn\u001b[0m \u001b[0mwrapped\u001b[0m\u001b[0;34m(\u001b[0m\u001b[0;34m*\u001b[0m\u001b[0margs\u001b[0m\u001b[0;34m,\u001b[0m \u001b[0;34m**\u001b[0m\u001b[0mkwargs\u001b[0m\u001b[0;34m)\u001b[0m\u001b[0;34m\u001b[0m\u001b[0;34m\u001b[0m\u001b[0m\n\u001b[0m\u001b[1;32m    189\u001b[0m \u001b[0;34m\u001b[0m\u001b[0m\n\u001b[1;32m    190\u001b[0m         \u001b[0;32masync\u001b[0m \u001b[0;32mdef\u001b[0m \u001b[0mawarning_emitting_wrapper\u001b[0m\u001b[0;34m(\u001b[0m\u001b[0;34m*\u001b[0m\u001b[0margs\u001b[0m\u001b[0;34m:\u001b[0m \u001b[0mAny\u001b[0m\u001b[0;34m,\u001b[0m \u001b[0;34m**\u001b[0m\u001b[0mkwargs\u001b[0m\u001b[0;34m:\u001b[0m \u001b[0mAny\u001b[0m\u001b[0;34m)\u001b[0m \u001b[0;34m->\u001b[0m \u001b[0mAny\u001b[0m\u001b[0;34m:\u001b[0m\u001b[0;34m\u001b[0m\u001b[0;34m\u001b[0m\u001b[0m\n",
            "\u001b[0;32m/usr/local/lib/python3.12/dist-packages/langchain_classic/chains/base.py\u001b[0m in \u001b[0;36mrun\u001b[0;34m(self, callbacks, tags, metadata, *args, **kwargs)\u001b[0m\n\u001b[1;32m    630\u001b[0m                 \u001b[0mmsg\u001b[0m \u001b[0;34m=\u001b[0m \u001b[0;34m\"`run` supports only one positional argument.\"\u001b[0m\u001b[0;34m\u001b[0m\u001b[0;34m\u001b[0m\u001b[0m\n\u001b[1;32m    631\u001b[0m                 \u001b[0;32mraise\u001b[0m \u001b[0mValueError\u001b[0m\u001b[0;34m(\u001b[0m\u001b[0mmsg\u001b[0m\u001b[0;34m)\u001b[0m\u001b[0;34m\u001b[0m\u001b[0;34m\u001b[0m\u001b[0m\n\u001b[0;32m--> 632\u001b[0;31m             return self(args[0], callbacks=callbacks, tags=tags, metadata=metadata)[\n\u001b[0m\u001b[1;32m    633\u001b[0m                 \u001b[0m_output_key\u001b[0m\u001b[0;34m\u001b[0m\u001b[0;34m\u001b[0m\u001b[0m\n\u001b[1;32m    634\u001b[0m             ]\n",
            "\u001b[0;32m/usr/local/lib/python3.12/dist-packages/langchain_core/_api/deprecation.py\u001b[0m in \u001b[0;36mwarning_emitting_wrapper\u001b[0;34m(*args, **kwargs)\u001b[0m\n\u001b[1;32m    186\u001b[0m                 \u001b[0mwarned\u001b[0m \u001b[0;34m=\u001b[0m \u001b[0;32mTrue\u001b[0m\u001b[0;34m\u001b[0m\u001b[0;34m\u001b[0m\u001b[0m\n\u001b[1;32m    187\u001b[0m                 \u001b[0memit_warning\u001b[0m\u001b[0;34m(\u001b[0m\u001b[0;34m)\u001b[0m\u001b[0;34m\u001b[0m\u001b[0;34m\u001b[0m\u001b[0m\n\u001b[0;32m--> 188\u001b[0;31m             \u001b[0;32mreturn\u001b[0m \u001b[0mwrapped\u001b[0m\u001b[0;34m(\u001b[0m\u001b[0;34m*\u001b[0m\u001b[0margs\u001b[0m\u001b[0;34m,\u001b[0m \u001b[0;34m**\u001b[0m\u001b[0mkwargs\u001b[0m\u001b[0;34m)\u001b[0m\u001b[0;34m\u001b[0m\u001b[0;34m\u001b[0m\u001b[0m\n\u001b[0m\u001b[1;32m    189\u001b[0m \u001b[0;34m\u001b[0m\u001b[0m\n\u001b[1;32m    190\u001b[0m         \u001b[0;32masync\u001b[0m \u001b[0;32mdef\u001b[0m \u001b[0mawarning_emitting_wrapper\u001b[0m\u001b[0;34m(\u001b[0m\u001b[0;34m*\u001b[0m\u001b[0margs\u001b[0m\u001b[0;34m:\u001b[0m \u001b[0mAny\u001b[0m\u001b[0;34m,\u001b[0m \u001b[0;34m**\u001b[0m\u001b[0mkwargs\u001b[0m\u001b[0;34m:\u001b[0m \u001b[0mAny\u001b[0m\u001b[0;34m)\u001b[0m \u001b[0;34m->\u001b[0m \u001b[0mAny\u001b[0m\u001b[0;34m:\u001b[0m\u001b[0;34m\u001b[0m\u001b[0;34m\u001b[0m\u001b[0m\n",
            "\u001b[0;32m/usr/local/lib/python3.12/dist-packages/langchain_classic/chains/base.py\u001b[0m in \u001b[0;36m__call__\u001b[0;34m(self, inputs, return_only_outputs, callbacks, tags, metadata, run_name, include_run_info)\u001b[0m\n\u001b[1;32m    411\u001b[0m         }\n\u001b[1;32m    412\u001b[0m \u001b[0;34m\u001b[0m\u001b[0m\n\u001b[0;32m--> 413\u001b[0;31m         return self.invoke(\n\u001b[0m\u001b[1;32m    414\u001b[0m             \u001b[0minputs\u001b[0m\u001b[0;34m,\u001b[0m\u001b[0;34m\u001b[0m\u001b[0;34m\u001b[0m\u001b[0m\n\u001b[1;32m    415\u001b[0m             \u001b[0mcast\u001b[0m\u001b[0;34m(\u001b[0m\u001b[0;34m\"RunnableConfig\"\u001b[0m\u001b[0;34m,\u001b[0m \u001b[0;34m{\u001b[0m\u001b[0mk\u001b[0m\u001b[0;34m:\u001b[0m \u001b[0mv\u001b[0m \u001b[0;32mfor\u001b[0m \u001b[0mk\u001b[0m\u001b[0;34m,\u001b[0m \u001b[0mv\u001b[0m \u001b[0;32min\u001b[0m \u001b[0mconfig\u001b[0m\u001b[0;34m.\u001b[0m\u001b[0mitems\u001b[0m\u001b[0;34m(\u001b[0m\u001b[0;34m)\u001b[0m \u001b[0;32mif\u001b[0m \u001b[0mv\u001b[0m \u001b[0;32mis\u001b[0m \u001b[0;32mnot\u001b[0m \u001b[0;32mNone\u001b[0m\u001b[0;34m}\u001b[0m\u001b[0;34m)\u001b[0m\u001b[0;34m,\u001b[0m\u001b[0;34m\u001b[0m\u001b[0;34m\u001b[0m\u001b[0m\n",
            "\u001b[0;32m/usr/local/lib/python3.12/dist-packages/langchain_classic/chains/base.py\u001b[0m in \u001b[0;36minvoke\u001b[0;34m(self, input, config, **kwargs)\u001b[0m\n\u001b[1;32m    165\u001b[0m             \u001b[0mself\u001b[0m\u001b[0;34m.\u001b[0m\u001b[0m_validate_inputs\u001b[0m\u001b[0;34m(\u001b[0m\u001b[0minputs\u001b[0m\u001b[0;34m)\u001b[0m\u001b[0;34m\u001b[0m\u001b[0;34m\u001b[0m\u001b[0m\n\u001b[1;32m    166\u001b[0m             outputs = (\n\u001b[0;32m--> 167\u001b[0;31m                 \u001b[0mself\u001b[0m\u001b[0;34m.\u001b[0m\u001b[0m_call\u001b[0m\u001b[0;34m(\u001b[0m\u001b[0minputs\u001b[0m\u001b[0;34m,\u001b[0m \u001b[0mrun_manager\u001b[0m\u001b[0;34m=\u001b[0m\u001b[0mrun_manager\u001b[0m\u001b[0;34m)\u001b[0m\u001b[0;34m\u001b[0m\u001b[0;34m\u001b[0m\u001b[0m\n\u001b[0m\u001b[1;32m    168\u001b[0m                 \u001b[0;32mif\u001b[0m \u001b[0mnew_arg_supported\u001b[0m\u001b[0;34m\u001b[0m\u001b[0;34m\u001b[0m\u001b[0m\n\u001b[1;32m    169\u001b[0m                 \u001b[0;32melse\u001b[0m \u001b[0mself\u001b[0m\u001b[0;34m.\u001b[0m\u001b[0m_call\u001b[0m\u001b[0;34m(\u001b[0m\u001b[0minputs\u001b[0m\u001b[0;34m)\u001b[0m\u001b[0;34m\u001b[0m\u001b[0;34m\u001b[0m\u001b[0m\n",
            "\u001b[0;32m/usr/local/lib/python3.12/dist-packages/langchain_classic/chains/combine_documents/base.py\u001b[0m in \u001b[0;36m_call\u001b[0;34m(self, inputs, run_manager)\u001b[0m\n\u001b[1;32m    145\u001b[0m         \u001b[0;31m# Other keys are assumed to be needed for LLM prediction\u001b[0m\u001b[0;34m\u001b[0m\u001b[0;34m\u001b[0m\u001b[0m\n\u001b[1;32m    146\u001b[0m         \u001b[0mother_keys\u001b[0m \u001b[0;34m=\u001b[0m \u001b[0;34m{\u001b[0m\u001b[0mk\u001b[0m\u001b[0;34m:\u001b[0m \u001b[0mv\u001b[0m \u001b[0;32mfor\u001b[0m \u001b[0mk\u001b[0m\u001b[0;34m,\u001b[0m \u001b[0mv\u001b[0m \u001b[0;32min\u001b[0m \u001b[0minputs\u001b[0m\u001b[0;34m.\u001b[0m\u001b[0mitems\u001b[0m\u001b[0;34m(\u001b[0m\u001b[0;34m)\u001b[0m \u001b[0;32mif\u001b[0m \u001b[0mk\u001b[0m \u001b[0;34m!=\u001b[0m \u001b[0mself\u001b[0m\u001b[0;34m.\u001b[0m\u001b[0minput_key\u001b[0m\u001b[0;34m}\u001b[0m\u001b[0;34m\u001b[0m\u001b[0;34m\u001b[0m\u001b[0m\n\u001b[0;32m--> 147\u001b[0;31m         output, extra_return_dict = self.combine_docs(\n\u001b[0m\u001b[1;32m    148\u001b[0m             \u001b[0mdocs\u001b[0m\u001b[0;34m,\u001b[0m\u001b[0;34m\u001b[0m\u001b[0;34m\u001b[0m\u001b[0m\n\u001b[1;32m    149\u001b[0m             \u001b[0mcallbacks\u001b[0m\u001b[0;34m=\u001b[0m\u001b[0m_run_manager\u001b[0m\u001b[0;34m.\u001b[0m\u001b[0mget_child\u001b[0m\u001b[0;34m(\u001b[0m\u001b[0;34m)\u001b[0m\u001b[0;34m,\u001b[0m\u001b[0;34m\u001b[0m\u001b[0;34m\u001b[0m\u001b[0m\n",
            "\u001b[0;32m/usr/local/lib/python3.12/dist-packages/langchain_classic/chains/combine_documents/map_reduce.py\u001b[0m in \u001b[0;36mcombine_docs\u001b[0;34m(self, docs, token_max, callbacks, **kwargs)\u001b[0m\n\u001b[1;32m    248\u001b[0m             \u001b[0;32mfor\u001b[0m \u001b[0mi\u001b[0m\u001b[0;34m,\u001b[0m \u001b[0mr\u001b[0m \u001b[0;32min\u001b[0m \u001b[0menumerate\u001b[0m\u001b[0;34m(\u001b[0m\u001b[0mmap_results\u001b[0m\u001b[0;34m)\u001b[0m\u001b[0;34m\u001b[0m\u001b[0;34m\u001b[0m\u001b[0m\n\u001b[1;32m    249\u001b[0m         ]\n\u001b[0;32m--> 250\u001b[0;31m         result, extra_return_dict = self.reduce_documents_chain.combine_docs(\n\u001b[0m\u001b[1;32m    251\u001b[0m             \u001b[0mresult_docs\u001b[0m\u001b[0;34m,\u001b[0m\u001b[0;34m\u001b[0m\u001b[0;34m\u001b[0m\u001b[0m\n\u001b[1;32m    252\u001b[0m             \u001b[0mtoken_max\u001b[0m\u001b[0;34m=\u001b[0m\u001b[0mtoken_max\u001b[0m\u001b[0;34m,\u001b[0m\u001b[0;34m\u001b[0m\u001b[0;34m\u001b[0m\u001b[0m\n",
            "\u001b[0;32m/usr/local/lib/python3.12/dist-packages/langchain_classic/chains/combine_documents/reduce.py\u001b[0m in \u001b[0;36mcombine_docs\u001b[0;34m(self, docs, token_max, callbacks, **kwargs)\u001b[0m\n\u001b[1;32m    251\u001b[0m             \u001b[0melement\u001b[0m \u001b[0mreturned\u001b[0m \u001b[0;32mis\u001b[0m \u001b[0ma\u001b[0m \u001b[0mdictionary\u001b[0m \u001b[0mof\u001b[0m \u001b[0mother\u001b[0m \u001b[0mkeys\u001b[0m \u001b[0mto\u001b[0m \u001b[0;32mreturn\u001b[0m\u001b[0;34m.\u001b[0m\u001b[0;34m\u001b[0m\u001b[0;34m\u001b[0m\u001b[0m\n\u001b[1;32m    252\u001b[0m         \"\"\"\n\u001b[0;32m--> 253\u001b[0;31m         result_docs, _ = self._collapse(\n\u001b[0m\u001b[1;32m    254\u001b[0m             \u001b[0mdocs\u001b[0m\u001b[0;34m,\u001b[0m\u001b[0;34m\u001b[0m\u001b[0;34m\u001b[0m\u001b[0m\n\u001b[1;32m    255\u001b[0m             \u001b[0mtoken_max\u001b[0m\u001b[0;34m=\u001b[0m\u001b[0mtoken_max\u001b[0m\u001b[0;34m,\u001b[0m\u001b[0;34m\u001b[0m\u001b[0;34m\u001b[0m\u001b[0m\n",
            "\u001b[0;32m/usr/local/lib/python3.12/dist-packages/langchain_classic/chains/combine_documents/reduce.py\u001b[0m in \u001b[0;36m_collapse\u001b[0;34m(self, docs, token_max, callbacks, **kwargs)\u001b[0m\n\u001b[1;32m    306\u001b[0m         \u001b[0mresult_docs\u001b[0m \u001b[0;34m=\u001b[0m \u001b[0mdocs\u001b[0m\u001b[0;34m\u001b[0m\u001b[0;34m\u001b[0m\u001b[0m\n\u001b[1;32m    307\u001b[0m         \u001b[0mlength_func\u001b[0m \u001b[0;34m=\u001b[0m \u001b[0mself\u001b[0m\u001b[0;34m.\u001b[0m\u001b[0mcombine_documents_chain\u001b[0m\u001b[0;34m.\u001b[0m\u001b[0mprompt_length\u001b[0m\u001b[0;34m\u001b[0m\u001b[0;34m\u001b[0m\u001b[0m\n\u001b[0;32m--> 308\u001b[0;31m         \u001b[0mnum_tokens\u001b[0m \u001b[0;34m=\u001b[0m \u001b[0mlength_func\u001b[0m\u001b[0;34m(\u001b[0m\u001b[0mresult_docs\u001b[0m\u001b[0;34m,\u001b[0m \u001b[0;34m**\u001b[0m\u001b[0mkwargs\u001b[0m\u001b[0;34m)\u001b[0m\u001b[0;34m\u001b[0m\u001b[0;34m\u001b[0m\u001b[0m\n\u001b[0m\u001b[1;32m    309\u001b[0m \u001b[0;34m\u001b[0m\u001b[0m\n\u001b[1;32m    310\u001b[0m         \u001b[0;32mdef\u001b[0m \u001b[0m_collapse_docs_func\u001b[0m\u001b[0;34m(\u001b[0m\u001b[0mdocs\u001b[0m\u001b[0;34m:\u001b[0m \u001b[0mlist\u001b[0m\u001b[0;34m[\u001b[0m\u001b[0mDocument\u001b[0m\u001b[0;34m]\u001b[0m\u001b[0;34m,\u001b[0m \u001b[0;34m**\u001b[0m\u001b[0mkwargs\u001b[0m\u001b[0;34m:\u001b[0m \u001b[0mAny\u001b[0m\u001b[0;34m)\u001b[0m \u001b[0;34m->\u001b[0m \u001b[0mstr\u001b[0m\u001b[0;34m:\u001b[0m\u001b[0;34m\u001b[0m\u001b[0;34m\u001b[0m\u001b[0m\n",
            "\u001b[0;32m/usr/local/lib/python3.12/dist-packages/langchain_classic/chains/combine_documents/stuff.py\u001b[0m in \u001b[0;36mprompt_length\u001b[0;34m(self, docs, **kwargs)\u001b[0m\n\u001b[1;32m    243\u001b[0m         \u001b[0minputs\u001b[0m \u001b[0;34m=\u001b[0m \u001b[0mself\u001b[0m\u001b[0;34m.\u001b[0m\u001b[0m_get_inputs\u001b[0m\u001b[0;34m(\u001b[0m\u001b[0mdocs\u001b[0m\u001b[0;34m,\u001b[0m \u001b[0;34m**\u001b[0m\u001b[0mkwargs\u001b[0m\u001b[0;34m)\u001b[0m\u001b[0;34m\u001b[0m\u001b[0;34m\u001b[0m\u001b[0m\n\u001b[1;32m    244\u001b[0m         \u001b[0mprompt\u001b[0m \u001b[0;34m=\u001b[0m \u001b[0mself\u001b[0m\u001b[0;34m.\u001b[0m\u001b[0mllm_chain\u001b[0m\u001b[0;34m.\u001b[0m\u001b[0mprompt\u001b[0m\u001b[0;34m.\u001b[0m\u001b[0mformat\u001b[0m\u001b[0;34m(\u001b[0m\u001b[0;34m**\u001b[0m\u001b[0minputs\u001b[0m\u001b[0;34m)\u001b[0m\u001b[0;34m\u001b[0m\u001b[0;34m\u001b[0m\u001b[0m\n\u001b[0;32m--> 245\u001b[0;31m         \u001b[0;32mreturn\u001b[0m \u001b[0mself\u001b[0m\u001b[0;34m.\u001b[0m\u001b[0mllm_chain\u001b[0m\u001b[0;34m.\u001b[0m\u001b[0m_get_num_tokens\u001b[0m\u001b[0;34m(\u001b[0m\u001b[0mprompt\u001b[0m\u001b[0;34m)\u001b[0m  \u001b[0;31m# noqa: SLF001\u001b[0m\u001b[0;34m\u001b[0m\u001b[0;34m\u001b[0m\u001b[0m\n\u001b[0m\u001b[1;32m    246\u001b[0m \u001b[0;34m\u001b[0m\u001b[0m\n\u001b[1;32m    247\u001b[0m     def combine_docs(\n",
            "\u001b[0;32m/usr/local/lib/python3.12/dist-packages/langchain_classic/chains/llm.py\u001b[0m in \u001b[0;36m_get_num_tokens\u001b[0;34m(self, text)\u001b[0m\n\u001b[1;32m    420\u001b[0m \u001b[0;34m\u001b[0m\u001b[0m\n\u001b[1;32m    421\u001b[0m     \u001b[0;32mdef\u001b[0m \u001b[0m_get_num_tokens\u001b[0m\u001b[0;34m(\u001b[0m\u001b[0mself\u001b[0m\u001b[0;34m,\u001b[0m \u001b[0mtext\u001b[0m\u001b[0;34m:\u001b[0m \u001b[0mstr\u001b[0m\u001b[0;34m)\u001b[0m \u001b[0;34m->\u001b[0m \u001b[0mint\u001b[0m\u001b[0;34m:\u001b[0m\u001b[0;34m\u001b[0m\u001b[0;34m\u001b[0m\u001b[0m\n\u001b[0;32m--> 422\u001b[0;31m         \u001b[0;32mreturn\u001b[0m \u001b[0m_get_language_model\u001b[0m\u001b[0;34m(\u001b[0m\u001b[0mself\u001b[0m\u001b[0;34m.\u001b[0m\u001b[0mllm\u001b[0m\u001b[0;34m)\u001b[0m\u001b[0;34m.\u001b[0m\u001b[0mget_num_tokens\u001b[0m\u001b[0;34m(\u001b[0m\u001b[0mtext\u001b[0m\u001b[0;34m)\u001b[0m\u001b[0;34m\u001b[0m\u001b[0;34m\u001b[0m\u001b[0m\n\u001b[0m\u001b[1;32m    423\u001b[0m \u001b[0;34m\u001b[0m\u001b[0m\n\u001b[1;32m    424\u001b[0m \u001b[0;34m\u001b[0m\u001b[0m\n",
            "\u001b[0;32m/usr/local/lib/python3.12/dist-packages/langchain_core/language_models/base.py\u001b[0m in \u001b[0;36mget_num_tokens\u001b[0;34m(self, text)\u001b[0m\n\u001b[1;32m    288\u001b[0m \u001b[0;34m\u001b[0m\u001b[0m\n\u001b[1;32m    289\u001b[0m         \"\"\"\n\u001b[0;32m--> 290\u001b[0;31m         \u001b[0;32mreturn\u001b[0m \u001b[0mlen\u001b[0m\u001b[0;34m(\u001b[0m\u001b[0mself\u001b[0m\u001b[0;34m.\u001b[0m\u001b[0mget_token_ids\u001b[0m\u001b[0;34m(\u001b[0m\u001b[0mtext\u001b[0m\u001b[0;34m)\u001b[0m\u001b[0;34m)\u001b[0m\u001b[0;34m\u001b[0m\u001b[0;34m\u001b[0m\u001b[0m\n\u001b[0m\u001b[1;32m    291\u001b[0m \u001b[0;34m\u001b[0m\u001b[0m\n\u001b[1;32m    292\u001b[0m     def get_num_tokens_from_messages(\n",
            "\u001b[0;32m/usr/local/lib/python3.12/dist-packages/langchain_openai/chat_models/base.py\u001b[0m in \u001b[0;36mget_token_ids\u001b[0;34m(self, text)\u001b[0m\n\u001b[1;32m   1633\u001b[0m         \u001b[0;32mif\u001b[0m \u001b[0msys\u001b[0m\u001b[0;34m.\u001b[0m\u001b[0mversion_info\u001b[0m\u001b[0;34m[\u001b[0m\u001b[0;36m1\u001b[0m\u001b[0;34m]\u001b[0m \u001b[0;34m<=\u001b[0m \u001b[0;36m7\u001b[0m\u001b[0;34m:\u001b[0m\u001b[0;34m\u001b[0m\u001b[0;34m\u001b[0m\u001b[0m\n\u001b[1;32m   1634\u001b[0m             \u001b[0;32mreturn\u001b[0m \u001b[0msuper\u001b[0m\u001b[0;34m(\u001b[0m\u001b[0;34m)\u001b[0m\u001b[0;34m.\u001b[0m\u001b[0mget_token_ids\u001b[0m\u001b[0;34m(\u001b[0m\u001b[0mtext\u001b[0m\u001b[0;34m)\u001b[0m\u001b[0;34m\u001b[0m\u001b[0;34m\u001b[0m\u001b[0m\n\u001b[0;32m-> 1635\u001b[0;31m         \u001b[0m_\u001b[0m\u001b[0;34m,\u001b[0m \u001b[0mencoding_model\u001b[0m \u001b[0;34m=\u001b[0m \u001b[0mself\u001b[0m\u001b[0;34m.\u001b[0m\u001b[0m_get_encoding_model\u001b[0m\u001b[0;34m(\u001b[0m\u001b[0;34m)\u001b[0m\u001b[0;34m\u001b[0m\u001b[0;34m\u001b[0m\u001b[0m\n\u001b[0m\u001b[1;32m   1636\u001b[0m         \u001b[0;32mreturn\u001b[0m \u001b[0mencoding_model\u001b[0m\u001b[0;34m.\u001b[0m\u001b[0mencode\u001b[0m\u001b[0;34m(\u001b[0m\u001b[0mtext\u001b[0m\u001b[0;34m)\u001b[0m\u001b[0;34m\u001b[0m\u001b[0;34m\u001b[0m\u001b[0m\n\u001b[1;32m   1637\u001b[0m \u001b[0;34m\u001b[0m\u001b[0m\n",
            "\u001b[0;32m/usr/local/lib/python3.12/dist-packages/langchain_openai/chat_models/base.py\u001b[0m in \u001b[0;36m_get_encoding_model\u001b[0;34m(self)\u001b[0m\n\u001b[1;32m   1614\u001b[0m             \u001b[0mmodel\u001b[0m \u001b[0;34m=\u001b[0m \u001b[0mself\u001b[0m\u001b[0;34m.\u001b[0m\u001b[0mmodel_name\u001b[0m\u001b[0;34m\u001b[0m\u001b[0;34m\u001b[0m\u001b[0m\n\u001b[1;32m   1615\u001b[0m         \u001b[0;32mtry\u001b[0m\u001b[0;34m:\u001b[0m\u001b[0;34m\u001b[0m\u001b[0;34m\u001b[0m\u001b[0m\n\u001b[0;32m-> 1616\u001b[0;31m             \u001b[0mencoding\u001b[0m \u001b[0;34m=\u001b[0m \u001b[0mtiktoken\u001b[0m\u001b[0;34m.\u001b[0m\u001b[0mencoding_for_model\u001b[0m\u001b[0;34m(\u001b[0m\u001b[0mmodel\u001b[0m\u001b[0;34m)\u001b[0m\u001b[0;34m\u001b[0m\u001b[0;34m\u001b[0m\u001b[0m\n\u001b[0m\u001b[1;32m   1617\u001b[0m         \u001b[0;32mexcept\u001b[0m \u001b[0mKeyError\u001b[0m\u001b[0;34m:\u001b[0m\u001b[0;34m\u001b[0m\u001b[0;34m\u001b[0m\u001b[0m\n\u001b[1;32m   1618\u001b[0m             \u001b[0mencoder\u001b[0m \u001b[0;34m=\u001b[0m \u001b[0;34m\"cl100k_base\"\u001b[0m\u001b[0;34m\u001b[0m\u001b[0;34m\u001b[0m\u001b[0m\n",
            "\u001b[0;32m/usr/local/lib/python3.12/dist-packages/tiktoken/model.py\u001b[0m in \u001b[0;36mencoding_for_model\u001b[0;34m(model_name)\u001b[0m\n\u001b[1;32m    116\u001b[0m     \u001b[0mRaises\u001b[0m \u001b[0ma\u001b[0m \u001b[0mKeyError\u001b[0m \u001b[0;32mif\u001b[0m \u001b[0mthe\u001b[0m \u001b[0mmodel\u001b[0m \u001b[0mname\u001b[0m \u001b[0;32mis\u001b[0m \u001b[0;32mnot\u001b[0m \u001b[0mrecognised\u001b[0m\u001b[0;34m.\u001b[0m\u001b[0;34m\u001b[0m\u001b[0;34m\u001b[0m\u001b[0m\n\u001b[1;32m    117\u001b[0m     \"\"\"\n\u001b[0;32m--> 118\u001b[0;31m     \u001b[0;32mreturn\u001b[0m \u001b[0mget_encoding\u001b[0m\u001b[0;34m(\u001b[0m\u001b[0mencoding_name_for_model\u001b[0m\u001b[0;34m(\u001b[0m\u001b[0mmodel_name\u001b[0m\u001b[0;34m)\u001b[0m\u001b[0;34m)\u001b[0m\u001b[0;34m\u001b[0m\u001b[0;34m\u001b[0m\u001b[0m\n\u001b[0m",
            "\u001b[0;32m/usr/local/lib/python3.12/dist-packages/tiktoken/model.py\u001b[0m in \u001b[0;36mencoding_name_for_model\u001b[0;34m(model_name)\u001b[0m\n\u001b[1;32m     99\u001b[0m         \u001b[0;31m# Note that this can match on non-existent models (e.g., gpt-3.5-turbo-FAKE)\u001b[0m\u001b[0;34m\u001b[0m\u001b[0;34m\u001b[0m\u001b[0m\n\u001b[1;32m    100\u001b[0m         \u001b[0;32mfor\u001b[0m \u001b[0mmodel_prefix\u001b[0m\u001b[0;34m,\u001b[0m \u001b[0mmodel_encoding_name\u001b[0m \u001b[0;32min\u001b[0m \u001b[0mMODEL_PREFIX_TO_ENCODING\u001b[0m\u001b[0;34m.\u001b[0m\u001b[0mitems\u001b[0m\u001b[0;34m(\u001b[0m\u001b[0;34m)\u001b[0m\u001b[0;34m:\u001b[0m\u001b[0;34m\u001b[0m\u001b[0;34m\u001b[0m\u001b[0m\n\u001b[0;32m--> 101\u001b[0;31m             \u001b[0;32mif\u001b[0m \u001b[0mmodel_name\u001b[0m\u001b[0;34m.\u001b[0m\u001b[0mstartswith\u001b[0m\u001b[0;34m(\u001b[0m\u001b[0mmodel_prefix\u001b[0m\u001b[0;34m)\u001b[0m\u001b[0;34m:\u001b[0m\u001b[0;34m\u001b[0m\u001b[0;34m\u001b[0m\u001b[0m\n\u001b[0m\u001b[1;32m    102\u001b[0m                 \u001b[0;32mreturn\u001b[0m \u001b[0mmodel_encoding_name\u001b[0m\u001b[0;34m\u001b[0m\u001b[0;34m\u001b[0m\u001b[0m\n\u001b[1;32m    103\u001b[0m \u001b[0;34m\u001b[0m\u001b[0m\n",
            "\u001b[0;31mAttributeError\u001b[0m: 'NoneType' object has no attribute 'startswith'"
          ]
        }
      ]
    },
    {
      "cell_type": "markdown",
      "source": [
        "### Load PDF Documents\n",
        "This cell demonstrates how to load a PDF file into LangChain for processing:  \n",
        "\n",
        "- `PyPDFLoader` → Reads a PDF file and converts each page into a `Document` object.  \n",
        "- Useful for **summarization, question answering, or any LLM tasks** on PDF content."
      ],
      "metadata": {
        "id": "rEdlFvpi0G2N"
      }
    },
    {
      "cell_type": "code",
      "source": [
        "# Import the PyPDFLoader\n",
        "from langchain_classic.document_loaders import PyPDFLoader\n",
        "\n"
      ],
      "metadata": {
        "id": "HBByggaRqxAk"
      },
      "execution_count": 63,
      "outputs": []
    },
    {
      "cell_type": "markdown",
      "source": [
        "### Install PDF Processing Libraries\n",
        "This cell installs Python packages required to work with PDFs in Colab:  \n",
        "\n",
        "- `pdf2image` → Convert PDF pages to images.  \n",
        "- `pdfminer` → Extract text from PDF files.  \n",
        "- `pypdf` → Read and manipulate PDF files programmatically.\n"
      ],
      "metadata": {
        "id": "DTrDFP1Cq1jB"
      }
    },
    {
      "cell_type": "code",
      "source": [
        "# Install PDF processing libraries\n",
        "!pip install -q pdf2image pdfminer pypdf\n"
      ],
      "metadata": {
        "id": "vJ3KkP8Z2yBb",
        "colab": {
          "base_uri": "https://localhost:8080/"
        },
        "outputId": "cbb9d902-261f-455c-e8f7-21aeb7641275"
      },
      "execution_count": 64,
      "outputs": [
        {
          "output_type": "stream",
          "name": "stdout",
          "text": [
            "\u001b[?25l     \u001b[90m━━━━━━━━━━━━━━━━━━━━━━━━━━━━━━━━━━━━━━━━\u001b[0m \u001b[32m0.0/4.2 MB\u001b[0m \u001b[31m?\u001b[0m eta \u001b[36m-:--:--\u001b[0m\r\u001b[2K     \u001b[91m━━\u001b[0m\u001b[91m╸\u001b[0m\u001b[90m━━━━━━━━━━━━━━━━━━━━━━━━━━━━━━━━━━━━━\u001b[0m \u001b[32m0.3/4.2 MB\u001b[0m \u001b[31m9.1 MB/s\u001b[0m eta \u001b[36m0:00:01\u001b[0m\r\u001b[2K     \u001b[91m━━━━━━━━━━━━━━━━━━━━━━\u001b[0m\u001b[90m╺\u001b[0m\u001b[90m━━━━━━━━━━━━━━━━━\u001b[0m \u001b[32m2.3/4.2 MB\u001b[0m \u001b[31m34.1 MB/s\u001b[0m eta \u001b[36m0:00:01\u001b[0m\r\u001b[2K     \u001b[91m━━━━━━━━━━━━━━━━━━━━━━━━━━━━━━━━━━━━━━━\u001b[0m\u001b[91m╸\u001b[0m \u001b[32m4.2/4.2 MB\u001b[0m \u001b[31m49.1 MB/s\u001b[0m eta \u001b[36m0:00:01\u001b[0m\r\u001b[2K     \u001b[90m━━━━━━━━━━━━━━━━━━━━━━━━━━━━━━━━━━━━━━━━\u001b[0m \u001b[32m4.2/4.2 MB\u001b[0m \u001b[31m36.8 MB/s\u001b[0m eta \u001b[36m0:00:00\u001b[0m\n",
            "\u001b[?25h  Preparing metadata (setup.py) ... \u001b[?25l\u001b[?25hdone\n",
            "\u001b[2K   \u001b[90m━━━━━━━━━━━━━━━━━━━━━━━━━━━━━━━━━━━━━━━━\u001b[0m \u001b[32m323.9/323.9 kB\u001b[0m \u001b[31m26.1 MB/s\u001b[0m eta \u001b[36m0:00:00\u001b[0m\n",
            "\u001b[2K   \u001b[90m━━━━━━━━━━━━━━━━━━━━━━━━━━━━━━━━━━━━━━━━\u001b[0m \u001b[32m2.3/2.3 MB\u001b[0m \u001b[31m98.5 MB/s\u001b[0m eta \u001b[36m0:00:00\u001b[0m\n",
            "\u001b[?25h  Building wheel for pdfminer (setup.py) ... \u001b[?25l\u001b[?25hdone\n"
          ]
        }
      ]
    },
    {
      "cell_type": "markdown",
      "source": [
        "### Upload and Load a PDF Document\n",
        "This cell demonstrates how to:  \n",
        "1. Upload a PDF file to Colab and automatically detects its filename.\n",
        "2. Load it using `PyPDFLoader` to create `Document` objects for each page.  \n",
        "3. The loaded documents can then be used in summarization or other LLM tasks."
      ],
      "metadata": {
        "id": "fnMJgvgRrDOV"
      }
    },
    {
      "cell_type": "code",
      "source": [
        "# Import required modules\n",
        "from google.colab import files\n",
        "from langchain_classic.document_loaders import PyPDFLoader\n",
        "\n",
        "# Upload PDF file (interactive file chooser)\n",
        "uploaded = files.upload()\n",
        "\n",
        "# Automatically get the uploaded filename\n",
        "pdf_filename = list(uploaded.keys())[0]\n",
        "print(f\"Uploaded file detected: {pdf_filename}\")\n",
        "\n",
        "# Load the PDF using PyPDFLoader\n",
        "pdf_loader = PyPDFLoader(pdf_filename)\n",
        "\n",
        "# Extract documents (one Document per page)\n",
        "data = pdf_loader.load()\n",
        "\n",
        "# Preview the first page content\n",
        "print(data[0].page_content[:500])\n"
      ],
      "metadata": {
        "id": "Nomj8tq_rHbO",
        "colab": {
          "base_uri": "https://localhost:8080/",
          "height": 541
        },
        "outputId": "477c49f3-bc23-4a90-a9f0-ded7a174b2b6"
      },
      "execution_count": 65,
      "outputs": [
        {
          "output_type": "display_data",
          "data": {
            "text/plain": [
              "<IPython.core.display.HTML object>"
            ],
            "text/html": [
              "\n",
              "     <input type=\"file\" id=\"files-73d6d481-f0fc-4b96-ae77-2086b1e44cd9\" name=\"files[]\" multiple disabled\n",
              "        style=\"border:none\" />\n",
              "     <output id=\"result-73d6d481-f0fc-4b96-ae77-2086b1e44cd9\">\n",
              "      Upload widget is only available when the cell has been executed in the\n",
              "      current browser session. Please rerun this cell to enable.\n",
              "      </output>\n",
              "      <script>// Copyright 2017 Google LLC\n",
              "//\n",
              "// Licensed under the Apache License, Version 2.0 (the \"License\");\n",
              "// you may not use this file except in compliance with the License.\n",
              "// You may obtain a copy of the License at\n",
              "//\n",
              "//      http://www.apache.org/licenses/LICENSE-2.0\n",
              "//\n",
              "// Unless required by applicable law or agreed to in writing, software\n",
              "// distributed under the License is distributed on an \"AS IS\" BASIS,\n",
              "// WITHOUT WARRANTIES OR CONDITIONS OF ANY KIND, either express or implied.\n",
              "// See the License for the specific language governing permissions and\n",
              "// limitations under the License.\n",
              "\n",
              "/**\n",
              " * @fileoverview Helpers for google.colab Python module.\n",
              " */\n",
              "(function(scope) {\n",
              "function span(text, styleAttributes = {}) {\n",
              "  const element = document.createElement('span');\n",
              "  element.textContent = text;\n",
              "  for (const key of Object.keys(styleAttributes)) {\n",
              "    element.style[key] = styleAttributes[key];\n",
              "  }\n",
              "  return element;\n",
              "}\n",
              "\n",
              "// Max number of bytes which will be uploaded at a time.\n",
              "const MAX_PAYLOAD_SIZE = 100 * 1024;\n",
              "\n",
              "function _uploadFiles(inputId, outputId) {\n",
              "  const steps = uploadFilesStep(inputId, outputId);\n",
              "  const outputElement = document.getElementById(outputId);\n",
              "  // Cache steps on the outputElement to make it available for the next call\n",
              "  // to uploadFilesContinue from Python.\n",
              "  outputElement.steps = steps;\n",
              "\n",
              "  return _uploadFilesContinue(outputId);\n",
              "}\n",
              "\n",
              "// This is roughly an async generator (not supported in the browser yet),\n",
              "// where there are multiple asynchronous steps and the Python side is going\n",
              "// to poll for completion of each step.\n",
              "// This uses a Promise to block the python side on completion of each step,\n",
              "// then passes the result of the previous step as the input to the next step.\n",
              "function _uploadFilesContinue(outputId) {\n",
              "  const outputElement = document.getElementById(outputId);\n",
              "  const steps = outputElement.steps;\n",
              "\n",
              "  const next = steps.next(outputElement.lastPromiseValue);\n",
              "  return Promise.resolve(next.value.promise).then((value) => {\n",
              "    // Cache the last promise value to make it available to the next\n",
              "    // step of the generator.\n",
              "    outputElement.lastPromiseValue = value;\n",
              "    return next.value.response;\n",
              "  });\n",
              "}\n",
              "\n",
              "/**\n",
              " * Generator function which is called between each async step of the upload\n",
              " * process.\n",
              " * @param {string} inputId Element ID of the input file picker element.\n",
              " * @param {string} outputId Element ID of the output display.\n",
              " * @return {!Iterable<!Object>} Iterable of next steps.\n",
              " */\n",
              "function* uploadFilesStep(inputId, outputId) {\n",
              "  const inputElement = document.getElementById(inputId);\n",
              "  inputElement.disabled = false;\n",
              "\n",
              "  const outputElement = document.getElementById(outputId);\n",
              "  outputElement.innerHTML = '';\n",
              "\n",
              "  const pickedPromise = new Promise((resolve) => {\n",
              "    inputElement.addEventListener('change', (e) => {\n",
              "      resolve(e.target.files);\n",
              "    });\n",
              "  });\n",
              "\n",
              "  const cancel = document.createElement('button');\n",
              "  inputElement.parentElement.appendChild(cancel);\n",
              "  cancel.textContent = 'Cancel upload';\n",
              "  const cancelPromise = new Promise((resolve) => {\n",
              "    cancel.onclick = () => {\n",
              "      resolve(null);\n",
              "    };\n",
              "  });\n",
              "\n",
              "  // Wait for the user to pick the files.\n",
              "  const files = yield {\n",
              "    promise: Promise.race([pickedPromise, cancelPromise]),\n",
              "    response: {\n",
              "      action: 'starting',\n",
              "    }\n",
              "  };\n",
              "\n",
              "  cancel.remove();\n",
              "\n",
              "  // Disable the input element since further picks are not allowed.\n",
              "  inputElement.disabled = true;\n",
              "\n",
              "  if (!files) {\n",
              "    return {\n",
              "      response: {\n",
              "        action: 'complete',\n",
              "      }\n",
              "    };\n",
              "  }\n",
              "\n",
              "  for (const file of files) {\n",
              "    const li = document.createElement('li');\n",
              "    li.append(span(file.name, {fontWeight: 'bold'}));\n",
              "    li.append(span(\n",
              "        `(${file.type || 'n/a'}) - ${file.size} bytes, ` +\n",
              "        `last modified: ${\n",
              "            file.lastModifiedDate ? file.lastModifiedDate.toLocaleDateString() :\n",
              "                                    'n/a'} - `));\n",
              "    const percent = span('0% done');\n",
              "    li.appendChild(percent);\n",
              "\n",
              "    outputElement.appendChild(li);\n",
              "\n",
              "    const fileDataPromise = new Promise((resolve) => {\n",
              "      const reader = new FileReader();\n",
              "      reader.onload = (e) => {\n",
              "        resolve(e.target.result);\n",
              "      };\n",
              "      reader.readAsArrayBuffer(file);\n",
              "    });\n",
              "    // Wait for the data to be ready.\n",
              "    let fileData = yield {\n",
              "      promise: fileDataPromise,\n",
              "      response: {\n",
              "        action: 'continue',\n",
              "      }\n",
              "    };\n",
              "\n",
              "    // Use a chunked sending to avoid message size limits. See b/62115660.\n",
              "    let position = 0;\n",
              "    do {\n",
              "      const length = Math.min(fileData.byteLength - position, MAX_PAYLOAD_SIZE);\n",
              "      const chunk = new Uint8Array(fileData, position, length);\n",
              "      position += length;\n",
              "\n",
              "      const base64 = btoa(String.fromCharCode.apply(null, chunk));\n",
              "      yield {\n",
              "        response: {\n",
              "          action: 'append',\n",
              "          file: file.name,\n",
              "          data: base64,\n",
              "        },\n",
              "      };\n",
              "\n",
              "      let percentDone = fileData.byteLength === 0 ?\n",
              "          100 :\n",
              "          Math.round((position / fileData.byteLength) * 100);\n",
              "      percent.textContent = `${percentDone}% done`;\n",
              "\n",
              "    } while (position < fileData.byteLength);\n",
              "  }\n",
              "\n",
              "  // All done.\n",
              "  yield {\n",
              "    response: {\n",
              "      action: 'complete',\n",
              "    }\n",
              "  };\n",
              "}\n",
              "\n",
              "scope.google = scope.google || {};\n",
              "scope.google.colab = scope.google.colab || {};\n",
              "scope.google.colab._files = {\n",
              "  _uploadFiles,\n",
              "  _uploadFilesContinue,\n",
              "};\n",
              "})(self);\n",
              "</script> "
            ]
          },
          "metadata": {}
        },
        {
          "output_type": "stream",
          "name": "stdout",
          "text": [
            "Saving attention_is_all_you_need.pdf to attention_is_all_you_need.pdf\n",
            "Uploaded file detected: attention_is_all_you_need.pdf\n",
            "Attention Is All You Need\n",
            "Ashish Vaswani∗\n",
            "Google Brain\n",
            "avaswani@google.com\n",
            "Noam Shazeer∗\n",
            "Google Brain\n",
            "noam@google.com\n",
            "Niki Parmar∗\n",
            "Google Research\n",
            "nikip@google.com\n",
            "Jakob Uszkoreit∗\n",
            "Google Research\n",
            "usz@google.com\n",
            "Llion Jones∗\n",
            "Google Research\n",
            "llion@google.com\n",
            "Aidan N. Gomez∗†\n",
            "University of Toronto\n",
            "aidan@cs.toronto.edu\n",
            "Łukasz Kaiser ∗\n",
            "Google Brain\n",
            "lukaszkaiser@google.com\n",
            "Illia Polosukhin∗‡\n",
            "illia.polosukhin@gmail.com\n",
            "Abstract\n",
            "The dominant sequence transduction models are based on complex recurrent o\n"
          ]
        }
      ]
    },
    {
      "cell_type": "markdown",
      "source": [
        "### Print First Page of PDF\n",
        "This cell prints the **entire content** of the first page of the loaded PDF document.\n"
      ],
      "metadata": {
        "id": "SUcljcbxrW5S"
      }
    },
    {
      "cell_type": "code",
      "source": [
        "# Print the full content of the first page\n",
        "print(data[0].page_content)\n"
      ],
      "metadata": {
        "id": "Kuirpt43rXSp",
        "colab": {
          "base_uri": "https://localhost:8080/"
        },
        "outputId": "23e72624-afc0-40ac-cac0-002cbdccf844"
      },
      "execution_count": 67,
      "outputs": [
        {
          "output_type": "stream",
          "name": "stdout",
          "text": [
            "Attention Is All You Need\n",
            "Ashish Vaswani∗\n",
            "Google Brain\n",
            "avaswani@google.com\n",
            "Noam Shazeer∗\n",
            "Google Brain\n",
            "noam@google.com\n",
            "Niki Parmar∗\n",
            "Google Research\n",
            "nikip@google.com\n",
            "Jakob Uszkoreit∗\n",
            "Google Research\n",
            "usz@google.com\n",
            "Llion Jones∗\n",
            "Google Research\n",
            "llion@google.com\n",
            "Aidan N. Gomez∗†\n",
            "University of Toronto\n",
            "aidan@cs.toronto.edu\n",
            "Łukasz Kaiser ∗\n",
            "Google Brain\n",
            "lukaszkaiser@google.com\n",
            "Illia Polosukhin∗‡\n",
            "illia.polosukhin@gmail.com\n",
            "Abstract\n",
            "The dominant sequence transduction models are based on complex recurrent or\n",
            "convolutional neural networks that include an encoder and a decoder. The best\n",
            "performing models also connect the encoder and decoder through an attention\n",
            "mechanism. We propose a new simple network architecture, the Transformer,\n",
            "based solely on attention mechanisms, dispensing with recurrence and convolutions\n",
            "entirely. Experiments on two machine translation tasks show these models to\n",
            "be superior in quality while being more parallelizable and requiring signiﬁcantly\n",
            "less time to train. Our model achieves 28.4 BLEU on the WMT 2014 English-\n",
            "to-German translation task, improving over the existing best results, including\n",
            "ensembles, by over 2 BLEU. On the WMT 2014 English-to-French translation task,\n",
            "our model establishes a new single-model state-of-the-art BLEU score of 41.8 after\n",
            "training for 3.5 days on eight GPUs, a small fraction of the training costs of the\n",
            "best models from the literature. We show that the Transformer generalizes well to\n",
            "other tasks by applying it successfully to English constituency parsing both with\n",
            "large and limited training data.\n",
            "1 Introduction\n",
            "Recurrent neural networks, long short-term memory [13] and gated recurrent [7] neural networks\n",
            "in particular, have been ﬁrmly established as state of the art approaches in sequence modeling and\n",
            "∗Equal contribution. Listing order is random. Jakob proposed replacing RNNs with self-attention and started\n",
            "the effort to evaluate this idea. Ashish, with Illia, designed and implemented the ﬁrst Transformer models and\n",
            "has been crucially involved in every aspect of this work. Noam proposed scaled dot-product attention, multi-head\n",
            "attention and the parameter-free position representation and became the other person involved in nearly every\n",
            "detail. Niki designed, implemented, tuned and evaluated countless model variants in our original codebase and\n",
            "tensor2tensor. Llion also experimented with novel model variants, was responsible for our initial codebase, and\n",
            "efﬁcient inference and visualizations. Lukasz and Aidan spent countless long days designing various parts of and\n",
            "implementing tensor2tensor, replacing our earlier codebase, greatly improving results and massively accelerating\n",
            "our research.\n",
            "†Work performed while at Google Brain.\n",
            "‡Work performed while at Google Research.\n",
            "31st Conference on Neural Information Processing Systems (NIPS 2017), Long Beach, CA, USA.\n",
            "arXiv:1706.03762v5  [cs.CL]  6 Dec 2017\n"
          ]
        }
      ]
    },
    {
      "cell_type": "markdown",
      "source": [
        "### Check Number of Chunks\n",
        "After splitting a large text or PDF into smaller `Document` chunks (e.g., using `RecursiveCharacterTextSplitter`),  \n",
        "this cell shows how many chunks were created.\n"
      ],
      "metadata": {
        "id": "W6QCwvaPrYa5"
      }
    },
    {
      "cell_type": "code",
      "source": [
        "# Initialize the text splitter\n",
        "text_splitter = RecursiveCharacterTextSplitter(\n",
        "    separators=[\"\\n\\n\", \"\\n\"],  # Split on paragraphs or lines\n",
        "    chunk_size=10000,           # Max chunk size (characters/tokens)\n",
        "    chunk_overlap=100           # Overlap to maintain context\n",
        ")\n",
        "\n",
        "# Split the text into chunks (each becomes a Document)\n",
        "chunks = text_splitter.split_documents(data)\n",
        "\n",
        "# Check how many chunks were created\n",
        "len(chunks)\n"
      ],
      "metadata": {
        "id": "wHw1vOf5raLy",
        "colab": {
          "base_uri": "https://localhost:8080/"
        },
        "outputId": "0355aacf-89cd-4631-e096-6c67e62cf43e"
      },
      "execution_count": 68,
      "outputs": [
        {
          "output_type": "execute_result",
          "data": {
            "text/plain": [
              "15"
            ]
          },
          "metadata": {},
          "execution_count": 68
        }
      ]
    },
    {
      "cell_type": "markdown",
      "source": [
        "### Summarize Documents Using Refine Chain\n",
        "This cell demonstrates how to summarize **multiple document chunks** using the `refine` strategy:  \n",
        "\n",
        "- `chain_type='refine'` → Iteratively refines the summary as each chunk is processed.  \n",
        "- Useful for **large documents** where each chunk can update and improve the previous summary.  \n",
        "- Input: list of `Document` objects (chunks).  \n",
        "- Output: final refined summary of all chunks.\n"
      ],
      "metadata": {
        "id": "yfyWB9turlI6"
      }
    },
    {
      "cell_type": "code",
      "source": [
        "# Load the refine summarization chain\n",
        "chain = load_summarize_chain(\n",
        "    llm=llm,           # Your AzureChatOpenAI LLM\n",
        "    chain_type='refine', # Refine strategy to iteratively improve summary\n",
        "    verbose=True        # Print intermediate steps\n",
        ")\n",
        "\n",
        "# Run the chain on the chunked documents\n",
        "output_summary = chain.invoke(chunks)\n",
        "\n"
      ],
      "metadata": {
        "id": "txgY_7hnrmZ8",
        "colab": {
          "base_uri": "https://localhost:8080/"
        },
        "outputId": "aa9bd062-38eb-458e-81f7-b2fbd2c397ec"
      },
      "execution_count": 69,
      "outputs": [
        {
          "output_type": "stream",
          "name": "stdout",
          "text": [
            "\n",
            "\n",
            "\u001b[1m> Entering new RefineDocumentsChain chain...\u001b[0m\n",
            "\n",
            "\n",
            "\u001b[1m> Entering new LLMChain chain...\u001b[0m\n",
            "Prompt after formatting:\n",
            "\u001b[32;1m\u001b[1;3mWrite a concise summary of the following:\n",
            "\n",
            "\n",
            "\"Attention Is All You Need\n",
            "Ashish Vaswani∗\n",
            "Google Brain\n",
            "avaswani@google.com\n",
            "Noam Shazeer∗\n",
            "Google Brain\n",
            "noam@google.com\n",
            "Niki Parmar∗\n",
            "Google Research\n",
            "nikip@google.com\n",
            "Jakob Uszkoreit∗\n",
            "Google Research\n",
            "usz@google.com\n",
            "Llion Jones∗\n",
            "Google Research\n",
            "llion@google.com\n",
            "Aidan N. Gomez∗†\n",
            "University of Toronto\n",
            "aidan@cs.toronto.edu\n",
            "Łukasz Kaiser ∗\n",
            "Google Brain\n",
            "lukaszkaiser@google.com\n",
            "Illia Polosukhin∗‡\n",
            "illia.polosukhin@gmail.com\n",
            "Abstract\n",
            "The dominant sequence transduction models are based on complex recurrent or\n",
            "convolutional neural networks that include an encoder and a decoder. The best\n",
            "performing models also connect the encoder and decoder through an attention\n",
            "mechanism. We propose a new simple network architecture, the Transformer,\n",
            "based solely on attention mechanisms, dispensing with recurrence and convolutions\n",
            "entirely. Experiments on two machine translation tasks show these models to\n",
            "be superior in quality while being more parallelizable and requiring signiﬁcantly\n",
            "less time to train. Our model achieves 28.4 BLEU on the WMT 2014 English-\n",
            "to-German translation task, improving over the existing best results, including\n",
            "ensembles, by over 2 BLEU. On the WMT 2014 English-to-French translation task,\n",
            "our model establishes a new single-model state-of-the-art BLEU score of 41.8 after\n",
            "training for 3.5 days on eight GPUs, a small fraction of the training costs of the\n",
            "best models from the literature. We show that the Transformer generalizes well to\n",
            "other tasks by applying it successfully to English constituency parsing both with\n",
            "large and limited training data.\n",
            "1 Introduction\n",
            "Recurrent neural networks, long short-term memory [13] and gated recurrent [7] neural networks\n",
            "in particular, have been ﬁrmly established as state of the art approaches in sequence modeling and\n",
            "∗Equal contribution. Listing order is random. Jakob proposed replacing RNNs with self-attention and started\n",
            "the effort to evaluate this idea. Ashish, with Illia, designed and implemented the ﬁrst Transformer models and\n",
            "has been crucially involved in every aspect of this work. Noam proposed scaled dot-product attention, multi-head\n",
            "attention and the parameter-free position representation and became the other person involved in nearly every\n",
            "detail. Niki designed, implemented, tuned and evaluated countless model variants in our original codebase and\n",
            "tensor2tensor. Llion also experimented with novel model variants, was responsible for our initial codebase, and\n",
            "efﬁcient inference and visualizations. Lukasz and Aidan spent countless long days designing various parts of and\n",
            "implementing tensor2tensor, replacing our earlier codebase, greatly improving results and massively accelerating\n",
            "our research.\n",
            "†Work performed while at Google Brain.\n",
            "‡Work performed while at Google Research.\n",
            "31st Conference on Neural Information Processing Systems (NIPS 2017), Long Beach, CA, USA.\n",
            "arXiv:1706.03762v5  [cs.CL]  6 Dec 2017\"\n",
            "\n",
            "\n",
            "CONCISE SUMMARY:\u001b[0m\n",
            "\n",
            "\u001b[1m> Finished chain.\u001b[0m\n",
            "\n",
            "\n",
            "\u001b[1m> Entering new LLMChain chain...\u001b[0m\n",
            "Prompt after formatting:\n",
            "\u001b[32;1m\u001b[1;3mYour job is to produce a final summary.\n",
            "We have provided an existing summary up to a certain point: The paper *\"Attention Is All You Need\"* introduces the Transformer, a novel neural network architecture based entirely on attention mechanisms, eliminating the need for recurrence and convolution. It demonstrates superior performance in sequence transduction tasks, such as machine translation, achieving state-of-the-art BLEU scores on English-to-German (28.4) and English-to-French (41.8) translation tasks, with significantly reduced training time and improved parallelization. The model generalizes well across tasks, including English constituency parsing, showcasing its robustness and efficiency.\n",
            "We have the opportunity to refine the existing summary (only if needed) with some more context below.\n",
            "------------\n",
            "transduction problems such as language modeling and machine translation [ 35, 2, 5]. Numerous\n",
            "efforts have since continued to push the boundaries of recurrent language models and encoder-decoder\n",
            "architectures [38, 24, 15].\n",
            "Recurrent models typically factor computation along the symbol positions of the input and output\n",
            "sequences. Aligning the positions to steps in computation time, they generate a sequence of hidden\n",
            "states ht, as a function of the previous hidden state ht−1 and the input for position t. This inherently\n",
            "sequential nature precludes parallelization within training examples, which becomes critical at longer\n",
            "sequence lengths, as memory constraints limit batching across examples. Recent work has achieved\n",
            "signiﬁcant improvements in computational efﬁciency through factorization tricks [21] and conditional\n",
            "computation [32], while also improving model performance in case of the latter. The fundamental\n",
            "constraint of sequential computation, however, remains.\n",
            "Attention mechanisms have become an integral part of compelling sequence modeling and transduc-\n",
            "tion models in various tasks, allowing modeling of dependencies without regard to their distance in\n",
            "the input or output sequences [2, 19]. In all but a few cases [27], however, such attention mechanisms\n",
            "are used in conjunction with a recurrent network.\n",
            "In this work we propose the Transformer, a model architecture eschewing recurrence and instead\n",
            "relying entirely on an attention mechanism to draw global dependencies between input and output.\n",
            "The Transformer allows for signiﬁcantly more parallelization and can reach a new state of the art in\n",
            "translation quality after being trained for as little as twelve hours on eight P100 GPUs.\n",
            "2 Background\n",
            "The goal of reducing sequential computation also forms the foundation of the Extended Neural GPU\n",
            "[16], ByteNet [18] and ConvS2S [9], all of which use convolutional neural networks as basic building\n",
            "block, computing hidden representations in parallel for all input and output positions. In these models,\n",
            "the number of operations required to relate signals from two arbitrary input or output positions grows\n",
            "in the distance between positions, linearly for ConvS2S and logarithmically for ByteNet. This makes\n",
            "it more difﬁcult to learn dependencies between distant positions [ 12]. In the Transformer this is\n",
            "reduced to a constant number of operations, albeit at the cost of reduced effective resolution due\n",
            "to averaging attention-weighted positions, an effect we counteract with Multi-Head Attention as\n",
            "described in section 3.2.\n",
            "Self-attention, sometimes called intra-attention is an attention mechanism relating different positions\n",
            "of a single sequence in order to compute a representation of the sequence. Self-attention has been\n",
            "used successfully in a variety of tasks including reading comprehension, abstractive summarization,\n",
            "textual entailment and learning task-independent sentence representations [4, 27, 28, 22].\n",
            "End-to-end memory networks are based on a recurrent attention mechanism instead of sequence-\n",
            "aligned recurrence and have been shown to perform well on simple-language question answering and\n",
            "language modeling tasks [34].\n",
            "To the best of our knowledge, however, the Transformer is the ﬁrst transduction model relying\n",
            "entirely on self-attention to compute representations of its input and output without using sequence-\n",
            "aligned RNNs or convolution. In the following sections, we will describe the Transformer, motivate\n",
            "self-attention and discuss its advantages over models such as [17, 18] and [9].\n",
            "3 Model Architecture\n",
            "Most competitive neural sequence transduction models have an encoder-decoder structure [5, 2, 35].\n",
            "Here, the encoder maps an input sequence of symbol representations (x1,...,x n) to a sequence\n",
            "of continuous representations z = (z1,...,z n). Given z, the decoder then generates an output\n",
            "sequence (y1,...,y m) of symbols one element at a time. At each step the model is auto-regressive\n",
            "[10], consuming the previously generated symbols as additional input when generating the next.\n",
            "The Transformer follows this overall architecture using stacked self-attention and point-wise, fully\n",
            "connected layers for both the encoder and decoder, shown in the left and right halves of Figure 1,\n",
            "respectively.\n",
            "2\n",
            "------------\n",
            "Given the new context, refine the original summary.\n",
            "If the context isn't useful, return the original summary.\u001b[0m\n",
            "\n",
            "\u001b[1m> Finished chain.\u001b[0m\n",
            "\n",
            "\n",
            "\u001b[1m> Entering new LLMChain chain...\u001b[0m\n",
            "Prompt after formatting:\n",
            "\u001b[32;1m\u001b[1;3mYour job is to produce a final summary.\n",
            "We have provided an existing summary up to a certain point: The paper *\"Attention Is All You Need\"* introduces the Transformer, a novel neural network architecture based entirely on attention mechanisms, eliminating the need for recurrence and convolution. It demonstrates superior performance in sequence transduction tasks, such as machine translation, achieving state-of-the-art BLEU scores on English-to-German (28.4) and English-to-French (41.8) translation tasks, with significantly reduced training time and improved parallelization. The model generalizes well across tasks, including English constituency parsing, showcasing its robustness and efficiency. The Transformer leverages self-attention mechanisms to compute representations of input and output sequences without relying on sequence-aligned recurrence or convolution, enabling constant-time operations for modeling dependencies across arbitrary positions in a sequence. Its encoder-decoder structure employs stacked self-attention layers and fully connected layers, making it highly parallelizable and effective for handling long-range dependencies.\n",
            "We have the opportunity to refine the existing summary (only if needed) with some more context below.\n",
            "------------\n",
            "Figure 1: The Transformer - model architecture.\n",
            "3.1 Encoder and Decoder Stacks\n",
            "Encoder: The encoder is composed of a stack of N = 6 identical layers. Each layer has two\n",
            "sub-layers. The ﬁrst is a multi-head self-attention mechanism, and the second is a simple, position-\n",
            "wise fully connected feed-forward network. We employ a residual connection [11] around each of\n",
            "the two sub-layers, followed by layer normalization [ 1]. That is, the output of each sub-layer is\n",
            "LayerNorm(x+ Sublayer(x)), where Sublayer(x) is the function implemented by the sub-layer\n",
            "itself. To facilitate these residual connections, all sub-layers in the model, as well as the embedding\n",
            "layers, produce outputs of dimension dmodel = 512.\n",
            "Decoder: The decoder is also composed of a stack of N = 6identical layers. In addition to the two\n",
            "sub-layers in each encoder layer, the decoder inserts a third sub-layer, which performs multi-head\n",
            "attention over the output of the encoder stack. Similar to the encoder, we employ residual connections\n",
            "around each of the sub-layers, followed by layer normalization. We also modify the self-attention\n",
            "sub-layer in the decoder stack to prevent positions from attending to subsequent positions. This\n",
            "masking, combined with fact that the output embeddings are offset by one position, ensures that the\n",
            "predictions for position ican depend only on the known outputs at positions less than i.\n",
            "3.2 Attention\n",
            "An attention function can be described as mapping a query and a set of key-value pairs to an output,\n",
            "where the query, keys, values, and output are all vectors. The output is computed as a weighted sum\n",
            "of the values, where the weight assigned to each value is computed by a compatibility function of the\n",
            "query with the corresponding key.\n",
            "3\n",
            "------------\n",
            "Given the new context, refine the original summary.\n",
            "If the context isn't useful, return the original summary.\u001b[0m\n",
            "\n",
            "\u001b[1m> Finished chain.\u001b[0m\n",
            "\n",
            "\n",
            "\u001b[1m> Entering new LLMChain chain...\u001b[0m\n",
            "Prompt after formatting:\n",
            "\u001b[32;1m\u001b[1;3mYour job is to produce a final summary.\n",
            "We have provided an existing summary up to a certain point: The paper *\"Attention Is All You Need\"* introduces the Transformer, a novel neural network architecture based entirely on attention mechanisms, eliminating the need for recurrence and convolution. It demonstrates superior performance in sequence transduction tasks, such as machine translation, achieving state-of-the-art BLEU scores on English-to-German (28.4) and English-to-French (41.8) translation tasks, with significantly reduced training time and improved parallelization. The model generalizes well across tasks, including English constituency parsing, showcasing its robustness and efficiency. The Transformer leverages self-attention mechanisms to compute representations of input and output sequences without relying on sequence-aligned recurrence or convolution, enabling constant-time operations for modeling dependencies across arbitrary positions in a sequence. Its encoder-decoder structure consists of stacks of six identical layers, with the encoder employing multi-head self-attention and position-wise feed-forward networks, and the decoder incorporating an additional sub-layer for multi-head attention over the encoder's output. Both components use residual connections with layer normalization to stabilize training. Additionally, the decoder applies masking in its self-attention mechanism to ensure autoregressive behavior, allowing predictions at each position to depend only on previous positions. This architecture, combined with its attention-based approach, makes the Transformer highly parallelizable and effective for handling long-range dependencies.\n",
            "We have the opportunity to refine the existing summary (only if needed) with some more context below.\n",
            "------------\n",
            "Scaled Dot-Product Attention\n",
            " Multi-Head Attention\n",
            "Figure 2: (left) Scaled Dot-Product Attention. (right) Multi-Head Attention consists of several\n",
            "attention layers running in parallel.\n",
            "3.2.1 Scaled Dot-Product Attention\n",
            "We call our particular attention \"Scaled Dot-Product Attention\" (Figure 2). The input consists of\n",
            "queries and keys of dimension dk, and values of dimension dv. We compute the dot products of the\n",
            "query with all keys, divide each by √dk, and apply a softmax function to obtain the weights on the\n",
            "values.\n",
            "In practice, we compute the attention function on a set of queries simultaneously, packed together\n",
            "into a matrix Q. The keys and values are also packed together into matrices Kand V. We compute\n",
            "the matrix of outputs as:\n",
            "Attention(Q,K,V ) = softmax(QKT\n",
            "√dk\n",
            ")V (1)\n",
            "The two most commonly used attention functions are additive attention [2], and dot-product (multi-\n",
            "plicative) attention. Dot-product attention is identical to our algorithm, except for the scaling factor\n",
            "of 1√dk\n",
            ". Additive attention computes the compatibility function using a feed-forward network with\n",
            "a single hidden layer. While the two are similar in theoretical complexity, dot-product attention is\n",
            "much faster and more space-efﬁcient in practice, since it can be implemented using highly optimized\n",
            "matrix multiplication code.\n",
            "While for small values of dk the two mechanisms perform similarly, additive attention outperforms\n",
            "dot product attention without scaling for larger values of dk [3]. We suspect that for large values of\n",
            "dk, the dot products grow large in magnitude, pushing the softmax function into regions where it has\n",
            "extremely small gradients 4. To counteract this effect, we scale the dot products by 1√dk\n",
            ".\n",
            "3.2.2 Multi-Head Attention\n",
            "Instead of performing a single attention function with dmodel-dimensional keys, values and queries,\n",
            "we found it beneﬁcial to linearly project the queries, keys and values htimes with different, learned\n",
            "linear projections to dk, dk and dv dimensions, respectively. On each of these projected versions of\n",
            "queries, keys and values we then perform the attention function in parallel, yielding dv-dimensional\n",
            "output values. These are concatenated and once again projected, resulting in the ﬁnal values, as\n",
            "depicted in Figure 2.\n",
            "4To illustrate why the dot products get large, assume that the components of q and k are independent random\n",
            "variables with mean 0 and variance 1. Then their dot product, q · k = ∑dk\n",
            "i=1 qiki, has mean 0 and variance dk.\n",
            "4\n",
            "------------\n",
            "Given the new context, refine the original summary.\n",
            "If the context isn't useful, return the original summary.\u001b[0m\n",
            "\n",
            "\u001b[1m> Finished chain.\u001b[0m\n",
            "\n",
            "\n",
            "\u001b[1m> Entering new LLMChain chain...\u001b[0m\n",
            "Prompt after formatting:\n",
            "\u001b[32;1m\u001b[1;3mYour job is to produce a final summary.\n",
            "We have provided an existing summary up to a certain point: The paper *\"Attention Is All You Need\"* introduces the Transformer, a groundbreaking neural network architecture built entirely on attention mechanisms, eliminating the need for recurrence and convolution. It demonstrates superior performance in sequence transduction tasks, such as machine translation, achieving state-of-the-art BLEU scores on English-to-German (28.4) and English-to-French (41.8) translation tasks, with significantly reduced training time and improved parallelization. The model generalizes well across tasks, including English constituency parsing, showcasing its robustness and efficiency. The Transformer leverages self-attention mechanisms to compute representations of input and output sequences without relying on sequence-aligned recurrence or convolution, enabling constant-time operations for modeling dependencies across arbitrary positions in a sequence. Its encoder-decoder structure consists of stacks of six identical layers, with the encoder employing multi-head self-attention and position-wise feed-forward networks, and the decoder incorporating an additional sub-layer for multi-head attention over the encoder's output. Both components use residual connections with layer normalization to stabilize training. Additionally, the decoder applies masking in its self-attention mechanism to ensure autoregressive behavior, allowing predictions at each position to depend only on previous positions. \n",
            "\n",
            "To enhance its attention mechanism, the Transformer introduces **Scaled Dot-Product Attention**, which computes weights for values using queries and keys, and includes a scaling factor of \\( 1/\\sqrt{d_k} \\) to improve gradient behavior for large \\( d_k \\). This approach is faster and more space-efficient than additive attention, particularly for optimized matrix multiplication. Furthermore, the Transformer employs **Multi-Head Attention**, where multiple attention heads independently project queries, keys, and values into lower-dimensional spaces, compute attention in parallel, and combine the outputs to capture diverse features from different subspaces. This multi-head mechanism enhances the model’s ability to represent and focus on different aspects of input sequences.\n",
            "\n",
            "This architecture, combined with its attention-based innovations, makes the Transformer highly parallelizable, efficient, and capable of handling long-range dependencies.\n",
            "We have the opportunity to refine the existing summary (only if needed) with some more context below.\n",
            "------------\n",
            "Multi-head attention allows the model to jointly attend to information from different representation\n",
            "subspaces at different positions. With a single attention head, averaging inhibits this.\n",
            "MultiHead(Q,K,V ) = Concat(head1,..., headh)WO\n",
            "where headi = Attention(QWQ\n",
            "i ,KW K\n",
            "i ,VW V\n",
            "i )\n",
            "Where the projections are parameter matricesWQ\n",
            "i ∈Rdmodel×dk , WK\n",
            "i ∈Rdmodel×dk , WV\n",
            "i ∈Rdmodel×dv\n",
            "and WO ∈Rhdv×dmodel .\n",
            "In this work we employ h = 8 parallel attention layers, or heads. For each of these we use\n",
            "dk = dv = dmodel/h= 64. Due to the reduced dimension of each head, the total computational cost\n",
            "is similar to that of single-head attention with full dimensionality.\n",
            "3.2.3 Applications of Attention in our Model\n",
            "The Transformer uses multi-head attention in three different ways:\n",
            "• In \"encoder-decoder attention\" layers, the queries come from the previous decoder layer,\n",
            "and the memory keys and values come from the output of the encoder. This allows every\n",
            "position in the decoder to attend over all positions in the input sequence. This mimics the\n",
            "typical encoder-decoder attention mechanisms in sequence-to-sequence models such as\n",
            "[38, 2, 9].\n",
            "• The encoder contains self-attention layers. In a self-attention layer all of the keys, values\n",
            "and queries come from the same place, in this case, the output of the previous layer in the\n",
            "encoder. Each position in the encoder can attend to all positions in the previous layer of the\n",
            "encoder.\n",
            "• Similarly, self-attention layers in the decoder allow each position in the decoder to attend to\n",
            "all positions in the decoder up to and including that position. We need to prevent leftward\n",
            "information ﬂow in the decoder to preserve the auto-regressive property. We implement this\n",
            "inside of scaled dot-product attention by masking out (setting to −∞) all values in the input\n",
            "of the softmax which correspond to illegal connections. See Figure 2.\n",
            "3.3 Position-wise Feed-Forward Networks\n",
            "In addition to attention sub-layers, each of the layers in our encoder and decoder contains a fully\n",
            "connected feed-forward network, which is applied to each position separately and identically. This\n",
            "consists of two linear transformations with a ReLU activation in between.\n",
            "FFN(x) = max(0,xW1 + b1)W2 + b2 (2)\n",
            "While the linear transformations are the same across different positions, they use different parameters\n",
            "from layer to layer. Another way of describing this is as two convolutions with kernel size 1.\n",
            "The dimensionality of input and output is dmodel = 512, and the inner-layer has dimensionality\n",
            "dff = 2048.\n",
            "3.4 Embeddings and Softmax\n",
            "Similarly to other sequence transduction models, we use learned embeddings to convert the input\n",
            "tokens and output tokens to vectors of dimension dmodel. We also use the usual learned linear transfor-\n",
            "mation and softmax function to convert the decoder output to predicted next-token probabilities. In\n",
            "our model, we share the same weight matrix between the two embedding layers and the pre-softmax\n",
            "linear transformation, similar to [30]. In the embedding layers, we multiply those weights by √dmodel.\n",
            "3.5 Positional Encoding\n",
            "Since our model contains no recurrence and no convolution, in order for the model to make use of the\n",
            "order of the sequence, we must inject some information about the relative or absolute position of the\n",
            "5\n",
            "------------\n",
            "Given the new context, refine the original summary.\n",
            "If the context isn't useful, return the original summary.\u001b[0m\n",
            "\n",
            "\u001b[1m> Finished chain.\u001b[0m\n",
            "\n",
            "\n",
            "\u001b[1m> Entering new LLMChain chain...\u001b[0m\n",
            "Prompt after formatting:\n",
            "\u001b[32;1m\u001b[1;3mYour job is to produce a final summary.\n",
            "We have provided an existing summary up to a certain point: Here’s the refined summary with added context from the new information:\n",
            "\n",
            "The paper *\"Attention Is All You Need\"* introduces the Transformer, a groundbreaking neural network architecture built entirely on attention mechanisms, eliminating the need for recurrence and convolution. It demonstrates superior performance in sequence transduction tasks, such as machine translation, achieving state-of-the-art BLEU scores on English-to-German (28.4) and English-to-French (41.8) translation tasks, with significantly reduced training time and improved parallelization. The model generalizes well across tasks, including English constituency parsing, showcasing its robustness and efficiency. The Transformer leverages self-attention mechanisms to compute representations of input and output sequences without relying on sequence-aligned recurrence or convolution, enabling constant-time operations for modeling dependencies across arbitrary positions in a sequence. Its encoder-decoder structure consists of stacks of six identical layers, with the encoder employing multi-head self-attention and position-wise feed-forward networks, and the decoder incorporating an additional sub-layer for multi-head attention over the encoder's output. Both components use residual connections with layer normalization to stabilize training. Additionally, the decoder applies masking in its self-attention mechanism to ensure autoregressive behavior, allowing predictions at each position to depend only on previous positions.\n",
            "\n",
            "To enhance its attention mechanism, the Transformer introduces **Scaled Dot-Product Attention**, which computes weights for values using queries and keys and includes a scaling factor of \\( 1/\\sqrt{d_k} \\) to improve gradient behavior for large \\( d_k \\). This approach is faster and more space-efficient than additive attention, particularly for optimized matrix multiplication. Furthermore, the Transformer employs **Multi-Head Attention**, where multiple attention heads independently project queries, keys, and values into lower-dimensional spaces, compute attention in parallel, and combine the outputs to capture diverse features from different subspaces. With eight parallel attention heads (\\( h=8 \\)), each head operates at reduced dimensionality (\\( dk = dv = dmodel/h = 64 \\)), ensuring computational efficiency while maintaining expressiveness. Multi-head attention is applied in three key ways: (1) **encoder-decoder attention**, where the decoder attends to the encoder’s output to capture input sequence information; (2) **encoder self-attention**, where positions in the encoder attend to other positions within the encoder for contextual understanding; and (3) **decoder self-attention**, where positions in the decoder attend to previous positions to preserve the autoregressive property, enforced by masking to prevent future information flow.\n",
            "\n",
            "Each layer of the encoder and decoder also includes **Position-wise Feed-Forward Networks**, which consist of two linear transformations with a ReLU activation in between, applied independently to each position. These networks have an input/output dimensionality of \\( d_{model} = 512 \\) and an inner-layer dimensionality of \\( d_{ff} = 2048 \\). Furthermore, the Transformer utilizes **embedding layers** for input and output tokens, shared across both embedding and pre-softmax layers, scaled by \\( \\sqrt{d_{model} } \\), to convert tokens to vector representations efficiently.\n",
            "\n",
            "Lastly, because the model lacks recurrence or convolution, **Positional Encoding** is employed to incorporate information about sequence order, ensuring the model can account for relative and absolute positional relationships in the input data. Combined with its attention-based innovations, this architecture makes the Transformer highly parallelizable, efficient, and capable of handling long-range dependencies in sequences. \n",
            "We have the opportunity to refine the existing summary (only if needed) with some more context below.\n",
            "------------\n",
            "Table 1: Maximum path lengths, per-layer complexity and minimum number of sequential operations\n",
            "for different layer types. nis the sequence length, dis the representation dimension, kis the kernel\n",
            "size of convolutions and rthe size of the neighborhood in restricted self-attention.\n",
            "Layer Type Complexity per Layer Sequential Maximum Path Length\n",
            "Operations\n",
            "Self-Attention O(n2 ·d) O(1) O(1)\n",
            "Recurrent O(n·d2) O(n) O(n)\n",
            "Convolutional O(k·n·d2) O(1) O(logk(n))\n",
            "Self-Attention (restricted) O(r·n·d) O(1) O(n/r)\n",
            "tokens in the sequence. To this end, we add \"positional encodings\" to the input embeddings at the\n",
            "bottoms of the encoder and decoder stacks. The positional encodings have the same dimension dmodel\n",
            "as the embeddings, so that the two can be summed. There are many choices of positional encodings,\n",
            "learned and ﬁxed [9].\n",
            "In this work, we use sine and cosine functions of different frequencies:\n",
            "PE(pos,2i) = sin(pos/100002i/dmodel )\n",
            "PE(pos,2i+1) = cos(pos/100002i/dmodel )\n",
            "where posis the position and iis the dimension. That is, each dimension of the positional encoding\n",
            "corresponds to a sinusoid. The wavelengths form a geometric progression from 2πto 10000 ·2π. We\n",
            "chose this function because we hypothesized it would allow the model to easily learn to attend by\n",
            "relative positions, since for any ﬁxed offset k, PEpos+k can be represented as a linear function of\n",
            "PEpos.\n",
            "We also experimented with using learned positional embeddings [9] instead, and found that the two\n",
            "versions produced nearly identical results (see Table 3 row (E)). We chose the sinusoidal version\n",
            "because it may allow the model to extrapolate to sequence lengths longer than the ones encountered\n",
            "during training.\n",
            "4 Why Self-Attention\n",
            "In this section we compare various aspects of self-attention layers to the recurrent and convolu-\n",
            "tional layers commonly used for mapping one variable-length sequence of symbol representations\n",
            "(x1,...,x n) to another sequence of equal length (z1,...,z n), with xi,zi ∈Rd, such as a hidden\n",
            "layer in a typical sequence transduction encoder or decoder. Motivating our use of self-attention we\n",
            "consider three desiderata.\n",
            "One is the total computational complexity per layer. Another is the amount of computation that can\n",
            "be parallelized, as measured by the minimum number of sequential operations required.\n",
            "The third is the path length between long-range dependencies in the network. Learning long-range\n",
            "dependencies is a key challenge in many sequence transduction tasks. One key factor affecting the\n",
            "ability to learn such dependencies is the length of the paths forward and backward signals have to\n",
            "traverse in the network. The shorter these paths between any combination of positions in the input\n",
            "and output sequences, the easier it is to learn long-range dependencies [12]. Hence we also compare\n",
            "the maximum path length between any two input and output positions in networks composed of the\n",
            "different layer types.\n",
            "As noted in Table 1, a self-attention layer connects all positions with a constant number of sequentially\n",
            "executed operations, whereas a recurrent layer requires O(n) sequential operations. In terms of\n",
            "computational complexity, self-attention layers are faster than recurrent layers when the sequence\n",
            "length n is smaller than the representation dimensionality d, which is most often the case with\n",
            "sentence representations used by state-of-the-art models in machine translations, such as word-piece\n",
            "[38] and byte-pair [31] representations. To improve computational performance for tasks involving\n",
            "very long sequences, self-attention could be restricted to considering only a neighborhood of size rin\n",
            "6\n",
            "------------\n",
            "Given the new context, refine the original summary.\n",
            "If the context isn't useful, return the original summary.\u001b[0m\n",
            "\n",
            "\u001b[1m> Finished chain.\u001b[0m\n",
            "\n",
            "\n",
            "\u001b[1m> Entering new LLMChain chain...\u001b[0m\n",
            "Prompt after formatting:\n",
            "\u001b[32;1m\u001b[1;3mYour job is to produce a final summary.\n",
            "We have provided an existing summary up to a certain point: Here's the refined summary integrating relevant new context for added clarity and depth:\n",
            "\n",
            "The paper *\"Attention Is All You Need\"* introduces the Transformer, a groundbreaking neural network architecture built entirely on attention mechanisms, eliminating the need for recurrence and convolution. It demonstrates superior performance in sequence transduction tasks, such as machine translation, achieving state-of-the-art BLEU scores on English-to-German (28.4) and English-to-French (41.8) translation tasks, with significantly reduced training time and improved parallelization. The model generalizes well across tasks, including English constituency parsing, showcasing its robustness and efficiency. The Transformer leverages self-attention mechanisms to compute representations of input and output sequences without relying on sequence-aligned recurrence or convolution, enabling constant-time operations for modeling dependencies across arbitrary positions in a sequence. Its encoder-decoder structure consists of stacks of six identical layers, with the encoder employing multi-head self-attention and position-wise feed-forward networks, and the decoder incorporating an additional sub-layer for multi-head attention over the encoder's output. Both components use residual connections with layer normalization to stabilize training. Additionally, the decoder applies masking in its self-attention mechanism to ensure autoregressive behavior, allowing predictions at each position to depend only on previous positions.\n",
            "\n",
            "To enhance its attention mechanism, the Transformer introduces **Scaled Dot-Product Attention**, which computes weights for values using queries and keys and includes a scaling factor of \\( 1/\\sqrt{d_k} \\) to improve gradient behavior for large \\( d_k \\). This approach is faster and more space-efficient than additive attention, particularly for optimized matrix multiplication. Furthermore, the Transformer employs **Multi-Head Attention**, where multiple attention heads independently project queries, keys, and values into lower-dimensional spaces, compute attention in parallel, and combine the outputs to capture diverse features from different subspaces. With eight parallel attention heads (\\( h=8 \\)), each head operates at reduced dimensionality (\\( d_k = d_v = d_{model}/h = 64 \\)), ensuring computational efficiency while maintaining expressiveness. Multi-head attention is applied in three key ways: (1) **encoder-decoder attention**, where the decoder attends to the encoder’s output to capture input sequence information; (2) **encoder self-attention**, where positions in the encoder attend to other positions within the encoder for contextual understanding; and (3) **decoder self-attention**, where positions in the decoder attend to previous positions to preserve the autoregressive property, enforced by masking to prevent future information flow.\n",
            "\n",
            "Each layer of the encoder and decoder also includes **Position-wise Feed-Forward Networks**, which consist of two linear transformations with a ReLU activation in between, applied independently to each position. These networks have an input/output dimensionality of \\( d_{model} = 512 \\) and an inner-layer dimensionality of \\( d_{ff} = 2048 \\). Furthermore, the Transformer utilizes **embedding layers** for input and output tokens, shared across both embedding and pre-softmax layers, scaled by \\( \\sqrt{d_{model} } \\), to convert tokens to vector representations efficiently.\n",
            "\n",
            "Because the model lacks recurrence or convolution, **Positional Encoding** is employed to incorporate information about sequence order, ensuring the model can account for relative and absolute positional relationships in the input data. Positional encodings are added to the input embeddings and have the same dimensionality (\\( d_{model} \\)), allowing the two to be summed. The paper employs sinusoidal positional encodings, defined using sine and cosine functions at varying frequencies, enabling the model to attend by relative positions and potentially extrapolate to sequences longer than those encountered during training—a feature learned positional embeddings do not offer. The encoding function uses geometric progressions of wavelengths, ensuring efficient positional differentiation.\n",
            "\n",
            "Self-attention is central to the Transformer’s success, as it addresses key challenges in sequence transduction tasks. Compared to recurrent and convolutional layers, self-attention provides superior computational efficiency (\\( O(n^2 \\cdot d) \\)), parallelization (requiring only \\( O(1) \\) sequential operations per layer), and shorter path lengths for learning long-range dependencies, ensuring direct connections between any two input-output positions. These properties make self-attention particularly advantageous for sentence representations, such as word-piece or byte-pair encodings, commonly used in state-of-the-art machine translation models. Furthermore, restricting self-attention to a neighborhood size \\( r \\) can optimize computational performance for very long sequences.\n",
            "\n",
            "The Transformer’s attention-based innovations, combined with its highly parallelizable design, constant-time dependency modeling, and ability to handle long-range dependencies, make it a revolutionary architecture that underpins many modern advances in machine learning and natural language processing.\n",
            "We have the opportunity to refine the existing summary (only if needed) with some more context below.\n",
            "------------\n",
            "the input sequence centered around the respective output position. This would increase the maximum\n",
            "path length to O(n/r). We plan to investigate this approach further in future work.\n",
            "A single convolutional layer with kernel width k<n does not connect all pairs of input and output\n",
            "positions. Doing so requires a stack of O(n/k) convolutional layers in the case of contiguous kernels,\n",
            "or O(logk(n)) in the case of dilated convolutions [ 18], increasing the length of the longest paths\n",
            "between any two positions in the network. Convolutional layers are generally more expensive than\n",
            "recurrent layers, by a factor of k. Separable convolutions [ 6], however, decrease the complexity\n",
            "considerably, to O(k·n·d+ n·d2). Even with k = n, however, the complexity of a separable\n",
            "convolution is equal to the combination of a self-attention layer and a point-wise feed-forward layer,\n",
            "the approach we take in our model.\n",
            "As side beneﬁt, self-attention could yield more interpretable models. We inspect attention distributions\n",
            "from our models and present and discuss examples in the appendix. Not only do individual attention\n",
            "heads clearly learn to perform different tasks, many appear to exhibit behavior related to the syntactic\n",
            "and semantic structure of the sentences.\n",
            "5 Training\n",
            "This section describes the training regime for our models.\n",
            "5.1 Training Data and Batching\n",
            "We trained on the standard WMT 2014 English-German dataset consisting of about 4.5 million\n",
            "sentence pairs. Sentences were encoded using byte-pair encoding [ 3], which has a shared source-\n",
            "target vocabulary of about 37000 tokens. For English-French, we used the signiﬁcantly larger WMT\n",
            "2014 English-French dataset consisting of 36M sentences and split tokens into a 32000 word-piece\n",
            "vocabulary [38]. Sentence pairs were batched together by approximate sequence length. Each training\n",
            "batch contained a set of sentence pairs containing approximately 25000 source tokens and 25000\n",
            "target tokens.\n",
            "5.2 Hardware and Schedule\n",
            "We trained our models on one machine with 8 NVIDIA P100 GPUs. For our base models using\n",
            "the hyperparameters described throughout the paper, each training step took about 0.4 seconds. We\n",
            "trained the base models for a total of 100,000 steps or 12 hours. For our big models,(described on the\n",
            "bottom line of table 3), step time was 1.0 seconds. The big models were trained for 300,000 steps\n",
            "(3.5 days).\n",
            "5.3 Optimizer\n",
            "We used the Adam optimizer [20] with β1 = 0.9, β2 = 0.98 and ϵ= 10−9. We varied the learning\n",
            "rate over the course of training, according to the formula:\n",
            "lrate= d−0.5\n",
            "model ·min(step_num−0.5,step_num·warmup_steps−1.5) (3)\n",
            "This corresponds to increasing the learning rate linearly for the ﬁrst warmup_stepstraining steps,\n",
            "and decreasing it thereafter proportionally to the inverse square root of the step number. We used\n",
            "warmup_steps= 4000.\n",
            "5.4 Regularization\n",
            "We employ three types of regularization during training:\n",
            "Residual Dropout We apply dropout [33] to the output of each sub-layer, before it is added to the\n",
            "sub-layer input and normalized. In addition, we apply dropout to the sums of the embeddings and the\n",
            "positional encodings in both the encoder and decoder stacks. For the base model, we use a rate of\n",
            "Pdrop = 0.1.\n",
            "7\n",
            "------------\n",
            "Given the new context, refine the original summary.\n",
            "If the context isn't useful, return the original summary.\u001b[0m\n",
            "\n",
            "\u001b[1m> Finished chain.\u001b[0m\n",
            "\n",
            "\n",
            "\u001b[1m> Entering new LLMChain chain...\u001b[0m\n",
            "Prompt after formatting:\n",
            "\u001b[32;1m\u001b[1;3mYour job is to produce a final summary.\n",
            "We have provided an existing summary up to a certain point: Here's the refined summary incorporating relevant new information:\n",
            "\n",
            "The paper *\"Attention Is All You Need\"* introduces the Transformer, a groundbreaking neural network architecture built entirely on attention mechanisms, eliminating the need for recurrence and convolution. It demonstrates superior performance in sequence transduction tasks, such as machine translation, achieving state-of-the-art BLEU scores on English-to-German (28.4) and English-to-French (41.8) translation tasks, with significantly reduced training time and improved parallelization. The model generalizes well across tasks, including English constituency parsing, showcasing its robustness and efficiency. The Transformer leverages self-attention mechanisms to compute representations of input and output sequences without relying on sequence-aligned recurrence or convolution, enabling constant-time operations for modeling dependencies across arbitrary positions in a sequence. Its encoder-decoder structure consists of stacks of six identical layers, with the encoder employing multi-head self-attention and position-wise feed-forward networks, and the decoder incorporating an additional sub-layer for multi-head attention over the encoder's output. Both components use residual connections with layer normalization to stabilize training. Additionally, the decoder applies masking in its self-attention mechanism to ensure autoregressive behavior, allowing predictions at each position to depend only on previous positions.\n",
            "\n",
            "To enhance its attention mechanism, the Transformer introduces **Scaled Dot-Product Attention**, which computes weights for values using queries and keys and includes a scaling factor of \\( 1/\\sqrt{d_k} \\) to improve gradient behavior for large \\( d_k \\). This approach is faster and more space-efficient than additive attention, particularly for optimized matrix multiplication. Furthermore, the Transformer employs **Multi-Head Attention**, where multiple attention heads independently project queries, keys, and values into lower-dimensional spaces, compute attention in parallel, and combine the outputs to capture diverse features from different subspaces. With eight parallel attention heads (\\( h=8 \\)), each head operates at reduced dimensionality (\\( d_k = d_v = d_{model}/h = 64 \\)), ensuring computational efficiency while maintaining expressiveness. Multi-head attention is applied in three key ways: (1) **encoder-decoder attention**, where the decoder attends to the encoder’s output to capture input sequence information; (2) **encoder self-attention**, where positions in the encoder attend to other positions within the encoder for contextual understanding; and (3) **decoder self-attention**, where positions in the decoder attend to previous positions to preserve the autoregressive property, enforced by masking to prevent future information flow.\n",
            "\n",
            "Each layer of the encoder and decoder also includes **Position-wise Feed-Forward Networks**, which consist of two linear transformations with a ReLU activation in between, applied independently to each position. These networks have an input/output dimensionality of \\( d_{model} = 512 \\) and an inner-layer dimensionality of \\( d_{ff} = 2048 \\). Furthermore, the Transformer utilizes **embedding layers** for input and output tokens, shared across both embedding and pre-softmax layers, scaled by \\( \\sqrt{d_{model} } \\), to convert tokens to vector representations efficiently.\n",
            "\n",
            "Because the model lacks recurrence or convolution, **Positional Encoding** is employed to incorporate information about sequence order, ensuring the model can account for relative and absolute positional relationships in the input data. Positional encodings are added to the input embeddings and have the same dimensionality (\\( d_{model} \\)), allowing the two to be summed. The paper employs sinusoidal positional encodings, defined using sine and cosine functions at varying frequencies, enabling the model to attend by relative positions and potentially extrapolate to sequences longer than those encountered during training—a feature learned positional embeddings do not offer. The encoding function uses geometric progressions of wavelengths, ensuring efficient positional differentiation.\n",
            "\n",
            "Self-attention is central to the Transformer’s success, as it addresses key challenges in sequence transduction tasks. Compared to recurrent and convolutional layers, self-attention provides superior computational efficiency (\\( O(n^2 \\cdot d) \\)), parallelization (requiring only \\( O(1) \\) sequential operations per layer), and shorter path lengths for learning long-range dependencies, ensuring direct connections between any two input-output positions. These properties make self-attention particularly advantageous for sentence representations, such as word-piece or byte-pair encodings, which allow the Transformer to process datasets with large vocabularies. Furthermore, restricting self-attention to a neighborhood size \\( r \\) could optimize computational performance for very long sequences, though this remains future work. Self-attention also has the benefit of producing more interpretable models, with individual attention heads learning distinct tasks and exhibiting behavior related to the syntactic and semantic structure of sentences.\n",
            "\n",
            "The training regime for the Transformer optimizes efficiency and accuracy through strategies such as byte-pair encoding for tokenization and batching sentences by approximate sequence length to ensure a manageable input size for each batch (approximately 25,000 tokens). The model utilizes the Adam optimizer with custom hyperparameters and a learning rate schedule that increases linearly during initial warmup steps (for 4,000 steps) and then decreases proportionally to the inverse square root of the step number. Regularization techniques, including residual dropout (\\( P_{drop} = 0.1 \\)), are applied to sub-layer outputs and positional embeddings to reduce overfitting. Training is highly efficient, with the base model trained in 12 hours on eight NVIDIA P100 GPUs and the larger model trained in approximately 3.5 days.\n",
            "\n",
            "The Transformer’s attention-based innovations, combined with its highly parallelizable design, constant-time dependency modeling, interpretable behavior, and ability to handle long-range dependencies, make it a revolutionary architecture that underpins many modern advances in machine learning and natural language processing.\n",
            "We have the opportunity to refine the existing summary (only if needed) with some more context below.\n",
            "------------\n",
            "Table 2: The Transformer achieves better BLEU scores than previous state-of-the-art models on the\n",
            "English-to-German and English-to-French newstest2014 tests at a fraction of the training cost.\n",
            "Model\n",
            "BLEU Training Cost (FLOPs)\n",
            "EN-DE EN-FR EN-DE EN-FR\n",
            "ByteNet [18] 23.75\n",
            "Deep-Att + PosUnk [39] 39.2 1.0 ·1020\n",
            "GNMT + RL [38] 24.6 39.92 2.3 ·1019 1.4 ·1020\n",
            "ConvS2S [9] 25.16 40.46 9.6 ·1018 1.5 ·1020\n",
            "MoE [32] 26.03 40.56 2.0 ·1019 1.2 ·1020\n",
            "Deep-Att + PosUnk Ensemble [39] 40.4 8.0 ·1020\n",
            "GNMT + RL Ensemble [38] 26.30 41.16 1.8 ·1020 1.1 ·1021\n",
            "ConvS2S Ensemble [9] 26.36 41.29 7.7 ·1019 1.2 ·1021\n",
            "Transformer (base model) 27.3 38.1 3.3 · 1018\n",
            "Transformer (big) 28.4 41.8 2.3 ·1019\n",
            "Label Smoothing During training, we employed label smoothing of value ϵls = 0.1 [36]. This\n",
            "hurts perplexity, as the model learns to be more unsure, but improves accuracy and BLEU score.\n",
            "6 Results\n",
            "6.1 Machine Translation\n",
            "On the WMT 2014 English-to-German translation task, the big transformer model (Transformer (big)\n",
            "in Table 2) outperforms the best previously reported models (including ensembles) by more than 2.0\n",
            "BLEU, establishing a new state-of-the-art BLEU score of 28.4. The conﬁguration of this model is\n",
            "listed in the bottom line of Table 3. Training took 3.5 days on 8 P100 GPUs. Even our base model\n",
            "surpasses all previously published models and ensembles, at a fraction of the training cost of any of\n",
            "the competitive models.\n",
            "On the WMT 2014 English-to-French translation task, our big model achieves a BLEU score of 41.0,\n",
            "outperforming all of the previously published single models, at less than 1/4 the training cost of the\n",
            "previous state-of-the-art model. The Transformer (big) model trained for English-to-French used\n",
            "dropout rate Pdrop = 0.1, instead of 0.3.\n",
            "For the base models, we used a single model obtained by averaging the last 5 checkpoints, which\n",
            "were written at 10-minute intervals. For the big models, we averaged the last 20 checkpoints. We\n",
            "used beam search with a beam size of 4 and length penalty α= 0.6 [38]. These hyperparameters\n",
            "were chosen after experimentation on the development set. We set the maximum output length during\n",
            "inference to input length + 50, but terminate early when possible [38].\n",
            "Table 2 summarizes our results and compares our translation quality and training costs to other model\n",
            "architectures from the literature. We estimate the number of ﬂoating point operations used to train a\n",
            "model by multiplying the training time, the number of GPUs used, and an estimate of the sustained\n",
            "single-precision ﬂoating-point capacity of each GPU 5.\n",
            "6.2 Model Variations\n",
            "To evaluate the importance of different components of the Transformer, we varied our base model\n",
            "in different ways, measuring the change in performance on English-to-German translation on the\n",
            "development set, newstest2013. We used beam search as described in the previous section, but no\n",
            "checkpoint averaging. We present these results in Table 3.\n",
            "In Table 3 rows (A), we vary the number of attention heads and the attention key and value dimensions,\n",
            "keeping the amount of computation constant, as described in Section 3.2.2. While single-head\n",
            "attention is 0.9 BLEU worse than the best setting, quality also drops off with too many heads.\n",
            "5We used values of 2.8, 3.7, 6.0 and 9.5 TFLOPS for K80, K40, M40 and P100, respectively.\n",
            "8\n",
            "------------\n",
            "Given the new context, refine the original summary.\n",
            "If the context isn't useful, return the original summary.\u001b[0m\n",
            "\n",
            "\u001b[1m> Finished chain.\u001b[0m\n",
            "\n",
            "\n",
            "\u001b[1m> Entering new LLMChain chain...\u001b[0m\n",
            "Prompt after formatting:\n",
            "\u001b[32;1m\u001b[1;3mYour job is to produce a final summary.\n",
            "We have provided an existing summary up to a certain point: Here's the refined summary incorporating the relevant new context:\n",
            "\n",
            "The paper *\"Attention Is All You Need\"* introduces the Transformer, a groundbreaking neural network architecture built entirely on attention mechanisms, eliminating the need for recurrence and convolution. It demonstrates superior performance in sequence transduction tasks, such as machine translation, achieving state-of-the-art BLEU scores on English-to-German (28.4) and English-to-French (41.8) translation tasks, with significantly reduced training time and improved parallelization. Critically, the Transformer outperforms prior single-model architectures and even ensembles in translation quality while requiring substantially fewer computational resources. For instance, the base Transformer model surpasses all previously published models and ensembles on English-to-German translation, achieving BLEU scores of 27.3 and 38.1 for English-to-German and English-to-French tasks, respectively, with training costs of \\( 3.3 \\cdot 10^{18} \\) FLOPs — far lower than competing architectures such as GNMT + RL Ensemble or ConvS2S Ensemble. The larger Transformer (big) model further improves these results, attaining BLEU scores of 28.4 and 41.8 for the same tasks, in just 3.5 days on eight NVIDIA P100 GPUs, less than one-fourth the training cost of the prior state-of-the-art models.\n",
            "\n",
            "The model generalizes well across tasks, including English constituency parsing, showcasing its robustness and efficiency. The Transformer leverages self-attention mechanisms to compute representations of input and output sequences without relying on sequence-aligned recurrence or convolution, enabling constant-time operations for modeling dependencies across arbitrary positions in a sequence. Its encoder-decoder structure consists of stacks of six identical layers, with the encoder employing multi-head self-attention and position-wise feed-forward networks, and the decoder incorporating an additional sub-layer for multi-head attention over the encoder's output. Both components use residual connections with layer normalization to stabilize training. Additionally, the decoder applies masking in its self-attention mechanism to ensure autoregressive behavior, allowing predictions at each position to depend only on previous positions.\n",
            "\n",
            "To enhance its attention mechanism, the Transformer introduces **Scaled Dot-Product Attention**, which computes weights for values using queries and keys and includes a scaling factor of \\( 1/\\sqrt{d_k} \\) to improve gradient behavior for large \\( d_k \\). This approach is faster and more space-efficient than additive attention, particularly for optimized matrix multiplication. Furthermore, the Transformer employs **Multi-Head Attention**, where multiple attention heads independently project queries, keys, and values into lower-dimensional spaces, compute attention in parallel, and combine the outputs to capture diverse features from different subspaces. With eight parallel attention heads (\\( h=8 \\)), each head operates at reduced dimensionality (\\( d_k = d_v = d_{model}/h = 64 \\)), ensuring computational efficiency while maintaining expressiveness. Multi-head attention is applied in three key ways: (1) **encoder-decoder attention**, where the decoder attends to the encoder’s output to capture input sequence information; (2) **encoder self-attention**, where positions in the encoder attend to other positions within the encoder for contextual understanding; and (3) **decoder self-attention**, where positions in the decoder attend to previous positions to preserve the autoregressive property, enforced by masking to prevent future information flow.\n",
            "\n",
            "Each layer of the encoder and decoder also includes **Position-wise Feed-Forward Networks**, which consist of two linear transformations with a ReLU activation in between, applied independently to each position. These networks have an input/output dimensionality of \\( d_{model} = 512 \\) and an inner-layer dimensionality of \\( d_{ff} = 2048 \\). Furthermore, the Transformer utilizes **embedding layers** for input and output tokens, shared across both embedding and pre-softmax layers, scaled by \\( \\sqrt{d_{model} } \\), to convert tokens to vector representations efficiently.\n",
            "\n",
            "Because the model lacks recurrence or convolution, **Positional Encoding** is employed to incorporate information about sequence order, ensuring the model can account for relative and absolute positional relationships in the input data. Positional encodings are added to the input embeddings and have the same dimensionality (\\( d_{model} \\)), allowing the two to be summed. The paper employs sinusoidal positional encodings, defined using sine and cosine functions at varying frequencies, enabling the model to attend by relative positions and potentially extrapolate to sequences longer than those encountered during training—a feature learned positional embeddings do not offer. The encoding function uses geometric progressions of wavelengths, ensuring efficient positional differentiation.\n",
            "\n",
            "Self-attention is central to the Transformer’s success, as it addresses key challenges in sequence transduction tasks. Compared to recurrent and convolutional layers, self-attention provides superior computational efficiency (\\( O(n^2 \\cdot d) \\)), parallelization (requiring only \\( O(1) \\) sequential operations per layer), and shorter path lengths for learning long-range dependencies, ensuring direct connections between any two input-output positions. These properties make self-attention particularly advantageous for sentence representations, such as word-piece or byte-pair encodings, which allow the Transformer to process datasets with large vocabularies. Furthermore, restricting self-attention to a neighborhood size \\( r \\) could optimize computational performance for very long sequences, though this remains future work. Self-attention also has the benefit of producing more interpretable models, with individual attention heads learning distinct tasks and exhibiting behavior related to the syntactic and semantic structure of sentences.\n",
            "\n",
            "The training regime for the Transformer optimizes efficiency and accuracy through strategies such as byte-pair encoding for tokenization and batching sentences by approximate sequence length to ensure a manageable input size for each batch (approximately 25,000 tokens). The model utilizes label smoothing (\\( \\epsilon_{ls} = 0.1 \\)) to improve accuracy and BLEU scores despite slightly increasing perplexity, as well as the Adam optimizer with custom hyperparameters and a learning rate schedule that increases linearly during initial warmup steps (for 4,000 steps) and then decreases proportionally to the inverse square root of the step number. Regularization techniques, including residual dropout (\\( P_{drop} = 0.1 \\)), are applied to sub-layer outputs and positional embeddings to reduce overfitting. Training is highly efficient, with the base model trained in 12 hours on eight NVIDIA P100 GPUs and the larger model trained in approximately 3.5 days.\n",
            "\n",
            "The Transformer’s attention-based innovations, combined with its highly parallelizable design, constant-time dependency modeling, reduced training costs, interpretable behavior, and ability to handle long-range dependencies, make it a revolutionary architecture. It has fundamentally transformed machine learning and natural language processing, achieving unparalleled performance in key tasks while simultaneously reducing computational overhead compared to previous models.\n",
            "We have the opportunity to refine the existing summary (only if needed) with some more context below.\n",
            "------------\n",
            "Table 3: Variations on the Transformer architecture. Unlisted values are identical to those of the base\n",
            "model. All metrics are on the English-to-German translation development set, newstest2013. Listed\n",
            "perplexities are per-wordpiece, according to our byte-pair encoding, and should not be compared to\n",
            "per-word perplexities.\n",
            "N d model dff h d k dv Pdrop ϵls\n",
            "train PPL BLEU params\n",
            "steps (dev) (dev) ×106\n",
            "base 6 512 2048 8 64 64 0.1 0.1 100K 4.92 25.8 65\n",
            "(A)\n",
            "1 512 512 5.29 24.9\n",
            "4 128 128 5.00 25.5\n",
            "16 32 32 4.91 25.8\n",
            "32 16 16 5.01 25.4\n",
            "(B) 16 5.16 25.1 58\n",
            "32 5.01 25.4 60\n",
            "(C)\n",
            "2 6.11 23.7 36\n",
            "4 5.19 25.3 50\n",
            "8 4.88 25.5 80\n",
            "256 32 32 5.75 24.5 28\n",
            "1024 128 128 4.66 26.0 168\n",
            "1024 5.12 25.4 53\n",
            "4096 4.75 26.2 90\n",
            "(D)\n",
            "0.0 5.77 24.6\n",
            "0.2 4.95 25.5\n",
            "0.0 4.67 25.3\n",
            "0.2 5.47 25.7\n",
            "(E) positional embedding instead of sinusoids 4.92 25.7\n",
            "big 6 1024 4096 16 0.3 300K 4.33 26.4 213\n",
            "Table 4: The Transformer generalizes well to English constituency parsing (Results are on Section 23\n",
            "of WSJ)\n",
            "Parser Training WSJ 23 F1\n",
            "Vinyals & Kaiser el al. (2014) [37] WSJ only, discriminative 88.3\n",
            "Petrov et al. (2006) [29] WSJ only, discriminative 90.4\n",
            "Zhu et al. (2013) [40] WSJ only, discriminative 90.4\n",
            "Dyer et al. (2016) [8] WSJ only, discriminative 91.7\n",
            "Transformer (4 layers) WSJ only, discriminative 91.3\n",
            "Zhu et al. (2013) [40] semi-supervised 91.3\n",
            "Huang & Harper (2009) [14] semi-supervised 91.3\n",
            "McClosky et al. (2006) [26] semi-supervised 92.1\n",
            "Vinyals & Kaiser el al. (2014) [37] semi-supervised 92.1\n",
            "Transformer (4 layers) semi-supervised 92.7\n",
            "Luong et al. (2015) [23] multi-task 93.0\n",
            "Dyer et al. (2016) [8] generative 93.3\n",
            "In Table 3 rows (B), we observe that reducing the attention key size dk hurts model quality. This\n",
            "suggests that determining compatibility is not easy and that a more sophisticated compatibility\n",
            "function than dot product may be beneﬁcial. We further observe in rows (C) and (D) that, as expected,\n",
            "bigger models are better, and dropout is very helpful in avoiding over-ﬁtting. In row (E) we replace our\n",
            "sinusoidal positional encoding with learned positional embeddings [9], and observe nearly identical\n",
            "results to the base model.\n",
            "6.3 English Constituency Parsing\n",
            "To evaluate if the Transformer can generalize to other tasks we performed experiments on English\n",
            "constituency parsing. This task presents speciﬁc challenges: the output is subject to strong structural\n",
            "9\n",
            "------------\n",
            "Given the new context, refine the original summary.\n",
            "If the context isn't useful, return the original summary.\u001b[0m\n",
            "\n",
            "\u001b[1m> Finished chain.\u001b[0m\n",
            "\n",
            "\n",
            "\u001b[1m> Entering new LLMChain chain...\u001b[0m\n",
            "Prompt after formatting:\n",
            "\u001b[32;1m\u001b[1;3mYour job is to produce a final summary.\n",
            "We have provided an existing summary up to a certain point: The paper *\"Attention Is All You Need\"* introduces the Transformer, a groundbreaking neural network architecture built entirely on attention mechanisms, eliminating the need for recurrence and convolution. It demonstrates superior performance in sequence transduction tasks, such as machine translation, achieving state-of-the-art BLEU scores on English-to-German (28.4) and English-to-French (41.8) translation tasks, with significantly reduced training time and improved parallelization. Critically, the Transformer outperforms prior single-model architectures and even ensembles in translation quality while requiring substantially fewer computational resources. For instance, the base Transformer model surpasses all previously published models and ensembles on English-to-German translation, achieving BLEU scores of 27.3 and 38.1 for English-to-German and English-to-French tasks, respectively, with training costs of \\( 3.3 \\cdot 10^{18} \\) FLOPs — far lower than competing architectures such as GNMT + RL Ensemble or ConvS2S Ensemble. The larger Transformer (big) model further improves these results, attaining BLEU scores of 28.4 and 41.8 for the same tasks, in just 3.5 days on eight NVIDIA P100 GPUs, less than one-fourth the training cost of the prior state-of-the-art models.\n",
            "\n",
            "The model generalizes well across tasks, including English constituency parsing, showcasing its robustness and efficiency. The Transformer leverages self-attention mechanisms to compute representations of input and output sequences without relying on sequence-aligned recurrence or convolution, enabling constant-time operations for modeling dependencies across arbitrary positions in a sequence. Its encoder-decoder structure consists of stacks of six identical layers, with the encoder employing multi-head self-attention and position-wise feed-forward networks, and the decoder incorporating an additional sub-layer for multi-head attention over the encoder's output. Both components use residual connections with layer normalization to stabilize training. Additionally, the decoder applies masking in its self-attention mechanism to ensure autoregressive behavior, allowing predictions at each position to depend only on previous positions.\n",
            "\n",
            "To enhance its attention mechanism, the Transformer introduces **Scaled Dot-Product Attention**, which computes weights for values using queries and keys and includes a scaling factor of \\( 1/\\sqrt{d_k} \\) to improve gradient behavior for large \\( d_k \\). This approach is faster and more space-efficient than additive attention, particularly for optimized matrix multiplication. Furthermore, the Transformer employs **Multi-Head Attention**, where multiple attention heads independently project queries, keys, and values into lower-dimensional spaces, compute attention in parallel, and combine the outputs to capture diverse features from different subspaces. With eight parallel attention heads (\\( h=8 \\)), each head operates at reduced dimensionality (\\( d_k = d_v = d_{model}/h = 64 \\)), ensuring computational efficiency while maintaining expressiveness. Multi-head attention is applied in three key ways: (1) **encoder-decoder attention**, where the decoder attends to the encoder’s output to capture input sequence information; (2) **encoder self-attention**, where positions in the encoder attend to other positions within the encoder for contextual understanding; and (3) **decoder self-attention**, where positions in the decoder attend to previous positions to preserve the autoregressive property, enforced by masking to prevent future information flow.\n",
            "\n",
            "Each layer of the encoder and decoder also includes **Position-wise Feed-Forward Networks**, which consist of two linear transformations with a ReLU activation in between, applied independently to each position. These networks have an input/output dimensionality of \\( d_{model} = 512 \\) and an inner-layer dimensionality of \\( d_{ff} = 2048 \\). Furthermore, the Transformer utilizes **embedding layers** for input and output tokens, shared across both embedding and pre-softmax layers, scaled by \\( \\sqrt{d_{model} } \\), to convert tokens to vector representations efficiently.\n",
            "\n",
            "Because the model lacks recurrence or convolution, **Positional Encoding** is employed to incorporate information about sequence order, ensuring the model can account for relative and absolute positional relationships in the input data. Positional encodings are added to the input embeddings and have the same dimensionality (\\( d_{model} \\)), allowing the two to be summed. The paper employs sinusoidal positional encodings, defined using sine and cosine functions at varying frequencies, enabling the model to attend by relative positions and potentially extrapolate to sequences longer than those encountered during training—a feature learned positional embeddings do not offer. Experiments replacing sinusoidal positional encodings with learned embeddings showed nearly identical results, highlighting the robustness of the Transformer’s architecture. The encoding function uses geometric progressions of wavelengths, ensuring efficient positional differentiation.\n",
            "\n",
            "Self-attention is central to the Transformer’s success, as it addresses key challenges in sequence transduction tasks. Compared to recurrent and convolutional layers, self-attention provides superior computational efficiency (\\( O(n^2 \\cdot d) \\)), parallelization (requiring only \\( O(1) \\) sequential operations per layer), and shorter path lengths for learning long-range dependencies, ensuring direct connections between any two input-output positions. These properties make self-attention particularly advantageous for sentence representations, such as word-piece or byte-pair encodings, which allow the Transformer to process datasets with large vocabularies. Furthermore, restricting self-attention to a neighborhood size \\( r \\) could optimize computational performance for very long sequences, though this remains future work. Self-attention also has the benefit of producing more interpretable models, with individual attention heads learning distinct tasks and exhibiting behavior related to the syntactic and semantic structure of sentences. Notably, experiments suggest that a more sophisticated compatibility function than dot-product attention could further improve model quality.\n",
            "\n",
            "The training regime for the Transformer optimizes efficiency and accuracy through strategies such as byte-pair encoding for tokenization and batching sentences by approximate sequence length to ensure a manageable input size for each batch (approximately 25,000 tokens). The model utilizes label smoothing (\\( \\epsilon_{ls} = 0.1 \\)) to improve accuracy and BLEU scores despite slightly increasing perplexity, as well as the Adam optimizer with custom hyperparameters and a learning rate schedule that increases linearly during initial warmup steps (for 4,000 steps) and then decreases proportionally to the inverse square root of the step number. Regularization techniques, including residual dropout (\\( P_{drop} = 0.1 \\)), are applied to sub-layer outputs and positional embeddings to reduce overfitting. Training is highly efficient, with the base model trained in 12 hours on eight NVIDIA P100 GPUs and the larger model trained in approximately 3.5 days. Experiments confirm the value of dropout for avoiding overfitting in larger models.\n",
            "\n",
            "The Transformer further achieves impressive results in English constituency parsing tasks, demonstrating strong generalization to tasks beyond translation. In discriminative and semi-supervised setups, a four-layer Transformer achieves F1 scores comparable to or exceeding prior state-of-the-art parsers, with results improving further in semi-supervised configurations (F1 of 92.7). This highlights the architecture’s versatility and ability to handle tasks with complex structural output.\n",
            "\n",
            "The Transformer’s attention-based innovations, combined with its highly parallelizable design, constant-time dependency modeling, reduced training costs, interpretable behavior, and ability to handle long-range dependencies, make it a revolutionary architecture. It has fundamentally transformed machine learning and natural language processing, achieving unparalleled performance in key tasks while simultaneously reducing computational overhead compared to previous models.\n",
            "We have the opportunity to refine the existing summary (only if needed) with some more context below.\n",
            "------------\n",
            "constraints and is signiﬁcantly longer than the input. Furthermore, RNN sequence-to-sequence\n",
            "models have not been able to attain state-of-the-art results in small-data regimes [37].\n",
            "We trained a 4-layer transformer with dmodel = 1024on the Wall Street Journal (WSJ) portion of the\n",
            "Penn Treebank [25], about 40K training sentences. We also trained it in a semi-supervised setting,\n",
            "using the larger high-conﬁdence and BerkleyParser corpora from with approximately 17M sentences\n",
            "[37]. We used a vocabulary of 16K tokens for the WSJ only setting and a vocabulary of 32K tokens\n",
            "for the semi-supervised setting.\n",
            "We performed only a small number of experiments to select the dropout, both attention and residual\n",
            "(section 5.4), learning rates and beam size on the Section 22 development set, all other parameters\n",
            "remained unchanged from the English-to-German base translation model. During inference, we\n",
            "increased the maximum output length to input length + 300. We used a beam size of 21 and α= 0.3\n",
            "for both WSJ only and the semi-supervised setting.\n",
            "Our results in Table 4 show that despite the lack of task-speciﬁc tuning our model performs sur-\n",
            "prisingly well, yielding better results than all previously reported models with the exception of the\n",
            "Recurrent Neural Network Grammar [8].\n",
            "In contrast to RNN sequence-to-sequence models [37], the Transformer outperforms the Berkeley-\n",
            "Parser [29] even when training only on the WSJ training set of 40K sentences.\n",
            "7 Conclusion\n",
            "In this work, we presented the Transformer, the ﬁrst sequence transduction model based entirely on\n",
            "attention, replacing the recurrent layers most commonly used in encoder-decoder architectures with\n",
            "multi-headed self-attention.\n",
            "For translation tasks, the Transformer can be trained signiﬁcantly faster than architectures based\n",
            "on recurrent or convolutional layers. On both WMT 2014 English-to-German and WMT 2014\n",
            "English-to-French translation tasks, we achieve a new state of the art. In the former task our best\n",
            "model outperforms even all previously reported ensembles.\n",
            "We are excited about the future of attention-based models and plan to apply them to other tasks. We\n",
            "plan to extend the Transformer to problems involving input and output modalities other than text and\n",
            "to investigate local, restricted attention mechanisms to efﬁciently handle large inputs and outputs\n",
            "such as images, audio and video. Making generation less sequential is another research goals of ours.\n",
            "The code we used to train and evaluate our models is available at https://github.com/\n",
            "tensorflow/tensor2tensor.\n",
            "Acknowledgements We are grateful to Nal Kalchbrenner and Stephan Gouws for their fruitful\n",
            "comments, corrections and inspiration.\n",
            "References\n",
            "[1] Jimmy Lei Ba, Jamie Ryan Kiros, and Geoffrey E Hinton. Layer normalization. arXiv preprint\n",
            "arXiv:1607.06450, 2016.\n",
            "[2] Dzmitry Bahdanau, Kyunghyun Cho, and Yoshua Bengio. Neural machine translation by jointly\n",
            "learning to align and translate. CoRR, abs/1409.0473, 2014.\n",
            "[3] Denny Britz, Anna Goldie, Minh-Thang Luong, and Quoc V . Le. Massive exploration of neural\n",
            "machine translation architectures. CoRR, abs/1703.03906, 2017.\n",
            "[4] Jianpeng Cheng, Li Dong, and Mirella Lapata. Long short-term memory-networks for machine\n",
            "reading. arXiv preprint arXiv:1601.06733, 2016.\n",
            "[5] Kyunghyun Cho, Bart van Merrienboer, Caglar Gulcehre, Fethi Bougares, Holger Schwenk,\n",
            "and Yoshua Bengio. Learning phrase representations using rnn encoder-decoder for statistical\n",
            "machine translation. CoRR, abs/1406.1078, 2014.\n",
            "[6] Francois Chollet. Xception: Deep learning with depthwise separable convolutions. arXiv\n",
            "preprint arXiv:1610.02357, 2016.\n",
            "10\n",
            "------------\n",
            "Given the new context, refine the original summary.\n",
            "If the context isn't useful, return the original summary.\u001b[0m\n",
            "\n",
            "\u001b[1m> Finished chain.\u001b[0m\n",
            "\n",
            "\n",
            "\u001b[1m> Entering new LLMChain chain...\u001b[0m\n",
            "Prompt after formatting:\n",
            "\u001b[32;1m\u001b[1;3mYour job is to produce a final summary.\n",
            "We have provided an existing summary up to a certain point: The additional context contributes relevant information regarding the Transformer’s application beyond translation tasks, particularly in smaller data regimes and English constituency parsing tasks. Below is the refined summary:\n",
            "\n",
            "---\n",
            "\n",
            "The paper *\"Attention Is All You Need\"* introduces the Transformer, a groundbreaking neural network architecture built entirely on attention mechanisms, eliminating the need for recurrence and convolution. It demonstrates superior performance in sequence transduction tasks, such as machine translation, achieving state-of-the-art BLEU scores on English-to-German (28.4) and English-to-French (41.8) translation tasks, with significantly reduced training time and improved parallelization. Critically, the Transformer outperforms prior single-model architectures and even ensembles in translation quality while requiring substantially fewer computational resources. For instance, the base Transformer model surpasses all previously published models and ensembles on English-to-German translation, achieving BLEU scores of 27.3 and 38.1 for English-to-German and English-to-French tasks, respectively, with training costs of \\( 3.3 \\cdot 10^{18} \\) FLOPs — far lower than competing architectures such as GNMT + RL Ensemble or ConvS2S Ensemble. The larger Transformer (big) model further improves these results, attaining BLEU scores of 28.4 and 41.8 for the same tasks, in just 3.5 days on eight NVIDIA P100 GPUs, less than one-fourth the training cost of the prior state-of-the-art models.\n",
            "\n",
            "The model generalizes well across tasks, including English constituency parsing, showcasing its robustness and efficiency. In fact, a four-layer Transformer with \\( d_{model} = 1024 \\), trained on the 40K-sentence WSJ portion of the Penn Treebank, outperformed previous models such as the BerkeleyParser, even in small-data settings. When trained in a semi-supervised configuration with an expanded corpus of 17M sentences and a larger vocabulary size of 32K tokens, the performance further improved, yielding better F1 scores than all previously reported models aside from the Recurrent Neural Network Grammar. Without task-specific tuning, the model delivered strong results, highlighting the versatility of the Transformer architecture.\n",
            "\n",
            "The Transformer leverages self-attention mechanisms to compute representations of input and output sequences without relying on sequence-aligned recurrence or convolution, enabling constant-time operations for modeling dependencies across arbitrary positions in a sequence. Its encoder-decoder structure consists of stacks of six identical layers, with the encoder employing multi-head self-attention and position-wise feed-forward networks, and the decoder incorporating an additional sub-layer for multi-head attention over the encoder's output. Both components use residual connections with layer normalization to stabilize training. Additionally, the decoder applies masking in its self-attention mechanism to ensure autoregressive behavior, allowing predictions at each position to depend only on previous positions.\n",
            "\n",
            "To enhance its attention mechanism, the Transformer introduces **Scaled Dot-Product Attention**, which computes weights for values using queries and keys and includes a scaling factor of \\( 1/\\sqrt{d_k} \\) to improve gradient behavior for large \\( d_k \\). This approach is faster and more space-efficient than additive attention, particularly for optimized matrix multiplication. Furthermore, the Transformer employs **Multi-Head Attention**, where multiple attention heads independently project queries, keys, and values into lower-dimensional spaces, compute attention in parallel, and combine the outputs to capture diverse features from different subspaces. With eight parallel attention heads (\\( h=8 \\)), each head operates at reduced dimensionality (\\( d_k = d_v = d_{model}/h = 64 \\)), ensuring computational efficiency while maintaining expressiveness. Multi-head attention is applied in three key ways: (1) **encoder-decoder attention**, where the decoder attends to the encoder’s output to capture input sequence information; (2) **encoder self-attention**, where positions in the encoder attend to other positions within the encoder for contextual understanding; and (3) **decoder self-attention**, where positions in the decoder attend to previous positions to preserve the autoregressive property, enforced by masking to prevent future information flow.\n",
            "\n",
            "Each layer of the encoder and decoder also includes **Position-wise Feed-Forward Networks**, which consist of two linear transformations with a ReLU activation in between, applied independently to each position. These networks have an input/output dimensionality of \\( d_{model} = 512 \\) with an inner-layer dimensionality of \\( d_{ff} = 2048 \\). Furthermore, the Transformer utilizes **embedding layers** for input and output tokens, shared across both embedding and pre-softmax layers, scaled by \\( \\sqrt{d_{model} } \\), to convert tokens to vector representations efficiently.\n",
            "\n",
            "Because the model lacks recurrence or convolution, **Positional Encoding** is employed to incorporate information about sequence order, ensuring the model can account for relative and absolute positional relationships in the input data. Positional encodings are added to the input embeddings and have the same dimensionality (\\( d_{model} \\)), allowing the two to be summed. The paper employs sinusoidal positional encodings, defined using sine and cosine functions at varying frequencies, enabling the model to attend by relative positions and potentially extrapolate to sequences longer than those encountered during training—a feature learned positional embeddings do not offer. Experiments replacing sinusoidal positional encodings with learned embeddings showed nearly identical results, highlighting the robustness of the Transformer’s architecture. The encoding function uses geometric progressions of wavelengths, ensuring efficient positional differentiation.\n",
            "\n",
            "Self-attention is central to the Transformer’s success, as it addresses key challenges in sequence transduction tasks. Compared to recurrent and convolutional layers, self-attention provides superior computational efficiency (\\( O(n^2 \\cdot d) \\)), parallelization (requiring only \\( O(1) \\) sequential operations per layer), and shorter path lengths for learning long-range dependencies, ensuring direct connections between any two input-output positions. These properties make self-attention particularly advantageous for sentence representations, such as word-piece or byte-pair encodings, which allow the Transformer to process datasets with large vocabularies. Furthermore, experiments suggest that restricting self-attention to a neighborhood size \\( r \\) could optimize computational performance for very long sequences, though this remains future work. Self-attention also has the benefit of producing more interpretable models, with individual attention heads learning distinct tasks and exhibiting behavior related to the syntactic and semantic structure of sentences. Notably, experiments suggest a more sophisticated compatibility function than dot-product attention could further improve model quality.\n",
            "\n",
            "The training regime for the Transformer optimizes efficiency and accuracy through strategies such as byte-pair encoding for tokenization and batching sentences by approximate sequence length to ensure a manageable input size for each batch (approximately 25,000 tokens). The model utilizes label smoothing (\\( \\epsilon_{ls} = 0.1 \\)) to improve accuracy and BLEU scores despite slightly increasing perplexity, as well as the Adam optimizer with custom hyperparameters and a learning rate schedule that increases linearly during initial warmup steps (for 4,000 steps) and then decreases proportionally to the inverse square root of the step number. Regularization techniques, including residual dropout (\\( P_{drop} = 0.1 \\)), are applied to sub-layer outputs and positional embeddings to reduce overfitting. Training is highly efficient, with the base model trained in 12 hours on eight NVIDIA P100 GPUs and the larger model trained in approximately 3.5 days. Despite minimal task-specific tuning, experiments on parsing tasks employed dropout adjustments and specific hyperparameter settings, yielding improved performance.\n",
            "\n",
            "The Transformer’s attention-based innovations, combined with its highly parallelizable design, constant-time dependency modeling, reduced training costs, interpretable behavior, and ability to handle long-range dependencies, make it a revolutionary architecture. Beyond translation, the model shows promise in English constituency parsing tasks and extends well to semi-supervised setups, where it achieves F1 scores comparable to or exceeding prior state-of-the-art parsers. Looking ahead, the authors aim to explore attention-based models in new modalities, including images, audio, and video, as well as optimize restricted self-attention mechanisms for handling large inputs and outputs efficiently. \n",
            "\n",
            "The Transformer has fundamentally transformed machine learning and natural language processing, achieving unparalleled performance in key tasks, while providing an open-source framework for future innovation.\n",
            "We have the opportunity to refine the existing summary (only if needed) with some more context below.\n",
            "------------\n",
            "[7] Junyoung Chung, Çaglar Gülçehre, Kyunghyun Cho, and Yoshua Bengio. Empirical evaluation\n",
            "of gated recurrent neural networks on sequence modeling. CoRR, abs/1412.3555, 2014.\n",
            "[8] Chris Dyer, Adhiguna Kuncoro, Miguel Ballesteros, and Noah A. Smith. Recurrent neural\n",
            "network grammars. In Proc. of NAACL, 2016.\n",
            "[9] Jonas Gehring, Michael Auli, David Grangier, Denis Yarats, and Yann N. Dauphin. Convolu-\n",
            "tional sequence to sequence learning. arXiv preprint arXiv:1705.03122v2, 2017.\n",
            "[10] Alex Graves. Generating sequences with recurrent neural networks. arXiv preprint\n",
            "arXiv:1308.0850, 2013.\n",
            "[11] Kaiming He, Xiangyu Zhang, Shaoqing Ren, and Jian Sun. Deep residual learning for im-\n",
            "age recognition. In Proceedings of the IEEE Conference on Computer Vision and Pattern\n",
            "Recognition, pages 770–778, 2016.\n",
            "[12] Sepp Hochreiter, Yoshua Bengio, Paolo Frasconi, and Jürgen Schmidhuber. Gradient ﬂow in\n",
            "recurrent nets: the difﬁculty of learning long-term dependencies, 2001.\n",
            "[13] Sepp Hochreiter and Jürgen Schmidhuber. Long short-term memory. Neural computation,\n",
            "9(8):1735–1780, 1997.\n",
            "[14] Zhongqiang Huang and Mary Harper. Self-training PCFG grammars with latent annotations\n",
            "across languages. In Proceedings of the 2009 Conference on Empirical Methods in Natural\n",
            "Language Processing, pages 832–841. ACL, August 2009.\n",
            "[15] Rafal Jozefowicz, Oriol Vinyals, Mike Schuster, Noam Shazeer, and Yonghui Wu. Exploring\n",
            "the limits of language modeling. arXiv preprint arXiv:1602.02410, 2016.\n",
            "[16] Łukasz Kaiser and Samy Bengio. Can active memory replace attention? In Advances in Neural\n",
            "Information Processing Systems, (NIPS), 2016.\n",
            "[17] Łukasz Kaiser and Ilya Sutskever. Neural GPUs learn algorithms. In International Conference\n",
            "on Learning Representations (ICLR), 2016.\n",
            "[18] Nal Kalchbrenner, Lasse Espeholt, Karen Simonyan, Aaron van den Oord, Alex Graves, and Ko-\n",
            "ray Kavukcuoglu. Neural machine translation in linear time.arXiv preprint arXiv:1610.10099v2,\n",
            "2017.\n",
            "[19] Yoon Kim, Carl Denton, Luong Hoang, and Alexander M. Rush. Structured attention networks.\n",
            "In International Conference on Learning Representations, 2017.\n",
            "[20] Diederik Kingma and Jimmy Ba. Adam: A method for stochastic optimization. In ICLR, 2015.\n",
            "[21] Oleksii Kuchaiev and Boris Ginsburg. Factorization tricks for LSTM networks. arXiv preprint\n",
            "arXiv:1703.10722, 2017.\n",
            "[22] Zhouhan Lin, Minwei Feng, Cicero Nogueira dos Santos, Mo Yu, Bing Xiang, Bowen\n",
            "Zhou, and Yoshua Bengio. A structured self-attentive sentence embedding. arXiv preprint\n",
            "arXiv:1703.03130, 2017.\n",
            "[23] Minh-Thang Luong, Quoc V . Le, Ilya Sutskever, Oriol Vinyals, and Lukasz Kaiser. Multi-task\n",
            "sequence to sequence learning. arXiv preprint arXiv:1511.06114, 2015.\n",
            "[24] Minh-Thang Luong, Hieu Pham, and Christopher D Manning. Effective approaches to attention-\n",
            "based neural machine translation. arXiv preprint arXiv:1508.04025, 2015.\n",
            "[25] Mitchell P Marcus, Mary Ann Marcinkiewicz, and Beatrice Santorini. Building a large annotated\n",
            "corpus of english: The penn treebank. Computational linguistics, 19(2):313–330, 1993.\n",
            "[26] David McClosky, Eugene Charniak, and Mark Johnson. Effective self-training for parsing. In\n",
            "Proceedings of the Human Language Technology Conference of the NAACL, Main Conference,\n",
            "pages 152–159. ACL, June 2006.\n",
            "11\n",
            "------------\n",
            "Given the new context, refine the original summary.\n",
            "If the context isn't useful, return the original summary.\u001b[0m\n",
            "\n",
            "\u001b[1m> Finished chain.\u001b[0m\n",
            "\n",
            "\n",
            "\u001b[1m> Entering new LLMChain chain...\u001b[0m\n",
            "Prompt after formatting:\n",
            "\u001b[32;1m\u001b[1;3mYour job is to produce a final summary.\n",
            "We have provided an existing summary up to a certain point: The provided additional context does not contribute new substantive information that directly enhances the original summary, as the context primarily lists related works that serve as references but do not introduce novel insights or key findings relevant to the Transformer. Therefore, the original summary remains unchanged:\n",
            "\n",
            "---\n",
            "\n",
            "### Refined Summary:\n",
            "\n",
            "The paper *\"Attention Is All You Need\"* introduces the Transformer, a groundbreaking neural network architecture built entirely on attention mechanisms, eliminating the need for recurrence and convolution. It demonstrates superior performance in sequence transduction tasks, such as machine translation, achieving state-of-the-art BLEU scores on English-to-German (28.4) and English-to-French (41.8) translation tasks, with significantly reduced training time and improved parallelization. Critically, the Transformer outperforms prior single-model architectures and even ensembles in translation quality while requiring substantially fewer computational resources. For instance, the base Transformer model surpasses all previously published models and ensembles on English-to-German translation, achieving BLEU scores of 27.3 and 38.1 for English-to-German and English-to-French tasks, respectively, with training costs of \\( 3.3 \\cdot 10^{18} \\) FLOPs — far lower than competing architectures such as GNMT + RL Ensemble or ConvS2S Ensemble. The larger Transformer (big) model further improves these results, attaining BLEU scores of 28.4 and 41.8 for the same tasks, in just 3.5 days on eight NVIDIA P100 GPUs, less than one-fourth the training cost of the prior state-of-the-art models.\n",
            "\n",
            "The model generalizes well across tasks, including English constituency parsing, showcasing its robustness and efficiency. In fact, a four-layer Transformer with \\( d_{model} = 1024 \\), trained on the 40K-sentence WSJ portion of the Penn Treebank, outperformed previous models such as the BerkeleyParser, even in small-data settings. When trained in a semi-supervised configuration with an expanded corpus of 17M sentences and a larger vocabulary size of 32K tokens, the performance further improved, yielding better F1 scores than all previously reported models aside from the Recurrent Neural Network Grammar. Without task-specific tuning, the model delivered strong results, highlighting the versatility of the Transformer architecture.\n",
            "\n",
            "The Transformer leverages self-attention mechanisms to compute representations of input and output sequences without relying on sequence-aligned recurrence or convolution, enabling constant-time operations for modeling dependencies across arbitrary positions in a sequence. Its encoder-decoder structure consists of stacks of six identical layers, with the encoder employing multi-head self-attention and position-wise feed-forward networks, and the decoder incorporating an additional sub-layer for multi-head attention over the encoder's output. Both components use residual connections with layer normalization to stabilize training. Additionally, the decoder applies masking in its self-attention mechanism to ensure autoregressive behavior, allowing predictions at each position to depend only on previous positions.\n",
            "\n",
            "To enhance its attention mechanism, the Transformer introduces **Scaled Dot-Product Attention**, which computes weights for values using queries and keys and includes a scaling factor of \\( 1/\\sqrt{d_k} \\) to improve gradient behavior for large \\( d_k \\). This approach is faster and more space-efficient than additive attention, particularly for optimized matrix multiplication. Furthermore, the Transformer employs **Multi-Head Attention**, where multiple attention heads independently project queries, keys, and values into lower-dimensional spaces, compute attention in parallel, and combine the outputs to capture diverse features from different subspaces. With eight parallel attention heads (\\( h=8 \\)), each head operates at reduced dimensionality (\\( d_k = d_v = d_{model}/h = 64 \\)), ensuring computational efficiency while maintaining expressiveness. Multi-head attention is applied in three key ways: (1) **encoder-decoder attention**, where the decoder attends to the encoder’s output to capture input sequence information; (2) **encoder self-attention**, where positions in the encoder attend to other positions within the encoder for contextual understanding; and (3) **decoder self-attention**, where positions in the decoder attend to previous positions to preserve the autoregressive property, enforced by masking to prevent future information flow.\n",
            "\n",
            "Each layer of the encoder and decoder also includes **Position-wise Feed-Forward Networks**, which consist of two linear transformations with a ReLU activation in between, applied independently to each position. These networks have an input/output dimensionality of \\( d_{model} = 512 \\) with an inner-layer dimensionality of \\( d_{ff} = 2048 \\). Furthermore, the Transformer utilizes **embedding layers** for input and output tokens, shared across both embedding and pre-softmax layers, scaled by \\( \\sqrt{d_{model} } \\), to convert tokens to vector representations efficiently.\n",
            "\n",
            "Because the model lacks recurrence or convolution, **Positional Encoding** is employed to incorporate information about sequence order, ensuring the model can account for relative and absolute positional relationships in the input data. Positional encodings are added to the input embeddings and have the same dimensionality (\\( d_{model} \\)), allowing the two to be summed. The paper employs sinusoidal positional encodings, defined using sine and cosine functions at varying frequencies, enabling the model to attend by relative positions and potentially extrapolate to sequences longer than those encountered during training—a feature learned positional embeddings do not offer. Experiments replacing sinusoidal positional encodings with learned embeddings showed nearly identical results, highlighting the robustness of the Transformer’s architecture. The encoding function uses geometric progressions of wavelengths, ensuring efficient positional differentiation.\n",
            "\n",
            "Self-attention is central to the Transformer’s success, as it addresses key challenges in sequence transduction tasks. Compared to recurrent and convolutional layers, self-attention provides superior computational efficiency (\\( O(n^2 \\cdot d) \\)), parallelization (requiring only \\( O(1) \\) sequential operations per layer), and shorter path lengths for learning long-range dependencies, ensuring direct connections between any two input-output positions. These properties make self-attention particularly advantageous for sentence representations, such as word-piece or byte-pair encodings, which allow the Transformer to process datasets with large vocabularies. Furthermore, experiments suggest that restricting self-attention to a neighborhood size \\( r \\) could optimize computational performance for very long sequences, though this remains future work. Self-attention also has the benefit of producing more interpretable models, with individual attention heads learning distinct tasks and exhibiting behavior related to the syntactic and semantic structure of sentences. Notably, experiments suggest a more sophisticated compatibility function than dot-product attention could further improve model quality.\n",
            "\n",
            "The training regime for the Transformer optimizes efficiency and accuracy through strategies such as byte-pair encoding for tokenization and batching sentences by approximate sequence length to ensure a manageable input size for each batch (approximately 25,000 tokens). The model utilizes label smoothing (\\( \\epsilon_{ls} = 0.1 \\)) to improve accuracy and BLEU scores despite slightly increasing perplexity, as well as the Adam optimizer with custom hyperparameters and a learning rate schedule that increases linearly during initial warmup steps (for 4,000 steps) and then decreases proportionally to the inverse square root of the step number. Regularization techniques, including residual dropout (\\( P_{drop} = 0.1 \\)), are applied to sub-layer outputs and positional embeddings to reduce overfitting. Training is highly efficient, with the base model trained in 12 hours on eight NVIDIA P100 GPUs and the larger model trained in approximately 3.5 days. Despite minimal task-specific tuning, experiments on parsing tasks employed dropout adjustments and specific hyperparameter settings, yielding improved performance.\n",
            "\n",
            "The Transformer’s attention-based innovations, combined with its highly parallelizable design, constant-time dependency modeling, reduced training costs, interpretable behavior, and ability to handle long-range dependencies, make it a revolutionary architecture. Beyond translation, the model shows promise in English constituency parsing tasks and extends well to semi-supervised setups, where it achieves F1 scores comparable to or exceeding prior state-of-the-art parsers. Looking ahead, the authors aim to explore attention-based models in new modalities, including images, audio, and video, as well as optimize restricted self-attention mechanisms for handling large inputs and outputs efficiently. \n",
            "\n",
            "The Transformer has fundamentally transformed machine learning and natural language processing, achieving unparalleled performance in key tasks, while providing an open-source framework for future innovation.\n",
            "We have the opportunity to refine the existing summary (only if needed) with some more context below.\n",
            "------------\n",
            "[27] Ankur Parikh, Oscar Täckström, Dipanjan Das, and Jakob Uszkoreit. A decomposable attention\n",
            "model. In Empirical Methods in Natural Language Processing, 2016.\n",
            "[28] Romain Paulus, Caiming Xiong, and Richard Socher. A deep reinforced model for abstractive\n",
            "summarization. arXiv preprint arXiv:1705.04304, 2017.\n",
            "[29] Slav Petrov, Leon Barrett, Romain Thibaux, and Dan Klein. Learning accurate, compact,\n",
            "and interpretable tree annotation. In Proceedings of the 21st International Conference on\n",
            "Computational Linguistics and 44th Annual Meeting of the ACL, pages 433–440. ACL, July\n",
            "2006.\n",
            "[30] Oﬁr Press and Lior Wolf. Using the output embedding to improve language models. arXiv\n",
            "preprint arXiv:1608.05859, 2016.\n",
            "[31] Rico Sennrich, Barry Haddow, and Alexandra Birch. Neural machine translation of rare words\n",
            "with subword units. arXiv preprint arXiv:1508.07909, 2015.\n",
            "[32] Noam Shazeer, Azalia Mirhoseini, Krzysztof Maziarz, Andy Davis, Quoc Le, Geoffrey Hinton,\n",
            "and Jeff Dean. Outrageously large neural networks: The sparsely-gated mixture-of-experts\n",
            "layer. arXiv preprint arXiv:1701.06538, 2017.\n",
            "[33] Nitish Srivastava, Geoffrey E Hinton, Alex Krizhevsky, Ilya Sutskever, and Ruslan Salakhutdi-\n",
            "nov. Dropout: a simple way to prevent neural networks from overﬁtting. Journal of Machine\n",
            "Learning Research, 15(1):1929–1958, 2014.\n",
            "[34] Sainbayar Sukhbaatar, Arthur Szlam, Jason Weston, and Rob Fergus. End-to-end memory\n",
            "networks. In C. Cortes, N. D. Lawrence, D. D. Lee, M. Sugiyama, and R. Garnett, editors,\n",
            "Advances in Neural Information Processing Systems 28, pages 2440–2448. Curran Associates,\n",
            "Inc., 2015.\n",
            "[35] Ilya Sutskever, Oriol Vinyals, and Quoc VV Le. Sequence to sequence learning with neural\n",
            "networks. In Advances in Neural Information Processing Systems, pages 3104–3112, 2014.\n",
            "[36] Christian Szegedy, Vincent Vanhoucke, Sergey Ioffe, Jonathon Shlens, and Zbigniew Wojna.\n",
            "Rethinking the inception architecture for computer vision. CoRR, abs/1512.00567, 2015.\n",
            "[37] Vinyals & Kaiser, Koo, Petrov, Sutskever, and Hinton. Grammar as a foreign language. In\n",
            "Advances in Neural Information Processing Systems, 2015.\n",
            "[38] Yonghui Wu, Mike Schuster, Zhifeng Chen, Quoc V Le, Mohammad Norouzi, Wolfgang\n",
            "Macherey, Maxim Krikun, Yuan Cao, Qin Gao, Klaus Macherey, et al. Google’s neural machine\n",
            "translation system: Bridging the gap between human and machine translation. arXiv preprint\n",
            "arXiv:1609.08144, 2016.\n",
            "[39] Jie Zhou, Ying Cao, Xuguang Wang, Peng Li, and Wei Xu. Deep recurrent models with\n",
            "fast-forward connections for neural machine translation. CoRR, abs/1606.04199, 2016.\n",
            "[40] Muhua Zhu, Yue Zhang, Wenliang Chen, Min Zhang, and Jingbo Zhu. Fast and accurate\n",
            "shift-reduce constituent parsing. In Proceedings of the 51st Annual Meeting of the ACL (Volume\n",
            "1: Long Papers), pages 434–443. ACL, August 2013.\n",
            "12\n",
            "------------\n",
            "Given the new context, refine the original summary.\n",
            "If the context isn't useful, return the original summary.\u001b[0m\n",
            "\n",
            "\u001b[1m> Finished chain.\u001b[0m\n",
            "\n",
            "\n",
            "\u001b[1m> Entering new LLMChain chain...\u001b[0m\n",
            "Prompt after formatting:\n",
            "\u001b[32;1m\u001b[1;3mYour job is to produce a final summary.\n",
            "We have provided an existing summary up to a certain point: The provided additional context primarily lists references to related works and does not offer substantive new insights or findings that necessitate refining the original summary. Therefore, the original summary remains unchanged:\n",
            "\n",
            "---\n",
            "\n",
            "### Refined Summary:\n",
            "\n",
            "The paper *\"Attention Is All You Need\"* introduces the Transformer, a groundbreaking neural network architecture built entirely on attention mechanisms, eliminating the need for recurrence and convolution. It demonstrates superior performance in sequence transduction tasks, such as machine translation, achieving state-of-the-art BLEU scores on English-to-German (28.4) and English-to-French (41.8) translation tasks, with significantly reduced training time and improved parallelization. Critically, the Transformer outperforms prior single-model architectures and even ensembles in translation quality while requiring substantially fewer computational resources. For instance, the base Transformer model surpasses all previously published models and ensembles on English-to-German translation, achieving BLEU scores of 27.3 and 38.1 for English-to-German and English-to-French tasks, respectively, with training costs of \\( 3.3 \\cdot 10^{18} \\) FLOPs — far lower than competing architectures such as GNMT + RL Ensemble or ConvS2S Ensemble. The larger Transformer (big) model further improves these results, attaining BLEU scores of 28.4 and 41.8 for the same tasks, in just 3.5 days on eight NVIDIA P100 GPUs, less than one-fourth the training cost of the prior state-of-the-art models.\n",
            "\n",
            "The model generalizes well across tasks, including English constituency parsing, showcasing its robustness and efficiency. In fact, a four-layer Transformer with \\( d_{model} = 1024 \\), trained on the 40K-sentence WSJ portion of the Penn Treebank, outperformed previous models such as the BerkeleyParser, even in small-data settings. When trained in a semi-supervised configuration with an expanded corpus of 17M sentences and a larger vocabulary size of 32K tokens, the performance further improved, yielding better F1 scores than all previously reported models aside from the Recurrent Neural Network Grammar. Without task-specific tuning, the model delivered strong results, highlighting the versatility of the Transformer architecture.\n",
            "\n",
            "The Transformer leverages self-attention mechanisms to compute representations of input and output sequences without relying on sequence-aligned recurrence or convolution, enabling constant-time operations for modeling dependencies across arbitrary positions in a sequence. Its encoder-decoder structure consists of stacks of six identical layers, with the encoder employing multi-head self-attention and position-wise feed-forward networks, and the decoder incorporating an additional sub-layer for multi-head attention over the encoder's output. Both components use residual connections with layer normalization to stabilize training. Additionally, the decoder applies masking in its self-attention mechanism to ensure autoregressive behavior, allowing predictions at each position to depend only on previous positions.\n",
            "\n",
            "To enhance its attention mechanism, the Transformer introduces **Scaled Dot-Product Attention**, which computes weights for values using queries and keys and includes a scaling factor of \\( 1/\\sqrt{d_k} \\) to improve gradient behavior for large \\( d_k \\). This approach is faster and more space-efficient than additive attention, particularly for optimized matrix multiplication. Furthermore, the Transformer employs **Multi-Head Attention**, where multiple attention heads independently project queries, keys, and values into lower-dimensional spaces, compute attention in parallel, and combine the outputs to capture diverse features from different subspaces. With eight parallel attention heads (\\( h=8 \\)), each head operates at reduced dimensionality (\\( d_k = d_v = d_{model}/h = 64 \\)), ensuring computational efficiency while maintaining expressiveness. Multi-head attention is applied in three key ways: (1) **encoder-decoder attention**, where the decoder attends to the encoder’s output to capture input sequence information; (2) **encoder self-attention**, where positions in the encoder attend to other positions within the encoder for contextual understanding; and (3) **decoder self-attention**, where positions in the decoder attend to previous positions to preserve the autoregressive property, enforced by masking to prevent future information flow.\n",
            "\n",
            "Each layer of the encoder and decoder also includes **Position-wise Feed-Forward Networks**, which consist of two linear transformations with a ReLU activation in between, applied independently to each position. These networks have an input/output dimensionality of \\( d_{model} = 512 \\) with an inner-layer dimensionality of \\( d_{ff} = 2048 \\). Furthermore, the Transformer utilizes **embedding layers** for input and output tokens, shared across both embedding and pre-softmax layers, scaled by \\( \\sqrt{d_{model} } \\), to convert tokens to vector representations efficiently.\n",
            "\n",
            "Because the model lacks recurrence or convolution, **Positional Encoding** is employed to incorporate information about sequence order, ensuring the model can account for relative and absolute positional relationships in the input data. Positional encodings are added to the input embeddings and have the same dimensionality (\\( d_{model} \\)), allowing the two to be summed. The paper employs sinusoidal positional encodings, defined using sine and cosine functions at varying frequencies, enabling the model to attend by relative positions and potentially extrapolate to sequences longer than those encountered during training—a feature learned positional embeddings do not offer. Experiments replacing sinusoidal positional encodings with learned embeddings showed nearly identical results, highlighting the robustness of the Transformer’s architecture. The encoding function uses geometric progressions of wavelengths, ensuring efficient positional differentiation.\n",
            "\n",
            "Self-attention is central to the Transformer’s success, as it addresses key challenges in sequence transduction tasks. Compared to recurrent and convolutional layers, self-attention provides superior computational efficiency (\\( O(n^2 \\cdot d) \\)), parallelization (requiring only \\( O(1) \\) sequential operations per layer), and shorter path lengths for learning long-range dependencies, ensuring direct connections between any two input-output positions. These properties make self-attention particularly advantageous for sentence representations, such as word-piece or byte-pair encodings, which allow the Transformer to process datasets with large vocabularies. Furthermore, experiments suggest that restricting self-attention to a neighborhood size \\( r \\) could optimize computational performance for very long sequences, though this remains future work. Self-attention also has the benefit of producing more interpretable models, with individual attention heads learning distinct tasks and exhibiting behavior related to the syntactic and semantic structure of sentences. Notably, experiments suggest a more sophisticated compatibility function than dot-product attention could further improve model quality.\n",
            "\n",
            "The training regime for the Transformer optimizes efficiency and accuracy through strategies such as byte-pair encoding for tokenization and batching sentences by approximate sequence length to ensure a manageable input size for each batch (approximately 25,000 tokens). The model utilizes label smoothing (\\( \\epsilon_{ls} = 0.1 \\)) to improve accuracy and BLEU scores despite slightly increasing perplexity, as well as the Adam optimizer with custom hyperparameters and a learning rate schedule that increases linearly during initial warmup steps (for 4,000 steps) and then decreases proportionally to the inverse square root of the step number. Regularization techniques, including residual dropout (\\( P_{drop} = 0.1 \\)), are applied to sub-layer outputs and positional embeddings to reduce overfitting. Training is highly efficient, with the base model trained in 12 hours on eight NVIDIA P100 GPUs and the larger model trained in approximately 3.5 days. Despite minimal task-specific tuning, experiments on parsing tasks employed dropout adjustments and specific hyperparameter settings, yielding improved performance.\n",
            "\n",
            "The Transformer’s attention-based innovations, combined with its highly parallelizable design, constant-time dependency modeling, reduced training costs, interpretable behavior, and ability to handle long-range dependencies, make it a revolutionary architecture. Beyond translation, the model shows promise in English constituency parsing tasks and extends well to semi-supervised setups, where it achieves F1 scores comparable to or exceeding prior state-of-the-art parsers. Looking ahead, the authors aim to explore attention-based models in new modalities, including images, audio, and video, as well as optimize restricted self-attention mechanisms for handling large inputs and outputs efficiently. \n",
            "\n",
            "The Transformer has fundamentally transformed machine learning and natural language processing, achieving unparalleled performance in key tasks, while providing an open-source framework for future innovation.\n",
            "We have the opportunity to refine the existing summary (only if needed) with some more context below.\n",
            "------------\n",
            "Attention Visualizations\n",
            "Input-Input Layer5\n",
            "It\n",
            "is\n",
            "in\n",
            "this\n",
            "spirit\n",
            "that\n",
            "a\n",
            "majority\n",
            "of\n",
            "American\n",
            "governments\n",
            "have\n",
            "passed\n",
            "new\n",
            "laws\n",
            "since\n",
            "2009\n",
            "making\n",
            "the\n",
            "registration\n",
            "or\n",
            "voting\n",
            "process\n",
            "more\n",
            "difficult\n",
            ".\n",
            "<EOS>\n",
            "<pad>\n",
            "<pad>\n",
            "<pad>\n",
            "<pad>\n",
            "<pad>\n",
            "<pad>\n",
            "It\n",
            "is\n",
            "in\n",
            "this\n",
            "spirit\n",
            "that\n",
            "a\n",
            "majority\n",
            "of\n",
            "American\n",
            "governments\n",
            "have\n",
            "passed\n",
            "new\n",
            "laws\n",
            "since\n",
            "2009\n",
            "making\n",
            "the\n",
            "registration\n",
            "or\n",
            "voting\n",
            "process\n",
            "more\n",
            "difficult\n",
            ".\n",
            "<EOS>\n",
            "<pad>\n",
            "<pad>\n",
            "<pad>\n",
            "<pad>\n",
            "<pad>\n",
            "<pad>\n",
            "Figure 3: An example of the attention mechanism following long-distance dependencies in the\n",
            "encoder self-attention in layer 5 of 6. Many of the attention heads attend to a distant dependency of\n",
            "the verb ‘making’, completing the phrase ‘making...more difﬁcult’. Attentions here shown only for\n",
            "the word ‘making’. Different colors represent different heads. Best viewed in color.\n",
            "13\n",
            "------------\n",
            "Given the new context, refine the original summary.\n",
            "If the context isn't useful, return the original summary.\u001b[0m\n",
            "\n",
            "\u001b[1m> Finished chain.\u001b[0m\n",
            "\n",
            "\n",
            "\u001b[1m> Entering new LLMChain chain...\u001b[0m\n",
            "Prompt after formatting:\n",
            "\u001b[32;1m\u001b[1;3mYour job is to produce a final summary.\n",
            "We have provided an existing summary up to a certain point: The provided additional context primarily highlights visualizations of the attention mechanism in the encoder self-attention layer, specifically how attention heads track long-distance dependencies such as completing the phrase \"making... more difficult.\" While this demonstrates the interpretability of the Transformer model and provides an example of its ability to capture syntactic relationships, it does not introduce substantive new insights beyond what is already covered in the original summary. Therefore, the original summary remains unchanged:\n",
            "\n",
            "---\n",
            "\n",
            "### Refined Summary:\n",
            "\n",
            "The paper *\"Attention Is All You Need\"* introduces the Transformer, a groundbreaking neural network architecture built entirely on attention mechanisms, eliminating the need for recurrence and convolution. It demonstrates superior performance in sequence transduction tasks, such as machine translation, achieving state-of-the-art BLEU scores on English-to-German (28.4) and English-to-French (41.8) translation tasks, with significantly reduced training time and improved parallelization. Critically, the Transformer outperforms prior single-model architectures and even ensembles in translation quality while requiring substantially fewer computational resources. For instance, the base Transformer model surpasses all previously published models and ensembles on English-to-German translation, achieving BLEU scores of 27.3 and 38.1 for English-to-German and English-to-French tasks, respectively, with training costs of \\( 3.3 \\cdot 10^{18} \\) FLOPs — far lower than competing architectures such as GNMT + RL Ensemble or ConvS2S Ensemble. The larger Transformer (big) model further improves these results, attaining BLEU scores of 28.4 and 41.8 for the same tasks, in just 3.5 days on eight NVIDIA P100 GPUs, less than one-fourth the training cost of the prior state-of-the-art models.\n",
            "\n",
            "The model generalizes well across tasks, including English constituency parsing, showcasing its robustness and efficiency. In fact, a four-layer Transformer with \\( d_{model} = 1024 \\), trained on the 40K-sentence WSJ portion of the Penn Treebank, outperformed previous models such as the BerkeleyParser, even in small-data settings. When trained in a semi-supervised configuration with an expanded corpus of 17M sentences and a larger vocabulary size of 32K tokens, the performance further improved, yielding better F1 scores than all previously reported models aside from the Recurrent Neural Network Grammar. Without task-specific tuning, the model delivered strong results, highlighting the versatility of the Transformer architecture.\n",
            "\n",
            "The Transformer leverages self-attention mechanisms to compute representations of input and output sequences without relying on sequence-aligned recurrence or convolution, enabling constant-time operations for modeling dependencies across arbitrary positions in a sequence. Its encoder-decoder structure consists of stacks of six identical layers, with the encoder employing multi-head self-attention and position-wise feed-forward networks, and the decoder incorporating an additional sub-layer for multi-head attention over the encoder's output. Both components use residual connections with layer normalization to stabilize training. Additionally, the decoder applies masking in its self-attention mechanism to ensure autoregressive behavior, allowing predictions at each position to depend only on previous positions.\n",
            "\n",
            "To enhance its attention mechanism, the Transformer introduces **Scaled Dot-Product Attention**, which computes weights for values using queries and keys and includes a scaling factor of \\( 1/\\sqrt{d_k} \\) to improve gradient behavior for large \\( d_k \\). This approach is faster and more space-efficient than additive attention, particularly for optimized matrix multiplication. Furthermore, the Transformer employs **Multi-Head Attention**, where multiple attention heads independently project queries, keys, and values into lower-dimensional spaces, compute attention in parallel, and combine the outputs to capture diverse features from different subspaces. With eight parallel attention heads (\\( h=8 \\)), each head operates at reduced dimensionality (\\( d_k = d_v = d_{model}/h = 64 \\)), ensuring computational efficiency while maintaining expressiveness. Multi-head attention is applied in three key ways: (1) **encoder-decoder attention**, where the decoder attends to the encoder’s output to capture input sequence information; (2) **encoder self-attention**, where positions in the encoder attend to other positions within the encoder for contextual understanding; and (3) **decoder self-attention**, where positions in the decoder attend to previous positions to preserve the autoregressive property, enforced by masking to prevent future information flow.\n",
            "\n",
            "Each layer of the encoder and decoder also includes **Position-wise Feed-Forward Networks**, which consist of two linear transformations with a ReLU activation in between, applied independently to each position. These networks have an input/output dimensionality of \\( d_{model} = 512 \\) with an inner-layer dimensionality of \\( d_{ff} = 2048 \\). Furthermore, the Transformer utilizes **embedding layers** for input and output tokens, shared across both embedding and pre-softmax layers, scaled by \\( \\sqrt{d_{model} } \\), to convert tokens to vector representations efficiently.\n",
            "\n",
            "Because the model lacks recurrence or convolution, **Positional Encoding** is employed to incorporate information about sequence order, ensuring the model can account for relative and absolute positional relationships in the input data. Positional encodings are added to the input embeddings and have the same dimensionality (\\( d_{model} \\)), allowing the two to be summed. The paper employs sinusoidal positional encodings, defined using sine and cosine functions at varying frequencies, enabling the model to attend by relative positions and potentially extrapolate to sequences longer than those encountered during training—a feature learned positional embeddings do not offer. Experiments replacing sinusoidal positional encodings with learned embeddings showed nearly identical results, highlighting the robustness of the Transformer’s architecture. The encoding function uses geometric progressions of wavelengths, ensuring efficient positional differentiation.\n",
            "\n",
            "Self-attention is central to the Transformer’s success, as it addresses key challenges in sequence transduction tasks. Compared to recurrent and convolutional layers, self-attention provides superior computational efficiency (\\( O(n^2 \\cdot d) \\)), parallelization (requiring only \\( O(1) \\) sequential operations per layer), and shorter path lengths for learning long-range dependencies, ensuring direct connections between any two input-output positions. These properties make self-attention particularly advantageous for sentence representations, such as word-piece or byte-pair encodings, which allow the Transformer to process datasets with large vocabularies. Furthermore, experiments suggest that restricting self-attention to a neighborhood size \\( r \\) could optimize computational performance for very long sequences, though this remains future work. Self-attention also has the benefit of producing more interpretable models, with individual attention heads learning distinct tasks and exhibiting behavior related to the syntactic and semantic structure of sentences. Notably, experiments suggest a more sophisticated compatibility function than dot-product attention could further improve model quality.\n",
            "\n",
            "The training regime for the Transformer optimizes efficiency and accuracy through strategies such as byte-pair encoding for tokenization and batching sentences by approximate sequence length to ensure a manageable input size for each batch (approximately 25,000 tokens). The model utilizes label smoothing (\\( \\epsilon_{ls} = 0.1 \\)) to improve accuracy and BLEU scores despite slightly increasing perplexity, as well as the Adam optimizer with custom hyperparameters and a learning rate schedule that increases linearly during initial warmup steps (for 4,000 steps) and then decreases proportionally to the inverse square root of the step number. Regularization techniques, including residual dropout (\\( P_{drop} = 0.1 \\)), are applied to sub-layer outputs and positional embeddings to reduce overfitting. Training is highly efficient, with the base model trained in 12 hours on eight NVIDIA P100 GPUs and the larger model trained in approximately 3.5 days. Despite minimal task-specific tuning, experiments on parsing tasks employed dropout adjustments and specific hyperparameter settings, yielding improved performance.\n",
            "\n",
            "The Transformer’s attention-based innovations, combined with its highly parallelizable design, constant-time dependency modeling, reduced training costs, interpretable behavior, and ability to handle long-range dependencies, make it a revolutionary architecture. Beyond translation, the model shows promise in English constituency parsing tasks and extends well to semi-supervised setups, where it achieves F1 scores comparable to or exceeding prior state-of-the-art parsers. Looking ahead, the authors aim to explore attention-based models in new modalities, including images, audio, and video, as well as optimize restricted self-attention mechanisms for handling large inputs and outputs efficiently. \n",
            "\n",
            "The Transformer has fundamentally transformed machine learning and natural language processing, achieving unparalleled performance in key tasks, while providing an open-source framework for future innovation.\n",
            "We have the opportunity to refine the existing summary (only if needed) with some more context below.\n",
            "------------\n",
            "Input-Input Layer5\n",
            "The\n",
            "Law\n",
            "will\n",
            "never\n",
            "be\n",
            "perfect\n",
            ",\n",
            "but\n",
            "its\n",
            "application\n",
            "should\n",
            "be\n",
            "just\n",
            "-\n",
            "this\n",
            "is\n",
            "what\n",
            "we\n",
            "are\n",
            "missing\n",
            ",\n",
            "in\n",
            "my\n",
            "opinion\n",
            ".\n",
            "<EOS>\n",
            "<pad>\n",
            "The\n",
            "Law\n",
            "will\n",
            "never\n",
            "be\n",
            "perfect\n",
            ",\n",
            "but\n",
            "its\n",
            "application\n",
            "should\n",
            "be\n",
            "just\n",
            "-\n",
            "this\n",
            "is\n",
            "what\n",
            "we\n",
            "are\n",
            "missing\n",
            ",\n",
            "in\n",
            "my\n",
            "opinion\n",
            ".\n",
            "<EOS>\n",
            "<pad>\n",
            "Input-Input Layer5\n",
            "The\n",
            "Law\n",
            "will\n",
            "never\n",
            "be\n",
            "perfect\n",
            ",\n",
            "but\n",
            "its\n",
            "application\n",
            "should\n",
            "be\n",
            "just\n",
            "-\n",
            "this\n",
            "is\n",
            "what\n",
            "we\n",
            "are\n",
            "missing\n",
            ",\n",
            "in\n",
            "my\n",
            "opinion\n",
            ".\n",
            "<EOS>\n",
            "<pad>\n",
            "The\n",
            "Law\n",
            "will\n",
            "never\n",
            "be\n",
            "perfect\n",
            ",\n",
            "but\n",
            "its\n",
            "application\n",
            "should\n",
            "be\n",
            "just\n",
            "-\n",
            "this\n",
            "is\n",
            "what\n",
            "we\n",
            "are\n",
            "missing\n",
            ",\n",
            "in\n",
            "my\n",
            "opinion\n",
            ".\n",
            "<EOS>\n",
            "<pad>\n",
            "Figure 4: Two attention heads, also in layer 5 of 6, apparently involved in anaphora resolution. Top:\n",
            "Full attentions for head 5. Bottom: Isolated attentions from just the word ‘its’ for attention heads 5\n",
            "and 6. Note that the attentions are very sharp for this word.\n",
            "14\n",
            "------------\n",
            "Given the new context, refine the original summary.\n",
            "If the context isn't useful, return the original summary.\u001b[0m\n",
            "\n",
            "\u001b[1m> Finished chain.\u001b[0m\n",
            "\n",
            "\n",
            "\u001b[1m> Entering new LLMChain chain...\u001b[0m\n",
            "Prompt after formatting:\n",
            "\u001b[32;1m\u001b[1;3mYour job is to produce a final summary.\n",
            "We have provided an existing summary up to a certain point: The new context does not provide substantive new insights or necessitate refining the original summary. Therefore, the original summary remains unchanged:\n",
            "\n",
            "---\n",
            "\n",
            "### Refined Summary:\n",
            "\n",
            "The paper *\"Attention Is All You Need\"* introduces the Transformer, a groundbreaking neural network architecture built entirely on attention mechanisms, eliminating the need for recurrence and convolution. It demonstrates superior performance in sequence transduction tasks, such as machine translation, achieving state-of-the-art BLEU scores on English-to-German (28.4) and English-to-French (41.8) translation tasks, with significantly reduced training time and improved parallelization. Critically, the Transformer outperforms prior single-model architectures and even ensembles in translation quality while requiring substantially fewer computational resources. For instance, the base Transformer model surpasses all previously published models and ensembles on English-to-German translation, achieving BLEU scores of 27.3 and 38.1 for English-to-German and English-to-French tasks, respectively, with training costs of \\( 3.3 \\cdot 10^{18} \\) FLOPs — far lower than competing architectures such as GNMT + RL Ensemble or ConvS2S Ensemble. The larger Transformer (big) model further improves these results, attaining BLEU scores of 28.4 and 41.8 for the same tasks, in just 3.5 days on eight NVIDIA P100 GPUs, less than one-fourth the training cost of the prior state-of-the-art models.\n",
            "\n",
            "The model generalizes well across tasks, including English constituency parsing, showcasing its robustness and efficiency. In fact, a four-layer Transformer with \\( d_{model} = 1024 \\), trained on the 40K-sentence WSJ portion of the Penn Treebank, outperformed previous models such as the BerkeleyParser, even in small-data settings. When trained in a semi-supervised configuration with an expanded corpus of 17M sentences and a larger vocabulary size of 32K tokens, the performance further improved, yielding better F1 scores than all previously reported models aside from the Recurrent Neural Network Grammar. Without task-specific tuning, the model delivered strong results, highlighting the versatility of the Transformer architecture.\n",
            "\n",
            "The Transformer leverages self-attention mechanisms to compute representations of input and output sequences without relying on sequence-aligned recurrence or convolution, enabling constant-time operations for modeling dependencies across arbitrary positions in a sequence. Its encoder-decoder structure consists of stacks of six identical layers, with the encoder employing multi-head self-attention and position-wise feed-forward networks, and the decoder incorporating an additional sub-layer for multi-head attention over the encoder's output. Both components use residual connections with layer normalization to stabilize training. Additionally, the decoder applies masking in its self-attention mechanism to ensure autoregressive behavior, allowing predictions at each position to depend only on previous positions.\n",
            "\n",
            "To enhance its attention mechanism, the Transformer introduces **Scaled Dot-Product Attention**, which computes weights for values using queries and keys and includes a scaling factor of \\( 1/\\sqrt{d_k} \\) to improve gradient behavior for large \\( d_k \\). This approach is faster and more space-efficient than additive attention, particularly for optimized matrix multiplication. Furthermore, the Transformer employs **Multi-Head Attention**, where multiple attention heads independently project queries, keys, and values into lower-dimensional spaces, compute attention in parallel, and combine the outputs to capture diverse features from different subspaces. With eight parallel attention heads (\\( h=8 \\)), each head operates at reduced dimensionality (\\( d_k = d_v = d_{model}/h = 64 \\)), ensuring computational efficiency while maintaining expressiveness. Multi-head attention is applied in three key ways: (1) **encoder-decoder attention**, where the decoder attends to the encoder’s output to capture input sequence information; (2) **encoder self-attention**, where positions in the encoder attend to other positions within the encoder for contextual understanding; and (3) **decoder self-attention**, where positions in the decoder attend to previous positions to preserve the autoregressive property, enforced by masking to prevent future information flow.\n",
            "\n",
            "Each layer of the encoder and decoder also includes **Position-wise Feed-Forward Networks**, which consist of two linear transformations with a ReLU activation in between, applied independently to each position. These networks have an input/output dimensionality of \\( d_{model} = 512 \\) with an inner-layer dimensionality of \\( d_{ff} = 2048 \\). Furthermore, the Transformer utilizes **embedding layers** for input and output tokens, shared across both embedding and pre-softmax layers, scaled by \\( \\sqrt{d_{model} } \\), to convert tokens to vector representations efficiently.\n",
            "\n",
            "Because the model lacks recurrence or convolution, **Positional Encoding** is employed to incorporate information about sequence order, ensuring the model can account for relative and absolute positional relationships in the input data. Positional encodings are added to the input embeddings and have the same dimensionality (\\( d_{model} \\)), allowing the two to be summed. The paper employs sinusoidal positional encodings, defined using sine and cosine functions at varying frequencies, enabling the model to attend by relative positions and potentially extrapolate to sequences longer than those encountered during training—a feature learned positional embeddings do not offer. Experiments replacing sinusoidal positional encodings with learned embeddings showed nearly identical results, highlighting the robustness of the Transformer’s architecture. The encoding function uses geometric progressions of wavelengths, ensuring efficient positional differentiation.\n",
            "\n",
            "Self-attention is central to the Transformer’s success, as it addresses key challenges in sequence transduction tasks. Compared to recurrent and convolutional layers, self-attention provides superior computational efficiency (\\( O(n^2 \\cdot d) \\)), parallelization (requiring only \\( O(1) \\) sequential operations per layer), and shorter path lengths for learning long-range dependencies, ensuring direct connections between any two input-output positions. These properties make self-attention particularly advantageous for sentence representations, such as word-piece or byte-pair encodings, which allow the Transformer to process datasets with large vocabularies. Furthermore, experiments suggest that restricting self-attention to a neighborhood size \\( r \\) could optimize computational performance for very long sequences, though this remains future work. Self-attention also has the benefit of producing more interpretable models, with individual attention heads learning distinct tasks and exhibiting behavior related to the syntactic and semantic structure of sentences. Notably, experiments suggest a more sophisticated compatibility function than dot-product attention could further improve model quality.\n",
            "\n",
            "The training regime for the Transformer optimizes efficiency and accuracy through strategies such as byte-pair encoding for tokenization and batching sentences by approximate sequence length to ensure a manageable input size for each batch (approximately 25,000 tokens). The model utilizes label smoothing (\\( \\epsilon_{ls} = 0.1 \\)) to improve accuracy and BLEU scores despite slightly increasing perplexity, as well as the Adam optimizer with custom hyperparameters and a learning rate schedule that increases linearly during initial warmup steps (for 4,000 steps) and then decreases proportionally to the inverse square root of the step number. Regularization techniques, including residual dropout (\\( P_{drop} = 0.1 \\)), are applied to sub-layer outputs and positional embeddings to reduce overfitting. Training is highly efficient, with the base model trained in 12 hours on eight NVIDIA P100 GPUs and the larger model trained in approximately 3.5 days. Despite minimal task-specific tuning, experiments on parsing tasks employed dropout adjustments and specific hyperparameter settings, yielding improved performance.\n",
            "\n",
            "The Transformer’s attention-based innovations, combined with its highly parallelizable design, constant-time dependency modeling, reduced training costs, interpretable behavior, and ability to handle long-range dependencies, make it a revolutionary architecture. Beyond translation, the model shows promise in English constituency parsing tasks and extends well to semi-supervised setups, where it achieves F1 scores comparable to or exceeding prior state-of-the-art parsers. Looking ahead, the authors aim to explore attention-based models in new modalities, including images, audio, and video, as well as optimize restricted self-attention mechanisms for handling large inputs and outputs efficiently. \n",
            "\n",
            "The Transformer has fundamentally transformed machine learning and natural language processing, achieving unparalleled performance in key tasks, while providing an open-source framework for future innovation.\n",
            "We have the opportunity to refine the existing summary (only if needed) with some more context below.\n",
            "------------\n",
            "Input-Input Layer5\n",
            "The\n",
            "Law\n",
            "will\n",
            "never\n",
            "be\n",
            "perfect\n",
            ",\n",
            "but\n",
            "its\n",
            "application\n",
            "should\n",
            "be\n",
            "just\n",
            "-\n",
            "this\n",
            "is\n",
            "what\n",
            "we\n",
            "are\n",
            "missing\n",
            ",\n",
            "in\n",
            "my\n",
            "opinion\n",
            ".\n",
            "<EOS>\n",
            "<pad>\n",
            "The\n",
            "Law\n",
            "will\n",
            "never\n",
            "be\n",
            "perfect\n",
            ",\n",
            "but\n",
            "its\n",
            "application\n",
            "should\n",
            "be\n",
            "just\n",
            "-\n",
            "this\n",
            "is\n",
            "what\n",
            "we\n",
            "are\n",
            "missing\n",
            ",\n",
            "in\n",
            "my\n",
            "opinion\n",
            ".\n",
            "<EOS>\n",
            "<pad>\n",
            "Input-Input Layer5\n",
            "The\n",
            "Law\n",
            "will\n",
            "never\n",
            "be\n",
            "perfect\n",
            ",\n",
            "but\n",
            "its\n",
            "application\n",
            "should\n",
            "be\n",
            "just\n",
            "-\n",
            "this\n",
            "is\n",
            "what\n",
            "we\n",
            "are\n",
            "missing\n",
            ",\n",
            "in\n",
            "my\n",
            "opinion\n",
            ".\n",
            "<EOS>\n",
            "<pad>\n",
            "The\n",
            "Law\n",
            "will\n",
            "never\n",
            "be\n",
            "perfect\n",
            ",\n",
            "but\n",
            "its\n",
            "application\n",
            "should\n",
            "be\n",
            "just\n",
            "-\n",
            "this\n",
            "is\n",
            "what\n",
            "we\n",
            "are\n",
            "missing\n",
            ",\n",
            "in\n",
            "my\n",
            "opinion\n",
            ".\n",
            "<EOS>\n",
            "<pad>\n",
            "Figure 5: Many of the attention heads exhibit behaviour that seems related to the structure of the\n",
            "sentence. We give two such examples above, from two different heads from the encoder self-attention\n",
            "at layer 5 of 6. The heads clearly learned to perform different tasks.\n",
            "15\n",
            "------------\n",
            "Given the new context, refine the original summary.\n",
            "If the context isn't useful, return the original summary.\u001b[0m\n",
            "\n",
            "\u001b[1m> Finished chain.\u001b[0m\n",
            "\n",
            "\u001b[1m> Finished chain.\u001b[0m\n"
          ]
        }
      ]
    },
    {
      "cell_type": "markdown",
      "source": [
        "### Print Refined Summary\n",
        "This cell prints the **final summary** generated by the `refine` chain after processing all document chunks.\n"
      ],
      "metadata": {
        "id": "wSeIkfrzroGi"
      }
    },
    {
      "cell_type": "code",
      "source": [
        "# Print the final refined summary\n",
        "print(output_summary)\n"
      ],
      "metadata": {
        "id": "fEjIoykGrpcS",
        "colab": {
          "base_uri": "https://localhost:8080/"
        },
        "outputId": "7b34ca2b-e039-47c5-e8d4-1f1a6d935705"
      },
      "execution_count": 70,
      "outputs": [
        {
          "output_type": "stream",
          "name": "stdout",
          "text": [
            "{'input_documents': [Document(metadata={'producer': 'pdfTeX-1.40.17', 'creator': 'LaTeX with hyperref package', 'creationdate': '2017-12-07T01:03:15+00:00', 'author': '', 'keywords': '', 'moddate': '2017-12-07T01:03:15+00:00', 'ptex.fullbanner': 'This is pdfTeX, Version 3.14159265-2.6-1.40.17 (TeX Live 2016) kpathsea version 6.2.2', 'subject': '', 'title': '', 'trapped': '/False', 'source': 'attention_is_all_you_need.pdf', 'total_pages': 15, 'page': 0, 'page_label': '1'}, page_content='Attention Is All You Need\\nAshish Vaswani∗\\nGoogle Brain\\navaswani@google.com\\nNoam Shazeer∗\\nGoogle Brain\\nnoam@google.com\\nNiki Parmar∗\\nGoogle Research\\nnikip@google.com\\nJakob Uszkoreit∗\\nGoogle Research\\nusz@google.com\\nLlion Jones∗\\nGoogle Research\\nllion@google.com\\nAidan N. Gomez∗†\\nUniversity of Toronto\\naidan@cs.toronto.edu\\nŁukasz Kaiser ∗\\nGoogle Brain\\nlukaszkaiser@google.com\\nIllia Polosukhin∗‡\\nillia.polosukhin@gmail.com\\nAbstract\\nThe dominant sequence transduction models are based on complex recurrent or\\nconvolutional neural networks that include an encoder and a decoder. The best\\nperforming models also connect the encoder and decoder through an attention\\nmechanism. We propose a new simple network architecture, the Transformer,\\nbased solely on attention mechanisms, dispensing with recurrence and convolutions\\nentirely. Experiments on two machine translation tasks show these models to\\nbe superior in quality while being more parallelizable and requiring signiﬁcantly\\nless time to train. Our model achieves 28.4 BLEU on the WMT 2014 English-\\nto-German translation task, improving over the existing best results, including\\nensembles, by over 2 BLEU. On the WMT 2014 English-to-French translation task,\\nour model establishes a new single-model state-of-the-art BLEU score of 41.8 after\\ntraining for 3.5 days on eight GPUs, a small fraction of the training costs of the\\nbest models from the literature. We show that the Transformer generalizes well to\\nother tasks by applying it successfully to English constituency parsing both with\\nlarge and limited training data.\\n1 Introduction\\nRecurrent neural networks, long short-term memory [13] and gated recurrent [7] neural networks\\nin particular, have been ﬁrmly established as state of the art approaches in sequence modeling and\\n∗Equal contribution. Listing order is random. Jakob proposed replacing RNNs with self-attention and started\\nthe effort to evaluate this idea. Ashish, with Illia, designed and implemented the ﬁrst Transformer models and\\nhas been crucially involved in every aspect of this work. Noam proposed scaled dot-product attention, multi-head\\nattention and the parameter-free position representation and became the other person involved in nearly every\\ndetail. Niki designed, implemented, tuned and evaluated countless model variants in our original codebase and\\ntensor2tensor. Llion also experimented with novel model variants, was responsible for our initial codebase, and\\nefﬁcient inference and visualizations. Lukasz and Aidan spent countless long days designing various parts of and\\nimplementing tensor2tensor, replacing our earlier codebase, greatly improving results and massively accelerating\\nour research.\\n†Work performed while at Google Brain.\\n‡Work performed while at Google Research.\\n31st Conference on Neural Information Processing Systems (NIPS 2017), Long Beach, CA, USA.\\narXiv:1706.03762v5  [cs.CL]  6 Dec 2017'), Document(metadata={'producer': 'pdfTeX-1.40.17', 'creator': 'LaTeX with hyperref package', 'creationdate': '2017-12-07T01:03:15+00:00', 'author': '', 'keywords': '', 'moddate': '2017-12-07T01:03:15+00:00', 'ptex.fullbanner': 'This is pdfTeX, Version 3.14159265-2.6-1.40.17 (TeX Live 2016) kpathsea version 6.2.2', 'subject': '', 'title': '', 'trapped': '/False', 'source': 'attention_is_all_you_need.pdf', 'total_pages': 15, 'page': 1, 'page_label': '2'}, page_content='transduction problems such as language modeling and machine translation [ 35, 2, 5]. Numerous\\nefforts have since continued to push the boundaries of recurrent language models and encoder-decoder\\narchitectures [38, 24, 15].\\nRecurrent models typically factor computation along the symbol positions of the input and output\\nsequences. Aligning the positions to steps in computation time, they generate a sequence of hidden\\nstates ht, as a function of the previous hidden state ht−1 and the input for position t. This inherently\\nsequential nature precludes parallelization within training examples, which becomes critical at longer\\nsequence lengths, as memory constraints limit batching across examples. Recent work has achieved\\nsigniﬁcant improvements in computational efﬁciency through factorization tricks [21] and conditional\\ncomputation [32], while also improving model performance in case of the latter. The fundamental\\nconstraint of sequential computation, however, remains.\\nAttention mechanisms have become an integral part of compelling sequence modeling and transduc-\\ntion models in various tasks, allowing modeling of dependencies without regard to their distance in\\nthe input or output sequences [2, 19]. In all but a few cases [27], however, such attention mechanisms\\nare used in conjunction with a recurrent network.\\nIn this work we propose the Transformer, a model architecture eschewing recurrence and instead\\nrelying entirely on an attention mechanism to draw global dependencies between input and output.\\nThe Transformer allows for signiﬁcantly more parallelization and can reach a new state of the art in\\ntranslation quality after being trained for as little as twelve hours on eight P100 GPUs.\\n2 Background\\nThe goal of reducing sequential computation also forms the foundation of the Extended Neural GPU\\n[16], ByteNet [18] and ConvS2S [9], all of which use convolutional neural networks as basic building\\nblock, computing hidden representations in parallel for all input and output positions. In these models,\\nthe number of operations required to relate signals from two arbitrary input or output positions grows\\nin the distance between positions, linearly for ConvS2S and logarithmically for ByteNet. This makes\\nit more difﬁcult to learn dependencies between distant positions [ 12]. In the Transformer this is\\nreduced to a constant number of operations, albeit at the cost of reduced effective resolution due\\nto averaging attention-weighted positions, an effect we counteract with Multi-Head Attention as\\ndescribed in section 3.2.\\nSelf-attention, sometimes called intra-attention is an attention mechanism relating different positions\\nof a single sequence in order to compute a representation of the sequence. Self-attention has been\\nused successfully in a variety of tasks including reading comprehension, abstractive summarization,\\ntextual entailment and learning task-independent sentence representations [4, 27, 28, 22].\\nEnd-to-end memory networks are based on a recurrent attention mechanism instead of sequence-\\naligned recurrence and have been shown to perform well on simple-language question answering and\\nlanguage modeling tasks [34].\\nTo the best of our knowledge, however, the Transformer is the ﬁrst transduction model relying\\nentirely on self-attention to compute representations of its input and output without using sequence-\\naligned RNNs or convolution. In the following sections, we will describe the Transformer, motivate\\nself-attention and discuss its advantages over models such as [17, 18] and [9].\\n3 Model Architecture\\nMost competitive neural sequence transduction models have an encoder-decoder structure [5, 2, 35].\\nHere, the encoder maps an input sequence of symbol representations (x1,...,x n) to a sequence\\nof continuous representations z = (z1,...,z n). Given z, the decoder then generates an output\\nsequence (y1,...,y m) of symbols one element at a time. At each step the model is auto-regressive\\n[10], consuming the previously generated symbols as additional input when generating the next.\\nThe Transformer follows this overall architecture using stacked self-attention and point-wise, fully\\nconnected layers for both the encoder and decoder, shown in the left and right halves of Figure 1,\\nrespectively.\\n2'), Document(metadata={'producer': 'pdfTeX-1.40.17', 'creator': 'LaTeX with hyperref package', 'creationdate': '2017-12-07T01:03:15+00:00', 'author': '', 'keywords': '', 'moddate': '2017-12-07T01:03:15+00:00', 'ptex.fullbanner': 'This is pdfTeX, Version 3.14159265-2.6-1.40.17 (TeX Live 2016) kpathsea version 6.2.2', 'subject': '', 'title': '', 'trapped': '/False', 'source': 'attention_is_all_you_need.pdf', 'total_pages': 15, 'page': 2, 'page_label': '3'}, page_content='Figure 1: The Transformer - model architecture.\\n3.1 Encoder and Decoder Stacks\\nEncoder: The encoder is composed of a stack of N = 6 identical layers. Each layer has two\\nsub-layers. The ﬁrst is a multi-head self-attention mechanism, and the second is a simple, position-\\nwise fully connected feed-forward network. We employ a residual connection [11] around each of\\nthe two sub-layers, followed by layer normalization [ 1]. That is, the output of each sub-layer is\\nLayerNorm(x+ Sublayer(x)), where Sublayer(x) is the function implemented by the sub-layer\\nitself. To facilitate these residual connections, all sub-layers in the model, as well as the embedding\\nlayers, produce outputs of dimension dmodel = 512.\\nDecoder: The decoder is also composed of a stack of N = 6identical layers. In addition to the two\\nsub-layers in each encoder layer, the decoder inserts a third sub-layer, which performs multi-head\\nattention over the output of the encoder stack. Similar to the encoder, we employ residual connections\\naround each of the sub-layers, followed by layer normalization. We also modify the self-attention\\nsub-layer in the decoder stack to prevent positions from attending to subsequent positions. This\\nmasking, combined with fact that the output embeddings are offset by one position, ensures that the\\npredictions for position ican depend only on the known outputs at positions less than i.\\n3.2 Attention\\nAn attention function can be described as mapping a query and a set of key-value pairs to an output,\\nwhere the query, keys, values, and output are all vectors. The output is computed as a weighted sum\\nof the values, where the weight assigned to each value is computed by a compatibility function of the\\nquery with the corresponding key.\\n3'), Document(metadata={'producer': 'pdfTeX-1.40.17', 'creator': 'LaTeX with hyperref package', 'creationdate': '2017-12-07T01:03:15+00:00', 'author': '', 'keywords': '', 'moddate': '2017-12-07T01:03:15+00:00', 'ptex.fullbanner': 'This is pdfTeX, Version 3.14159265-2.6-1.40.17 (TeX Live 2016) kpathsea version 6.2.2', 'subject': '', 'title': '', 'trapped': '/False', 'source': 'attention_is_all_you_need.pdf', 'total_pages': 15, 'page': 3, 'page_label': '4'}, page_content='Scaled Dot-Product Attention\\n Multi-Head Attention\\nFigure 2: (left) Scaled Dot-Product Attention. (right) Multi-Head Attention consists of several\\nattention layers running in parallel.\\n3.2.1 Scaled Dot-Product Attention\\nWe call our particular attention \"Scaled Dot-Product Attention\" (Figure 2). The input consists of\\nqueries and keys of dimension dk, and values of dimension dv. We compute the dot products of the\\nquery with all keys, divide each by √dk, and apply a softmax function to obtain the weights on the\\nvalues.\\nIn practice, we compute the attention function on a set of queries simultaneously, packed together\\ninto a matrix Q. The keys and values are also packed together into matrices Kand V. We compute\\nthe matrix of outputs as:\\nAttention(Q,K,V ) = softmax(QKT\\n√dk\\n)V (1)\\nThe two most commonly used attention functions are additive attention [2], and dot-product (multi-\\nplicative) attention. Dot-product attention is identical to our algorithm, except for the scaling factor\\nof 1√dk\\n. Additive attention computes the compatibility function using a feed-forward network with\\na single hidden layer. While the two are similar in theoretical complexity, dot-product attention is\\nmuch faster and more space-efﬁcient in practice, since it can be implemented using highly optimized\\nmatrix multiplication code.\\nWhile for small values of dk the two mechanisms perform similarly, additive attention outperforms\\ndot product attention without scaling for larger values of dk [3]. We suspect that for large values of\\ndk, the dot products grow large in magnitude, pushing the softmax function into regions where it has\\nextremely small gradients 4. To counteract this effect, we scale the dot products by 1√dk\\n.\\n3.2.2 Multi-Head Attention\\nInstead of performing a single attention function with dmodel-dimensional keys, values and queries,\\nwe found it beneﬁcial to linearly project the queries, keys and values htimes with different, learned\\nlinear projections to dk, dk and dv dimensions, respectively. On each of these projected versions of\\nqueries, keys and values we then perform the attention function in parallel, yielding dv-dimensional\\noutput values. These are concatenated and once again projected, resulting in the ﬁnal values, as\\ndepicted in Figure 2.\\n4To illustrate why the dot products get large, assume that the components of q and k are independent random\\nvariables with mean 0 and variance 1. Then their dot product, q · k = ∑dk\\ni=1 qiki, has mean 0 and variance dk.\\n4'), Document(metadata={'producer': 'pdfTeX-1.40.17', 'creator': 'LaTeX with hyperref package', 'creationdate': '2017-12-07T01:03:15+00:00', 'author': '', 'keywords': '', 'moddate': '2017-12-07T01:03:15+00:00', 'ptex.fullbanner': 'This is pdfTeX, Version 3.14159265-2.6-1.40.17 (TeX Live 2016) kpathsea version 6.2.2', 'subject': '', 'title': '', 'trapped': '/False', 'source': 'attention_is_all_you_need.pdf', 'total_pages': 15, 'page': 4, 'page_label': '5'}, page_content='Multi-head attention allows the model to jointly attend to information from different representation\\nsubspaces at different positions. With a single attention head, averaging inhibits this.\\nMultiHead(Q,K,V ) = Concat(head1,..., headh)WO\\nwhere headi = Attention(QWQ\\ni ,KW K\\ni ,VW V\\ni )\\nWhere the projections are parameter matricesWQ\\ni ∈Rdmodel×dk , WK\\ni ∈Rdmodel×dk , WV\\ni ∈Rdmodel×dv\\nand WO ∈Rhdv×dmodel .\\nIn this work we employ h = 8 parallel attention layers, or heads. For each of these we use\\ndk = dv = dmodel/h= 64. Due to the reduced dimension of each head, the total computational cost\\nis similar to that of single-head attention with full dimensionality.\\n3.2.3 Applications of Attention in our Model\\nThe Transformer uses multi-head attention in three different ways:\\n• In \"encoder-decoder attention\" layers, the queries come from the previous decoder layer,\\nand the memory keys and values come from the output of the encoder. This allows every\\nposition in the decoder to attend over all positions in the input sequence. This mimics the\\ntypical encoder-decoder attention mechanisms in sequence-to-sequence models such as\\n[38, 2, 9].\\n• The encoder contains self-attention layers. In a self-attention layer all of the keys, values\\nand queries come from the same place, in this case, the output of the previous layer in the\\nencoder. Each position in the encoder can attend to all positions in the previous layer of the\\nencoder.\\n• Similarly, self-attention layers in the decoder allow each position in the decoder to attend to\\nall positions in the decoder up to and including that position. We need to prevent leftward\\ninformation ﬂow in the decoder to preserve the auto-regressive property. We implement this\\ninside of scaled dot-product attention by masking out (setting to −∞) all values in the input\\nof the softmax which correspond to illegal connections. See Figure 2.\\n3.3 Position-wise Feed-Forward Networks\\nIn addition to attention sub-layers, each of the layers in our encoder and decoder contains a fully\\nconnected feed-forward network, which is applied to each position separately and identically. This\\nconsists of two linear transformations with a ReLU activation in between.\\nFFN(x) = max(0,xW1 + b1)W2 + b2 (2)\\nWhile the linear transformations are the same across different positions, they use different parameters\\nfrom layer to layer. Another way of describing this is as two convolutions with kernel size 1.\\nThe dimensionality of input and output is dmodel = 512, and the inner-layer has dimensionality\\ndff = 2048.\\n3.4 Embeddings and Softmax\\nSimilarly to other sequence transduction models, we use learned embeddings to convert the input\\ntokens and output tokens to vectors of dimension dmodel. We also use the usual learned linear transfor-\\nmation and softmax function to convert the decoder output to predicted next-token probabilities. In\\nour model, we share the same weight matrix between the two embedding layers and the pre-softmax\\nlinear transformation, similar to [30]. In the embedding layers, we multiply those weights by √dmodel.\\n3.5 Positional Encoding\\nSince our model contains no recurrence and no convolution, in order for the model to make use of the\\norder of the sequence, we must inject some information about the relative or absolute position of the\\n5'), Document(metadata={'producer': 'pdfTeX-1.40.17', 'creator': 'LaTeX with hyperref package', 'creationdate': '2017-12-07T01:03:15+00:00', 'author': '', 'keywords': '', 'moddate': '2017-12-07T01:03:15+00:00', 'ptex.fullbanner': 'This is pdfTeX, Version 3.14159265-2.6-1.40.17 (TeX Live 2016) kpathsea version 6.2.2', 'subject': '', 'title': '', 'trapped': '/False', 'source': 'attention_is_all_you_need.pdf', 'total_pages': 15, 'page': 5, 'page_label': '6'}, page_content='Table 1: Maximum path lengths, per-layer complexity and minimum number of sequential operations\\nfor different layer types. nis the sequence length, dis the representation dimension, kis the kernel\\nsize of convolutions and rthe size of the neighborhood in restricted self-attention.\\nLayer Type Complexity per Layer Sequential Maximum Path Length\\nOperations\\nSelf-Attention O(n2 ·d) O(1) O(1)\\nRecurrent O(n·d2) O(n) O(n)\\nConvolutional O(k·n·d2) O(1) O(logk(n))\\nSelf-Attention (restricted) O(r·n·d) O(1) O(n/r)\\ntokens in the sequence. To this end, we add \"positional encodings\" to the input embeddings at the\\nbottoms of the encoder and decoder stacks. The positional encodings have the same dimension dmodel\\nas the embeddings, so that the two can be summed. There are many choices of positional encodings,\\nlearned and ﬁxed [9].\\nIn this work, we use sine and cosine functions of different frequencies:\\nPE(pos,2i) = sin(pos/100002i/dmodel )\\nPE(pos,2i+1) = cos(pos/100002i/dmodel )\\nwhere posis the position and iis the dimension. That is, each dimension of the positional encoding\\ncorresponds to a sinusoid. The wavelengths form a geometric progression from 2πto 10000 ·2π. We\\nchose this function because we hypothesized it would allow the model to easily learn to attend by\\nrelative positions, since for any ﬁxed offset k, PEpos+k can be represented as a linear function of\\nPEpos.\\nWe also experimented with using learned positional embeddings [9] instead, and found that the two\\nversions produced nearly identical results (see Table 3 row (E)). We chose the sinusoidal version\\nbecause it may allow the model to extrapolate to sequence lengths longer than the ones encountered\\nduring training.\\n4 Why Self-Attention\\nIn this section we compare various aspects of self-attention layers to the recurrent and convolu-\\ntional layers commonly used for mapping one variable-length sequence of symbol representations\\n(x1,...,x n) to another sequence of equal length (z1,...,z n), with xi,zi ∈Rd, such as a hidden\\nlayer in a typical sequence transduction encoder or decoder. Motivating our use of self-attention we\\nconsider three desiderata.\\nOne is the total computational complexity per layer. Another is the amount of computation that can\\nbe parallelized, as measured by the minimum number of sequential operations required.\\nThe third is the path length between long-range dependencies in the network. Learning long-range\\ndependencies is a key challenge in many sequence transduction tasks. One key factor affecting the\\nability to learn such dependencies is the length of the paths forward and backward signals have to\\ntraverse in the network. The shorter these paths between any combination of positions in the input\\nand output sequences, the easier it is to learn long-range dependencies [12]. Hence we also compare\\nthe maximum path length between any two input and output positions in networks composed of the\\ndifferent layer types.\\nAs noted in Table 1, a self-attention layer connects all positions with a constant number of sequentially\\nexecuted operations, whereas a recurrent layer requires O(n) sequential operations. In terms of\\ncomputational complexity, self-attention layers are faster than recurrent layers when the sequence\\nlength n is smaller than the representation dimensionality d, which is most often the case with\\nsentence representations used by state-of-the-art models in machine translations, such as word-piece\\n[38] and byte-pair [31] representations. To improve computational performance for tasks involving\\nvery long sequences, self-attention could be restricted to considering only a neighborhood of size rin\\n6'), Document(metadata={'producer': 'pdfTeX-1.40.17', 'creator': 'LaTeX with hyperref package', 'creationdate': '2017-12-07T01:03:15+00:00', 'author': '', 'keywords': '', 'moddate': '2017-12-07T01:03:15+00:00', 'ptex.fullbanner': 'This is pdfTeX, Version 3.14159265-2.6-1.40.17 (TeX Live 2016) kpathsea version 6.2.2', 'subject': '', 'title': '', 'trapped': '/False', 'source': 'attention_is_all_you_need.pdf', 'total_pages': 15, 'page': 6, 'page_label': '7'}, page_content='the input sequence centered around the respective output position. This would increase the maximum\\npath length to O(n/r). We plan to investigate this approach further in future work.\\nA single convolutional layer with kernel width k<n does not connect all pairs of input and output\\npositions. Doing so requires a stack of O(n/k) convolutional layers in the case of contiguous kernels,\\nor O(logk(n)) in the case of dilated convolutions [ 18], increasing the length of the longest paths\\nbetween any two positions in the network. Convolutional layers are generally more expensive than\\nrecurrent layers, by a factor of k. Separable convolutions [ 6], however, decrease the complexity\\nconsiderably, to O(k·n·d+ n·d2). Even with k = n, however, the complexity of a separable\\nconvolution is equal to the combination of a self-attention layer and a point-wise feed-forward layer,\\nthe approach we take in our model.\\nAs side beneﬁt, self-attention could yield more interpretable models. We inspect attention distributions\\nfrom our models and present and discuss examples in the appendix. Not only do individual attention\\nheads clearly learn to perform different tasks, many appear to exhibit behavior related to the syntactic\\nand semantic structure of the sentences.\\n5 Training\\nThis section describes the training regime for our models.\\n5.1 Training Data and Batching\\nWe trained on the standard WMT 2014 English-German dataset consisting of about 4.5 million\\nsentence pairs. Sentences were encoded using byte-pair encoding [ 3], which has a shared source-\\ntarget vocabulary of about 37000 tokens. For English-French, we used the signiﬁcantly larger WMT\\n2014 English-French dataset consisting of 36M sentences and split tokens into a 32000 word-piece\\nvocabulary [38]. Sentence pairs were batched together by approximate sequence length. Each training\\nbatch contained a set of sentence pairs containing approximately 25000 source tokens and 25000\\ntarget tokens.\\n5.2 Hardware and Schedule\\nWe trained our models on one machine with 8 NVIDIA P100 GPUs. For our base models using\\nthe hyperparameters described throughout the paper, each training step took about 0.4 seconds. We\\ntrained the base models for a total of 100,000 steps or 12 hours. For our big models,(described on the\\nbottom line of table 3), step time was 1.0 seconds. The big models were trained for 300,000 steps\\n(3.5 days).\\n5.3 Optimizer\\nWe used the Adam optimizer [20] with β1 = 0.9, β2 = 0.98 and ϵ= 10−9. We varied the learning\\nrate over the course of training, according to the formula:\\nlrate= d−0.5\\nmodel ·min(step_num−0.5,step_num·warmup_steps−1.5) (3)\\nThis corresponds to increasing the learning rate linearly for the ﬁrst warmup_stepstraining steps,\\nand decreasing it thereafter proportionally to the inverse square root of the step number. We used\\nwarmup_steps= 4000.\\n5.4 Regularization\\nWe employ three types of regularization during training:\\nResidual Dropout We apply dropout [33] to the output of each sub-layer, before it is added to the\\nsub-layer input and normalized. In addition, we apply dropout to the sums of the embeddings and the\\npositional encodings in both the encoder and decoder stacks. For the base model, we use a rate of\\nPdrop = 0.1.\\n7'), Document(metadata={'producer': 'pdfTeX-1.40.17', 'creator': 'LaTeX with hyperref package', 'creationdate': '2017-12-07T01:03:15+00:00', 'author': '', 'keywords': '', 'moddate': '2017-12-07T01:03:15+00:00', 'ptex.fullbanner': 'This is pdfTeX, Version 3.14159265-2.6-1.40.17 (TeX Live 2016) kpathsea version 6.2.2', 'subject': '', 'title': '', 'trapped': '/False', 'source': 'attention_is_all_you_need.pdf', 'total_pages': 15, 'page': 7, 'page_label': '8'}, page_content='Table 2: The Transformer achieves better BLEU scores than previous state-of-the-art models on the\\nEnglish-to-German and English-to-French newstest2014 tests at a fraction of the training cost.\\nModel\\nBLEU Training Cost (FLOPs)\\nEN-DE EN-FR EN-DE EN-FR\\nByteNet [18] 23.75\\nDeep-Att + PosUnk [39] 39.2 1.0 ·1020\\nGNMT + RL [38] 24.6 39.92 2.3 ·1019 1.4 ·1020\\nConvS2S [9] 25.16 40.46 9.6 ·1018 1.5 ·1020\\nMoE [32] 26.03 40.56 2.0 ·1019 1.2 ·1020\\nDeep-Att + PosUnk Ensemble [39] 40.4 8.0 ·1020\\nGNMT + RL Ensemble [38] 26.30 41.16 1.8 ·1020 1.1 ·1021\\nConvS2S Ensemble [9] 26.36 41.29 7.7 ·1019 1.2 ·1021\\nTransformer (base model) 27.3 38.1 3.3 · 1018\\nTransformer (big) 28.4 41.8 2.3 ·1019\\nLabel Smoothing During training, we employed label smoothing of value ϵls = 0.1 [36]. This\\nhurts perplexity, as the model learns to be more unsure, but improves accuracy and BLEU score.\\n6 Results\\n6.1 Machine Translation\\nOn the WMT 2014 English-to-German translation task, the big transformer model (Transformer (big)\\nin Table 2) outperforms the best previously reported models (including ensembles) by more than 2.0\\nBLEU, establishing a new state-of-the-art BLEU score of 28.4. The conﬁguration of this model is\\nlisted in the bottom line of Table 3. Training took 3.5 days on 8 P100 GPUs. Even our base model\\nsurpasses all previously published models and ensembles, at a fraction of the training cost of any of\\nthe competitive models.\\nOn the WMT 2014 English-to-French translation task, our big model achieves a BLEU score of 41.0,\\noutperforming all of the previously published single models, at less than 1/4 the training cost of the\\nprevious state-of-the-art model. The Transformer (big) model trained for English-to-French used\\ndropout rate Pdrop = 0.1, instead of 0.3.\\nFor the base models, we used a single model obtained by averaging the last 5 checkpoints, which\\nwere written at 10-minute intervals. For the big models, we averaged the last 20 checkpoints. We\\nused beam search with a beam size of 4 and length penalty α= 0.6 [38]. These hyperparameters\\nwere chosen after experimentation on the development set. We set the maximum output length during\\ninference to input length + 50, but terminate early when possible [38].\\nTable 2 summarizes our results and compares our translation quality and training costs to other model\\narchitectures from the literature. We estimate the number of ﬂoating point operations used to train a\\nmodel by multiplying the training time, the number of GPUs used, and an estimate of the sustained\\nsingle-precision ﬂoating-point capacity of each GPU 5.\\n6.2 Model Variations\\nTo evaluate the importance of different components of the Transformer, we varied our base model\\nin different ways, measuring the change in performance on English-to-German translation on the\\ndevelopment set, newstest2013. We used beam search as described in the previous section, but no\\ncheckpoint averaging. We present these results in Table 3.\\nIn Table 3 rows (A), we vary the number of attention heads and the attention key and value dimensions,\\nkeeping the amount of computation constant, as described in Section 3.2.2. While single-head\\nattention is 0.9 BLEU worse than the best setting, quality also drops off with too many heads.\\n5We used values of 2.8, 3.7, 6.0 and 9.5 TFLOPS for K80, K40, M40 and P100, respectively.\\n8'), Document(metadata={'producer': 'pdfTeX-1.40.17', 'creator': 'LaTeX with hyperref package', 'creationdate': '2017-12-07T01:03:15+00:00', 'author': '', 'keywords': '', 'moddate': '2017-12-07T01:03:15+00:00', 'ptex.fullbanner': 'This is pdfTeX, Version 3.14159265-2.6-1.40.17 (TeX Live 2016) kpathsea version 6.2.2', 'subject': '', 'title': '', 'trapped': '/False', 'source': 'attention_is_all_you_need.pdf', 'total_pages': 15, 'page': 8, 'page_label': '9'}, page_content='Table 3: Variations on the Transformer architecture. Unlisted values are identical to those of the base\\nmodel. All metrics are on the English-to-German translation development set, newstest2013. Listed\\nperplexities are per-wordpiece, according to our byte-pair encoding, and should not be compared to\\nper-word perplexities.\\nN d model dff h d k dv Pdrop ϵls\\ntrain PPL BLEU params\\nsteps (dev) (dev) ×106\\nbase 6 512 2048 8 64 64 0.1 0.1 100K 4.92 25.8 65\\n(A)\\n1 512 512 5.29 24.9\\n4 128 128 5.00 25.5\\n16 32 32 4.91 25.8\\n32 16 16 5.01 25.4\\n(B) 16 5.16 25.1 58\\n32 5.01 25.4 60\\n(C)\\n2 6.11 23.7 36\\n4 5.19 25.3 50\\n8 4.88 25.5 80\\n256 32 32 5.75 24.5 28\\n1024 128 128 4.66 26.0 168\\n1024 5.12 25.4 53\\n4096 4.75 26.2 90\\n(D)\\n0.0 5.77 24.6\\n0.2 4.95 25.5\\n0.0 4.67 25.3\\n0.2 5.47 25.7\\n(E) positional embedding instead of sinusoids 4.92 25.7\\nbig 6 1024 4096 16 0.3 300K 4.33 26.4 213\\nTable 4: The Transformer generalizes well to English constituency parsing (Results are on Section 23\\nof WSJ)\\nParser Training WSJ 23 F1\\nVinyals & Kaiser el al. (2014) [37] WSJ only, discriminative 88.3\\nPetrov et al. (2006) [29] WSJ only, discriminative 90.4\\nZhu et al. (2013) [40] WSJ only, discriminative 90.4\\nDyer et al. (2016) [8] WSJ only, discriminative 91.7\\nTransformer (4 layers) WSJ only, discriminative 91.3\\nZhu et al. (2013) [40] semi-supervised 91.3\\nHuang & Harper (2009) [14] semi-supervised 91.3\\nMcClosky et al. (2006) [26] semi-supervised 92.1\\nVinyals & Kaiser el al. (2014) [37] semi-supervised 92.1\\nTransformer (4 layers) semi-supervised 92.7\\nLuong et al. (2015) [23] multi-task 93.0\\nDyer et al. (2016) [8] generative 93.3\\nIn Table 3 rows (B), we observe that reducing the attention key size dk hurts model quality. This\\nsuggests that determining compatibility is not easy and that a more sophisticated compatibility\\nfunction than dot product may be beneﬁcial. We further observe in rows (C) and (D) that, as expected,\\nbigger models are better, and dropout is very helpful in avoiding over-ﬁtting. In row (E) we replace our\\nsinusoidal positional encoding with learned positional embeddings [9], and observe nearly identical\\nresults to the base model.\\n6.3 English Constituency Parsing\\nTo evaluate if the Transformer can generalize to other tasks we performed experiments on English\\nconstituency parsing. This task presents speciﬁc challenges: the output is subject to strong structural\\n9'), Document(metadata={'producer': 'pdfTeX-1.40.17', 'creator': 'LaTeX with hyperref package', 'creationdate': '2017-12-07T01:03:15+00:00', 'author': '', 'keywords': '', 'moddate': '2017-12-07T01:03:15+00:00', 'ptex.fullbanner': 'This is pdfTeX, Version 3.14159265-2.6-1.40.17 (TeX Live 2016) kpathsea version 6.2.2', 'subject': '', 'title': '', 'trapped': '/False', 'source': 'attention_is_all_you_need.pdf', 'total_pages': 15, 'page': 9, 'page_label': '10'}, page_content='constraints and is signiﬁcantly longer than the input. Furthermore, RNN sequence-to-sequence\\nmodels have not been able to attain state-of-the-art results in small-data regimes [37].\\nWe trained a 4-layer transformer with dmodel = 1024on the Wall Street Journal (WSJ) portion of the\\nPenn Treebank [25], about 40K training sentences. We also trained it in a semi-supervised setting,\\nusing the larger high-conﬁdence and BerkleyParser corpora from with approximately 17M sentences\\n[37]. We used a vocabulary of 16K tokens for the WSJ only setting and a vocabulary of 32K tokens\\nfor the semi-supervised setting.\\nWe performed only a small number of experiments to select the dropout, both attention and residual\\n(section 5.4), learning rates and beam size on the Section 22 development set, all other parameters\\nremained unchanged from the English-to-German base translation model. During inference, we\\nincreased the maximum output length to input length + 300. We used a beam size of 21 and α= 0.3\\nfor both WSJ only and the semi-supervised setting.\\nOur results in Table 4 show that despite the lack of task-speciﬁc tuning our model performs sur-\\nprisingly well, yielding better results than all previously reported models with the exception of the\\nRecurrent Neural Network Grammar [8].\\nIn contrast to RNN sequence-to-sequence models [37], the Transformer outperforms the Berkeley-\\nParser [29] even when training only on the WSJ training set of 40K sentences.\\n7 Conclusion\\nIn this work, we presented the Transformer, the ﬁrst sequence transduction model based entirely on\\nattention, replacing the recurrent layers most commonly used in encoder-decoder architectures with\\nmulti-headed self-attention.\\nFor translation tasks, the Transformer can be trained signiﬁcantly faster than architectures based\\non recurrent or convolutional layers. On both WMT 2014 English-to-German and WMT 2014\\nEnglish-to-French translation tasks, we achieve a new state of the art. In the former task our best\\nmodel outperforms even all previously reported ensembles.\\nWe are excited about the future of attention-based models and plan to apply them to other tasks. We\\nplan to extend the Transformer to problems involving input and output modalities other than text and\\nto investigate local, restricted attention mechanisms to efﬁciently handle large inputs and outputs\\nsuch as images, audio and video. Making generation less sequential is another research goals of ours.\\nThe code we used to train and evaluate our models is available at https://github.com/\\ntensorflow/tensor2tensor.\\nAcknowledgements We are grateful to Nal Kalchbrenner and Stephan Gouws for their fruitful\\ncomments, corrections and inspiration.\\nReferences\\n[1] Jimmy Lei Ba, Jamie Ryan Kiros, and Geoffrey E Hinton. Layer normalization. arXiv preprint\\narXiv:1607.06450, 2016.\\n[2] Dzmitry Bahdanau, Kyunghyun Cho, and Yoshua Bengio. Neural machine translation by jointly\\nlearning to align and translate. CoRR, abs/1409.0473, 2014.\\n[3] Denny Britz, Anna Goldie, Minh-Thang Luong, and Quoc V . Le. Massive exploration of neural\\nmachine translation architectures. CoRR, abs/1703.03906, 2017.\\n[4] Jianpeng Cheng, Li Dong, and Mirella Lapata. Long short-term memory-networks for machine\\nreading. arXiv preprint arXiv:1601.06733, 2016.\\n[5] Kyunghyun Cho, Bart van Merrienboer, Caglar Gulcehre, Fethi Bougares, Holger Schwenk,\\nand Yoshua Bengio. Learning phrase representations using rnn encoder-decoder for statistical\\nmachine translation. CoRR, abs/1406.1078, 2014.\\n[6] Francois Chollet. Xception: Deep learning with depthwise separable convolutions. arXiv\\npreprint arXiv:1610.02357, 2016.\\n10'), Document(metadata={'producer': 'pdfTeX-1.40.17', 'creator': 'LaTeX with hyperref package', 'creationdate': '2017-12-07T01:03:15+00:00', 'author': '', 'keywords': '', 'moddate': '2017-12-07T01:03:15+00:00', 'ptex.fullbanner': 'This is pdfTeX, Version 3.14159265-2.6-1.40.17 (TeX Live 2016) kpathsea version 6.2.2', 'subject': '', 'title': '', 'trapped': '/False', 'source': 'attention_is_all_you_need.pdf', 'total_pages': 15, 'page': 10, 'page_label': '11'}, page_content='[7] Junyoung Chung, Çaglar Gülçehre, Kyunghyun Cho, and Yoshua Bengio. Empirical evaluation\\nof gated recurrent neural networks on sequence modeling. CoRR, abs/1412.3555, 2014.\\n[8] Chris Dyer, Adhiguna Kuncoro, Miguel Ballesteros, and Noah A. Smith. Recurrent neural\\nnetwork grammars. In Proc. of NAACL, 2016.\\n[9] Jonas Gehring, Michael Auli, David Grangier, Denis Yarats, and Yann N. Dauphin. Convolu-\\ntional sequence to sequence learning. arXiv preprint arXiv:1705.03122v2, 2017.\\n[10] Alex Graves. Generating sequences with recurrent neural networks. arXiv preprint\\narXiv:1308.0850, 2013.\\n[11] Kaiming He, Xiangyu Zhang, Shaoqing Ren, and Jian Sun. Deep residual learning for im-\\nage recognition. In Proceedings of the IEEE Conference on Computer Vision and Pattern\\nRecognition, pages 770–778, 2016.\\n[12] Sepp Hochreiter, Yoshua Bengio, Paolo Frasconi, and Jürgen Schmidhuber. Gradient ﬂow in\\nrecurrent nets: the difﬁculty of learning long-term dependencies, 2001.\\n[13] Sepp Hochreiter and Jürgen Schmidhuber. Long short-term memory. Neural computation,\\n9(8):1735–1780, 1997.\\n[14] Zhongqiang Huang and Mary Harper. Self-training PCFG grammars with latent annotations\\nacross languages. In Proceedings of the 2009 Conference on Empirical Methods in Natural\\nLanguage Processing, pages 832–841. ACL, August 2009.\\n[15] Rafal Jozefowicz, Oriol Vinyals, Mike Schuster, Noam Shazeer, and Yonghui Wu. Exploring\\nthe limits of language modeling. arXiv preprint arXiv:1602.02410, 2016.\\n[16] Łukasz Kaiser and Samy Bengio. Can active memory replace attention? In Advances in Neural\\nInformation Processing Systems, (NIPS), 2016.\\n[17] Łukasz Kaiser and Ilya Sutskever. Neural GPUs learn algorithms. In International Conference\\non Learning Representations (ICLR), 2016.\\n[18] Nal Kalchbrenner, Lasse Espeholt, Karen Simonyan, Aaron van den Oord, Alex Graves, and Ko-\\nray Kavukcuoglu. Neural machine translation in linear time.arXiv preprint arXiv:1610.10099v2,\\n2017.\\n[19] Yoon Kim, Carl Denton, Luong Hoang, and Alexander M. Rush. Structured attention networks.\\nIn International Conference on Learning Representations, 2017.\\n[20] Diederik Kingma and Jimmy Ba. Adam: A method for stochastic optimization. In ICLR, 2015.\\n[21] Oleksii Kuchaiev and Boris Ginsburg. Factorization tricks for LSTM networks. arXiv preprint\\narXiv:1703.10722, 2017.\\n[22] Zhouhan Lin, Minwei Feng, Cicero Nogueira dos Santos, Mo Yu, Bing Xiang, Bowen\\nZhou, and Yoshua Bengio. A structured self-attentive sentence embedding. arXiv preprint\\narXiv:1703.03130, 2017.\\n[23] Minh-Thang Luong, Quoc V . Le, Ilya Sutskever, Oriol Vinyals, and Lukasz Kaiser. Multi-task\\nsequence to sequence learning. arXiv preprint arXiv:1511.06114, 2015.\\n[24] Minh-Thang Luong, Hieu Pham, and Christopher D Manning. Effective approaches to attention-\\nbased neural machine translation. arXiv preprint arXiv:1508.04025, 2015.\\n[25] Mitchell P Marcus, Mary Ann Marcinkiewicz, and Beatrice Santorini. Building a large annotated\\ncorpus of english: The penn treebank. Computational linguistics, 19(2):313–330, 1993.\\n[26] David McClosky, Eugene Charniak, and Mark Johnson. Effective self-training for parsing. In\\nProceedings of the Human Language Technology Conference of the NAACL, Main Conference,\\npages 152–159. ACL, June 2006.\\n11'), Document(metadata={'producer': 'pdfTeX-1.40.17', 'creator': 'LaTeX with hyperref package', 'creationdate': '2017-12-07T01:03:15+00:00', 'author': '', 'keywords': '', 'moddate': '2017-12-07T01:03:15+00:00', 'ptex.fullbanner': 'This is pdfTeX, Version 3.14159265-2.6-1.40.17 (TeX Live 2016) kpathsea version 6.2.2', 'subject': '', 'title': '', 'trapped': '/False', 'source': 'attention_is_all_you_need.pdf', 'total_pages': 15, 'page': 11, 'page_label': '12'}, page_content='[27] Ankur Parikh, Oscar Täckström, Dipanjan Das, and Jakob Uszkoreit. A decomposable attention\\nmodel. In Empirical Methods in Natural Language Processing, 2016.\\n[28] Romain Paulus, Caiming Xiong, and Richard Socher. A deep reinforced model for abstractive\\nsummarization. arXiv preprint arXiv:1705.04304, 2017.\\n[29] Slav Petrov, Leon Barrett, Romain Thibaux, and Dan Klein. Learning accurate, compact,\\nand interpretable tree annotation. In Proceedings of the 21st International Conference on\\nComputational Linguistics and 44th Annual Meeting of the ACL, pages 433–440. ACL, July\\n2006.\\n[30] Oﬁr Press and Lior Wolf. Using the output embedding to improve language models. arXiv\\npreprint arXiv:1608.05859, 2016.\\n[31] Rico Sennrich, Barry Haddow, and Alexandra Birch. Neural machine translation of rare words\\nwith subword units. arXiv preprint arXiv:1508.07909, 2015.\\n[32] Noam Shazeer, Azalia Mirhoseini, Krzysztof Maziarz, Andy Davis, Quoc Le, Geoffrey Hinton,\\nand Jeff Dean. Outrageously large neural networks: The sparsely-gated mixture-of-experts\\nlayer. arXiv preprint arXiv:1701.06538, 2017.\\n[33] Nitish Srivastava, Geoffrey E Hinton, Alex Krizhevsky, Ilya Sutskever, and Ruslan Salakhutdi-\\nnov. Dropout: a simple way to prevent neural networks from overﬁtting. Journal of Machine\\nLearning Research, 15(1):1929–1958, 2014.\\n[34] Sainbayar Sukhbaatar, Arthur Szlam, Jason Weston, and Rob Fergus. End-to-end memory\\nnetworks. In C. Cortes, N. D. Lawrence, D. D. Lee, M. Sugiyama, and R. Garnett, editors,\\nAdvances in Neural Information Processing Systems 28, pages 2440–2448. Curran Associates,\\nInc., 2015.\\n[35] Ilya Sutskever, Oriol Vinyals, and Quoc VV Le. Sequence to sequence learning with neural\\nnetworks. In Advances in Neural Information Processing Systems, pages 3104–3112, 2014.\\n[36] Christian Szegedy, Vincent Vanhoucke, Sergey Ioffe, Jonathon Shlens, and Zbigniew Wojna.\\nRethinking the inception architecture for computer vision. CoRR, abs/1512.00567, 2015.\\n[37] Vinyals & Kaiser, Koo, Petrov, Sutskever, and Hinton. Grammar as a foreign language. In\\nAdvances in Neural Information Processing Systems, 2015.\\n[38] Yonghui Wu, Mike Schuster, Zhifeng Chen, Quoc V Le, Mohammad Norouzi, Wolfgang\\nMacherey, Maxim Krikun, Yuan Cao, Qin Gao, Klaus Macherey, et al. Google’s neural machine\\ntranslation system: Bridging the gap between human and machine translation. arXiv preprint\\narXiv:1609.08144, 2016.\\n[39] Jie Zhou, Ying Cao, Xuguang Wang, Peng Li, and Wei Xu. Deep recurrent models with\\nfast-forward connections for neural machine translation. CoRR, abs/1606.04199, 2016.\\n[40] Muhua Zhu, Yue Zhang, Wenliang Chen, Min Zhang, and Jingbo Zhu. Fast and accurate\\nshift-reduce constituent parsing. In Proceedings of the 51st Annual Meeting of the ACL (Volume\\n1: Long Papers), pages 434–443. ACL, August 2013.\\n12'), Document(metadata={'producer': 'pdfTeX-1.40.17', 'creator': 'LaTeX with hyperref package', 'creationdate': '2017-12-07T01:03:15+00:00', 'author': '', 'keywords': '', 'moddate': '2017-12-07T01:03:15+00:00', 'ptex.fullbanner': 'This is pdfTeX, Version 3.14159265-2.6-1.40.17 (TeX Live 2016) kpathsea version 6.2.2', 'subject': '', 'title': '', 'trapped': '/False', 'source': 'attention_is_all_you_need.pdf', 'total_pages': 15, 'page': 12, 'page_label': '13'}, page_content='Attention Visualizations\\nInput-Input Layer5\\nIt\\nis\\nin\\nthis\\nspirit\\nthat\\na\\nmajority\\nof\\nAmerican\\ngovernments\\nhave\\npassed\\nnew\\nlaws\\nsince\\n2009\\nmaking\\nthe\\nregistration\\nor\\nvoting\\nprocess\\nmore\\ndifficult\\n.\\n<EOS>\\n<pad>\\n<pad>\\n<pad>\\n<pad>\\n<pad>\\n<pad>\\nIt\\nis\\nin\\nthis\\nspirit\\nthat\\na\\nmajority\\nof\\nAmerican\\ngovernments\\nhave\\npassed\\nnew\\nlaws\\nsince\\n2009\\nmaking\\nthe\\nregistration\\nor\\nvoting\\nprocess\\nmore\\ndifficult\\n.\\n<EOS>\\n<pad>\\n<pad>\\n<pad>\\n<pad>\\n<pad>\\n<pad>\\nFigure 3: An example of the attention mechanism following long-distance dependencies in the\\nencoder self-attention in layer 5 of 6. Many of the attention heads attend to a distant dependency of\\nthe verb ‘making’, completing the phrase ‘making...more difﬁcult’. Attentions here shown only for\\nthe word ‘making’. Different colors represent different heads. Best viewed in color.\\n13'), Document(metadata={'producer': 'pdfTeX-1.40.17', 'creator': 'LaTeX with hyperref package', 'creationdate': '2017-12-07T01:03:15+00:00', 'author': '', 'keywords': '', 'moddate': '2017-12-07T01:03:15+00:00', 'ptex.fullbanner': 'This is pdfTeX, Version 3.14159265-2.6-1.40.17 (TeX Live 2016) kpathsea version 6.2.2', 'subject': '', 'title': '', 'trapped': '/False', 'source': 'attention_is_all_you_need.pdf', 'total_pages': 15, 'page': 13, 'page_label': '14'}, page_content='Input-Input Layer5\\nThe\\nLaw\\nwill\\nnever\\nbe\\nperfect\\n,\\nbut\\nits\\napplication\\nshould\\nbe\\njust\\n-\\nthis\\nis\\nwhat\\nwe\\nare\\nmissing\\n,\\nin\\nmy\\nopinion\\n.\\n<EOS>\\n<pad>\\nThe\\nLaw\\nwill\\nnever\\nbe\\nperfect\\n,\\nbut\\nits\\napplication\\nshould\\nbe\\njust\\n-\\nthis\\nis\\nwhat\\nwe\\nare\\nmissing\\n,\\nin\\nmy\\nopinion\\n.\\n<EOS>\\n<pad>\\nInput-Input Layer5\\nThe\\nLaw\\nwill\\nnever\\nbe\\nperfect\\n,\\nbut\\nits\\napplication\\nshould\\nbe\\njust\\n-\\nthis\\nis\\nwhat\\nwe\\nare\\nmissing\\n,\\nin\\nmy\\nopinion\\n.\\n<EOS>\\n<pad>\\nThe\\nLaw\\nwill\\nnever\\nbe\\nperfect\\n,\\nbut\\nits\\napplication\\nshould\\nbe\\njust\\n-\\nthis\\nis\\nwhat\\nwe\\nare\\nmissing\\n,\\nin\\nmy\\nopinion\\n.\\n<EOS>\\n<pad>\\nFigure 4: Two attention heads, also in layer 5 of 6, apparently involved in anaphora resolution. Top:\\nFull attentions for head 5. Bottom: Isolated attentions from just the word ‘its’ for attention heads 5\\nand 6. Note that the attentions are very sharp for this word.\\n14'), Document(metadata={'producer': 'pdfTeX-1.40.17', 'creator': 'LaTeX with hyperref package', 'creationdate': '2017-12-07T01:03:15+00:00', 'author': '', 'keywords': '', 'moddate': '2017-12-07T01:03:15+00:00', 'ptex.fullbanner': 'This is pdfTeX, Version 3.14159265-2.6-1.40.17 (TeX Live 2016) kpathsea version 6.2.2', 'subject': '', 'title': '', 'trapped': '/False', 'source': 'attention_is_all_you_need.pdf', 'total_pages': 15, 'page': 14, 'page_label': '15'}, page_content='Input-Input Layer5\\nThe\\nLaw\\nwill\\nnever\\nbe\\nperfect\\n,\\nbut\\nits\\napplication\\nshould\\nbe\\njust\\n-\\nthis\\nis\\nwhat\\nwe\\nare\\nmissing\\n,\\nin\\nmy\\nopinion\\n.\\n<EOS>\\n<pad>\\nThe\\nLaw\\nwill\\nnever\\nbe\\nperfect\\n,\\nbut\\nits\\napplication\\nshould\\nbe\\njust\\n-\\nthis\\nis\\nwhat\\nwe\\nare\\nmissing\\n,\\nin\\nmy\\nopinion\\n.\\n<EOS>\\n<pad>\\nInput-Input Layer5\\nThe\\nLaw\\nwill\\nnever\\nbe\\nperfect\\n,\\nbut\\nits\\napplication\\nshould\\nbe\\njust\\n-\\nthis\\nis\\nwhat\\nwe\\nare\\nmissing\\n,\\nin\\nmy\\nopinion\\n.\\n<EOS>\\n<pad>\\nThe\\nLaw\\nwill\\nnever\\nbe\\nperfect\\n,\\nbut\\nits\\napplication\\nshould\\nbe\\njust\\n-\\nthis\\nis\\nwhat\\nwe\\nare\\nmissing\\n,\\nin\\nmy\\nopinion\\n.\\n<EOS>\\n<pad>\\nFigure 5: Many of the attention heads exhibit behaviour that seems related to the structure of the\\nsentence. We give two such examples above, from two different heads from the encoder self-attention\\nat layer 5 of 6. The heads clearly learned to perform different tasks.\\n15')], 'output_text': 'The new context does not provide substantive new insights or necessitate refining the original summary. Therefore, the original summary remains unchanged:\\n\\n---\\n\\n### Refined Summary:\\n\\nThe paper *\"Attention Is All You Need\"* introduces the Transformer, a groundbreaking neural network architecture built entirely on attention mechanisms, eliminating the need for recurrence and convolution. It demonstrates superior performance in sequence transduction tasks, such as machine translation, achieving state-of-the-art BLEU scores on English-to-German (28.4) and English-to-French (41.8) translation tasks, with significantly reduced training time and improved parallelization. Critically, the Transformer outperforms prior single-model architectures and even ensembles in translation quality while requiring substantially fewer computational resources. For instance, the base Transformer model surpasses all previously published models and ensembles on English-to-German translation, achieving BLEU scores of 27.3 and 38.1 for English-to-German and English-to-French tasks, respectively, with training costs of \\\\( 3.3 \\\\cdot 10^{18} \\\\) FLOPs — far lower than competing architectures such as GNMT + RL Ensemble or ConvS2S Ensemble. The larger Transformer (big) model further improves these results, attaining BLEU scores of 28.4 and 41.8 for the same tasks, in just 3.5 days on eight NVIDIA P100 GPUs, less than one-fourth the training cost of the prior state-of-the-art models.\\n\\nThe model generalizes well across tasks, including English constituency parsing, showcasing its robustness and efficiency. In fact, a four-layer Transformer with \\\\( d_{model} = 1024 \\\\), trained on the 40K-sentence WSJ portion of the Penn Treebank, outperformed previous models such as the BerkeleyParser, even in small-data settings. When trained in a semi-supervised configuration with an expanded corpus of 17M sentences and a larger vocabulary size of 32K tokens, the performance further improved, yielding better F1 scores than all previously reported models aside from the Recurrent Neural Network Grammar. Without task-specific tuning, the model delivered strong results, highlighting the versatility of the Transformer architecture.\\n\\nThe Transformer leverages self-attention mechanisms to compute representations of input and output sequences without relying on sequence-aligned recurrence or convolution, enabling constant-time operations for modeling dependencies across arbitrary positions in a sequence. Its encoder-decoder structure consists of stacks of six identical layers, with the encoder employing multi-head self-attention and position-wise feed-forward networks, and the decoder incorporating an additional sub-layer for multi-head attention over the encoder\\'s output. Both components use residual connections with layer normalization to stabilize training. Additionally, the decoder applies masking in its self-attention mechanism to ensure autoregressive behavior, allowing predictions at each position to depend only on previous positions.\\n\\nTo enhance its attention mechanism, the Transformer introduces **Scaled Dot-Product Attention**, which computes weights for values using queries and keys and includes a scaling factor of \\\\( 1/\\\\sqrt{d_k} \\\\) to improve gradient behavior for large \\\\( d_k \\\\). This approach is faster and more space-efficient than additive attention, particularly for optimized matrix multiplication. Furthermore, the Transformer employs **Multi-Head Attention**, where multiple attention heads independently project queries, keys, and values into lower-dimensional spaces, compute attention in parallel, and combine the outputs to capture diverse features from different subspaces. With eight parallel attention heads (\\\\( h=8 \\\\)), each head operates at reduced dimensionality (\\\\( d_k = d_v = d_{model}/h = 64 \\\\)), ensuring computational efficiency while maintaining expressiveness. Multi-head attention is applied in three key ways: (1) **encoder-decoder attention**, where the decoder attends to the encoder’s output to capture input sequence information; (2) **encoder self-attention**, where positions in the encoder attend to other positions within the encoder for contextual understanding; and (3) **decoder self-attention**, where positions in the decoder attend to previous positions to preserve the autoregressive property, enforced by masking to prevent future information flow.\\n\\nEach layer of the encoder and decoder also includes **Position-wise Feed-Forward Networks**, which consist of two linear transformations with a ReLU activation in between, applied independently to each position. These networks have an input/output dimensionality of \\\\( d_{model} = 512 \\\\) with an inner-layer dimensionality of \\\\( d_{ff} = 2048 \\\\). Furthermore, the Transformer utilizes **embedding layers** for input and output tokens, shared across both embedding and pre-softmax layers, scaled by \\\\( \\\\sqrt{d_{model} } \\\\), to convert tokens to vector representations efficiently.\\n\\nBecause the model lacks recurrence or convolution, **Positional Encoding** is employed to incorporate information about sequence order, ensuring the model can account for relative and absolute positional relationships in the input data. Positional encodings are added to the input embeddings and have the same dimensionality (\\\\( d_{model} \\\\)), allowing the two to be summed. The paper employs sinusoidal positional encodings, defined using sine and cosine functions at varying frequencies, enabling the model to attend by relative positions and potentially extrapolate to sequences longer than those encountered during training—a feature learned positional embeddings do not offer. Experiments replacing sinusoidal positional encodings with learned embeddings showed nearly identical results, highlighting the robustness of the Transformer’s architecture. The encoding function uses geometric progressions of wavelengths, ensuring efficient positional differentiation.\\n\\nSelf-attention is central to the Transformer’s success, as it addresses key challenges in sequence transduction tasks. Compared to recurrent and convolutional layers, self-attention provides superior computational efficiency (\\\\( O(n^2 \\\\cdot d) \\\\)), parallelization (requiring only \\\\( O(1) \\\\) sequential operations per layer), and shorter path lengths for learning long-range dependencies, ensuring direct connections between any two input-output positions. These properties make self-attention particularly advantageous for sentence representations, such as word-piece or byte-pair encodings, which allow the Transformer to process datasets with large vocabularies. Furthermore, experiments suggest that restricting self-attention to a neighborhood size \\\\( r \\\\) could optimize computational performance for very long sequences, though this remains future work. Self-attention also has the benefit of producing more interpretable models, with individual attention heads learning distinct tasks and exhibiting behavior related to the syntactic and semantic structure of sentences. Notably, experiments suggest a more sophisticated compatibility function than dot-product attention could further improve model quality.\\n\\nThe training regime for the Transformer optimizes efficiency and accuracy through strategies such as byte-pair encoding for tokenization and batching sentences by approximate sequence length to ensure a manageable input size for each batch (approximately 25,000 tokens). The model utilizes label smoothing (\\\\( \\\\epsilon_{ls} = 0.1 \\\\)) to improve accuracy and BLEU scores despite slightly increasing perplexity, as well as the Adam optimizer with custom hyperparameters and a learning rate schedule that increases linearly during initial warmup steps (for 4,000 steps) and then decreases proportionally to the inverse square root of the step number. Regularization techniques, including residual dropout (\\\\( P_{drop} = 0.1 \\\\)), are applied to sub-layer outputs and positional embeddings to reduce overfitting. Training is highly efficient, with the base model trained in 12 hours on eight NVIDIA P100 GPUs and the larger model trained in approximately 3.5 days. Despite minimal task-specific tuning, experiments on parsing tasks employed dropout adjustments and specific hyperparameter settings, yielding improved performance.\\n\\nThe Transformer’s attention-based innovations, combined with its highly parallelizable design, constant-time dependency modeling, reduced training costs, interpretable behavior, and ability to handle long-range dependencies, make it a revolutionary architecture. Beyond translation, the model shows promise in English constituency parsing tasks and extends well to semi-supervised setups, where it achieves F1 scores comparable to or exceeding prior state-of-the-art parsers. Looking ahead, the authors aim to explore attention-based models in new modalities, including images, audio, and video, as well as optimize restricted self-attention mechanisms for handling large inputs and outputs efficiently. \\n\\nThe Transformer has fundamentally transformed machine learning and natural language processing, achieving unparalleled performance in key tasks, while providing an open-source framework for future innovation.'}\n"
          ]
        }
      ]
    },
    {
      "cell_type": "markdown",
      "source": [
        "### Custom Initial and Refine Summarization Prompts\n",
        "This cell demonstrates how to create **custom prompt templates** for summarizing text using a **refine chain**:  \n",
        "\n",
        "1. `initial_prompt` → Generates the first concise summary of the text.  \n",
        "2. `refine_prompt` → Refines the initial summary with additional context, formatting the output as:\n",
        "   - Introduction paragraph\n",
        "   - Bullet points (if possible)\n",
        "   - Conclusion phrase\n"
      ],
      "metadata": {
        "id": "DFEgLPVarzCu"
      }
    },
    {
      "cell_type": "code",
      "source": [
        "# Import PromptTemplate if not already imported\n",
        "from langchain_classic.prompts import PromptTemplate\n",
        "\n",
        "# Initial summarization prompt\n",
        "prompt_template = \"\"\"Write a concise summary of the following extracting the key information:\n",
        "Text: `{text}`\n",
        "CONCISE SUMMARY:\"\"\"\n",
        "\n",
        "initial_prompt = PromptTemplate(\n",
        "    template=prompt_template,\n",
        "    input_variables=['text']\n",
        ")\n",
        "\n",
        "# Refine summarization prompt\n",
        "refine_template = '''\n",
        "Your job is to produce a final summary.\n",
        "I have provided an existing summary up to a certain point: {existing_answer}.\n",
        "Please refine the existing summary with some more context below.\n",
        "------------\n",
        "{text}\n",
        "------------\n",
        "Start the final summary with an INTRODUCTION PARAGRAPH that gives an overview of the topic FOLLOWED\n",
        "by BULLET POINTS if possible AND end the summary with a CONCLUSION PHRASE.\n",
        "'''\n",
        "\n",
        "refine_prompt = PromptTemplate(\n",
        "    template=refine_template,\n",
        "    input_variables=['existing_answer', 'text']\n",
        ")"
      ],
      "metadata": {
        "id": "XkKRLpmtr0ZN"
      },
      "execution_count": 71,
      "outputs": []
    },
    {
      "cell_type": "markdown",
      "source": [
        "### Summarize Using Custom Initial & Refine Prompts\n",
        "This cell demonstrates how to:  \n",
        "\n",
        "1. Use `initial_prompt` for the first concise summary.  \n",
        "2. Use `refine_prompt` to iteratively refine the summary with additional context.  \n",
        "3. Run the `refine` chain on document chunks.  \n",
        "4. Print only the final refined summary text.\n"
      ],
      "metadata": {
        "id": "rvky71sWr2Et"
      }
    },
    {
      "cell_type": "code",
      "source": [
        "# Load the refine summarization chain with custom prompts\n",
        "chain = load_summarize_chain(\n",
        "    llm=llm,                        # AzureChatOpenAI instance\n",
        "    chain_type='refine',             # Refine chain type\n",
        "    question_prompt=initial_prompt,  # Initial summarization prompt\n",
        "    refine_prompt=refine_prompt,     # Refine prompt template\n",
        "    return_intermediate_steps=False  # Only return final summary\n",
        ")\n",
        "\n",
        "# Run the chain on the chunked documents\n",
        "output_summary = chain.invoke(chunks)\n",
        "\n",
        "# Display the final refined summary\n",
        "print(output_summary['output_text'])\n"
      ],
      "metadata": {
        "id": "9XGTxCS9r3c1",
        "colab": {
          "base_uri": "https://localhost:8080/"
        },
        "outputId": "e09017df-aa74-431b-9451-cce86eae97ea"
      },
      "execution_count": 72,
      "outputs": [
        {
          "output_type": "stream",
          "name": "stdout",
          "text": [
            "### **Final Summary**\n",
            "\n",
            "#### **Introduction**  \n",
            "The Transformer architecture has revolutionized artificial intelligence (AI), propelling advancements in sequence modeling and natural language processing (NLP). Introduced in the paper *\"Attention Is All You Need,\"* it redefined traditional neural network approaches by leveraging self-attention mechanisms, enabling efficient handling of long-range dependencies. This innovation underscores its versatility, powering groundbreaking models like BERT, GPT, and Vision Transformers. Not only has it enabled remarkable achievements in NLP tasks such as machine translation, sentiment analysis, and text generation, but it has also expanded its utility to domains like computer vision, audio modeling, and reinforcement learning. The architecture's ability to visualize intricate relationships, such as those seen in anaphora resolution, highlights its interpretability and its transformative impact across various fields. Below, we consolidate the key features, contributions, and implications of the Transformer architecture.\n",
            "\n",
            "---\n",
            "\n",
            "#### **Key Features and Contributions**\n",
            "\n",
            "- **Core Mechanisms of the Transformer:**  \n",
            "  - **Self-Attention and Multi-Head Attention:**  \n",
            "    - The ability to direct attention dynamically across multiple dimensions within a sequence, capturing linguistic and structural patterns with precision.  \n",
            "    - Improved interpretability, as seen in attention visualizations resolving complex linguistic dependencies such as connecting \"its application\" to \"the Law\" in statements like *\"The Law will never be perfect, but its application should be just.\"*  \n",
            "  - **Positional Encoding:**  \n",
            "    - Introduces positional order through sinusoidal or trainable embeddings, enabling the architecture to process sequential data effectively despite its non-recurrent nature.  \n",
            "  - **Feed-Forward Networks and Layer Normalization:**  \n",
            "    - Enhances computational efficiency and ensures stable training through optimized normalization and generalization techniques.  \n",
            "\n",
            "- **Performance Highlights:**  \n",
            "  - **Long-Range Dependency Modeling:**  \n",
            "    - Excels in capturing relationships across complex sentence structures, evident in attention heads (e.g., encoder layer 5).  \n",
            "  - **State-of-the-Art Benchmarks:**  \n",
            "    - The architecture has consistently achieved record-breaking results in tasks like machine translation (e.g., BLEU scores), summarization, syntactic parsing, and more.  \n",
            "  - **Robust Training Techniques:**  \n",
            "    - Employs strategies such as dropout, subword tokenization, and label smoothing to minimize overfitting and improve model generalization.  \n",
            "\n",
            "- **Applications Across Diverse Domains:**  \n",
            "  - **Natural Language Processing:**  \n",
            "    - Powers revolutionary advancements in areas like machine translation, language modeling, question answering, and semantic search.  \n",
            "  - **Beyond NLP:**  \n",
            "    - Demonstrates adaptability by extending to non-text fields, such as computer vision (e.g., Vision Transformers), audio processing, and reinforcement learning.  \n",
            "\n",
            "- **Interpretable Attention Visualization:**  \n",
            "  - Attention heads provide insightful visualizations that help decode model behavior, such as resolving anaphora and sentence structures at specific layers (e.g., encoder layer 5), showcasing the depth and precision of linguistic understanding.  \n",
            "\n",
            "---\n",
            "\n",
            "#### **Conclusion**  \n",
            "As a transformative innovation, the Transformer architecture has cemented its position as a cornerstone of AI research and development. Its unprecedented efficiency, interpretability, and adaptability ensure its continued relevance in advancing intelligence systems across diverse domains, shaping the future trajectory of artificial intelligence.\n"
          ]
        }
      ]
    }
  ]
}