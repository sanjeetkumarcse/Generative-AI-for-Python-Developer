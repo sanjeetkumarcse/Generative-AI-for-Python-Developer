{
  "cells": [
    {
      "cell_type": "code",
      "execution_count": 3,
      "metadata": {
        "colab": {
          "base_uri": "https://localhost:8080/"
        },
        "id": "LAAdwPoJXpMS",
        "outputId": "14f51e84-7e23-40af-cb22-588047c6b880"
      },
      "outputs": [
        {
          "name": "stdout",
          "output_type": "stream",
          "text": [
            "Requirement already satisfied: langchain in /usr/local/lib/python3.12/dist-packages (0.3.27)\n",
            "Requirement already satisfied: openai in /usr/local/lib/python3.12/dist-packages (1.109.1)\n",
            "Requirement already satisfied: langchain-core<1.0.0,>=0.3.72 in /usr/local/lib/python3.12/dist-packages (from langchain) (0.3.78)\n",
            "Requirement already satisfied: langchain-text-splitters<1.0.0,>=0.3.9 in /usr/local/lib/python3.12/dist-packages (from langchain) (0.3.11)\n",
            "Requirement already satisfied: langsmith>=0.1.17 in /usr/local/lib/python3.12/dist-packages (from langchain) (0.4.33)\n",
            "Requirement already satisfied: pydantic<3.0.0,>=2.7.4 in /usr/local/lib/python3.12/dist-packages (from langchain) (2.11.10)\n",
            "Requirement already satisfied: SQLAlchemy<3,>=1.4 in /usr/local/lib/python3.12/dist-packages (from langchain) (2.0.43)\n",
            "Requirement already satisfied: requests<3,>=2 in /usr/local/lib/python3.12/dist-packages (from langchain) (2.32.4)\n",
            "Requirement already satisfied: PyYAML>=5.3 in /usr/local/lib/python3.12/dist-packages (from langchain) (6.0.3)\n",
            "Requirement already satisfied: anyio<5,>=3.5.0 in /usr/local/lib/python3.12/dist-packages (from openai) (4.11.0)\n",
            "Requirement already satisfied: distro<2,>=1.7.0 in /usr/local/lib/python3.12/dist-packages (from openai) (1.9.0)\n",
            "Requirement already satisfied: httpx<1,>=0.23.0 in /usr/local/lib/python3.12/dist-packages (from openai) (0.28.1)\n",
            "Requirement already satisfied: jiter<1,>=0.4.0 in /usr/local/lib/python3.12/dist-packages (from openai) (0.11.0)\n",
            "Requirement already satisfied: sniffio in /usr/local/lib/python3.12/dist-packages (from openai) (1.3.1)\n",
            "Requirement already satisfied: tqdm>4 in /usr/local/lib/python3.12/dist-packages (from openai) (4.67.1)\n",
            "Requirement already satisfied: typing-extensions<5,>=4.11 in /usr/local/lib/python3.12/dist-packages (from openai) (4.15.0)\n",
            "Requirement already satisfied: idna>=2.8 in /usr/local/lib/python3.12/dist-packages (from anyio<5,>=3.5.0->openai) (3.10)\n",
            "Requirement already satisfied: certifi in /usr/local/lib/python3.12/dist-packages (from httpx<1,>=0.23.0->openai) (2025.10.5)\n",
            "Requirement already satisfied: httpcore==1.* in /usr/local/lib/python3.12/dist-packages (from httpx<1,>=0.23.0->openai) (1.0.9)\n",
            "Requirement already satisfied: h11>=0.16 in /usr/local/lib/python3.12/dist-packages (from httpcore==1.*->httpx<1,>=0.23.0->openai) (0.16.0)\n",
            "Requirement already satisfied: tenacity!=8.4.0,<10.0.0,>=8.1.0 in /usr/local/lib/python3.12/dist-packages (from langchain-core<1.0.0,>=0.3.72->langchain) (8.5.0)\n",
            "Requirement already satisfied: jsonpatch<2.0.0,>=1.33.0 in /usr/local/lib/python3.12/dist-packages (from langchain-core<1.0.0,>=0.3.72->langchain) (1.33)\n",
            "Requirement already satisfied: packaging<26.0.0,>=23.2.0 in /usr/local/lib/python3.12/dist-packages (from langchain-core<1.0.0,>=0.3.72->langchain) (25.0)\n",
            "Requirement already satisfied: orjson>=3.9.14 in /usr/local/lib/python3.12/dist-packages (from langsmith>=0.1.17->langchain) (3.11.3)\n",
            "Requirement already satisfied: requests-toolbelt>=1.0.0 in /usr/local/lib/python3.12/dist-packages (from langsmith>=0.1.17->langchain) (1.0.0)\n",
            "Requirement already satisfied: zstandard>=0.23.0 in /usr/local/lib/python3.12/dist-packages (from langsmith>=0.1.17->langchain) (0.25.0)\n",
            "Requirement already satisfied: annotated-types>=0.6.0 in /usr/local/lib/python3.12/dist-packages (from pydantic<3.0.0,>=2.7.4->langchain) (0.7.0)\n",
            "Requirement already satisfied: pydantic-core==2.33.2 in /usr/local/lib/python3.12/dist-packages (from pydantic<3.0.0,>=2.7.4->langchain) (2.33.2)\n",
            "Requirement already satisfied: typing-inspection>=0.4.0 in /usr/local/lib/python3.12/dist-packages (from pydantic<3.0.0,>=2.7.4->langchain) (0.4.2)\n",
            "Requirement already satisfied: charset_normalizer<4,>=2 in /usr/local/lib/python3.12/dist-packages (from requests<3,>=2->langchain) (3.4.3)\n",
            "Requirement already satisfied: urllib3<3,>=1.21.1 in /usr/local/lib/python3.12/dist-packages (from requests<3,>=2->langchain) (2.5.0)\n",
            "Requirement already satisfied: greenlet>=1 in /usr/local/lib/python3.12/dist-packages (from SQLAlchemy<3,>=1.4->langchain) (3.2.4)\n",
            "Requirement already satisfied: jsonpointer>=1.9 in /usr/local/lib/python3.12/dist-packages (from jsonpatch<2.0.0,>=1.33.0->langchain-core<1.0.0,>=0.3.72->langchain) (3.0.0)\n"
          ]
        }
      ],
      "source": [
        "!pip install langchain openai"
      ]
    },
    {
      "cell_type": "code",
      "execution_count": null,
      "metadata": {
        "id": "iR6Q9WdbYDHS"
      },
      "outputs": [],
      "source": [
        "# Azure OpenAI\n",
        "AZURE_OPENAI_ENDPOINT = \"\"\n",
        "AZURE_OPENAI_KEY = \"\"\n",
        "DEPLOYMENT_NAME = \"gpt-4o\""
      ]
    },
    {
      "cell_type": "code",
      "execution_count": 5,
      "metadata": {
        "colab": {
          "base_uri": "https://localhost:8080/",
          "height": 1000
        },
        "id": "e9PybBzaYhMp",
        "outputId": "c2dbaa7e-77db-4450-88e0-3dbe48ea456c"
      },
      "outputs": [
        {
          "name": "stdout",
          "output_type": "stream",
          "text": [
            "Collecting langchain_community\n",
            "  Downloading langchain_community-0.3.31-py3-none-any.whl.metadata (3.0 kB)\n",
            "Requirement already satisfied: langchain-core<2.0.0,>=0.3.78 in /usr/local/lib/python3.12/dist-packages (from langchain_community) (0.3.78)\n",
            "Requirement already satisfied: langchain<2.0.0,>=0.3.27 in /usr/local/lib/python3.12/dist-packages (from langchain_community) (0.3.27)\n",
            "Requirement already satisfied: SQLAlchemy<3.0.0,>=1.4.0 in /usr/local/lib/python3.12/dist-packages (from langchain_community) (2.0.43)\n",
            "Collecting requests<3.0.0,>=2.32.5 (from langchain_community)\n",
            "  Downloading requests-2.32.5-py3-none-any.whl.metadata (4.9 kB)\n",
            "Requirement already satisfied: PyYAML<7.0.0,>=5.3.0 in /usr/local/lib/python3.12/dist-packages (from langchain_community) (6.0.3)\n",
            "Requirement already satisfied: aiohttp<4.0.0,>=3.8.3 in /usr/local/lib/python3.12/dist-packages (from langchain_community) (3.13.0)\n",
            "Requirement already satisfied: tenacity!=8.4.0,<10.0.0,>=8.1.0 in /usr/local/lib/python3.12/dist-packages (from langchain_community) (8.5.0)\n",
            "Collecting dataclasses-json<0.7.0,>=0.6.7 (from langchain_community)\n",
            "  Downloading dataclasses_json-0.6.7-py3-none-any.whl.metadata (25 kB)\n",
            "Requirement already satisfied: pydantic-settings<3.0.0,>=2.10.1 in /usr/local/lib/python3.12/dist-packages (from langchain_community) (2.11.0)\n",
            "Requirement already satisfied: langsmith<1.0.0,>=0.1.125 in /usr/local/lib/python3.12/dist-packages (from langchain_community) (0.4.33)\n",
            "Requirement already satisfied: httpx-sse<1.0.0,>=0.4.0 in /usr/local/lib/python3.12/dist-packages (from langchain_community) (0.4.2)\n",
            "Requirement already satisfied: numpy>=1.26.2 in /usr/local/lib/python3.12/dist-packages (from langchain_community) (2.0.2)\n",
            "Requirement already satisfied: aiohappyeyeballs>=2.5.0 in /usr/local/lib/python3.12/dist-packages (from aiohttp<4.0.0,>=3.8.3->langchain_community) (2.6.1)\n",
            "Requirement already satisfied: aiosignal>=1.4.0 in /usr/local/lib/python3.12/dist-packages (from aiohttp<4.0.0,>=3.8.3->langchain_community) (1.4.0)\n",
            "Requirement already satisfied: attrs>=17.3.0 in /usr/local/lib/python3.12/dist-packages (from aiohttp<4.0.0,>=3.8.3->langchain_community) (25.4.0)\n",
            "Requirement already satisfied: frozenlist>=1.1.1 in /usr/local/lib/python3.12/dist-packages (from aiohttp<4.0.0,>=3.8.3->langchain_community) (1.8.0)\n",
            "Requirement already satisfied: multidict<7.0,>=4.5 in /usr/local/lib/python3.12/dist-packages (from aiohttp<4.0.0,>=3.8.3->langchain_community) (6.7.0)\n",
            "Requirement already satisfied: propcache>=0.2.0 in /usr/local/lib/python3.12/dist-packages (from aiohttp<4.0.0,>=3.8.3->langchain_community) (0.3.2)\n",
            "Requirement already satisfied: yarl<2.0,>=1.17.0 in /usr/local/lib/python3.12/dist-packages (from aiohttp<4.0.0,>=3.8.3->langchain_community) (1.22.0)\n",
            "Collecting marshmallow<4.0.0,>=3.18.0 (from dataclasses-json<0.7.0,>=0.6.7->langchain_community)\n",
            "  Downloading marshmallow-3.26.1-py3-none-any.whl.metadata (7.3 kB)\n",
            "Collecting typing-inspect<1,>=0.4.0 (from dataclasses-json<0.7.0,>=0.6.7->langchain_community)\n",
            "  Downloading typing_inspect-0.9.0-py3-none-any.whl.metadata (1.5 kB)\n",
            "Requirement already satisfied: langchain-text-splitters<1.0.0,>=0.3.9 in /usr/local/lib/python3.12/dist-packages (from langchain<2.0.0,>=0.3.27->langchain_community) (0.3.11)\n",
            "Requirement already satisfied: pydantic<3.0.0,>=2.7.4 in /usr/local/lib/python3.12/dist-packages (from langchain<2.0.0,>=0.3.27->langchain_community) (2.11.10)\n",
            "Requirement already satisfied: jsonpatch<2.0.0,>=1.33.0 in /usr/local/lib/python3.12/dist-packages (from langchain-core<2.0.0,>=0.3.78->langchain_community) (1.33)\n",
            "Requirement already satisfied: typing-extensions<5.0.0,>=4.7.0 in /usr/local/lib/python3.12/dist-packages (from langchain-core<2.0.0,>=0.3.78->langchain_community) (4.15.0)\n",
            "Requirement already satisfied: packaging<26.0.0,>=23.2.0 in /usr/local/lib/python3.12/dist-packages (from langchain-core<2.0.0,>=0.3.78->langchain_community) (25.0)\n",
            "Requirement already satisfied: httpx<1,>=0.23.0 in /usr/local/lib/python3.12/dist-packages (from langsmith<1.0.0,>=0.1.125->langchain_community) (0.28.1)\n",
            "Requirement already satisfied: orjson>=3.9.14 in /usr/local/lib/python3.12/dist-packages (from langsmith<1.0.0,>=0.1.125->langchain_community) (3.11.3)\n",
            "Requirement already satisfied: requests-toolbelt>=1.0.0 in /usr/local/lib/python3.12/dist-packages (from langsmith<1.0.0,>=0.1.125->langchain_community) (1.0.0)\n",
            "Requirement already satisfied: zstandard>=0.23.0 in /usr/local/lib/python3.12/dist-packages (from langsmith<1.0.0,>=0.1.125->langchain_community) (0.25.0)\n",
            "Requirement already satisfied: python-dotenv>=0.21.0 in /usr/local/lib/python3.12/dist-packages (from pydantic-settings<3.0.0,>=2.10.1->langchain_community) (1.1.1)\n",
            "Requirement already satisfied: typing-inspection>=0.4.0 in /usr/local/lib/python3.12/dist-packages (from pydantic-settings<3.0.0,>=2.10.1->langchain_community) (0.4.2)\n",
            "Requirement already satisfied: charset_normalizer<4,>=2 in /usr/local/lib/python3.12/dist-packages (from requests<3.0.0,>=2.32.5->langchain_community) (3.4.3)\n",
            "Requirement already satisfied: idna<4,>=2.5 in /usr/local/lib/python3.12/dist-packages (from requests<3.0.0,>=2.32.5->langchain_community) (3.10)\n",
            "Requirement already satisfied: urllib3<3,>=1.21.1 in /usr/local/lib/python3.12/dist-packages (from requests<3.0.0,>=2.32.5->langchain_community) (2.5.0)\n",
            "Requirement already satisfied: certifi>=2017.4.17 in /usr/local/lib/python3.12/dist-packages (from requests<3.0.0,>=2.32.5->langchain_community) (2025.10.5)\n",
            "Requirement already satisfied: greenlet>=1 in /usr/local/lib/python3.12/dist-packages (from SQLAlchemy<3.0.0,>=1.4.0->langchain_community) (3.2.4)\n",
            "Requirement already satisfied: anyio in /usr/local/lib/python3.12/dist-packages (from httpx<1,>=0.23.0->langsmith<1.0.0,>=0.1.125->langchain_community) (4.11.0)\n",
            "Requirement already satisfied: httpcore==1.* in /usr/local/lib/python3.12/dist-packages (from httpx<1,>=0.23.0->langsmith<1.0.0,>=0.1.125->langchain_community) (1.0.9)\n",
            "Requirement already satisfied: h11>=0.16 in /usr/local/lib/python3.12/dist-packages (from httpcore==1.*->httpx<1,>=0.23.0->langsmith<1.0.0,>=0.1.125->langchain_community) (0.16.0)\n",
            "Requirement already satisfied: jsonpointer>=1.9 in /usr/local/lib/python3.12/dist-packages (from jsonpatch<2.0.0,>=1.33.0->langchain-core<2.0.0,>=0.3.78->langchain_community) (3.0.0)\n",
            "Requirement already satisfied: annotated-types>=0.6.0 in /usr/local/lib/python3.12/dist-packages (from pydantic<3.0.0,>=2.7.4->langchain<2.0.0,>=0.3.27->langchain_community) (0.7.0)\n",
            "Requirement already satisfied: pydantic-core==2.33.2 in /usr/local/lib/python3.12/dist-packages (from pydantic<3.0.0,>=2.7.4->langchain<2.0.0,>=0.3.27->langchain_community) (2.33.2)\n",
            "Collecting mypy-extensions>=0.3.0 (from typing-inspect<1,>=0.4.0->dataclasses-json<0.7.0,>=0.6.7->langchain_community)\n",
            "  Downloading mypy_extensions-1.1.0-py3-none-any.whl.metadata (1.1 kB)\n",
            "Requirement already satisfied: sniffio>=1.1 in /usr/local/lib/python3.12/dist-packages (from anyio->httpx<1,>=0.23.0->langsmith<1.0.0,>=0.1.125->langchain_community) (1.3.1)\n",
            "Downloading langchain_community-0.3.31-py3-none-any.whl (2.5 MB)\n",
            "\u001b[2K   \u001b[90m━━━━━━━━━━━━━━━━━━━━━━━━━━━━━━━━━━━━━━━━\u001b[0m \u001b[32m2.5/2.5 MB\u001b[0m \u001b[31m35.4 MB/s\u001b[0m eta \u001b[36m0:00:00\u001b[0m\n",
            "\u001b[?25hDownloading dataclasses_json-0.6.7-py3-none-any.whl (28 kB)\n",
            "Downloading requests-2.32.5-py3-none-any.whl (64 kB)\n",
            "\u001b[2K   \u001b[90m━━━━━━━━━━━━━━━━━━━━━━━━━━━━━━━━━━━━━━━━\u001b[0m \u001b[32m64.7/64.7 kB\u001b[0m \u001b[31m5.5 MB/s\u001b[0m eta \u001b[36m0:00:00\u001b[0m\n",
            "\u001b[?25hDownloading marshmallow-3.26.1-py3-none-any.whl (50 kB)\n",
            "\u001b[2K   \u001b[90m━━━━━━━━━━━━━━━━━━━━━━━━━━━━━━━━━━━━━━━━\u001b[0m \u001b[32m50.9/50.9 kB\u001b[0m \u001b[31m4.3 MB/s\u001b[0m eta \u001b[36m0:00:00\u001b[0m\n",
            "\u001b[?25hDownloading typing_inspect-0.9.0-py3-none-any.whl (8.8 kB)\n",
            "Downloading mypy_extensions-1.1.0-py3-none-any.whl (5.0 kB)\n",
            "Installing collected packages: requests, mypy-extensions, marshmallow, typing-inspect, dataclasses-json, langchain_community\n",
            "  Attempting uninstall: requests\n",
            "    Found existing installation: requests 2.32.4\n",
            "    Uninstalling requests-2.32.4:\n",
            "      Successfully uninstalled requests-2.32.4\n",
            "\u001b[31mERROR: pip's dependency resolver does not currently take into account all the packages that are installed. This behaviour is the source of the following dependency conflicts.\n",
            "google-colab 1.0.0 requires requests==2.32.4, but you have requests 2.32.5 which is incompatible.\u001b[0m\u001b[31m\n",
            "\u001b[0mSuccessfully installed dataclasses-json-0.6.7 langchain_community-0.3.31 marshmallow-3.26.1 mypy-extensions-1.1.0 requests-2.32.5 typing-inspect-0.9.0\n"
          ]
        },
        {
          "data": {
            "application/vnd.colab-display-data+json": {
              "id": "5c41256d2f7243e6b445197a2cf03ee4",
              "pip_warning": {
                "packages": [
                  "requests"
                ]
              }
            }
          },
          "metadata": {},
          "output_type": "display_data"
        }
      ],
      "source": [
        "!pip install langchain_community"
      ]
    },
    {
      "cell_type": "code",
      "execution_count": 2,
      "metadata": {
        "id": "oGEMpFrJYKzs"
      },
      "outputs": [],
      "source": [
        "from langchain.chat_models import AzureChatOpenAI"
      ]
    },
    {
      "cell_type": "code",
      "execution_count": 3,
      "metadata": {
        "colab": {
          "base_uri": "https://localhost:8080/"
        },
        "id": "njocqqt2YeH9",
        "outputId": "ead93e97-d31c-494d-f8c2-39af96487583"
      },
      "outputs": [
        {
          "name": "stderr",
          "output_type": "stream",
          "text": [
            "/tmp/ipython-input-1008584197.py:1: LangChainDeprecationWarning: The class `AzureChatOpenAI` was deprecated in LangChain 0.0.10 and will be removed in 1.0. An updated version of the class exists in the :class:`~langchain-openai package and should be used instead. To use it run `pip install -U :class:`~langchain-openai` and import as `from :class:`~langchain_openai import AzureChatOpenAI``.\n",
            "  llm = AzureChatOpenAI(\n",
            "/usr/local/lib/python3.12/dist-packages/langchain_community/chat_models/azure_openai.py:174: UserWarning: As of openai>=1.0.0, Azure endpoints should be specified via the `azure_endpoint` param not `openai_api_base` (or alias `base_url`). Updating `openai_api_base` from https://ai-new-agent-resource.openai.azure.com/ to https://ai-new-agent-resource.openai.azure.com/openai.\n",
            "  warnings.warn(\n",
            "/usr/local/lib/python3.12/dist-packages/langchain_community/chat_models/azure_openai.py:181: UserWarning: As of openai>=1.0.0, if `deployment_name` (or alias `azure_deployment`) is specified then `openai_api_base` (or alias `base_url`) should not be. Instead use `deployment_name` (or alias `azure_deployment`) and `azure_endpoint`.\n",
            "  warnings.warn(\n",
            "/usr/local/lib/python3.12/dist-packages/langchain_community/chat_models/azure_openai.py:189: UserWarning: As of openai>=1.0.0, if `openai_api_base` (or alias `base_url`) is specified it is expected to be of the form https://example-resource.azure.openai.com/openai/deployments/example-deployment. Updating https://ai-new-agent-resource.openai.azure.com/ to https://ai-new-agent-resource.openai.azure.com/openai.\n",
            "  warnings.warn(\n"
          ]
        }
      ],
      "source": [
        "llm = AzureChatOpenAI(\n",
        "    openai_api_base=AZURE_OPENAI_ENDPOINT,\n",
        "    openai_api_key=AZURE_OPENAI_KEY,\n",
        "    openai_api_version=\"2023-03-15-preview\",\n",
        "    deployment_name=DEPLOYMENT_NAME,\n",
        "    openai_api_type=\"azure\",\n",
        ")"
      ]
    },
    {
      "cell_type": "code",
      "execution_count": 4,
      "metadata": {
        "colab": {
          "base_uri": "https://localhost:8080/"
        },
        "id": "X9WQGcgvZc56",
        "outputId": "02a5297c-c5c1-4c27-a79b-49f463908bd7"
      },
      "outputs": [
        {
          "name": "stdout",
          "output_type": "stream",
          "text": [
            "input_variables=[' user_input'] input_types={} partial_variables={} messages=[HumanMessagePromptTemplate(prompt=PromptTemplate(input_variables=[' user_input'], input_types={}, partial_variables={}, template=' You are a helpful assitant. \\n User: { user_input}\\n Assistant:'), additional_kwargs={})]\n"
          ]
        }
      ],
      "source": [
        "from langchain.prompts import ChatPromptTemplate\n",
        "prompt_template = ChatPromptTemplate.from_template(\" You are a helpful assitant. \\n User: { user_input}\\n Assistant:\")\n",
        "print(prompt_template)"
      ]
    },
    {
      "cell_type": "code",
      "execution_count": 5,
      "metadata": {
        "colab": {
          "base_uri": "https://localhost:8080/"
        },
        "id": "X0QSCmwAahlC",
        "outputId": "f65de739-5a0b-4023-f3e4-a73d5689462c"
      },
      "outputs": [
        {
          "name": "stderr",
          "output_type": "stream",
          "text": [
            "/tmp/ipython-input-960525285.py:2: LangChainDeprecationWarning: The class `LLMChain` was deprecated in LangChain 0.1.17 and will be removed in 1.0. Use :meth:`~RunnableSequence, e.g., `prompt | llm`` instead.\n",
            "  chain = LLMChain(llm=llm, prompt=prompt_template)\n"
          ]
        }
      ],
      "source": [
        "from langchain.chains import LLMChain\n",
        "chain = LLMChain(llm=llm, prompt=prompt_template)"
      ]
    },
    {
      "cell_type": "code",
      "execution_count": 27,
      "metadata": {
        "colab": {
          "base_uri": "https://localhost:8080/"
        },
        "id": "da8jAWaFaz_q",
        "outputId": "68f59638-5fc6-44b2-c2a8-3ac6cf68747c"
      },
      "outputs": [
        {
          "name": "stdout",
          "output_type": "stream",
          "text": [
            "You: Tell me about delhi\n",
            "Assistant:  Certainly! Delhi, officially known as the National Capital Territory of Delhi (NCT), is one of the most vibrant and historically rich cities in India. It serves as the political, cultural, and administrative hub of the country. Here are some key aspects of Delhi:\n",
            "\n",
            "---\n",
            "\n",
            "### **Geography and Location**\n",
            "- **Location:** Delhi is located in northern India and sits on the banks of the Yamuna River. It shares its borders with Haryana and Uttar Pradesh.\n",
            "- **Area:** The NCT covers an area of approximately 1,484 square kilometers.\n",
            "- **Climate:** Delhi has an extreme climate with hot summers, cold winters, and a monsoon season. Summers can reach temperatures above 40°C (104°F), while winters can dip below 5°C (41°F).\n",
            "\n",
            "---\n",
            "\n",
            "### **History**\n",
            "Delhi has a rich history that spans thousands of years. It has been the center of several powerful empires and has seen the rise and fall of many dynasties:\n",
            "- **Ancient Delhi:** Delhi is believed to be the site of Indraprastha, the legendary capital of the Pandavas in the Mahabharata.\n",
            "- **Medieval Era:** The city was ruled by various dynasties, including the Delhi Sultanate and the Mughals, who left behind iconic structures like the Qutub Minar, Red Fort, and Humayun's Tomb.\n",
            "- **British Rule:** Delhi became an important city under British colonial rule. In 1911, the British shifted the capital from Calcutta (Kolkata) to Delhi.\n",
            "- **Modern Delhi:** After India's independence in 1947, Delhi became the capital of the country.\n",
            "\n",
            "---\n",
            "\n",
            "### **Culture**\n",
            "Delhi is a melting pot of cultures and traditions:\n",
            "- **Languages:** Hindi and English are widely spoken, along with Punjabi, Urdu, and other regional languages.\n",
            "- **Festivals:** The city celebrates major Indian festivals like Diwali, Holi, Eid, Christmas, and Navratri with great enthusiasm.\n",
            "- **Cuisine:** Delhi is famous for its diverse food scene, including street food like chaat, golgappa, kebabs, butter chicken, and parathas from Paranthe Wali Gali in Chandni Chowk.\n",
            "\n",
            "---\n",
            "\n",
            "### **Landmarks and Attractions**\n",
            "Delhi is home to numerous historical and modern attractions:\n",
            "1. **Historical Sites:**\n",
            "   - Red Fort: A UNESCO World Heritage Site and a symbol of India's independence.\n",
            "   - Qutub Minar: An iconic minaret built during the Delhi Sultanate era.\n",
            "   - India Gate: A war memorial honoring Indian soldiers.\n",
            "   - Humayun's Tomb: A precursor to the Taj Mahal's architectural style.\n",
            "   - Lotus Temple: A stunning Baháʼí House of Worship.\n",
            "\n",
            "2. **Modern Attractions:**\n",
            "   - Akshardham Temple: A magnificent Hindu temple showcasing Indian culture and spirituality.\n",
            "   - Connaught Place: A bustling commercial hub.\n",
            "   - Dilli Haat: A vibrant marketplace for handicrafts and traditional cuisine.\n",
            "\n",
            "---\n",
            "\n",
            "### **Government and Politics**\n",
            "- Delhi is a union territory with a special status. It has its own legislative assembly and functions under the central government of India.\n",
            "- The city is the seat of the Indian government, housing the Rashtrapati Bhavan (President's residence), Parliament House, and various ministries.\n",
            "\n",
            "---\n",
            "\n",
            "### **Transportation**\n",
            "- **Metro:** The Delhi Metro is a world-class rapid transit system that connects various parts of the city.\n",
            "- **Airports:** Indira Gandhi International Airport serves as a major aviation hub.\n",
            "- **Roadways:** Delhi has an extensive network of roads and highways, with auto-rickshaws, buses, and taxis being common modes of transport.\n",
            "\n",
            "---\n",
            "\n",
            "### **Challenges**\n",
            "Like many major cities, Delhi faces challenges such as:\n",
            "- **Pollution:** Air quality in Delhi can be poor, especially during winter months due to smog.\n",
            "- **Traffic Congestion:** The city experiences heavy traffic due to a growing population and vehicle usage.\n",
            "- **Urbanization:** Rapid urbanization has led to infrastructure strain.\n",
            "\n",
            "---\n",
            "\n",
            "### **Interesting Facts**\n",
            "- Delhi has been destroyed and rebuilt multiple times throughout history.\n",
            "- The Delhi Metro is one of the cleanest and most efficient metro systems in the world.\n",
            "- The city is often referred to as \"Dilwalon Ki Dilli,\" meaning \"Delhi belongs to the kind-hearted.\"\n",
            "\n",
            "---\n",
            "\n",
            "If you’d like to know more about any specific aspect of Delhi, feel free to ask! 😊\n",
            "You: exit\n"
          ]
        }
      ],
      "source": [
        "while True:\n",
        "  user_input = input(\"You: \")\n",
        "  if user_input == \"exit\":\n",
        "    break\n",
        "  response = chain.run(user_input)\n",
        "  print(\"Assistant: \", response)"
      ]
    },
    {
      "cell_type": "code",
      "execution_count": 7,
      "metadata": {
        "colab": {
          "base_uri": "https://localhost:8080/"
        },
        "id": "9aX8K3hVb6XD",
        "outputId": "f625fe97-469e-4521-e0b5-dd2cf26d8019"
      },
      "outputs": [
        {
          "name": "stdout",
          "output_type": "stream",
          "text": [
            "[SystemMessage(content='You are a helpful assistant.', additional_kwargs={}, response_metadata={}), HumanMessage(content='What is the capital of France?', additional_kwargs={}, response_metadata={})]\n",
            "content='The capital of France is **Paris**.' additional_kwargs={} response_metadata={'token_usage': {'completion_tokens': 10, 'prompt_tokens': 24, 'total_tokens': 34, 'completion_tokens_details': {'accepted_prediction_tokens': 0, 'audio_tokens': 0, 'reasoning_tokens': 0, 'rejected_prediction_tokens': 0}, 'prompt_tokens_details': {'audio_tokens': 0, 'cached_tokens': 0}}, 'model_name': 'gpt-4o-2024-11-20', 'system_fingerprint': 'fp_ee1d74bde0', 'finish_reason': 'stop', 'logprobs': None} id='run--cb8d949c-9746-4520-a846-d7bd247793f4-0'\n",
            "The capital of France is **Paris**.\n"
          ]
        }
      ],
      "source": [
        "from langchain.schema import SystemMessage, HumanMessage, AIMessage\n",
        "messages = [\n",
        "    SystemMessage(content=\"You are a helpful assistant.\"),\n",
        "    HumanMessage(content=\"What is the capital of France?\")\n",
        "]\n",
        "\n",
        "print(messages)\n",
        "Output = llm.invoke(messages)\n",
        "print(Output)\n",
        "print(Output.content)"
      ]
    },
    {
      "cell_type": "code",
      "execution_count": 8,
      "metadata": {
        "colab": {
          "base_uri": "https://localhost:8080/"
        },
        "id": "8xT_lHrpjgB1",
        "outputId": "854239aa-ae1e-450e-ce39-2171ea3da47d"
      },
      "outputs": [
        {
          "name": "stdout",
          "output_type": "stream",
          "text": [
            "content=\"Sure! Here's one for you:\\n\\nWhy don’t skeletons fight each other?\\n\\nBecause they don’t have the guts!\" additional_kwargs={} response_metadata={'token_usage': {'completion_tokens': 25, 'prompt_tokens': 11, 'total_tokens': 36, 'completion_tokens_details': {'accepted_prediction_tokens': 0, 'audio_tokens': 0, 'reasoning_tokens': 0, 'rejected_prediction_tokens': 0}, 'prompt_tokens_details': {'audio_tokens': 0, 'cached_tokens': 0}}, 'model_name': 'gpt-4o-2024-11-20', 'system_fingerprint': 'fp_b54fe76834', 'finish_reason': 'stop', 'logprobs': None} id='run--1efb12fc-9f04-4eec-bf05-c1b610ca41f1-0'\n",
            "CPU times: user 5.07 ms, sys: 0 ns, total: 5.07 ms\n",
            "Wall time: 409 ms\n"
          ]
        }
      ],
      "source": [
        "%%time\n",
        "prompt = \"Tell me a joke\"\n",
        "response = llm.invoke(prompt)\n",
        "print(response)"
      ]
    },
    {
      "cell_type": "code",
      "execution_count": 9,
      "metadata": {
        "id": "uYic17EfkQYW"
      },
      "outputs": [],
      "source": [
        "from langchain.globals import set_llm_cache\n",
        "from langchain.cache import InMemoryCache\n",
        "set_llm_cache(InMemoryCache())"
      ]
    },
    {
      "cell_type": "code",
      "execution_count": 10,
      "metadata": {
        "colab": {
          "base_uri": "https://localhost:8080/"
        },
        "id": "7Y121S_WklaK",
        "outputId": "d60f7f73-c7e1-4ce5-84bb-232d2a898249"
      },
      "outputs": [
        {
          "name": "stdout",
          "output_type": "stream",
          "text": [
            "content=\"Sure! Here's one:\\n\\nWhy don't skeletons fight each other?\\n\\nBecause they don't have the guts!\" additional_kwargs={} response_metadata={'token_usage': {'completion_tokens': 21, 'prompt_tokens': 11, 'total_tokens': 32, 'completion_tokens_details': {'accepted_prediction_tokens': 0, 'audio_tokens': 0, 'reasoning_tokens': 0, 'rejected_prediction_tokens': 0}, 'prompt_tokens_details': {'audio_tokens': 0, 'cached_tokens': 0}}, 'model_name': 'gpt-4o-2024-11-20', 'system_fingerprint': 'fp_b54fe76834', 'finish_reason': 'stop', 'logprobs': None} id='run--a67ec375-ff38-4511-977d-b3dee8d148ce-0'\n",
            "CPU times: user 5.3 ms, sys: 38 µs, total: 5.34 ms\n",
            "Wall time: 430 ms\n"
          ]
        }
      ],
      "source": [
        "%%time\n",
        "prompt = \"Tell me a joke\"\n",
        "response = llm.invoke(prompt)\n",
        "print(response)"
      ]
    },
    {
      "cell_type": "code",
      "execution_count": 11,
      "metadata": {
        "colab": {
          "base_uri": "https://localhost:8080/"
        },
        "id": "cuCAjSjHkrbS",
        "outputId": "0096e1e5-aefa-4434-c2c5-55406f51e242"
      },
      "outputs": [
        {
          "name": "stdout",
          "output_type": "stream",
          "text": [
            "content=\"Sure! Here's one:\\n\\nWhy don't skeletons fight each other?\\n\\nBecause they don't have the guts!\" additional_kwargs={} response_metadata={'token_usage': {'completion_tokens': 21, 'prompt_tokens': 11, 'total_tokens': 32, 'completion_tokens_details': {'accepted_prediction_tokens': 0, 'audio_tokens': 0, 'reasoning_tokens': 0, 'rejected_prediction_tokens': 0}, 'prompt_tokens_details': {'audio_tokens': 0, 'cached_tokens': 0}}, 'model_name': 'gpt-4o-2024-11-20', 'system_fingerprint': 'fp_b54fe76834', 'finish_reason': 'stop', 'logprobs': None} id='run--a67ec375-ff38-4511-977d-b3dee8d148ce-0' usage_metadata={'total_cost': 0}\n",
            "CPU times: user 755 µs, sys: 0 ns, total: 755 µs\n",
            "Wall time: 747 µs\n"
          ]
        }
      ],
      "source": [
        "%%time\n",
        "prompt = \"Tell me a joke\"\n",
        "response = llm.invoke(prompt)\n",
        "print(response)"
      ]
    },
    {
      "cell_type": "code",
      "execution_count": 12,
      "metadata": {
        "id": "psm5ck6ik12o"
      },
      "outputs": [],
      "source": [
        "from langchain.cache import SQLiteCache\n",
        "set_llm_cache(SQLiteCache(database_path=\".langchain.db\"))"
      ]
    },
    {
      "cell_type": "code",
      "execution_count": 13,
      "metadata": {
        "colab": {
          "base_uri": "https://localhost:8080/"
        },
        "id": "EtkVCIIZlHr-",
        "outputId": "784dfec1-4523-46b5-b324-1e951aaa9afe"
      },
      "outputs": [
        {
          "name": "stdout",
          "output_type": "stream",
          "text": [
            "content=\"Sure! Here's a light-hearted joke for you:\\n\\nWhy don’t skeletons fight each other?  \\nBecause they don’t have the guts!\" additional_kwargs={} response_metadata={'token_usage': {'completion_tokens': 29, 'prompt_tokens': 11, 'total_tokens': 40, 'completion_tokens_details': {'accepted_prediction_tokens': 0, 'audio_tokens': 0, 'reasoning_tokens': 0, 'rejected_prediction_tokens': 0}, 'prompt_tokens_details': {'audio_tokens': 0, 'cached_tokens': 0}}, 'model_name': 'gpt-4o-2024-11-20', 'system_fingerprint': 'fp_ee1d74bde0', 'finish_reason': 'stop', 'logprobs': None} id='run--91d04b8d-1a30-4e8a-8926-3dcae025780f-0'\n",
            "CPU times: user 22.4 ms, sys: 1.16 ms, total: 23.5 ms\n",
            "Wall time: 591 ms\n"
          ]
        }
      ],
      "source": [
        "%%time\n",
        "prompt = \"Tell me a joke\"\n",
        "response = llm.invoke(prompt)\n",
        "print(response)"
      ]
    },
    {
      "cell_type": "code",
      "execution_count": 14,
      "metadata": {
        "colab": {
          "base_uri": "https://localhost:8080/"
        },
        "id": "pBpkQLKDlLxH",
        "outputId": "b3226787-48fa-40ac-fce2-30e61d8b2a1d"
      },
      "outputs": [
        {
          "name": "stdout",
          "output_type": "stream",
          "text": [
            "content=\"Sure! Here's a light-hearted joke for you:\\n\\nWhy don’t skeletons fight each other?  \\nBecause they don’t have the guts!\" additional_kwargs={} response_metadata={'token_usage': {'completion_tokens': 29, 'prompt_tokens': 11, 'total_tokens': 40, 'completion_tokens_details': {'accepted_prediction_tokens': 0, 'audio_tokens': 0, 'reasoning_tokens': 0, 'rejected_prediction_tokens': 0}, 'prompt_tokens_details': {'audio_tokens': 0, 'cached_tokens': 0}}, 'model_name': 'gpt-4o-2024-11-20', 'system_fingerprint': 'fp_ee1d74bde0', 'finish_reason': 'stop', 'logprobs': None} id='run--91d04b8d-1a30-4e8a-8926-3dcae025780f-0' usage_metadata={'total_cost': 0}\n",
            "CPU times: user 2.97 ms, sys: 0 ns, total: 2.97 ms\n",
            "Wall time: 2.74 ms\n"
          ]
        }
      ],
      "source": [
        "%%time\n",
        "prompt = \"Tell me a joke\"\n",
        "response = llm.invoke(prompt)\n",
        "print(response)"
      ]
    },
    {
      "cell_type": "code",
      "execution_count": 15,
      "metadata": {
        "colab": {
          "base_uri": "https://localhost:8080/"
        },
        "id": "7cDbCtNJlO0H",
        "outputId": "41e25dac-815f-43ec-b4ae-c766d819f99c"
      },
      "outputs": [
        {
          "name": "stdout",
          "output_type": "stream",
          "text": [
            "**Title: \"Howlin' at the Moon\"**\n",
            "\n",
            "*(Verse 1)*  \n",
            "Underneath the silver glow, it pulls me in, I lose control  \n",
            "The night’s alive, the world stands still, chasing shadows over hills  \n",
            "Up above, that mystic sphere, whispering secrets in my ear  \n",
            "A cosmic dance, a timeless tune, my heart is howlin' at the moon  \n",
            "\n",
            "*(Pre-Chorus)*  \n",
            "Oh, it's calling, calling my name  \n",
            "A wild desire I can't contain  \n",
            "Through the darkness, I rise, I swoon  \n",
            "Forever bound to the light of the moon  \n",
            "\n",
            "*(Chorus)*  \n",
            "Howlin' at the moon tonight  \n",
            "Let it take me, let it guide my fight  \n",
            "A rebel’s heart in the lunar light  \n",
            "Howlin' at the moon, feels so right  \n",
            "\n",
            "*(Verse 2)*  \n",
            "Crater scars, its ancient face, a witness to this human race  \n",
            "A tidal pull, a lover’s ache, it stirs the fire, it makes me quake  \n",
            "In its glow, I find my truth, the kind of freedom I can’t lose  \n",
            "A lonely wolf, a midnight croon, I'm alive beneath the moon  \n",
            "\n",
            "*(Pre-Chorus)*  \n",
            "Oh, it's burning, burning my soul  \n",
            "A restless spirit out of control  \n",
            "Through the shadows, the stars in bloom  \n",
            "Forever chasing the glow of the moon  \n",
            "\n",
            "*(Chorus)*  \n",
            "Howlin' at the moon tonight  \n",
            "Let it take me, let it guide my fight  \n",
            "A rebel’s heart in the lunar light  \n",
            "Howlin' at the moon, feels so right  \n",
            "\n",
            "*(Bridge)*  \n",
            "It’s the keeper of dreams, the watcher of skies  \n",
            "A beacon of hope when the sun says goodbye  \n",
            "Through the chaos and storms, it shines ever bright  \n",
            "A force of nature, my muse in the night  \n",
            "\n",
            "*(Chorus)*  \n",
            "Howlin' at the moon tonight  \n",
            "Let it take me, let it guide my fight  \n",
            "A rebel’s heart in the lunar light  \n",
            "Howlin' at the moon, feels so right  \n",
            "\n",
            "*(Outro)*  \n",
            "So here I stand, beneath its glow  \n",
            "A wanderer’s anthem, a tale to show  \n",
            "No turning back, I’m forever in tune  \n",
            "With the magic of howlin' at the moon  \n",
            "CPU times: user 8.91 ms, sys: 885 µs, total: 9.79 ms\n",
            "Wall time: 3.35 s\n"
          ]
        }
      ],
      "source": [
        "%%time\n",
        "prompt = 'write a rock song about moon.'\n",
        "response = llm.invoke(prompt)\n",
        "print(response.content)"
      ]
    },
    {
      "cell_type": "code",
      "execution_count": 16,
      "metadata": {
        "colab": {
          "base_uri": "https://localhost:8080/"
        },
        "id": "Z69iB2I-nLcH",
        "outputId": "bf86650c-dfa4-447b-dffa-31572427ced2"
      },
      "outputs": [
        {
          "name": "stdout",
          "output_type": "stream",
          "text": [
            "**Title: \"Howlin' at the Moon\"**\n",
            "\n",
            "*(Verse 1)*  \n",
            "Underneath the silver glow, it pulls me in, I lose control  \n",
            "The night’s alive, the world stands still, chasing shadows over hills  \n",
            "Up above, that mystic sphere, whispering secrets in my ear  \n",
            "A cosmic dance, a timeless tune, my heart is howlin' at the moon  \n",
            "\n",
            "*(Pre-Chorus)*  \n",
            "Oh, it's calling, calling my name  \n",
            "A wild desire I can't contain  \n",
            "Through the darkness, I rise, I swoon  \n",
            "Forever bound to the light of the moon  \n",
            "\n",
            "*(Chorus)*  \n",
            "Howlin' at the moon tonight  \n",
            "Let it take me, let it guide my fight  \n",
            "A rebel’s heart in the lunar light  \n",
            "Howlin' at the moon, feels so right  \n",
            "\n",
            "*(Verse 2)*  \n",
            "Crater scars, its ancient face, a witness to this human race  \n",
            "A tidal pull, a lover’s ache, it stirs the fire, it makes me quake  \n",
            "In its glow, I find my truth, the kind of freedom I can’t lose  \n",
            "A lonely wolf, a midnight croon, I'm alive beneath the moon  \n",
            "\n",
            "*(Pre-Chorus)*  \n",
            "Oh, it's burning, burning my soul  \n",
            "A restless spirit out of control  \n",
            "Through the shadows, the stars in bloom  \n",
            "Forever chasing the glow of the moon  \n",
            "\n",
            "*(Chorus)*  \n",
            "Howlin' at the moon tonight  \n",
            "Let it take me, let it guide my fight  \n",
            "A rebel’s heart in the lunar light  \n",
            "Howlin' at the moon, feels so right  \n",
            "\n",
            "*(Bridge)*  \n",
            "It’s the keeper of dreams, the watcher of skies  \n",
            "A beacon of hope when the sun says goodbye  \n",
            "Through the chaos and storms, it shines ever bright  \n",
            "A force of nature, my muse in the night  \n",
            "\n",
            "*(Chorus)*  \n",
            "Howlin' at the moon tonight  \n",
            "Let it take me, let it guide my fight  \n",
            "A rebel’s heart in the lunar light  \n",
            "Howlin' at the moon, feels so right  \n",
            "\n",
            "*(Outro)*  \n",
            "So here I stand, beneath its glow  \n",
            "A wanderer’s anthem, a tale to show  \n",
            "No turning back, I’m forever in tune  \n",
            "With the magic of howlin' at the moon  \n",
            "CPU times: user 2.74 ms, sys: 25 µs, total: 2.77 ms\n",
            "Wall time: 2.56 ms\n"
          ]
        }
      ],
      "source": [
        "%%time\n",
        "prompt = 'write a rock song about moon.'\n",
        "response = llm.invoke(prompt)\n",
        "print(response.content)"
      ]
    },
    {
      "cell_type": "code",
      "execution_count": 17,
      "metadata": {
        "colab": {
          "base_uri": "https://localhost:8080/"
        },
        "id": "C-4KKuywnTiW",
        "outputId": "755d2603-da2f-479e-9229-db807522125e"
      },
      "outputs": [
        {
          "name": "stdout",
          "output_type": "stream",
          "text": [
            "**\"Eclipse of Fire\"**  \n",
            "*(A Rock Anthem about the Moon and Sun)*  \n",
            "\n",
            "---\n",
            "\n",
            "**[Verse 1]**  \n",
            "The moon whispers secrets in the dead of night,  \n",
            "Silver shadows dance beneath its pale light.  \n",
            "It’s a quiet rebel, cold and untamed,  \n",
            "A lonely traveler with no one to blame.  \n",
            "\n",
            "The sun roars loud, a burning king of fire,  \n",
            "Rising high, it fuels the world's desire.  \n",
            "Golden rays cut through the darkest skies,  \n",
            "It’s the heart of life, where all hope lies.  \n",
            "\n",
            "---\n",
            "\n",
            "**[Pre-Chorus]**  \n",
            "Two forces collide, pulling on my soul,  \n",
            "Caught in the gravity, losing control.  \n",
            "\n",
            "---\n",
            "\n",
            "**[Chorus]**  \n",
            "Moon and sun, locked in a cosmic fight,  \n",
            "Day turns to darkness, and shadows ignite.  \n",
            "Eclipse of fire, a dance of despair,  \n",
            "We’re caught in the crossfire, gasping for air.  \n",
            "\n",
            "---\n",
            "\n",
            "**[Verse 2]**  \n",
            "The moon’s a poet, spinning songs of the past,  \n",
            "Its light fades slowly, but its beauty lasts.  \n",
            "The sun’s a warrior, blazing trails up high,  \n",
            "It rules the heavens, never asking why.  \n",
            "\n",
            "They meet in silence, an eternal chase,  \n",
            "One hides the other in a fleeting embrace.  \n",
            "The skies tremble as the worlds collide,  \n",
            "A fleeting moment where they cannot hide.  \n",
            "\n",
            "---\n",
            "\n",
            "**[Pre-Chorus]**  \n",
            "Two forces collide, pulling on my soul,  \n",
            "Caught in the gravity, losing control.  \n",
            "\n",
            "---\n",
            "\n",
            "**[Chorus]**  \n",
            "Moon and sun, locked in a cosmic fight,  \n",
            "Day turns to darkness, and shadows ignite.  \n",
            "Eclipse of fire, a dance of despair,  \n",
            "We’re caught in the crossfire, gasping for air.  \n",
            "\n",
            "---\n",
            "\n",
            "**[Bridge]**  \n",
            "Oh, the sun burns bright but it’ll never know,  \n",
            "The quiet moon holds secrets it can’t show.  \n",
            "Opposites drawn but they can’t be one,  \n",
            "The endless war of the moon and sun.  \n",
            "\n",
            "---\n",
            "\n",
            "**[Chorus]**  \n",
            "Moon and sun, locked in a cosmic fight,  \n",
            "Day turns to darkness, and shadows ignite.  \n",
            "Eclipse of fire, a dance of despair,  \n",
            "We’re caught in the crossfire, gasping for air.  \n",
            "\n",
            "---\n",
            "\n",
            "**[Outro]**  \n",
            "The moon will rise, the sun will set,  \n",
            "They’ll chase each other ‘til the end, I bet.  \n",
            "Eternal rivals under heaven's dome,  \n",
            "Two restless spirits that’ll never find home.  \n",
            "CPU times: user 16.6 ms, sys: 1.02 ms, total: 17.6 ms\n",
            "Wall time: 4.4 s\n"
          ]
        }
      ],
      "source": [
        "%%time\n",
        "prompt = 'write a rock song about moon and sun.'\n",
        "response = llm.invoke(prompt)\n",
        "print(response.content)"
      ]
    },
    {
      "cell_type": "code",
      "execution_count": 18,
      "metadata": {
        "colab": {
          "base_uri": "https://localhost:8080/"
        },
        "id": "IqwNWl6And_8",
        "outputId": "a605f281-2caa-4844-c139-64d2ef78bc69"
      },
      "outputs": [
        {
          "name": "stdout",
          "output_type": "stream",
          "text": [
            "**Title: \"Chasing the Moon, Dancing with the Sun\"**\n",
            "\n",
            "*(Verse 1)*  \n",
            "I’ve been running through the shadows, trying to find my light,  \n",
            "Caught between the darkness and the fire burning bright.  \n",
            "The moon whispers secrets in the stillness of the night,  \n",
            "The sun pulls me closer, sets my soul alight.  \n",
            "\n",
            "*(Pre-Chorus)*  \n",
            "Oh, they’re pulling me apart, but I can’t turn away,  \n",
            "Chasing the moon, while the sun begs me to stay.  \n",
            "\n",
            "*(Chorus)*  \n",
            "Moon and sun, they collide in my mind,  \n",
            "One’s a quiet dream, the other’s wild and untamed.  \n",
            "I’m chasing the moon, dancing with the sun,  \n",
            "Caught in their orbit, I’ll never outrun.  \n",
            "\n",
            "*(Verse 2)*  \n",
            "Silver shadows guide me where the moonlight breaks,  \n",
            "But the golden rays of morning leave me wide awake.  \n",
            "They’re opposites, they’re rivals, yet they share the same sky,  \n",
            "And I’m stuck somewhere in the middle, asking myself why.  \n",
            "\n",
            "*(Pre-Chorus)*  \n",
            "Oh, they tear me in two, but I’ll never let go,  \n",
            "Chasing the moon, as the sun steals the show.  \n",
            "\n",
            "*(Chorus)*  \n",
            "Moon and sun, they collide in my mind,  \n",
            "One’s a quiet dream, the other’s wild and untamed.  \n",
            "I’m chasing the moon, dancing with the sun,  \n",
            "Caught in their orbit, I’ll never outrun.  \n",
            "\n",
            "*(Bridge)*  \n",
            "The moon says, “Follow me, I’ll show you the stars,”  \n",
            "The sun says, “Stay with me, I’ll heal your scars.”  \n",
            "I’m torn between the night and the burning day,  \n",
            "But maybe I need both to find my way.  \n",
            "\n",
            "*(Solo)*  \n",
            "(Guitar wails like the clash of light and dark, building tension and release.)  \n",
            "\n",
            "*(Final Chorus)*  \n",
            "Moon and sun, they collide in my soul,  \n",
            "Tugging at my heart, making me whole.  \n",
            "I’m chasing the moon, dancing with the sun,  \n",
            "Living in their rhythm, until my time is done.  \n",
            "\n",
            "*(Outro)*  \n",
            "So I’ll chase the moon, and I’ll dance with the sun,  \n",
            "Caught in their battle, but I know I’ve won.  CPU times: user 631 ms, sys: 70.2 ms, total: 701 ms\n",
            "Wall time: 3.98 s\n"
          ]
        }
      ],
      "source": [
        "%%time\n",
        "prompt = 'write a rock new song about moon and sun.'\n",
        "for chunk in llm.stream(prompt):\n",
        "  print(chunk.content, end=\"\", flush=True)"
      ]
    },
    {
      "cell_type": "code",
      "execution_count": 25,
      "metadata": {
        "colab": {
          "base_uri": "https://localhost:8080/"
        },
        "id": "eQlG-dMoGqo8",
        "outputId": "cbff6244-4f47-4f17-fb69-9ea8b36d532a"
      },
      "outputs": [
        {
          "name": "stdout",
          "output_type": "stream",
          "text": [
            "Human:  You are a experienced machine learinig engineer.\n",
            "choose which type of problem is this you have to predict how much icecrea will sale in this festival sale is based on data and desire result in hindi.\n"
          ]
        }
      ],
      "source": [
        "template = ''' You are a experienced machine learinig engineer.\n",
        "choose which type of problem is this {problem} is based on data and desire result in {language}.'''\n",
        "\n",
        "prompt_template = prompt_template.from_template(template)\n",
        "\n",
        "prompt = prompt_template.format(problem=\"you have to predict how much icecrea will sale in this festival sale\", language=\"hindi\")\n",
        "print(prompt)\n"
      ]
    },
    {
      "cell_type": "code",
      "execution_count": 26,
      "metadata": {
        "colab": {
          "base_uri": "https://localhost:8080/"
        },
        "id": "nycp6bUAHebL",
        "outputId": "3f140736-cb35-4edf-f887-705b24fb4746"
      },
      "outputs": [
        {
          "name": "stdout",
          "output_type": "stream",
          "text": [
            "This type of problem falls under **Regression** in machine learning. Regression problems are used when the goal is to predict a continuous numerical value, such as sales, prices, or temperatures, based on input data.\n",
            "\n",
            "Here’s how it applies to your situation:\n",
            "\n",
            "- **Problem Type:** Predicting how much ice cream will sell during a festival.\n",
            "- **Input Data:** Historical data, such as weather conditions, previous festival sales, date, time, location, etc.\n",
            "- **Output:** A continuous numerical value (amount of ice cream sales).\n",
            "- **Desired Result in Hindi:** अनुमान लगाना कि इस त्यौहार में कितनी आइसक्रीम बिकेगी।\n",
            "\n",
            "### Suitable Algorithms:\n",
            "You can use regression algorithms like:\n",
            "- Linear Regression\n",
            "- Decision Tree Regression\n",
            "- Random Forest Regression\n",
            "- Gradient Boosting (e.g., XGBoost, LightGBM)\n",
            "- Neural Networks (if the data is complex)\n",
            "\n",
            "Let me know if you need guidance on implementing this! 😊\n"
          ]
        }
      ],
      "source": [
        "output = llm.invoke(prompt)\n",
        "print(output.content)"
      ]
    },
    {
      "cell_type": "code",
      "execution_count": 30,
      "metadata": {
        "colab": {
          "base_uri": "https://localhost:8080/"
        },
        "id": "4WvlD6JtJxwr",
        "outputId": "7d997705-f9d2-4f53-99bc-eb78ac93093e"
      },
      "outputs": [
        {
          "name": "stdout",
          "output_type": "stream",
          "text": [
            "[SystemMessage(content='You responsed only in JSON Format.', additional_kwargs={}, response_metadata={}), HumanMessage(content='Top 5 countries in world by population.', additional_kwargs={}, response_metadata={})]\n"
          ]
        }
      ],
      "source": [
        "from langchain.prompts import HumanMessagePromptTemplate , ChatMessagePromptTemplate\n",
        "from langchain_core.messages import SystemMessage\n",
        "\n",
        "\n",
        "chat_template = ChatPromptTemplate.from_messages(\n",
        "   [\n",
        "       SystemMessage(content=\"You responsed only in JSON Format.\"),\n",
        "       HumanMessagePromptTemplate.from_template(\"{user_input}\")\n",
        "   ]\n",
        ")\n",
        "\n",
        "chat_prompt = chat_template.format_prompt(user_input=\"Top 5 countries in world by population.\").to_messages()\n",
        "print(chat_prompt)\n",
        "\n"
      ]
    },
    {
      "cell_type": "code",
      "execution_count": 31,
      "metadata": {
        "colab": {
          "base_uri": "https://localhost:8080/"
        },
        "id": "w7r7VR1XLcae",
        "outputId": "b96c4abe-d1b5-45e8-a114-972091dbb8ec"
      },
      "outputs": [
        {
          "name": "stdout",
          "output_type": "stream",
          "text": [
            "```json\n",
            "{\n",
            "  \"top_5_countries_by_population\": [\n",
            "    {\n",
            "      \"rank\": 1,\n",
            "      \"country\": \"China\",\n",
            "      \"population\": \"1,425,000,000\"\n",
            "    },\n",
            "    {\n",
            "      \"rank\": 2,\n",
            "      \"country\": \"India\",\n",
            "      \"population\": \"1,421,000,000\"\n",
            "    },\n",
            "    {\n",
            "      \"rank\": 3,\n",
            "      \"country\": \"United States\",\n",
            "      \"population\": \"336,000,000\"\n",
            "    },\n",
            "    {\n",
            "      \"rank\": 4,\n",
            "      \"country\": \"Indonesia\",\n",
            "      \"population\": \"277,000,000\"\n",
            "    },\n",
            "    {\n",
            "      \"rank\": 5,\n",
            "      \"country\": \"Pakistan\",\n",
            "      \"population\": \"240,000,000\"\n",
            "    }\n",
            "  ]\n",
            "}\n",
            "```\n"
          ]
        }
      ],
      "source": [
        "output = llm.invoke(chat_prompt)\n",
        "print(output.content)"
      ]
    },
    {
      "cell_type": "code",
      "execution_count": 33,
      "metadata": {
        "colab": {
          "base_uri": "https://localhost:8080/"
        },
        "id": "Z0iQ4v8MM852",
        "outputId": "a12290af-1da5-483a-e3e2-cfc43459683e"
      },
      "outputs": [
        {
          "name": "stdout",
          "output_type": "stream",
          "text": [
            "\n",
            "\n",
            "\u001b[1m> Entering new LLMChain chain...\u001b[0m\n",
            "Prompt after formatting:\n",
            "\u001b[32;1m\u001b[1;3mHuman:  You are a experienced machine learinig engineer.\n",
            "choose which type of problem is this you have to predict how much icecrea will sale in this festival sale is based on data and desire result in hindi.\u001b[0m\n",
            "\n",
            "\u001b[1m> Finished chain.\u001b[0m\n",
            "{'problem': 'you have to predict how much icecrea will sale in this festival sale', 'language': 'hindi', 'text': 'यह समस्या एक **Regression Problem** है। \\n\\nक्योंकि यहाँ आपको ice cream की बिक्री (sale) की मात्रा को एक संख्या या मूल्य के रूप में भविष्यवाणी करनी है। Regression का उपयोग तब किया जाता है जब हमें किसी continuous value (जैसे बिक्री की मात्रा, तापमान, कीमत आदि) का अनुमान लगाना हो। \\n\\nडेटा और त्योहारी बिक्री के पैटर्न के आधार पर आप इस समस्या को हल करने के लिए regression models जैसे Linear Regression, Decision Trees, Random Forest, या Gradient Boosting Algorithms (जैसे XGBoost, LightGBM) का उपयोग कर सकते हैं। \\n\\nअगर डेटा में समय के साथ बिक्री का पैटर्न हो तो आप Time Series Analysis भी कर सकते हैं।'}\n"
          ]
        }
      ],
      "source": [
        "from re import VERBOSE\n",
        "from langchain.chains import LLMChain\n",
        "\n",
        "template = ''' You are a experienced machine learinig engineer.\n",
        "choose which type of problem is this {problem} is based on data and desire result in {language}.'''\n",
        "\n",
        "prompt_template = prompt_template.from_template(template)\n",
        "\n",
        "chain = LLMChain(llm=llm, prompt=prompt_template, verbose=True)\n",
        "\n",
        "output = chain.invoke({\"problem\":\"you have to predict how much icecrea will sale in this festival sale\", \"language\":\"hindi\"})\n",
        "print(output)\n"
      ]
    },
    {
      "cell_type": "code",
      "execution_count": 34,
      "metadata": {
        "colab": {
          "base_uri": "https://localhost:8080/"
        },
        "id": "ePgqxpy7NbUl",
        "outputId": "f0354cea-9863-455f-ed05-ac39701fa79c"
      },
      "outputs": [
        {
          "name": "stdout",
          "output_type": "stream",
          "text": [
            "यह समस्या एक **Regression Problem** है। \n",
            "\n",
            "क्योंकि यहाँ आपको ice cream की बिक्री (sale) की मात्रा को एक संख्या या मूल्य के रूप में भविष्यवाणी करनी है। Regression का उपयोग तब किया जाता है जब हमें किसी continuous value (जैसे बिक्री की मात्रा, तापमान, कीमत आदि) का अनुमान लगाना हो। \n",
            "\n",
            "डेटा और त्योहारी बिक्री के पैटर्न के आधार पर आप इस समस्या को हल करने के लिए regression models जैसे Linear Regression, Decision Trees, Random Forest, या Gradient Boosting Algorithms (जैसे XGBoost, LightGBM) का उपयोग कर सकते हैं। \n",
            "\n",
            "अगर डेटा में समय के साथ बिक्री का पैटर्न हो तो आप Time Series Analysis भी कर सकते हैं।\n"
          ]
        }
      ],
      "source": [
        "from langchain_core.output_parsers import StrOutputParser\n",
        "\n",
        "chain = prompt_template | llm | StrOutputParser()\n",
        "\n",
        "output = chain.invoke({\"problem\":\"you have to predict how much icecrea will sale in this festival sale\", \"language\":\"hindi\"})\n",
        "print(output)"
      ]
    },
    {
      "cell_type": "code",
      "execution_count": 37,
      "metadata": {
        "colab": {
          "base_uri": "https://localhost:8080/"
        },
        "id": "miA_1i7LPR-T",
        "outputId": "2de892e9-a5d0-4698-e621-a37133c47d83"
      },
      "outputs": [
        {
          "name": "stderr",
          "output_type": "stream",
          "text": [
            "/usr/local/lib/python3.12/dist-packages/langchain_community/chat_models/azure_openai.py:174: UserWarning: As of openai>=1.0.0, Azure endpoints should be specified via the `azure_endpoint` param not `openai_api_base` (or alias `base_url`). Updating `openai_api_base` from https://ai-new-agent-resource.openai.azure.com/ to https://ai-new-agent-resource.openai.azure.com/openai.\n",
            "  warnings.warn(\n",
            "/usr/local/lib/python3.12/dist-packages/langchain_community/chat_models/azure_openai.py:181: UserWarning: As of openai>=1.0.0, if `deployment_name` (or alias `azure_deployment`) is specified then `openai_api_base` (or alias `base_url`) should not be. Instead use `deployment_name` (or alias `azure_deployment`) and `azure_endpoint`.\n",
            "  warnings.warn(\n",
            "/usr/local/lib/python3.12/dist-packages/langchain_community/chat_models/azure_openai.py:189: UserWarning: As of openai>=1.0.0, if `openai_api_base` (or alias `base_url`) is specified it is expected to be of the form https://example-resource.azure.openai.com/openai/deployments/example-deployment. Updating https://ai-new-agent-resource.openai.azure.com/ to https://ai-new-agent-resource.openai.azure.com/openai.\n",
            "  warnings.warn(\n"
          ]
        },
        {
          "name": "stdout",
          "output_type": "stream",
          "text": [
            "\n",
            "\n",
            "\u001b[1m> Entering new SimpleSequentialChain chain...\u001b[0m\n",
            "\u001b[36;1m\u001b[1;3mCertainly! Below is a Python implementation of a simple Linear Regression model using NumPy. We'll write a function that calculates the coefficients \\( m \\) (slope) and \\( b \\) (intercept) for fitting a straight line \\( y = mx + b \\) to a given dataset of \\( x \\) and \\( y \\).\n",
            "\n",
            "### Linear Regression Function\n",
            "```python\n",
            "import numpy as np\n",
            "\n",
            "def linear_regression(x, y):\n",
            "    \"\"\"\n",
            "    Perform Linear Regression to find the slope (m) and intercept (b) of the line y = mx + b.\n",
            "\n",
            "    Parameters:\n",
            "    x (array-like): Independent variable (input features).\n",
            "    y (array-like): Dependent variable (target values).\n",
            "\n",
            "    Returns:\n",
            "    tuple: (m, b) where m is the slope and b is the intercept.\n",
            "    \"\"\"\n",
            "    # Ensure x and y are numpy arrays\n",
            "    x = np.array(x)\n",
            "    y = np.array(y)\n",
            "\n",
            "    # Calculate the mean of x and y\n",
            "    x_mean = np.mean(x)\n",
            "    y_mean = np.mean(y)\n",
            "\n",
            "    # Calculate the slope (m)\n",
            "    numerator = np.sum((x - x_mean) * (y - y_mean))  # Covariance between x and y\n",
            "    denominator = np.sum((x - x_mean) ** 2)         # Variance of x\n",
            "    m = numerator / denominator\n",
            "\n",
            "    # Calculate the intercept (b)\n",
            "    b = y_mean - m * x_mean\n",
            "\n",
            "    return m, b\n",
            "\n",
            "# Example usage\n",
            "if __name__ == \"__main__\":\n",
            "    # Example data points\n",
            "    x = [1, 2, 3, 4, 5]\n",
            "    y = [2, 4, 5, 4, 5]\n",
            "\n",
            "    # Perform linear regression\n",
            "    slope, intercept = linear_regression(x, y)\n",
            "    print(f\"Slope (m): {slope}\")\n",
            "    print(f\"Intercept (b): {intercept}\")\n",
            "```\n",
            "\n",
            "### Explanation:\n",
            "1. **Inputs**:\n",
            "    - `x`: Independent variable (feature).\n",
            "    - `y`: Dependent variable (target).\n",
            "\n",
            "2. **Steps**:\n",
            "    - Compute the mean values of `x` and `y`.\n",
            "    - Calculate the slope \\( m \\) using the formula:\n",
            "      \\[\n",
            "      m = \\frac{\\sum{(x_i - \\bar{x})(y_i - \\bar{y})}}{\\sum{(x_i - \\bar{x})^2}}\n",
            "      \\]\n",
            "    - Calculate the intercept \\( b \\) using the formula:\n",
            "      \\[\n",
            "      b = \\bar{y} - m \\cdot \\bar{x}\n",
            "      \\]\n",
            "\n",
            "3. **Outputs**:\n",
            "    - The slope (\\( m \\)) and intercept (\\( b \\)) of the best-fit line for the given data.\n",
            "\n",
            "You can use this function to fit a linear model to your data and make predictions for new values of \\( x \\) using \\( y = mx + b \\). Let me know if you need help extending this to handle more complex scenarios!\u001b[0m\n",
            "\u001b[33;1m\u001b[1;3mCertainly! Below is a Python implementation of a simple Linear Regression model using NumPy. This function takes in the independent variable \\( x \\) and dependent variable \\( y \\) as inputs, calculates their relationship using the line equation \\( y = mx + b \\), and returns the slope \\( m \\) and intercept \\( b \\).\n",
            "\n",
            "### Linear Regression Function\n",
            "```python\n",
            "import numpy as np\n",
            "\n",
            "def linear_regression(x, y):\n",
            "    \"\"\"\n",
            "    Perform Linear Regression to calculate the slope (m) and intercept (b) of the line y = mx + b.\n",
            "\n",
            "    Parameters:\n",
            "    x (array-like): Independent variable (input data).\n",
            "    y (array-like): Dependent variable (output data).\n",
            "\n",
            "    Returns:\n",
            "    tuple: Coefficients (m, b) where m is the slope and b is the intercept.\n",
            "    \"\"\"\n",
            "    # Convert inputs to numpy arrays for easier computation\n",
            "    x = np.array(x)\n",
            "    y = np.array(y)\n",
            "\n",
            "    # Calculate the mean of x and y\n",
            "    x_mean = np.mean(x)\n",
            "    y_mean = np.mean(y)\n",
            "\n",
            "    # Calculate the numerator and denominator for the slope (m)\n",
            "    numerator = np.sum((x - x_mean) * (y - y_mean))  # Covariance between x and y\n",
            "    denominator = np.sum((x - x_mean) ** 2)         # Variance of x\n",
            "    m = numerator / denominator  # Slope\n",
            "\n",
            "    # Calculate the intercept (b)\n",
            "    b = y_mean - (m * x_mean)\n",
            "\n",
            "    return m, b\n",
            "\n",
            "\n",
            "# Example usage\n",
            "if __name__ == \"__main__\":\n",
            "    # Sample dataset\n",
            "    x = [1, 2, 3, 4, 5]\n",
            "    y = [2, 4, 5, 4, 5]\n",
            "\n",
            "    # Perform linear regression\n",
            "    slope, intercept = linear_regression(x, y)\n",
            "    print(f\"Slope (m): {slope:.2f}\")\n",
            "    print(f\"Intercept (b): {intercept:.2f}\")\n",
            "```\n",
            "\n",
            "### Explanation of the Code:\n",
            "1. **Inputs**:\n",
            "   - `x`: A list or array of independent variable values.\n",
            "   - `y`: A list or array of dependent variable values.\n",
            "\n",
            "2. **Steps**:\n",
            "   - **Mean Calculation**: Compute the mean of \\( x \\) and \\( y \\), denoted as \\( \\bar{x} \\) and \\( \\bar{y} \\).\n",
            "   - **Slope Calculation**: The slope \\( m \\) is calculated using the formula:\n",
            "     \\[\n",
            "     m = \\frac{\\sum{(x_i - \\bar{x})(y_i - \\bar{y})}}{\\sum{(x_i - \\bar{x})^2}}\n",
            "     \\]\n",
            "     This is essentially the covariance divided by the variance of \\( x \\).\n",
            "   - **Intercept Calculation**: The intercept \\( b \\) is calculated as:\n",
            "     \\[\n",
            "     b = \\bar{y} - m \\cdot \\bar{x}\n",
            "     \\]\n",
            "\n",
            "3. **Output**:\n",
            "   - Returns the slope \\( m \\) and intercept \\( b \\) of the linear model.\n",
            "\n",
            "### Example Output:\n",
            "For the given example input:\n",
            "```python\n",
            "x = [1, 2, 3, 4, 5]\n",
            "y = [2, 4, 5, 4, 5]\n",
            "```\n",
            "\n",
            "The function produces:\n",
            "```\n",
            "Slope (m): 0.60\n",
            "Intercept (b): 2.80\n",
            "```\n",
            "\n",
            "This means the best-fit line through the input data points is given by the equation:\n",
            "\\[\n",
            "y = 0.60x + 2.80\n",
            "\\]\n",
            "\n",
            "### How to Extend the Code:\n",
            "1. **Prediction**: Create another function that takes in a new \\( x \\) value and uses \\( m \\) and \\( b \\) to predict \\( y \\) using \\( y = mx + b \\).\n",
            "2. **Evaluation**:\n",
            "   - Compute evaluation metrics like Mean Absolute Error (MAE) or Mean Squared Error (MSE).\n",
            "3. **Multiple Linear Regression**: Extend the function to handle multiple independent variables by using matrix operations.\n",
            "\n",
            "Let me know if you would like to explore these extensions or automate tasks further!\u001b[0m\n",
            "\n",
            "\u001b[1m> Finished chain.\u001b[0m\n",
            "{'input': 'Linear Regression', 'output': 'Certainly! Below is a Python implementation of a simple Linear Regression model using NumPy. This function takes in the independent variable \\\\( x \\\\) and dependent variable \\\\( y \\\\) as inputs, calculates their relationship using the line equation \\\\( y = mx + b \\\\), and returns the slope \\\\( m \\\\) and intercept \\\\( b \\\\).\\n\\n### Linear Regression Function\\n```python\\nimport numpy as np\\n\\ndef linear_regression(x, y):\\n    \"\"\"\\n    Perform Linear Regression to calculate the slope (m) and intercept (b) of the line y = mx + b.\\n\\n    Parameters:\\n    x (array-like): Independent variable (input data).\\n    y (array-like): Dependent variable (output data).\\n\\n    Returns:\\n    tuple: Coefficients (m, b) where m is the slope and b is the intercept.\\n    \"\"\"\\n    # Convert inputs to numpy arrays for easier computation\\n    x = np.array(x)\\n    y = np.array(y)\\n\\n    # Calculate the mean of x and y\\n    x_mean = np.mean(x)\\n    y_mean = np.mean(y)\\n\\n    # Calculate the numerator and denominator for the slope (m)\\n    numerator = np.sum((x - x_mean) * (y - y_mean))  # Covariance between x and y\\n    denominator = np.sum((x - x_mean) ** 2)         # Variance of x\\n    m = numerator / denominator  # Slope\\n\\n    # Calculate the intercept (b)\\n    b = y_mean - (m * x_mean)\\n\\n    return m, b\\n\\n\\n# Example usage\\nif __name__ == \"__main__\":\\n    # Sample dataset\\n    x = [1, 2, 3, 4, 5]\\n    y = [2, 4, 5, 4, 5]\\n\\n    # Perform linear regression\\n    slope, intercept = linear_regression(x, y)\\n    print(f\"Slope (m): {slope:.2f}\")\\n    print(f\"Intercept (b): {intercept:.2f}\")\\n```\\n\\n### Explanation of the Code:\\n1. **Inputs**:\\n   - `x`: A list or array of independent variable values.\\n   - `y`: A list or array of dependent variable values.\\n\\n2. **Steps**:\\n   - **Mean Calculation**: Compute the mean of \\\\( x \\\\) and \\\\( y \\\\), denoted as \\\\( \\\\bar{x} \\\\) and \\\\( \\\\bar{y} \\\\).\\n   - **Slope Calculation**: The slope \\\\( m \\\\) is calculated using the formula:\\n     \\\\[\\n     m = \\\\frac{\\\\sum{(x_i - \\\\bar{x})(y_i - \\\\bar{y})}}{\\\\sum{(x_i - \\\\bar{x})^2}}\\n     \\\\]\\n     This is essentially the covariance divided by the variance of \\\\( x \\\\).\\n   - **Intercept Calculation**: The intercept \\\\( b \\\\) is calculated as:\\n     \\\\[\\n     b = \\\\bar{y} - m \\\\cdot \\\\bar{x}\\n     \\\\]\\n\\n3. **Output**:\\n   - Returns the slope \\\\( m \\\\) and intercept \\\\( b \\\\) of the linear model.\\n\\n### Example Output:\\nFor the given example input:\\n```python\\nx = [1, 2, 3, 4, 5]\\ny = [2, 4, 5, 4, 5]\\n```\\n\\nThe function produces:\\n```\\nSlope (m): 0.60\\nIntercept (b): 2.80\\n```\\n\\nThis means the best-fit line through the input data points is given by the equation:\\n\\\\[\\ny = 0.60x + 2.80\\n\\\\]\\n\\n### How to Extend the Code:\\n1. **Prediction**: Create another function that takes in a new \\\\( x \\\\) value and uses \\\\( m \\\\) and \\\\( b \\\\) to predict \\\\( y \\\\) using \\\\( y = mx + b \\\\).\\n2. **Evaluation**:\\n   - Compute evaluation metrics like Mean Absolute Error (MAE) or Mean Squared Error (MSE).\\n3. **Multiple Linear Regression**: Extend the function to handle multiple independent variables by using matrix operations.\\n\\nLet me know if you would like to explore these extensions or automate tasks further!'}\n"
          ]
        }
      ],
      "source": [
        "from langchain.chains import LLMChain , SimpleSequentialChain\n",
        "\n",
        "prompt_template_1 = prompt_template.from_template(\n",
        "    template = 'You are an expereined data scientist and Python Programer. Write a function that implement the concpet of {concept}.'\n",
        "    )\n",
        "\n",
        "chain_1 = LLMChain(llm=llm, prompt=prompt_template_1)\n",
        "\n",
        "llm_2 = AzureChatOpenAI(\n",
        "    openai_api_base=AZURE_OPENAI_ENDPOINT,\n",
        "    openai_api_key=AZURE_OPENAI_KEY,\n",
        "    openai_api_version=\"2023-03-15-preview\",\n",
        "    deployment_name=DEPLOYMENT_NAME,\n",
        "    openai_api_type=\"azure\",\n",
        "    temperature=0.9\n",
        ")\n",
        "\n",
        "prompt_template_2 = prompt_template.from_template(\n",
        "    template = 'Write a python function that implement the concpet of {concept}.'\n",
        "    )\n",
        "\n",
        "chain_2 = LLMChain(llm=llm_2, prompt=prompt_template_2)\n",
        "\n",
        "overall = SimpleSequentialChain(chains=[chain_1, chain_2], verbose=True)\n",
        "\n",
        "output = overall.invoke(\"Linear Regression\")\n",
        "print(output)\n",
        "\n"
      ]
    },
    {
      "cell_type": "code",
      "execution_count": 38,
      "metadata": {
        "colab": {
          "base_uri": "https://localhost:8080/"
        },
        "id": "e4czfWywSvuA",
        "outputId": "bc38838b-8b05-43d5-e377-8feb9facf4b7"
      },
      "outputs": [
        {
          "name": "stderr",
          "output_type": "stream",
          "text": [
            "/usr/local/lib/python3.12/dist-packages/langchain_community/chat_models/azure_openai.py:174: UserWarning: As of openai>=1.0.0, Azure endpoints should be specified via the `azure_endpoint` param not `openai_api_base` (or alias `base_url`). Updating `openai_api_base` from https://ai-new-agent-resource.openai.azure.com/ to https://ai-new-agent-resource.openai.azure.com/openai.\n",
            "  warnings.warn(\n",
            "/usr/local/lib/python3.12/dist-packages/langchain_community/chat_models/azure_openai.py:181: UserWarning: As of openai>=1.0.0, if `deployment_name` (or alias `azure_deployment`) is specified then `openai_api_base` (or alias `base_url`) should not be. Instead use `deployment_name` (or alias `azure_deployment`) and `azure_endpoint`.\n",
            "  warnings.warn(\n",
            "/usr/local/lib/python3.12/dist-packages/langchain_community/chat_models/azure_openai.py:189: UserWarning: As of openai>=1.0.0, if `openai_api_base` (or alias `base_url`) is specified it is expected to be of the form https://example-resource.azure.openai.com/openai/deployments/example-deployment. Updating https://ai-new-agent-resource.openai.azure.com/ to https://ai-new-agent-resource.openai.azure.com/openai.\n",
            "  warnings.warn(\n"
          ]
        },
        {
          "name": "stdout",
          "output_type": "stream",
          "text": [
            "You: tell me about patna\n",
            "Assistant:  Patna is the capital city of Bihar, a state in eastern India, and is one of the oldest continuously inhabited cities in the world. It has a rich history, significant cultural heritage, and serves as a major educational, political, and economic center.\n",
            "\n",
            "### Historical Significance:\n",
            "- **Ancient Patliputra:** Patna was historically known as **Patliputra**, which was the capital of several powerful empires in ancient India, including the Maurya, Gupta, and Shunga dynasties. It played a crucial role in Indian history as a center of politics, administration, education, and culture.\n",
            "- **Buddhism and Jainism:** The region holds great importance in the history of Buddhism and Jainism, as both religions flourished in and around Patna. It is close to significant religious sites like Bodh Gaya, Rajgir, and Vaishali.\n",
            "- **Historical Events:** Greek historians like Megasthenes described the grandeur of ancient Patliputra during the Mauryan Empire.\n",
            "\n",
            "### Modern Patna:\n",
            "Patna today is a bustling city on the southern banks of the river Ganges. It is a hub for politics in Bihar, and over the years, it has become an important center for trade and industries.\n",
            "\n",
            "### Key Attractions:\n",
            "1. **Golghar:** A large granary built by the British to store grain in the 18th century.\n",
            "2. **Patna Sahib Gurudwara:** A revered Sikh shrine associated with Guru Gobind Singh, the 10th Sikh Guru.\n",
            "3. **Bihar Museum:** A modern museum showcasing the history and heritage of Bihar.\n",
            "4. **Agam Kuan:** An ancient well linked to Emperor Ashoka and believed to have historical significance.\n",
            "5. **Mahavir Mandir:** A popular Hindu temple dedicated to Lord Hanuman.\n",
            "\n",
            "### Culture and Food:\n",
            "- Patna is known for its unique blend of Bihari cuisine, which includes dishes like **litti chokha**, **sattu**, and sweet treats like **khaja** and **chana murki**.\n",
            "- The region celebrates festivals like **Chhath Puja**, which holds immense spiritual significance for Biharis.\n",
            "\n",
            "### Economy and Education:\n",
            "- Patna is a growing trade hub, and agriculture plays a significant role in its economy. The city has markets for grains, sugarcane, and other produce.\n",
            "- It is home to several prestigious educational institutions, such as **Patna University**, **National Institute of Technology (NIT) Patna**, and **AIIMS Patna**.\n",
            "\n",
            "### Connectivity:\n",
            "- Patna is well-connected by rail, road, and air to major Indian cities. The **Jay Prakash Narayan International Airport** serves the city.\n",
            "\n",
            "### Geography and Climate:\n",
            "- Located along the banks of the **Ganges River**, Patna's geography includes fertile plains.\n",
            "- It experiences a humid subtropical climate with hot summers, a monsoon season, and mild winters.\n",
            "\n",
            "Patna is a city where ancient traditions blend seamlessly with modern developments, making it an intriguing destination for history enthusiasts, cultural explorers, and professionals alike.\n",
            "__________________________________________________\n",
            "You: tell me history of the city\n",
            "Assistant:  Of course! Could you please specify which city you'd like to know the history of?\n",
            "__________________________________________________\n",
            "You: exit\n"
          ]
        }
      ],
      "source": [
        "from langchain.chat_models import AzureChatOpenAI\n",
        "from langchain.schema import SystemMessage\n",
        "from langchain.prompts import ChatPromptTemplate , HumanMessagePromptTemplate\n",
        "from langchain.chains import LLMChain\n",
        "\n",
        "from langchain_core.output_parsers import StrOutputParser\n",
        "\n",
        "llm = AzureChatOpenAI(\n",
        "    openai_api_base=AZURE_OPENAI_ENDPOINT,\n",
        "    openai_api_key=AZURE_OPENAI_KEY,\n",
        "    openai_api_version=\"2023-03-15-preview\",\n",
        "    deployment_name=DEPLOYMENT_NAME,\n",
        "    openai_api_type=\"azure\",\n",
        "    temperature=0.9\n",
        ")\n",
        "\n",
        "\n",
        "prompt = ChatPromptTemplate.from_messages(\n",
        "   [\n",
        "       SystemMessage(content=\"You responsed only in English.\"),\n",
        "       HumanMessagePromptTemplate.from_template(\"{user_input}\")\n",
        "   ]\n",
        ")\n",
        "\n",
        "\n",
        "chain = prompt | llm | StrOutputParser()\n",
        "\n",
        "while True:\n",
        "  user_input = input(\"You: \")\n",
        "  if user_input == \"exit\":\n",
        "    break\n",
        "  output = chain.invoke({\"user_input\":user_input})\n",
        "  print(\"Assistant: \", output)\n",
        "  print(\"_\" * 50)\n",
        "\n",
        "\n"
      ]
    },
    {
      "cell_type": "code",
      "execution_count": 39,
      "metadata": {
        "id": "uPNOWs-hUW-e"
      },
      "outputs": [],
      "source": [
        "from langchain.memory import ConversationBufferMemory\n",
        "from langchain.prompts import MessagesPlaceholder\n",
        "\n"
      ]
    },
    {
      "cell_type": "code",
      "execution_count": 40,
      "metadata": {
        "colab": {
          "base_uri": "https://localhost:8080/"
        },
        "id": "iLpKlhP3UpG-",
        "outputId": "5125afd4-575f-489c-b9b0-37893b29766a"
      },
      "outputs": [
        {
          "name": "stderr",
          "output_type": "stream",
          "text": [
            "/tmp/ipython-input-1496473724.py:1: LangChainDeprecationWarning: Please see the migration guide at: https://python.langchain.com/docs/versions/migrating_memory/\n",
            "  memory = ConversationBufferMemory(\n"
          ]
        }
      ],
      "source": [
        "memory = ConversationBufferMemory(\n",
        "    memory_key=\"chat_history\",\n",
        "    return_messages=True\n",
        ")"
      ]
    },
    {
      "cell_type": "code",
      "execution_count": 41,
      "metadata": {
        "id": "hRiunWpAU0u7"
      },
      "outputs": [],
      "source": [
        "chain = LLMChain(\n",
        "    llm=llm,\n",
        "    prompt=prompt,\n",
        "    verbose=False,\n",
        "    memory=memory\n",
        ")"
      ]
    },
    {
      "cell_type": "code",
      "execution_count": 44,
      "metadata": {
        "colab": {
          "base_uri": "https://localhost:8080/"
        },
        "id": "BF8MHB5nU-Ta",
        "outputId": "0e6fe139-4d27-43ef-990f-7df80e1e024e"
      },
      "outputs": [
        {
          "name": "stdout",
          "output_type": "stream",
          "text": [
            "You: Tell me about delhi\n",
            "Assistant:  {'user_input': 'Tell me about delhi', 'chat_history': [HumanMessage(content='tell me about patna', additional_kwargs={}, response_metadata={}), AIMessage(content=\"Patna is the capital city of Bihar, a state in eastern India, and is one of the oldest continuously inhabited cities in the world. It has a rich history, significant cultural heritage, and serves as a major educational, political, and economic center.\\n\\n### Historical Significance:\\n- **Ancient Patliputra:** Patna was historically known as **Patliputra**, which was the capital of several powerful empires in ancient India, including the Maurya, Gupta, and Shunga dynasties. It played a crucial role in Indian history as a center of politics, administration, education, and culture.\\n- **Buddhism and Jainism:** The region holds great importance in the history of Buddhism and Jainism, as both religions flourished in and around Patna. It is close to significant religious sites like Bodh Gaya, Rajgir, and Vaishali.\\n- **Historical Events:** Greek historians like Megasthenes described the grandeur of ancient Patliputra during the Mauryan Empire.\\n\\n### Modern Patna:\\nPatna today is a bustling city on the southern banks of the river Ganges. It is a hub for politics in Bihar, and over the years, it has become an important center for trade and industries.\\n\\n### Key Attractions:\\n1. **Golghar:** A large granary built by the British to store grain in the 18th century.\\n2. **Patna Sahib Gurudwara:** A revered Sikh shrine associated with Guru Gobind Singh, the 10th Sikh Guru.\\n3. **Bihar Museum:** A modern museum showcasing the history and heritage of Bihar.\\n4. **Agam Kuan:** An ancient well linked to Emperor Ashoka and believed to have historical significance.\\n5. **Mahavir Mandir:** A popular Hindu temple dedicated to Lord Hanuman.\\n\\n### Culture and Food:\\n- Patna is known for its unique blend of Bihari cuisine, which includes dishes like **litti chokha**, **sattu**, and sweet treats like **khaja** and **chana murki**.\\n- The region celebrates festivals like **Chhath Puja**, which holds immense spiritual significance for Biharis.\\n\\n### Economy and Education:\\n- Patna is a growing trade hub, and agriculture plays a significant role in its economy. The city has markets for grains, sugarcane, and other produce.\\n- It is home to several prestigious educational institutions, such as **Patna University**, **National Institute of Technology (NIT) Patna**, and **AIIMS Patna**.\\n\\n### Connectivity:\\n- Patna is well-connected by rail, road, and air to major Indian cities. The **Jay Prakash Narayan International Airport** serves the city.\\n\\n### Geography and Climate:\\n- Located along the banks of the **Ganges River**, Patna's geography includes fertile plains.\\n- It experiences a humid subtropical climate with hot summers, a monsoon season, and mild winters.\\n\\nPatna is a city where ancient traditions blend seamlessly with modern developments, making it an intriguing destination for history enthusiasts, cultural explorers, and professionals alike.\", additional_kwargs={}, response_metadata={}), HumanMessage(content='tell me about patana', additional_kwargs={}, response_metadata={}), AIMessage(content='Could you please provide more context about \"Patana\"? The term \"Patana\" could refer to different things depending on the context. For example:\\n\\n1. **Bangkok Patana School**: This is a prestigious British international school located in Bangkok, Thailand. It is one of the largest and oldest international schools in Thailand, offering education from foundation stages through to Year 13, based on the English National Curriculum.\\n\\n2. **Geographical Feature**: In certain South Asian contexts (e.g., Sri Lanka), \"Patana\" can refer to open grasslands or savanna-like environments, especially in hilly or elevated regions.\\n\\n3. **Surname or Name**: Patana might also be a last name or refer to a specific individual.\\n\\nIf you can provide more details or clarify the context, I can give you more specific information!', additional_kwargs={}, response_metadata={}), HumanMessage(content='Tell me about delhi', additional_kwargs={}, response_metadata={}), AIMessage(content=\"Delhi, officially known as the **National Capital Territory of Delhi (NCT)**, is the capital of **India** and one of its most vibrant and historically rich cities. It is located in the northern part of the country and serves as a prominent political, cultural, and economic hub.\\n\\n### 1. **Geography and Demographics**  \\nDelhi covers an area of approximately 1,484 square kilometers, and as of 2023, its population exceeds **32 million**, making it the second-most populous city in the world after Tokyo. The city is bordered by the state of **Haryana** on three sides and **Uttar Pradesh** to the east.\\n\\nDelhi is divided into two main parts:\\n- **Old Delhi**: This area represents the historic city, with narrow streets, bustling markets, and Mughal-era landmarks.\\n- **New Delhi**: The planned city designed during the British colonial period, serving as the official capital of India.\\n\\nIt is also home to the **Yamuna River**, a significant water body in India, although environmental concerns like pollution have long affected its health.\\n\\n---\\n\\n### 2. **History**\\nDelhi has an incredibly rich history that spans thousands of years. It is one of the oldest continuously inhabited cities in the world and has been the seat of power for several empires. It is often said to have been rebuilt **seven times** throughout its history.\\n\\nKey historical phases:  \\n- **Ancient Era**: The city is linked to **Indraprastha**, the legendary capital mentioned in the Indian epic Mahabharata.\\n- **Medieval Delhi**: From the 12th to the 19th century, Delhi was ruled by various dynasties, including the **Delhi Sultanate** and the **Mughal Empire**.\\n- **British Period**: In 1911, the British moved India’s capital from Kolkata to Delhi and developed **New Delhi** as the administrative center.\\n- **Post-Independence**: After India gained independence in 1947, Delhi became the capital of the newly formed Republic of India.\\n\\n---\\n\\n### 3. **Government and Administration**\\nAs the capital of India, Delhi is the center of the country's government and hosts major institutions:\\n- **Rashtrapati Bhavan (Presidential Residence)**\\n- **Parliament of India**\\n- **Supreme Court of India**\\n\\nDelhi has a unique governance structure. It is both a union territory and a city, with powers shared between the **Delhi Government** and the **Central Government**.\\n\\n---\\n\\n### 4. **Cultural and Historical Landmarks**\\nDelhi is a treasure trove of cultural and historical monuments. Some iconic landmarks include:\\n- **Red Fort**: A UNESCO World Heritage Site and a symbol of India's independence.\\n- **Qutub Minar**: The tallest brick minaret in the world and another UNESCO World Heritage Site.\\n- **India Gate**: A war memorial dedicated to Indian soldiers.\\n- **Jama Masjid**: One of the largest mosques in India, built by Mughal Emperor Shah Jahan.\\n- **Humayun's Tomb**: A precursor to the Taj Mahal and a UNESCO World Heritage Site.\\n- **Lotus Temple**: A Bahá'í House of Worship known for its stunning architecture.\\n- **Akshardham Temple**: A modern Hindu temple with intricate carvings and exhibits.\\n\\n---\\n\\n### 5. **Food and Cuisine**\\nDelhi is known as a food lover's paradise, offering a mix of traditional and modern culinary experiences. Some must-try dishes include:\\n- **Chole Bhature**: Spicy chickpeas served with deep-fried bread.\\n- **Paranthas**: Stuffed flatbread, especially famous in the lanes of Chandni Chowk.\\n- **Butter Chicken**: A creamy chicken curry that originated in Delhi.\\n- **Golgappa/Pani Puri**: A popular street food.\\n- **Kebabs and Biryani**: Influenced by Mughal cuisine.\\n\\nThe city boasts a variety of eateries, from street food vendors to high-end restaurants.\\n\\n---\\n\\n### 6. **Transportation**\\nDelhi has a well-developed transportation network, making it one of the most accessible cities in India.  \\n- **Delhi Metro**: A modern and efficient metro system connecting nearly every corner of the city, considered one of the best in the world.\\n- **Indira Gandhi International Airport**: A major hub for domestic and international flights.\\n- **Roads and Highways**: Delhi is well-connected to neighboring states via national highways.\\n- **Buses and Auto-Rickshaws**: Widely used for local transportation.\\n\\n---\\n\\n### 7. **Climate**\\nDelhi experiences an extreme climate:\\n- **Summers (April to June)**: Very hot, with temperatures often exceeding 45°C (113°F).\\n- **Monsoon (July to September)**: Moderate rainfall.\\n- **Winters (December to February)**: Cool to cold, with temperatures dipping as low as 2°C (36°F). Fog is common in winter.\\n\\n---\\n\\n### 8. **Modern Delhi**\\nDelhi is a blend of tradition and modernity. While Old Delhi preserves the essence of India's rich history with its ancient bazaars and monuments, New Delhi showcases modern infrastructure, luxury malls, and global corporations. The city's cosmopolitan vibe is reflected in its diverse population and dynamic lifestyle.\\n\\n---\\n\\n### 9. **Challenges**\\nLike any major metropolis, Delhi faces several challenges, including:\\n- **Pollution**: Air pollution is a severe concern, often making headlines for the city's hazardous Air Quality Index (AQI) levels.\\n- **Traffic Congestion**: As one of the largest cities in the world, traffic is a perennial issue.\\n- **Urbanization**: Rapid urban expansion has put a strain on resources, infrastructure, and housing.\\n\\n---\\n\\n### 10. **Key Events and Festivals**\\nDelhi is home to a variety of events, fairs, and festivals, such as:\\n- **Republic Day Parade (January 26)**: A grand celebration showcasing India's military and cultural heritage.\\n- **Diwali**: The festival of lights, celebrated with great enthusiasm.\\n- **Holi**: The festival of colors.\\n- **Delhi International Arts Festival**: Celebrating art, culture, and performances from around the world.\\n- **Dastkar Bazaar and Trade Fairs**: Promoting artisans and crafts.\\n\\n---\\n\\nDelhi is a city that offers something for everyone—be it history enthusiasts, food lovers, or modern urban explorers. Its rich heritage and dynamic growth make it a key symbol of India's past, present, and future.\", additional_kwargs={}, response_metadata={})], 'text': \"Delhi, officially known as the **National Capital Territory of Delhi (NCT)**, is the capital of **India** and one of its most vibrant and historically rich cities. It is located in the northern part of the country and serves as a prominent political, cultural, and economic hub.\\n\\n### 1. **Geography and Demographics**  \\nDelhi covers an area of approximately 1,484 square kilometers, and as of 2023, its population exceeds **32 million**, making it the second-most populous city in the world after Tokyo. The city is bordered by the state of **Haryana** on three sides and **Uttar Pradesh** to the east.\\n\\nDelhi is divided into two main parts:\\n- **Old Delhi**: This area represents the historic city, with narrow streets, bustling markets, and Mughal-era landmarks.\\n- **New Delhi**: The planned city designed during the British colonial period, serving as the official capital of India.\\n\\nIt is also home to the **Yamuna River**, a significant water body in India, although environmental concerns like pollution have long affected its health.\\n\\n---\\n\\n### 2. **History**\\nDelhi has an incredibly rich history that spans thousands of years. It is one of the oldest continuously inhabited cities in the world and has been the seat of power for several empires. It is often said to have been rebuilt **seven times** throughout its history.\\n\\nKey historical phases:  \\n- **Ancient Era**: The city is linked to **Indraprastha**, the legendary capital mentioned in the Indian epic Mahabharata.\\n- **Medieval Delhi**: From the 12th to the 19th century, Delhi was ruled by various dynasties, including the **Delhi Sultanate** and the **Mughal Empire**.\\n- **British Period**: In 1911, the British moved India’s capital from Kolkata to Delhi and developed **New Delhi** as the administrative center.\\n- **Post-Independence**: After India gained independence in 1947, Delhi became the capital of the newly formed Republic of India.\\n\\n---\\n\\n### 3. **Government and Administration**\\nAs the capital of India, Delhi is the center of the country's government and hosts major institutions:\\n- **Rashtrapati Bhavan (Presidential Residence)**\\n- **Parliament of India**\\n- **Supreme Court of India**\\n\\nDelhi has a unique governance structure. It is both a union territory and a city, with powers shared between the **Delhi Government** and the **Central Government**.\\n\\n---\\n\\n### 4. **Cultural and Historical Landmarks**\\nDelhi is a treasure trove of cultural and historical monuments. Some iconic landmarks include:\\n- **Red Fort**: A UNESCO World Heritage Site and a symbol of India's independence.\\n- **Qutub Minar**: The tallest brick minaret in the world and another UNESCO World Heritage Site.\\n- **India Gate**: A war memorial dedicated to Indian soldiers.\\n- **Jama Masjid**: One of the largest mosques in India, built by Mughal Emperor Shah Jahan.\\n- **Humayun's Tomb**: A precursor to the Taj Mahal and a UNESCO World Heritage Site.\\n- **Lotus Temple**: A Bahá'í House of Worship known for its stunning architecture.\\n- **Akshardham Temple**: A modern Hindu temple with intricate carvings and exhibits.\\n\\n---\\n\\n### 5. **Food and Cuisine**\\nDelhi is known as a food lover's paradise, offering a mix of traditional and modern culinary experiences. Some must-try dishes include:\\n- **Chole Bhature**: Spicy chickpeas served with deep-fried bread.\\n- **Paranthas**: Stuffed flatbread, especially famous in the lanes of Chandni Chowk.\\n- **Butter Chicken**: A creamy chicken curry that originated in Delhi.\\n- **Golgappa/Pani Puri**: A popular street food.\\n- **Kebabs and Biryani**: Influenced by Mughal cuisine.\\n\\nThe city boasts a variety of eateries, from street food vendors to high-end restaurants.\\n\\n---\\n\\n### 6. **Transportation**\\nDelhi has a well-developed transportation network, making it one of the most accessible cities in India.  \\n- **Delhi Metro**: A modern and efficient metro system connecting nearly every corner of the city, considered one of the best in the world.\\n- **Indira Gandhi International Airport**: A major hub for domestic and international flights.\\n- **Roads and Highways**: Delhi is well-connected to neighboring states via national highways.\\n- **Buses and Auto-Rickshaws**: Widely used for local transportation.\\n\\n---\\n\\n### 7. **Climate**\\nDelhi experiences an extreme climate:\\n- **Summers (April to June)**: Very hot, with temperatures often exceeding 45°C (113°F).\\n- **Monsoon (July to September)**: Moderate rainfall.\\n- **Winters (December to February)**: Cool to cold, with temperatures dipping as low as 2°C (36°F). Fog is common in winter.\\n\\n---\\n\\n### 8. **Modern Delhi**\\nDelhi is a blend of tradition and modernity. While Old Delhi preserves the essence of India's rich history with its ancient bazaars and monuments, New Delhi showcases modern infrastructure, luxury malls, and global corporations. The city's cosmopolitan vibe is reflected in its diverse population and dynamic lifestyle.\\n\\n---\\n\\n### 9. **Challenges**\\nLike any major metropolis, Delhi faces several challenges, including:\\n- **Pollution**: Air pollution is a severe concern, often making headlines for the city's hazardous Air Quality Index (AQI) levels.\\n- **Traffic Congestion**: As one of the largest cities in the world, traffic is a perennial issue.\\n- **Urbanization**: Rapid urban expansion has put a strain on resources, infrastructure, and housing.\\n\\n---\\n\\n### 10. **Key Events and Festivals**\\nDelhi is home to a variety of events, fairs, and festivals, such as:\\n- **Republic Day Parade (January 26)**: A grand celebration showcasing India's military and cultural heritage.\\n- **Diwali**: The festival of lights, celebrated with great enthusiasm.\\n- **Holi**: The festival of colors.\\n- **Delhi International Arts Festival**: Celebrating art, culture, and performances from around the world.\\n- **Dastkar Bazaar and Trade Fairs**: Promoting artisans and crafts.\\n\\n---\\n\\nDelhi is a city that offers something for everyone—be it history enthusiasts, food lovers, or modern urban explorers. Its rich heritage and dynamic growth make it a key symbol of India's past, present, and future.\"}\n",
            "__________________________________________________\n",
            "You: tell this history of the city\n",
            "Assistant:  {'user_input': 'tell this history of the city', 'chat_history': [HumanMessage(content='tell me about patna', additional_kwargs={}, response_metadata={}), AIMessage(content=\"Patna is the capital city of Bihar, a state in eastern India, and is one of the oldest continuously inhabited cities in the world. It has a rich history, significant cultural heritage, and serves as a major educational, political, and economic center.\\n\\n### Historical Significance:\\n- **Ancient Patliputra:** Patna was historically known as **Patliputra**, which was the capital of several powerful empires in ancient India, including the Maurya, Gupta, and Shunga dynasties. It played a crucial role in Indian history as a center of politics, administration, education, and culture.\\n- **Buddhism and Jainism:** The region holds great importance in the history of Buddhism and Jainism, as both religions flourished in and around Patna. It is close to significant religious sites like Bodh Gaya, Rajgir, and Vaishali.\\n- **Historical Events:** Greek historians like Megasthenes described the grandeur of ancient Patliputra during the Mauryan Empire.\\n\\n### Modern Patna:\\nPatna today is a bustling city on the southern banks of the river Ganges. It is a hub for politics in Bihar, and over the years, it has become an important center for trade and industries.\\n\\n### Key Attractions:\\n1. **Golghar:** A large granary built by the British to store grain in the 18th century.\\n2. **Patna Sahib Gurudwara:** A revered Sikh shrine associated with Guru Gobind Singh, the 10th Sikh Guru.\\n3. **Bihar Museum:** A modern museum showcasing the history and heritage of Bihar.\\n4. **Agam Kuan:** An ancient well linked to Emperor Ashoka and believed to have historical significance.\\n5. **Mahavir Mandir:** A popular Hindu temple dedicated to Lord Hanuman.\\n\\n### Culture and Food:\\n- Patna is known for its unique blend of Bihari cuisine, which includes dishes like **litti chokha**, **sattu**, and sweet treats like **khaja** and **chana murki**.\\n- The region celebrates festivals like **Chhath Puja**, which holds immense spiritual significance for Biharis.\\n\\n### Economy and Education:\\n- Patna is a growing trade hub, and agriculture plays a significant role in its economy. The city has markets for grains, sugarcane, and other produce.\\n- It is home to several prestigious educational institutions, such as **Patna University**, **National Institute of Technology (NIT) Patna**, and **AIIMS Patna**.\\n\\n### Connectivity:\\n- Patna is well-connected by rail, road, and air to major Indian cities. The **Jay Prakash Narayan International Airport** serves the city.\\n\\n### Geography and Climate:\\n- Located along the banks of the **Ganges River**, Patna's geography includes fertile plains.\\n- It experiences a humid subtropical climate with hot summers, a monsoon season, and mild winters.\\n\\nPatna is a city where ancient traditions blend seamlessly with modern developments, making it an intriguing destination for history enthusiasts, cultural explorers, and professionals alike.\", additional_kwargs={}, response_metadata={}), HumanMessage(content='tell me about patana', additional_kwargs={}, response_metadata={}), AIMessage(content='Could you please provide more context about \"Patana\"? The term \"Patana\" could refer to different things depending on the context. For example:\\n\\n1. **Bangkok Patana School**: This is a prestigious British international school located in Bangkok, Thailand. It is one of the largest and oldest international schools in Thailand, offering education from foundation stages through to Year 13, based on the English National Curriculum.\\n\\n2. **Geographical Feature**: In certain South Asian contexts (e.g., Sri Lanka), \"Patana\" can refer to open grasslands or savanna-like environments, especially in hilly or elevated regions.\\n\\n3. **Surname or Name**: Patana might also be a last name or refer to a specific individual.\\n\\nIf you can provide more details or clarify the context, I can give you more specific information!', additional_kwargs={}, response_metadata={}), HumanMessage(content='Tell me about delhi', additional_kwargs={}, response_metadata={}), AIMessage(content=\"Delhi, officially known as the **National Capital Territory of Delhi (NCT)**, is the capital of **India** and one of its most vibrant and historically rich cities. It is located in the northern part of the country and serves as a prominent political, cultural, and economic hub.\\n\\n### 1. **Geography and Demographics**  \\nDelhi covers an area of approximately 1,484 square kilometers, and as of 2023, its population exceeds **32 million**, making it the second-most populous city in the world after Tokyo. The city is bordered by the state of **Haryana** on three sides and **Uttar Pradesh** to the east.\\n\\nDelhi is divided into two main parts:\\n- **Old Delhi**: This area represents the historic city, with narrow streets, bustling markets, and Mughal-era landmarks.\\n- **New Delhi**: The planned city designed during the British colonial period, serving as the official capital of India.\\n\\nIt is also home to the **Yamuna River**, a significant water body in India, although environmental concerns like pollution have long affected its health.\\n\\n---\\n\\n### 2. **History**\\nDelhi has an incredibly rich history that spans thousands of years. It is one of the oldest continuously inhabited cities in the world and has been the seat of power for several empires. It is often said to have been rebuilt **seven times** throughout its history.\\n\\nKey historical phases:  \\n- **Ancient Era**: The city is linked to **Indraprastha**, the legendary capital mentioned in the Indian epic Mahabharata.\\n- **Medieval Delhi**: From the 12th to the 19th century, Delhi was ruled by various dynasties, including the **Delhi Sultanate** and the **Mughal Empire**.\\n- **British Period**: In 1911, the British moved India’s capital from Kolkata to Delhi and developed **New Delhi** as the administrative center.\\n- **Post-Independence**: After India gained independence in 1947, Delhi became the capital of the newly formed Republic of India.\\n\\n---\\n\\n### 3. **Government and Administration**\\nAs the capital of India, Delhi is the center of the country's government and hosts major institutions:\\n- **Rashtrapati Bhavan (Presidential Residence)**\\n- **Parliament of India**\\n- **Supreme Court of India**\\n\\nDelhi has a unique governance structure. It is both a union territory and a city, with powers shared between the **Delhi Government** and the **Central Government**.\\n\\n---\\n\\n### 4. **Cultural and Historical Landmarks**\\nDelhi is a treasure trove of cultural and historical monuments. Some iconic landmarks include:\\n- **Red Fort**: A UNESCO World Heritage Site and a symbol of India's independence.\\n- **Qutub Minar**: The tallest brick minaret in the world and another UNESCO World Heritage Site.\\n- **India Gate**: A war memorial dedicated to Indian soldiers.\\n- **Jama Masjid**: One of the largest mosques in India, built by Mughal Emperor Shah Jahan.\\n- **Humayun's Tomb**: A precursor to the Taj Mahal and a UNESCO World Heritage Site.\\n- **Lotus Temple**: A Bahá'í House of Worship known for its stunning architecture.\\n- **Akshardham Temple**: A modern Hindu temple with intricate carvings and exhibits.\\n\\n---\\n\\n### 5. **Food and Cuisine**\\nDelhi is known as a food lover's paradise, offering a mix of traditional and modern culinary experiences. Some must-try dishes include:\\n- **Chole Bhature**: Spicy chickpeas served with deep-fried bread.\\n- **Paranthas**: Stuffed flatbread, especially famous in the lanes of Chandni Chowk.\\n- **Butter Chicken**: A creamy chicken curry that originated in Delhi.\\n- **Golgappa/Pani Puri**: A popular street food.\\n- **Kebabs and Biryani**: Influenced by Mughal cuisine.\\n\\nThe city boasts a variety of eateries, from street food vendors to high-end restaurants.\\n\\n---\\n\\n### 6. **Transportation**\\nDelhi has a well-developed transportation network, making it one of the most accessible cities in India.  \\n- **Delhi Metro**: A modern and efficient metro system connecting nearly every corner of the city, considered one of the best in the world.\\n- **Indira Gandhi International Airport**: A major hub for domestic and international flights.\\n- **Roads and Highways**: Delhi is well-connected to neighboring states via national highways.\\n- **Buses and Auto-Rickshaws**: Widely used for local transportation.\\n\\n---\\n\\n### 7. **Climate**\\nDelhi experiences an extreme climate:\\n- **Summers (April to June)**: Very hot, with temperatures often exceeding 45°C (113°F).\\n- **Monsoon (July to September)**: Moderate rainfall.\\n- **Winters (December to February)**: Cool to cold, with temperatures dipping as low as 2°C (36°F). Fog is common in winter.\\n\\n---\\n\\n### 8. **Modern Delhi**\\nDelhi is a blend of tradition and modernity. While Old Delhi preserves the essence of India's rich history with its ancient bazaars and monuments, New Delhi showcases modern infrastructure, luxury malls, and global corporations. The city's cosmopolitan vibe is reflected in its diverse population and dynamic lifestyle.\\n\\n---\\n\\n### 9. **Challenges**\\nLike any major metropolis, Delhi faces several challenges, including:\\n- **Pollution**: Air pollution is a severe concern, often making headlines for the city's hazardous Air Quality Index (AQI) levels.\\n- **Traffic Congestion**: As one of the largest cities in the world, traffic is a perennial issue.\\n- **Urbanization**: Rapid urban expansion has put a strain on resources, infrastructure, and housing.\\n\\n---\\n\\n### 10. **Key Events and Festivals**\\nDelhi is home to a variety of events, fairs, and festivals, such as:\\n- **Republic Day Parade (January 26)**: A grand celebration showcasing India's military and cultural heritage.\\n- **Diwali**: The festival of lights, celebrated with great enthusiasm.\\n- **Holi**: The festival of colors.\\n- **Delhi International Arts Festival**: Celebrating art, culture, and performances from around the world.\\n- **Dastkar Bazaar and Trade Fairs**: Promoting artisans and crafts.\\n\\n---\\n\\nDelhi is a city that offers something for everyone—be it history enthusiasts, food lovers, or modern urban explorers. Its rich heritage and dynamic growth make it a key symbol of India's past, present, and future.\", additional_kwargs={}, response_metadata={}), HumanMessage(content='tell this history of the city', additional_kwargs={}, response_metadata={}), AIMessage(content=\"Sure! Could you specify which city you're referring to? That way, I can provide you with an overview of its history.\", additional_kwargs={}, response_metadata={})], 'text': \"Sure! Could you specify which city you're referring to? That way, I can provide you with an overview of its history.\"}\n",
            "__________________________________________________\n",
            "You: quit\n",
            "Goodbye\n"
          ]
        }
      ],
      "source": [
        "while True:\n",
        "  user_input = input(\"You: \")\n",
        "  if user_input.lower() in [\"exit\" , \"quit\", \"bye\"] :\n",
        "    print(\"Goodbye\")\n",
        "    break\n",
        "  output = chain.invoke({\"user_input\":user_input})\n",
        "  print(\"Assistant: \", output)\n",
        "  print(\"_\" * 50)"
      ]
    },
    {
      "cell_type": "code",
      "execution_count": null,
      "metadata": {
        "id": "Cla51cZ8WlQa"
      },
      "outputs": [],
      "source": [
        "# how to print the content instant of json format\n",
        "\n",
        "\n"
      ]
    },
    {
      "cell_type": "code",
      "execution_count": 46,
      "metadata": {
        "colab": {
          "base_uri": "https://localhost:8080/"
        },
        "id": "lHlemjxJWpSi",
        "outputId": "38a061a8-2179-4637-ab24-3b7498f502eb"
      },
      "outputs": [
        {
          "name": "stdout",
          "output_type": "stream",
          "text": [
            "You: Tell me about sun\n",
            "Assistant:  {'user_input': 'Tell me about sun', 'chat_history': [], 'text': 'The Sun is the star at the center of our solar system. It\\'s a massive, nearly perfect sphere of hot plasma that generates energy through nuclear fusion. Its size, gravitational pull, and energy output make it the most influential celestial body in our solar system, shaping everything from the orbits of planets to Earth\\'s climate. Here\\'s a deeper look at the Sun:\\n\\n### **Basic Facts About the Sun**\\n1. **Type of Star**: The Sun is classified as a G-type main-sequence star (G2V), often referred to as a \"yellow dwarf.\" However, it actually emits white light that appears yellow from Earth due to atmospheric scattering.\\n2. **Diameter**: Approximately 1.39 million kilometers (about 864,000 miles), making it about 109 times wider than Earth.\\n3. **Mass**: Roughly 1.989 × 10^30 kilograms, which is about 333,000 times the mass of Earth. The Sun contains more than 99.8% of the total mass of the solar system.\\n4. **Surface Temperature**: Around 5,500 degrees Celsius (9,932 degrees Fahrenheit), while its core reaches temperatures of about 15 million degrees Celsius (27 million degrees Fahrenheit).\\n5. **Distance from Earth**: About 150 million kilometers (93 million miles), a distance known as an astronomical unit (AU).\\n\\n---\\n\\n### **Structure of the Sun**\\nThe Sun\\'s structure is divided into several layers, listed from the innermost to the outermost:\\n\\n1. **Core**: \\n   - The central region where nuclear fusion occurs, converting hydrogen into helium and releasing enormous amounts of energy.\\n   - The source of the Sun\\'s light and heat.\\n\\n2. **Radiative Zone**: \\n   - Energy produced in the core travels outward as electromagnetic radiation through this dense layer. \\n   - Energy takes thousands to millions of years to pass through this zone.\\n\\n3. **Convective Zone**: \\n   - Hot plasma rises and cooler plasma sinks in a process called convection, moving energy to the Sun\\'s surface.\\n\\n4. **Photosphere**: \\n   - The Sun\\'s visible surface, where sunlight is emitted. It’s also the layer where sunspots appear.\\n\\n5. **Chromosphere**: \\n   - A thin layer of hot gases just above the photosphere. It’s visible as a reddish glow during solar eclipses.\\n\\n6. **Corona**: \\n   - The Sun\\'s outer atmosphere, extending millions of kilometers into space. The corona is incredibly hot (millions of degrees Celsius), much hotter than the layers beneath it, and is a source of the solar wind.\\n\\n---\\n\\n### **Energy and Nuclear Fusion**\\nThe Sun generates energy through a process called nuclear fusion, where hydrogen nuclei combine to form helium. This process releases immense amounts of energy in the form of light and heat. The energy travels outward from the core and eventually reaches Earth, where it drives weather patterns, supports plant photosynthesis, and sustains life.\\n\\n---\\n\\n### **Importance of the Sun**\\n1. **Life on Earth**: The Sun\\'s energy is the primary driver of Earth\\'s climate and weather. Plants rely on sunlight for photosynthesis, which forms the base of most food chains.\\n2. **Gravitational Anchor**: The Sun\\'s massive gravitational pull keeps the planets, moons, and other objects in the solar system in stable orbits.\\n3. **Solar Influence**: Solar activity, such as sunspots, solar flares, and coronal mass ejections, can impact Earth\\'s magnetic field, power grids, and communication systems.\\n\\n---\\n\\n### **Solar Cycle**\\nThe Sun undergoes an 11-year solar cycle, during which its magnetic activity waxes and wanes. At solar maximum, there is high sunspot activity, while at solar minimum, there are fewer sunspots. This cycle influences space weather and can lead to phenomena like geomagnetic storms on Earth.\\n\\n---\\n\\n### **Fun Facts About the Sun**\\n1. The Sun is about halfway through its life (approximately 4.6 billion years old) and will continue to fuse hydrogen for another 5 billion years.\\n2. After exhausting its hydrogen fuel, the Sun will expand into a red giant, eventually shedding its outer layers and leaving behind a dense core called a white dwarf.\\n3. Light from the Sun takes about 8 minutes and 20 seconds to reach Earth.\\n\\nThe Sun is undoubtedly the most crucial celestial object for life on Earth, and despite being an ordinary star in cosmic terms, it holds extraordinary significance for our existence.'}\n",
            "__________________________________________________\n",
            "You: quit\n",
            "Goodbye\n"
          ]
        }
      ],
      "source": [
        "from langchain.memory import FileChatMessageHistory\n",
        "\n",
        "histroy = FileChatMessageHistory(\"chat_history.json\")\n",
        "\n",
        "memory = ConversationBufferMemory(\n",
        "    memory_key=\"chat_history\",\n",
        "    return_messages=True ,\n",
        "    chat_memory=histroy\n",
        "\n",
        ")\n",
        "\n",
        "\n",
        "chain = LLMChain(\n",
        "    llm=llm,\n",
        "    prompt=prompt,\n",
        "    verbose=False,\n",
        "    memory=memory\n",
        ")\n",
        "\n",
        "\n",
        "while True:\n",
        "  user_input = input(\"You: \")\n",
        "  if user_input.lower() in [\"exit\" , \"quit\", \"bye\"] :\n",
        "    print(\"Goodbye\")\n",
        "    break\n",
        "  output = chain.invoke({\"user_input\":user_input})\n",
        "  print(\"Assistant: \", output)\n",
        "  print(\"_\" * 50)\n"
      ]
    },
    {
      "cell_type": "code",
      "execution_count": null,
      "metadata": {
        "id": "QrCed43MYKzu"
      },
      "outputs": [],
      "source": [
        "\n",
        "\n"
      ]
    },
    {
      "cell_type": "markdown",
      "metadata": {
        "id": "cgEQ5pjaYpWh"
      },
      "source": [
        "** different for each LLM provider **\n",
        "\n",
        "*   library required\n",
        "*   secrets key\n",
        "*   configure LLM connection\n",
        "\n",
        "** common for all LLM **\n",
        "\n",
        "*   prompt template / schema / chatmesage\n",
        "*   chain ( verbose= True)\n",
        "*   call the chain or llm\n",
        "*   cache memoery\n",
        "*   streaming\n",
        "*   simplesequenticalchain\n",
        "*   stroputput\n",
        "*   memeory\n",
        "\n"
      ]
    }
  ],
  "metadata": {
    "colab": {
      "provenance": []
    },
    "kernelspec": {
      "display_name": "Python 3",
      "name": "python3"
    },
    "language_info": {
      "name": "python"
    }
  },
  "nbformat": 4,
  "nbformat_minor": 0
}
